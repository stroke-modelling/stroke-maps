{
 "cells": [
  {
   "cell_type": "markdown",
   "id": "e159300c-7d51-409d-9a98-f9fd4c3912bd",
   "metadata": {},
   "source": [
    "# Colour catchment areas by transfer unit\n",
    "\n",
    "This notebook shows how to assign colours to all stroke unit catchment areas so all units sharing a transfer unit are drawn in different shades of the same colour and no two adjacent regions are drawn in the same shade.\n",
    "\n",
    "# Notebook setup"
   ]
  },
  {
   "cell_type": "code",
   "execution_count": 1,
   "id": "955399d3-af10-410b-9b10-b5ffc97c4dea",
   "metadata": {},
   "outputs": [],
   "source": [
    "import stroke_maps.load_data\n",
    "import stroke_maps.catchment\n",
    "import stroke_maps.geo\n",
    "\n",
    "import pandas as pd\n",
    "import matplotlib.pyplot as plt\n",
    "from mapclassify import greedy  # to assign colours to regions on map.\n",
    "                                # ^ also requires libpysal."
   ]
  },
  {
   "attachments": {},
   "cell_type": "markdown",
   "id": "831b363a-4e10-4951-80ea-0f95a61ca8fe",
   "metadata": {},
   "source": [
    "## Load data\n",
    "\n",
    "__Stroke unit services__ for the calculations and __coordinates__ for the maps"
   ]
  },
  {
   "cell_type": "code",
   "execution_count": 2,
   "id": "55446c10-5288-4c72-aa4d-5adcc8ed2863",
   "metadata": {},
   "outputs": [],
   "source": [
    "df_units = stroke_maps.load_data.stroke_unit_region_lookup()\n",
    "\n",
    "gdf_units = stroke_maps.load_data.stroke_unit_coordinates()\n",
    "# Merge the services information into the coordinates:\n",
    "gdf_units = pd.merge(\n",
    "    gdf_units, df_units[['use_ivt', 'use_mt']],\n",
    "    left_index=True, right_index=True, how='right'\n",
    ")"
   ]
  },
  {
   "cell_type": "markdown",
   "id": "9ae2b7ec-e5b5-4c31-8141-4d1b71bc43de",
   "metadata": {},
   "source": [
    "__LSOA travel time__ for the calculations"
   ]
  },
  {
   "cell_type": "code",
   "execution_count": 3,
   "id": "5badc89d-d3ce-4012-925a-411ade8a0926",
   "metadata": {},
   "outputs": [],
   "source": [
    "df_travel_lsoa = stroke_maps.load_data.travel_time_matrix_lsoa()"
   ]
  },
  {
   "cell_type": "markdown",
   "id": "316778b6-4abb-4767-bf72-b2aa5a4709ca",
   "metadata": {},
   "source": [
    "__LSOA boundaries__ for the maps"
   ]
  },
  {
   "cell_type": "code",
   "execution_count": 4,
   "id": "aad29325-11fe-4d06-83d4-d61e154a1c4a",
   "metadata": {},
   "outputs": [],
   "source": [
    "gdf_lsoa = stroke_maps.load_data.lsoa_geography()"
   ]
  },
  {
   "attachments": {},
   "cell_type": "markdown",
   "id": "5bbe6427-f799-45d7-9ad3-c51b8c4b25f0",
   "metadata": {},
   "source": [
    "## Calculate LSOA catchment areas\n",
    "\n",
    "First we'll create catchment areas of all acute stroke units.\n",
    "\n",
    "Limit the travel time matrix to only stroke units that offer acute care. These are units where `use_ivt` and/or `use_mt` are equal to 1 (one)."
   ]
  },
  {
   "cell_type": "code",
   "execution_count": 5,
   "id": "1b3bd83e-0a87-492a-bf81-3a7c48045a9e",
   "metadata": {},
   "outputs": [],
   "source": [
    "mask = ((df_units['use_ivt'] == 1) | (df_units['use_mt'] == 1))\n",
    "postcodes_units = df_units[mask].index.values\n",
    "\n",
    "# Load the travel time matrix:\n",
    "df_travel_lsoa = stroke_maps.load_data.travel_time_matrix_lsoa()\n",
    "# Limit it to these units:\n",
    "df_travel_lsoa = df_travel_lsoa[postcodes_units].copy()\n",
    "\n",
    "# Run the function to find which of the units in the reduced dataframe\n",
    "# is closest to each LSOA:\n",
    "df_catchment = stroke_maps.catchment.find_nearest_unit(df_travel_lsoa)"
   ]
  },
  {
   "cell_type": "markdown",
   "id": "99c0db03-1e85-487b-a418-ff035a1e9fee",
   "metadata": {},
   "source": [
    "Combine this data with geometry:"
   ]
  },
  {
   "cell_type": "code",
   "execution_count": 6,
   "id": "cca49226-f278-46f4-bc61-554fc7bb68b4",
   "metadata": {},
   "outputs": [],
   "source": [
    "# Merge in the information on nearest acute stroke unit:\n",
    "gdf_lsoa = pd.merge(\n",
    "    gdf_lsoa, df_catchment['unit_postcode'],\n",
    "    left_on='LSOA11NM', right_index=True, how='right'\n",
    ")\n",
    "# Combine LSOA with the same acute stroke unit into a single region:\n",
    "gdf_catchment = stroke_maps.geo.combine_regions(gdf_lsoa, 'unit_postcode')\n",
    "# Convert the coordinates to British National Grid so that they match other geometry:\n",
    "gdf_catchment = gdf_catchment.to_crs('EPSG:27700')\n",
    "# Assign colour numbers.\n",
    "# Use 'distance' balance to use as few colours as possible.\n",
    "gdf_catchment['adjacent_colours'] = greedy(\n",
    "    gdf_catchment, min_distance=1, balance='distance').astype(str)"
   ]
  },
  {
   "cell_type": "markdown",
   "id": "30b6a5cb-a728-4c8e-8b15-fe654abff89c",
   "metadata": {},
   "source": [
    "## Calculate transfer units\n",
    "\n",
    "Now find which stroke units have which transfer units."
   ]
  },
  {
   "cell_type": "code",
   "execution_count": 7,
   "id": "d6850fb6-5009-4b30-bab6-8b28d66bf2eb",
   "metadata": {},
   "outputs": [],
   "source": [
    "df_transfer = stroke_maps.catchment.calculate_transfer_units(df_units)"
   ]
  },
  {
   "cell_type": "markdown",
   "id": "9eb4edc9-1b93-4b80-8e7e-3908d7bb69bc",
   "metadata": {},
   "source": [
    "Create a GeoDataFrame of Line objects connecting each start unit to its transfer unit:"
   ]
  },
  {
   "cell_type": "code",
   "execution_count": 8,
   "id": "8ded79b6-d76e-4645-b5bb-b419538cab07",
   "metadata": {},
   "outputs": [],
   "source": [
    "gdf_transfer = stroke_maps.geo.make_geometry_transfer_units(df_transfer)"
   ]
  },
  {
   "cell_type": "markdown",
   "id": "1210cf97-91fd-4d52-bf0b-7ab601c03cc0",
   "metadata": {},
   "source": [
    "## Assign colours by transfer unit\n",
    "\n",
    "First merge the transfer unit data into the catchment regions:"
   ]
  },
  {
   "cell_type": "code",
   "execution_count": 9,
   "id": "1a4fe527-82bc-4494-9de6-5635bc3fe51f",
   "metadata": {},
   "outputs": [],
   "source": [
    "# Change the index name to match gdf_catchment index name:\n",
    "df_transfer.index.name = 'unit_postcode'"
   ]
  },
  {
   "cell_type": "code",
   "execution_count": 10,
   "id": "e3dbd8d5-e42e-4831-914e-4198d0a8180b",
   "metadata": {},
   "outputs": [],
   "source": [
    "gdf_catchment = pd.merge(\n",
    "    gdf_catchment, df_transfer,\n",
    "    left_index=True, right_index=True, how='left'\n",
    ")"
   ]
  },
  {
   "cell_type": "markdown",
   "id": "b35f31fc-e605-4027-9c74-29eac31d418b",
   "metadata": {},
   "source": [
    "Then combine the regions to get one bigger region per transfer unit:"
   ]
  },
  {
   "cell_type": "code",
   "execution_count": 11,
   "id": "e8ab74a9-6f54-41aa-9d4e-7d26a4c17f5f",
   "metadata": {},
   "outputs": [],
   "source": [
    "gdf_catchment_transfer = gdf_catchment.copy()\n",
    "gdf_catchment_transfer = gdf_catchment_transfer.reset_index()\n",
    "gdf_catchment_transfer = stroke_maps.geo.combine_regions(\n",
    "    gdf_catchment_transfer, 'transfer_unit_postcode')"
   ]
  },
  {
   "cell_type": "markdown",
   "id": "24640025-4175-4dc3-a3c8-a857f675d8e9",
   "metadata": {},
   "source": [
    "And assign colours so no adjacent transfer units have the same colour:"
   ]
  },
  {
   "cell_type": "code",
   "execution_count": 12,
   "id": "0e0dbca5-b7bd-48a9-bea6-651d6d42519e",
   "metadata": {},
   "outputs": [],
   "source": [
    "# Assign colour numbers.\n",
    "# Use 'distance' balance to use as few colours as possible.\n",
    "gdf_catchment_transfer['adjacent_colours'] = greedy(\n",
    "    gdf_catchment_transfer, min_distance=1, balance='distance').astype(str)"
   ]
  },
  {
   "cell_type": "markdown",
   "id": "d47bf3b8-6b60-47ab-84a4-0a28c539f114",
   "metadata": {},
   "source": [
    "Merge the transfer colour numbers back into the general catchment data:"
   ]
  },
  {
   "cell_type": "code",
   "execution_count": 13,
   "id": "63616bcd-c30f-467c-b194-e75e9bebde39",
   "metadata": {},
   "outputs": [],
   "source": [
    "gdf_catchment = pd.merge(\n",
    "    gdf_catchment, gdf_catchment_transfer['adjacent_colours'],\n",
    "    left_on='transfer_unit_postcode', right_index=True,\n",
    "    how='left', suffixes=[None, '_transfer']\n",
    ")"
   ]
  },
  {
   "cell_type": "code",
   "execution_count": 14,
   "id": "304f0913-cabf-4452-b5e6-57f9050bf169",
   "metadata": {},
   "outputs": [
    {
     "data": {
      "text/html": [
       "<div>\n",
       "<style scoped>\n",
       "    .dataframe tbody tr th:only-of-type {\n",
       "        vertical-align: middle;\n",
       "    }\n",
       "\n",
       "    .dataframe tbody tr th {\n",
       "        vertical-align: top;\n",
       "    }\n",
       "\n",
       "    .dataframe thead th {\n",
       "        text-align: right;\n",
       "    }\n",
       "</style>\n",
       "<table border=\"1\" class=\"dataframe\">\n",
       "  <thead>\n",
       "    <tr style=\"text-align: right;\">\n",
       "      <th></th>\n",
       "      <th>geometry</th>\n",
       "      <th>adjacent_colours</th>\n",
       "      <th>transfer_unit_travel_time</th>\n",
       "      <th>transfer_unit_postcode</th>\n",
       "      <th>adjacent_colours_transfer</th>\n",
       "    </tr>\n",
       "    <tr>\n",
       "      <th>unit_postcode</th>\n",
       "      <th></th>\n",
       "      <th></th>\n",
       "      <th></th>\n",
       "      <th></th>\n",
       "      <th></th>\n",
       "    </tr>\n",
       "  </thead>\n",
       "  <tbody>\n",
       "    <tr>\n",
       "      <th>B152TH</th>\n",
       "      <td>MULTIPOLYGON (((416305.700 265602.906, 417069....</td>\n",
       "      <td>3</td>\n",
       "      <td>0.0</td>\n",
       "      <td>B152TH</td>\n",
       "      <td>0</td>\n",
       "    </tr>\n",
       "    <tr>\n",
       "      <th>B714HJ</th>\n",
       "      <td>MULTIPOLYGON (((399681.915 286423.006, 399888....</td>\n",
       "      <td>2</td>\n",
       "      <td>18.7</td>\n",
       "      <td>B152TH</td>\n",
       "      <td>0</td>\n",
       "    </tr>\n",
       "    <tr>\n",
       "      <th>BA13NG</th>\n",
       "      <td>MULTIPOLYGON (((390560.691 145587.417, 389463....</td>\n",
       "      <td>4</td>\n",
       "      <td>33.7</td>\n",
       "      <td>BS105NB</td>\n",
       "      <td>1</td>\n",
       "    </tr>\n",
       "    <tr>\n",
       "      <th>BA214AT</th>\n",
       "      <td>MULTIPOLYGON (((332368.011 102237.393, 333313....</td>\n",
       "      <td>5</td>\n",
       "      <td>74.5</td>\n",
       "      <td>BS105NB</td>\n",
       "      <td>1</td>\n",
       "    </tr>\n",
       "    <tr>\n",
       "      <th>BB23HH</th>\n",
       "      <td>POLYGON ((370868.322 414133.507, 370698.959 41...</td>\n",
       "      <td>4</td>\n",
       "      <td>26.2</td>\n",
       "      <td>PR29HT</td>\n",
       "      <td>2</td>\n",
       "    </tr>\n",
       "  </tbody>\n",
       "</table>\n",
       "</div>"
      ],
      "text/plain": [
       "                                                        geometry  \\\n",
       "unit_postcode                                                      \n",
       "B152TH         MULTIPOLYGON (((416305.700 265602.906, 417069....   \n",
       "B714HJ         MULTIPOLYGON (((399681.915 286423.006, 399888....   \n",
       "BA13NG         MULTIPOLYGON (((390560.691 145587.417, 389463....   \n",
       "BA214AT        MULTIPOLYGON (((332368.011 102237.393, 333313....   \n",
       "BB23HH         POLYGON ((370868.322 414133.507, 370698.959 41...   \n",
       "\n",
       "              adjacent_colours  transfer_unit_travel_time  \\\n",
       "unit_postcode                                               \n",
       "B152TH                       3                        0.0   \n",
       "B714HJ                       2                       18.7   \n",
       "BA13NG                       4                       33.7   \n",
       "BA214AT                      5                       74.5   \n",
       "BB23HH                       4                       26.2   \n",
       "\n",
       "              transfer_unit_postcode adjacent_colours_transfer  \n",
       "unit_postcode                                                   \n",
       "B152TH                        B152TH                         0  \n",
       "B714HJ                        B152TH                         0  \n",
       "BA13NG                       BS105NB                         1  \n",
       "BA214AT                      BS105NB                         1  \n",
       "BB23HH                        PR29HT                         2  "
      ]
     },
     "execution_count": 14,
     "metadata": {},
     "output_type": "execute_result"
    }
   ],
   "source": [
    "gdf_catchment.head(5)"
   ]
  },
  {
   "cell_type": "markdown",
   "id": "9e30961d-f7be-4852-855e-2a05bdc8f2c5",
   "metadata": {},
   "source": [
    "## Assign colours\n",
    "\n",
    "Use the following colour maps:"
   ]
  },
  {
   "cell_type": "code",
   "execution_count": 15,
   "id": "f0019df6-cd47-4936-a486-8937dedf67c0",
   "metadata": {},
   "outputs": [],
   "source": [
    "# Pick sequential colourmaps that go from light (0.0) to dark (1.0).\n",
    "cmaps_list = [\n",
    "    'Blues', 'Greens', 'Oranges', 'Purples', 'Reds',\n",
    "    'YlOrBr', 'RdPu', 'BuGn', 'YlOrRd', 'BuPu',\n",
    "]\n",
    "# Pick colours out of the colour maps in this order:\n",
    "cmaps_inds = [0.5, 0.375, 0.625, 0.25, 0.75, 0.125, 0.875, 0.0, 1.0]"
   ]
  },
  {
   "cell_type": "code",
   "execution_count": 16,
   "id": "41155249-99cd-4a43-83eb-6d14bcc622b0",
   "metadata": {},
   "outputs": [],
   "source": [
    "# Make a dictionary of a list of colours for each colour map.\n",
    "colour_dict = {}\n",
    "\n",
    "for cmap_name in cmaps_list:\n",
    "    cmap = plt.get_cmap(cmap_name)\n",
    "    colours = cmap(cmaps_inds)\n",
    "\n",
    "    colour_dict[cmap_name] = colours"
   ]
  },
  {
   "cell_type": "markdown",
   "id": "a71d9d74-272c-4298-b635-99ba0142f37a",
   "metadata": {},
   "source": [
    "Sample each colour map to get a list of colours:"
   ]
  },
  {
   "cell_type": "code",
   "execution_count": 18,
   "id": "8211f594-e870-4336-a5b6-b89d7c033cda",
   "metadata": {},
   "outputs": [],
   "source": [
    "assigned_colours = []\n",
    "for postcode in gdf_catchment.index:\n",
    "    cmap_name = cmaps_list[int(gdf_catchment.loc[postcode, 'adjacent_colours_transfer'])]\n",
    "    cmap_ind = int(gdf_catchment.loc[postcode, 'adjacent_colours'])\n",
    "\n",
    "    # Pick the colour out of the colour dictionary:\n",
    "    colour = colour_dict[cmap_name][cmap_ind]\n",
    "    assigned_colours.append(colour)\n",
    "\n",
    "gdf_catchment['colour'] = assigned_colours"
   ]
  },
  {
   "cell_type": "code",
   "execution_count": 19,
   "id": "57168574-ef9c-4c0a-826a-fc22c03453a3",
   "metadata": {},
   "outputs": [
    {
     "data": {
      "text/html": [
       "<div>\n",
       "<style scoped>\n",
       "    .dataframe tbody tr th:only-of-type {\n",
       "        vertical-align: middle;\n",
       "    }\n",
       "\n",
       "    .dataframe tbody tr th {\n",
       "        vertical-align: top;\n",
       "    }\n",
       "\n",
       "    .dataframe thead th {\n",
       "        text-align: right;\n",
       "    }\n",
       "</style>\n",
       "<table border=\"1\" class=\"dataframe\">\n",
       "  <thead>\n",
       "    <tr style=\"text-align: right;\">\n",
       "      <th></th>\n",
       "      <th>geometry</th>\n",
       "      <th>adjacent_colours</th>\n",
       "      <th>transfer_unit_travel_time</th>\n",
       "      <th>transfer_unit_postcode</th>\n",
       "      <th>adjacent_colours_transfer</th>\n",
       "      <th>colour</th>\n",
       "    </tr>\n",
       "    <tr>\n",
       "      <th>unit_postcode</th>\n",
       "      <th></th>\n",
       "      <th></th>\n",
       "      <th></th>\n",
       "      <th></th>\n",
       "      <th></th>\n",
       "      <th></th>\n",
       "    </tr>\n",
       "  </thead>\n",
       "  <tbody>\n",
       "    <tr>\n",
       "      <th>B152TH</th>\n",
       "      <td>MULTIPOLYGON (((416305.700 265602.906, 417069....</td>\n",
       "      <td>3</td>\n",
       "      <td>0.0</td>\n",
       "      <td>B152TH</td>\n",
       "      <td>0</td>\n",
       "      <td>[0.7752402921953095, 0.8583006535947711, 0.936...</td>\n",
       "    </tr>\n",
       "    <tr>\n",
       "      <th>B714HJ</th>\n",
       "      <td>MULTIPOLYGON (((399681.915 286423.006, 399888....</td>\n",
       "      <td>2</td>\n",
       "      <td>18.7</td>\n",
       "      <td>B152TH</td>\n",
       "      <td>0</td>\n",
       "      <td>[0.25628604382929643, 0.5700115340253749, 0.77...</td>\n",
       "    </tr>\n",
       "    <tr>\n",
       "      <th>BA13NG</th>\n",
       "      <td>MULTIPOLYGON (((390560.691 145587.417, 389463....</td>\n",
       "      <td>4</td>\n",
       "      <td>33.7</td>\n",
       "      <td>BS105NB</td>\n",
       "      <td>1</td>\n",
       "      <td>[0.1340253748558247, 0.5423298731257208, 0.268...</td>\n",
       "    </tr>\n",
       "    <tr>\n",
       "      <th>BA214AT</th>\n",
       "      <td>MULTIPOLYGON (((332368.011 102237.393, 333313....</td>\n",
       "      <td>5</td>\n",
       "      <td>74.5</td>\n",
       "      <td>BS105NB</td>\n",
       "      <td>1</td>\n",
       "      <td>[0.8975778546712803, 0.9605997693194925, 0.877...</td>\n",
       "    </tr>\n",
       "    <tr>\n",
       "      <th>BB23HH</th>\n",
       "      <td>POLYGON ((370868.322 414133.507, 370698.959 41...</td>\n",
       "      <td>4</td>\n",
       "      <td>26.2</td>\n",
       "      <td>PR29HT</td>\n",
       "      <td>2</td>\n",
       "      <td>[0.8462745098039215, 0.28069204152249133, 0.00...</td>\n",
       "    </tr>\n",
       "  </tbody>\n",
       "</table>\n",
       "</div>"
      ],
      "text/plain": [
       "                                                        geometry  \\\n",
       "unit_postcode                                                      \n",
       "B152TH         MULTIPOLYGON (((416305.700 265602.906, 417069....   \n",
       "B714HJ         MULTIPOLYGON (((399681.915 286423.006, 399888....   \n",
       "BA13NG         MULTIPOLYGON (((390560.691 145587.417, 389463....   \n",
       "BA214AT        MULTIPOLYGON (((332368.011 102237.393, 333313....   \n",
       "BB23HH         POLYGON ((370868.322 414133.507, 370698.959 41...   \n",
       "\n",
       "              adjacent_colours  transfer_unit_travel_time  \\\n",
       "unit_postcode                                               \n",
       "B152TH                       3                        0.0   \n",
       "B714HJ                       2                       18.7   \n",
       "BA13NG                       4                       33.7   \n",
       "BA214AT                      5                       74.5   \n",
       "BB23HH                       4                       26.2   \n",
       "\n",
       "              transfer_unit_postcode adjacent_colours_transfer  \\\n",
       "unit_postcode                                                    \n",
       "B152TH                        B152TH                         0   \n",
       "B714HJ                        B152TH                         0   \n",
       "BA13NG                       BS105NB                         1   \n",
       "BA214AT                      BS105NB                         1   \n",
       "BB23HH                        PR29HT                         2   \n",
       "\n",
       "                                                          colour  \n",
       "unit_postcode                                                     \n",
       "B152TH         [0.7752402921953095, 0.8583006535947711, 0.936...  \n",
       "B714HJ         [0.25628604382929643, 0.5700115340253749, 0.77...  \n",
       "BA13NG         [0.1340253748558247, 0.5423298731257208, 0.268...  \n",
       "BA214AT        [0.8975778546712803, 0.9605997693194925, 0.877...  \n",
       "BB23HH         [0.8462745098039215, 0.28069204152249133, 0.00...  "
      ]
     },
     "execution_count": 19,
     "metadata": {},
     "output_type": "execute_result"
    }
   ],
   "source": [
    "gdf_catchment.head(5)"
   ]
  },
  {
   "attachments": {},
   "cell_type": "markdown",
   "id": "e3865eb4-42dc-4759-a73b-54f79bf6299f",
   "metadata": {},
   "source": [
    "## Plot the map"
   ]
  },
  {
   "cell_type": "code",
   "execution_count": 24,
   "id": "73d060da-8737-4867-9593-a6b655e98a71",
   "metadata": {},
   "outputs": [
    {
     "data": {
      "image/png": "[encoded data removed]",
      "text/plain": [
       "<Figure size 800x800 with 1 Axes>"
      ]
     },
     "metadata": {},
     "output_type": "display_data"
    }
   ],
   "source": [
    "fig, ax = plt.subplots(figsize=(8, 8))\n",
    "\n",
    "# Catchment areas:\n",
    "gdf_catchment.plot(\n",
    "    ax=ax,              # Set which axes to use for plot\n",
    "    antialiased=False,  # Avoids artefact boundary lines\n",
    "    color=gdf_catchment['colour'],  # set colours using this column\n",
    "    linewidth=0.2,\n",
    "    )\n",
    "\n",
    "# Transfer unit catchment boundaries:\n",
    "gdf_catchment_transfer.plot(\n",
    "    ax=ax,              # Set which axes to use for plot\n",
    "    antialiased=False,  # Avoids artefact boundary lines\n",
    "    facecolor='none',  # set colours using this column\n",
    "    edgecolor='k',\n",
    "    linewidth=0.2,\n",
    "    )\n",
    "\n",
    "# Pick out which stroke units to plot:\n",
    "mask_ivt = ((gdf_units['use_ivt'] == 1) & (gdf_units['use_mt'] == 0))\n",
    "mask_mt = (gdf_units['use_mt'] == 1)\n",
    "\n",
    "# IVT units:\n",
    "ax.scatter(\n",
    "    gdf_units.loc[mask_ivt, 'geometry'].x,\n",
    "    gdf_units.loc[mask_ivt, 'geometry'].y,\n",
    "    marker='o',\n",
    "    facecolor='k',\n",
    "    label='IVT unit',\n",
    "    s=20,  # size\n",
    "    )\n",
    "\n",
    "# MT units:\n",
    "ax.scatter(\n",
    "    gdf_units.loc[mask_mt, 'geometry'].x,\n",
    "    gdf_units.loc[mask_mt, 'geometry'].y,\n",
    "    marker='*',\n",
    "    facecolor='k',\n",
    "    label='MT unit',\n",
    "    s=40,  # size\n",
    "    )\n",
    "\n",
    "# Axis limits:\n",
    "bounds = gdf_catchment.geometry.total_bounds\n",
    "ax.set_xlim(bounds[0], bounds[2])\n",
    "ax.set_ylim(bounds[1], bounds[3])\n",
    "\n",
    "# Remove the axis ticks\n",
    "ax.set_xticks([])\n",
    "ax.set_yticks([])\n",
    "\n",
    "# Add legend:\n",
    "ax.legend(bbox_to_anchor=(1.0, 1.0), loc='upper left')\n",
    "\n",
    "plt.show()"
   ]
  },
  {
   "cell_type": "code",
   "execution_count": null,
   "id": "e20ab009-4980-4b76-8b89-cbac3cb22eed",
   "metadata": {},
   "outputs": [],
   "source": []
  }
 ],
 "metadata": {
  "kernelspec": {
   "display_name": "Python 3 (ipykernel)",
   "language": "python",
   "name": "python3"
  },
  "language_info": {
   "codemirror_mode": {
    "name": "ipython",
    "version": 3
   },
   "file_extension": ".py",
   "mimetype": "text/x-python",
   "name": "python",
   "nbconvert_exporter": "python",
   "pygments_lexer": "ipython3",
   "version": "3.12.2"
  }
 },
 "nbformat": 4,
 "nbformat_minor": 5
}
