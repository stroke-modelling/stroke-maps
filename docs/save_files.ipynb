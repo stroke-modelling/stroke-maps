{
 "cells": [
  {
   "cell_type": "markdown",
   "id": "57eeb3f6-9be9-4e13-8d3d-cad5b8add982",
   "metadata": {},
   "source": [
    "# Save data to file"
   ]
  },
  {
   "cell_type": "code",
   "execution_count": 1,
   "id": "efd5ecd1-2b9a-4314-9901-27af870885a9",
   "metadata": {},
   "outputs": [],
   "source": [
    "import numpy as np\n",
    "import os\n",
    "import geopandas\n",
    "import pandas as pd"
   ]
  },
  {
   "cell_type": "code",
   "execution_count": 2,
   "id": "3218c63b-eb4a-4448-987c-d2aef43119c3",
   "metadata": {
    "ExecuteTime": {
     "end_time": "2023-10-18T12:18:06.447365991Z",
     "start_time": "2023-10-18T12:18:03.347908513Z"
    },
    "tags": []
   },
   "outputs": [],
   "source": [
    "from stroke_maps.catchment import Catchment\n",
    "from stroke_maps.combine import Combine\n",
    "import stroke_maps.geo\n",
    "import stroke_maps.plot\n",
    "from stroke_maps.utils import convert_df_to_gdf\n",
    "\n",
    "combine = Combine()"
   ]
  },
  {
   "cell_type": "markdown",
   "id": "ba0dfc2e-84db-4040-b9bf-029429727835",
   "metadata": {},
   "source": [
    "## Setup for scenarios"
   ]
  },
  {
   "cell_type": "code",
   "execution_count": 3,
   "id": "3d655feb-6837-4763-8103-802e1caafe5c",
   "metadata": {},
   "outputs": [],
   "source": [
    "dir_output = os.path.join('output', 'run')\n",
    "\n",
    "# Temporary rubbish dir extender to prevent overwriting:\n",
    "while os.path.exists(dir_output):\n",
    "    dir_output += '1'\n",
    "\n",
    "os.mkdir(dir_output)"
   ]
  },
  {
   "cell_type": "code",
   "execution_count": 4,
   "id": "f08bd6d0-c4ed-4db7-85ec-86ec0c69b150",
   "metadata": {},
   "outputs": [],
   "source": [
    "merge_dicts = dict(\n",
    "    df_transfer = {},\n",
    "    df_lsoa = {},\n",
    "    df_units = {},\n",
    ")"
   ]
  },
  {
   "cell_type": "code",
   "execution_count": 5,
   "id": "3a93d64a-46af-48ab-8da9-22f37bf4b741",
   "metadata": {},
   "outputs": [],
   "source": [
    "units_to_include = [\n",
    "    'GL13NN',\n",
    "    'SN36BB',\n",
    "    'BS105NB',\n",
    "    'EX314JB',\n",
    "    'PL68DH',\n",
    "    'TR13LQ',\n",
    "    'EX25DW',\n",
    "    'BA13NG',\n",
    "    'SP28BJ',\n",
    "    'TA15DA',\n",
    "    'TQ27AA',\n",
    "    'BS234TQ',\n",
    "    'BA214AT',\n",
    "]"
   ]
  },
  {
   "cell_type": "markdown",
   "id": "00c42099-1fe5-4f64-a74c-1bc72d055a3d",
   "metadata": {},
   "source": [
    "## Scenario 1"
   ]
  },
  {
   "cell_type": "code",
   "execution_count": 6,
   "id": "b213c8c8-7024-452a-b5a9-d0a06eac4a7f",
   "metadata": {},
   "outputs": [],
   "source": [
    "scenario_name = 'drip-and-ship'"
   ]
  },
  {
   "cell_type": "code",
   "execution_count": 7,
   "id": "a4900e70-15cb-4ada-b0b4-5c5b6916a054",
   "metadata": {},
   "outputs": [],
   "source": [
    "# Catchment overwrites default values\n",
    "catchment = Catchment({\n",
    "    # \"setup\": setup,\n",
    "    'name': scenario_name,\n",
    "    \"run_duration\": 5,  # years\n",
    "})\n",
    "\n",
    "df_units = catchment.get_unit_services()\n",
    "\n",
    "df_units = df_units.reset_index()\n",
    "\n",
    "mask = df_units['postcode'].isin(units_to_include)\n",
    "df_units.loc[mask, 'selected'] = 1\n",
    "\n",
    "df_units = df_units.set_index('postcode')"
   ]
  },
  {
   "cell_type": "code",
   "execution_count": 8,
   "id": "2c08f7fc-c104-4322-b42e-5d7e1a52a8e7",
   "metadata": {},
   "outputs": [
    {
     "data": {
      "text/plain": [
       "postcode\n",
       "BA13NG                     Royal United Hospital Bath\n",
       "EX314JB     North Devon District Hospital, Barnstaple\n",
       "PL68DH                   Derriford Hospital, Plymouth\n",
       "EX25DW                Royal Devon and Exeter Hospital\n",
       "GL13NN     Gloucestershire Royal Hospital, Gloucester\n",
       "SN36BB                Great Western Hospital, Swindon\n",
       "TA15DA                Musgrove Park Hospital, Taunton\n",
       "BS105NB            North Bristol Hospital (Southmead)\n",
       "SP28BJ                    Salisbury District Hospital\n",
       "TQ27AA                                Torbay Hospital\n",
       "TR13LQ                 Royal Cornwall Hospital, Truro\n",
       "BS234TQ    Weston General Hospital, Weston-super-Mare\n",
       "BA214AT                      Yeovil District Hospital\n",
       "Name: stroke_team, dtype: object"
      ]
     },
     "execution_count": 8,
     "metadata": {},
     "output_type": "execute_result"
    }
   ],
   "source": [
    "df_units['stroke_team'][df_units['selected'] == 1]"
   ]
  },
  {
   "cell_type": "code",
   "execution_count": 9,
   "id": "acdadf83-1e4d-441f-86c7-0c1c3029bb16",
   "metadata": {},
   "outputs": [],
   "source": [
    "dict_useful_data = catchment.main(df_units)"
   ]
  },
  {
   "cell_type": "markdown",
   "id": "e1b6b2c8-bb3f-4573-810a-26dd4b6a1564",
   "metadata": {},
   "source": [
    "Gather data for later combination:"
   ]
  },
  {
   "cell_type": "code",
   "execution_count": 10,
   "id": "6b1584e9-af73-4f00-ae57-0d01d60a0db5",
   "metadata": {},
   "outputs": [],
   "source": [
    "# Update big dictionary of Dataframes:\n",
    "merge_dicts['df_units'][scenario_name] = dict_useful_data['df_units']\n",
    "merge_dicts['df_transfer'][scenario_name] = dict_useful_data['df_transfer']\n",
    "merge_dicts['df_lsoa'][scenario_name] = dict_useful_data['df_lsoa']"
   ]
  },
  {
   "cell_type": "markdown",
   "id": "77731273-d5a8-4b2e-bc11-5a3fbeb9d13b",
   "metadata": {},
   "source": [
    "Save data to file:"
   ]
  },
  {
   "cell_type": "code",
   "execution_count": 11,
   "id": "e7dfcfc7-4fbe-4bb6-ae46-1ae98de3505e",
   "metadata": {},
   "outputs": [],
   "source": [
    "dir_output_scenario = os.path.join(dir_output, scenario_name)\n",
    "\n",
    "if os.path.exists(dir_output_scenario):\n",
    "    pass\n",
    "else:\n",
    "    os.mkdir(dir_output_scenario)"
   ]
  },
  {
   "cell_type": "code",
   "execution_count": 12,
   "id": "549077fc-7c06-409e-9e2e-11f05e2cef2c",
   "metadata": {},
   "outputs": [],
   "source": [
    "file_dict = {\n",
    "    'df_transfer': {\n",
    "        'file': 'df_transfer.csv',\n",
    "        'data': dict_useful_data['df_transfer']\n",
    "    },\n",
    "    'df_units': {\n",
    "        'file': 'df_units.csv',\n",
    "        'data': merge_dicts['df_units'][scenario_name]\n",
    "    },\n",
    "    'df_lsoa': {\n",
    "        'file': 'df_lsoa.csv',\n",
    "        'data': merge_dicts['df_lsoa'][scenario_name]\n",
    "    }\n",
    "}"
   ]
  },
  {
   "cell_type": "code",
   "execution_count": 13,
   "id": "9634176c-1b2e-4242-83da-9f0886936928",
   "metadata": {},
   "outputs": [],
   "source": [
    "for data_type, data_dict in file_dict.items():\n",
    "    path_to_file = os.path.join(dir_output_scenario, data_dict['file'])\n",
    "    data_dict['data'].to_csv(path_to_file)"
   ]
  },
  {
   "cell_type": "markdown",
   "id": "4570b2c7-d3af-4041-95ff-29693b3f6fcf",
   "metadata": {},
   "source": [
    "## Scenario 2"
   ]
  },
  {
   "cell_type": "code",
   "execution_count": 14,
   "id": "09eec719-9f82-4b5b-80a4-51fbb15ebf7d",
   "metadata": {},
   "outputs": [],
   "source": [
    "scenario_name = 'mothership'"
   ]
  },
  {
   "cell_type": "code",
   "execution_count": 15,
   "id": "89bfc3eb-8f39-4bbe-8858-33ed855801ec",
   "metadata": {},
   "outputs": [],
   "source": [
    "# Catchment overwrites default values\n",
    "catchment = Catchment({\n",
    "    # \"setup\": setup,\n",
    "    'name': scenario_name,\n",
    "    \"run_duration\": 5,  # years\n",
    "})\n",
    "\n",
    "df_units = catchment.get_unit_services()\n",
    "\n",
    "df_units = df_units.reset_index()\n",
    "\n",
    "# Set all non-MT units to have no IVT:\n",
    "mask = df_units['use_mt'] == 0\n",
    "df_units.loc[mask, 'use_ivt'] = 0\n",
    "\n",
    "mask = (\n",
    "    (df_units['postcode'].isin(units_to_include)) &\n",
    "    (df_units['use_ivt'] == 1)\n",
    ")\n",
    "df_units.loc[mask, 'selected'] = 1\n",
    "\n",
    "\n",
    "df_units = df_units.set_index('postcode')"
   ]
  },
  {
   "cell_type": "code",
   "execution_count": 16,
   "id": "305b5e08-0da3-4b61-927f-bc9c03203623",
   "metadata": {},
   "outputs": [
    {
     "data": {
      "text/plain": [
       "postcode\n",
       "PL68DH           Derriford Hospital, Plymouth\n",
       "BS105NB    North Bristol Hospital (Southmead)\n",
       "Name: stroke_team, dtype: object"
      ]
     },
     "execution_count": 16,
     "metadata": {},
     "output_type": "execute_result"
    }
   ],
   "source": [
    "df_units['stroke_team'][df_units['selected'] == 1]"
   ]
  },
  {
   "cell_type": "code",
   "execution_count": null,
   "id": "e9a71a0e-c291-48b1-9dcb-7411cc6a63b3",
   "metadata": {},
   "outputs": [],
   "source": [
    "dict_useful_data = catchment.main(df_units)"
   ]
  },
  {
   "cell_type": "markdown",
   "id": "7a8eb87b-446e-4041-960d-3094bcca78bc",
   "metadata": {},
   "source": [
    "Gather data for later combination:"
   ]
  },
  {
   "cell_type": "code",
   "execution_count": null,
   "id": "72535a96-0566-4a21-b0c9-61a52d2f1eee",
   "metadata": {},
   "outputs": [],
   "source": [
    "# Update big dictionary of Dataframes:\n",
    "merge_dicts['df_units'][scenario_name] = dict_useful_data['df_units']\n",
    "merge_dicts['df_transfer'][scenario_name] = dict_useful_data['df_transfer']\n",
    "merge_dicts['df_lsoa'][scenario_name] = dict_useful_data['df_lsoa']"
   ]
  },
  {
   "cell_type": "code",
   "execution_count": null,
   "id": "7447dc4a-e6e0-472f-9cf8-c7c39e4d5216",
   "metadata": {},
   "outputs": [],
   "source": [
    "dict_useful_data['df_lsoa']"
   ]
  },
  {
   "cell_type": "markdown",
   "id": "3645a9e6-8bdb-4024-8a13-407466614a08",
   "metadata": {},
   "source": [
    "Save data to file:"
   ]
  },
  {
   "cell_type": "code",
   "execution_count": null,
   "id": "aedbff12-63a9-4466-9263-06c5c3626e96",
   "metadata": {},
   "outputs": [],
   "source": [
    "dir_output_scenario = os.path.join(dir_output, scenario_name)\n",
    "\n",
    "if os.path.exists(dir_output_scenario):\n",
    "    pass\n",
    "else:\n",
    "    os.mkdir(dir_output_scenario)"
   ]
  },
  {
   "cell_type": "code",
   "execution_count": null,
   "id": "6bb18132-5673-4e16-9c81-dea7244800aa",
   "metadata": {},
   "outputs": [],
   "source": [
    "file_dict = {\n",
    "    'df_transfer': {\n",
    "        'file': 'df_transfer.csv',\n",
    "        'data': dict_useful_data['df_transfer']\n",
    "    },\n",
    "    'df_units': {\n",
    "        'file': 'df_units.csv',\n",
    "        'data': merge_dicts['df_units'][scenario_name]\n",
    "    },\n",
    "    'df_lsoa': {\n",
    "        'file': 'df_lsoa.csv',\n",
    "        'data': merge_dicts['df_lsoa'][scenario_name]\n",
    "    }\n",
    "}"
   ]
  },
  {
   "cell_type": "code",
   "execution_count": null,
   "id": "05aa5fc8-cc3b-4b8a-ba0f-7ccbd0533d20",
   "metadata": {},
   "outputs": [],
   "source": [
    "for data_type, data_dict in file_dict.items():\n",
    "    path_to_file = os.path.join(dir_output_scenario, data_dict['file'])\n",
    "    data_dict['data'].to_csv(path_to_file)"
   ]
  },
  {
   "cell_type": "markdown",
   "id": "3f918252-c807-4a07-9232-e9246be49fba",
   "metadata": {},
   "source": [
    "## Combine multiple scenarios"
   ]
  },
  {
   "cell_type": "code",
   "execution_count": null,
   "id": "56fdda9d-5e83-437b-bb95-f1419567051f",
   "metadata": {},
   "outputs": [],
   "source": [
    "combo_df_units = combine.combine_units(\n",
    "    merge_dicts['df_units'])\n",
    "\n",
    "combo_df_transfer = combine.combine_transfer(\n",
    "    merge_dicts['df_transfer'])\n",
    "\n",
    "combo_df_lsoa = combine.combine_lsoa(\n",
    "    merge_dicts['df_lsoa'])"
   ]
  },
  {
   "cell_type": "markdown",
   "id": "88b2a60e-1e9a-41fd-9a87-702791f24bd2",
   "metadata": {},
   "source": [
    "Save data to file:"
   ]
  },
  {
   "cell_type": "code",
   "execution_count": null,
   "id": "ea2d5fd3-a1ee-42df-9e1b-21280e61ba19",
   "metadata": {},
   "outputs": [],
   "source": [
    "dir_output_scenario = os.path.join(dir_output, 'combined')\n",
    "\n",
    "if os.path.exists(dir_output_scenario):\n",
    "    pass\n",
    "else:\n",
    "    os.mkdir(dir_output_scenario)"
   ]
  },
  {
   "cell_type": "code",
   "execution_count": null,
   "id": "86a9da09-1a91-49c7-9854-8672bf200fe8",
   "metadata": {},
   "outputs": [],
   "source": [
    "file_dict = {\n",
    "    'combo_df_units': {\n",
    "        'file': 'df_units.csv',\n",
    "        'data': combo_df_units,\n",
    "    },\n",
    "    'combo_df_transfer': {\n",
    "        'file': 'df_transfer.csv',\n",
    "        'data': combo_df_transfer,\n",
    "    },\n",
    "    'combo_df_lsoa': {\n",
    "        'file': 'df_lsoa.csv',\n",
    "        'data': combo_df_lsoa,\n",
    "    }\n",
    "}"
   ]
  },
  {
   "cell_type": "code",
   "execution_count": null,
   "id": "27ef334d-6f87-4ffb-b388-973f4e4dcc21",
   "metadata": {},
   "outputs": [],
   "source": [
    "for data_type, data_dict in file_dict.items():\n",
    "    path_to_file = os.path.join(dir_output_scenario, data_dict['file'])\n",
    "    data_dict['data'].to_csv(path_to_file)"
   ]
  },
  {
   "cell_type": "markdown",
   "id": "85425383-b3e4-4d65-9cf2-4d5f98710fe8",
   "metadata": {},
   "source": [
    "## Create geometry data"
   ]
  },
  {
   "cell_type": "code",
   "execution_count": null,
   "id": "7a5ee444-3d3f-4eaf-b9cb-c01153d8b500",
   "metadata": {},
   "outputs": [],
   "source": [
    "dir_combined = os.path.join(dir_output, 'combined')"
   ]
  },
  {
   "cell_type": "code",
   "execution_count": null,
   "id": "54a71f96-9442-4614-a01d-8c0bcbe8fd9e",
   "metadata": {},
   "outputs": [],
   "source": [
    "# Load in the data\n",
    "\n",
    "df_units = pd.read_csv(\n",
    "    os.path.join(dir_combined, 'df_units.csv'),\n",
    "    index_col=0,\n",
    "    header=[0, 1, 2],\n",
    ")\n",
    "df_transfer = pd.read_csv(\n",
    "    os.path.join(dir_combined, 'df_transfer.csv'),\n",
    "    index_col=[0, 1],\n",
    "    header=[0, 1],\n",
    ")\n",
    "df_lsoa = pd.read_csv(\n",
    "    os.path.join(dir_combined, 'df_lsoa.csv'),\n",
    "    index_col=[0, 1],\n",
    "    header=[0, 1, 2],\n",
    ")"
   ]
  },
  {
   "cell_type": "code",
   "execution_count": null,
   "id": "70b79a21-3e46-401a-9aa7-757381183cdc",
   "metadata": {},
   "outputs": [],
   "source": [
    "df_regions = stroke_maps.geo.load_regions()"
   ]
  },
  {
   "cell_type": "code",
   "execution_count": null,
   "id": "341208e1-24ff-4d95-af44-d3d11afd5344",
   "metadata": {},
   "outputs": [],
   "source": [
    "(\n",
    "    gdf_boundaries_regions,\n",
    "    gdf_points_units,\n",
    "    gdf_lines_transfer,\n",
    "    gdf_boundaries_lsoa,\n",
    "    gdf_boundaries_catchment\n",
    ") = stroke_maps.geo.main(\n",
    "    combo_df_lsoa, combo_df_units, df_regions, combo_df_transfer\n",
    "    )"
   ]
  },
  {
   "cell_type": "markdown",
   "id": "bb597a52-9c9c-4ce4-947c-05a8232bfda7",
   "metadata": {},
   "source": [
    "Save data to file:"
   ]
  },
  {
   "cell_type": "code",
   "execution_count": null,
   "id": "9a6539aa-4a3d-48ec-b057-5cc6a18a5726",
   "metadata": {},
   "outputs": [],
   "source": [
    "# Create a new maps/ dir for outputs.\n",
    "dir_output_maps = os.path.join(dir_combined, 'maps')\n",
    "try:\n",
    "    os.mkdir(dir_output_maps)\n",
    "except FileExistsError:\n",
    "    # The directory already exists.\n",
    "    pass"
   ]
  },
  {
   "cell_type": "code",
   "execution_count": null,
   "id": "5299dd52-3a76-4b6f-9627-f5bedc430316",
   "metadata": {},
   "outputs": [],
   "source": [
    "file_dict = {\n",
    "    'gdf_boundaries_regions': {\n",
    "        'file': 'gdf_boundaries_regions.csv',\n",
    "        'data': gdf_boundaries_regions,\n",
    "    },\n",
    "    'gdf_points_units': {\n",
    "        'file': 'gdf_points_units.csv',\n",
    "        'data': gdf_points_units,\n",
    "    },\n",
    "    'gdf_lines_transfer': {\n",
    "        'file': 'gdf_lines_transfer.csv',\n",
    "        'data': gdf_lines_transfer,\n",
    "    },\n",
    "    'gdf_boundaries_lsoa': {\n",
    "        'file': 'gdf_boundaries_lsoa.csv',\n",
    "        'data': gdf_boundaries_lsoa, \n",
    "    },\n",
    "    'gdf_boundaries_catchment': {\n",
    "        'file': 'gdf_boundaries_catchment.csv',\n",
    "        'data': gdf_boundaries_catchment,\n",
    "    },\n",
    "}"
   ]
  },
  {
   "cell_type": "code",
   "execution_count": null,
   "id": "449d3fa0-f55f-4d8d-8aa7-565012966c74",
   "metadata": {},
   "outputs": [],
   "source": [
    "for data_type, data_dict in file_dict.items():\n",
    "    path_to_file = os.path.join(dir_output_maps, data_dict['file'])\n",
    "    data_dict['data'].to_csv(path_to_file)"
   ]
  },
  {
   "cell_type": "markdown",
   "id": "0327a7a0-e020-4dea-b8b4-6a10a004f7e2",
   "metadata": {},
   "source": [
    "## Setup for maps\n",
    "\n",
    "Crop all geometry data to the same axis limits and assign colours to the catchment areas:"
   ]
  },
  {
   "cell_type": "code",
   "execution_count": null,
   "id": "3710b936-39a6-4778-a890-349b252d0527",
   "metadata": {},
   "outputs": [],
   "source": [
    "# Load in the data\n",
    "\n",
    "gdf_boundaries_regions = pd.read_csv(\n",
    "    os.path.join(dir_output_maps, 'gdf_boundaries_regions.csv'),\n",
    "    index_col=[0],\n",
    "    header=[0, 1],\n",
    ")\n",
    "gdf_points_units = pd.read_csv(\n",
    "    os.path.join(dir_output_maps, 'gdf_points_units.csv'),\n",
    "    index_col=[0],\n",
    "    header=[0, 1],\n",
    ")\n",
    "gdf_lines_transfer = pd.read_csv(\n",
    "    os.path.join(dir_output_maps, 'gdf_lines_transfer.csv'),\n",
    "    index_col=[0],\n",
    "    header=[0, 1],\n",
    ")\n",
    "gdf_boundaries_lsoa = pd.read_csv(\n",
    "    os.path.join(dir_output_maps, 'gdf_boundaries_lsoa.csv'),\n",
    "    index_col=[0],\n",
    "    header=[0, 1, 2],\n",
    ")\n",
    "gdf_boundaries_catchment = pd.read_csv(\n",
    "    os.path.join(dir_output_maps, 'gdf_boundaries_catchment.csv'),\n",
    "    index_col=[0],\n",
    "    header=[0, 1],\n",
    ")"
   ]
  },
  {
   "cell_type": "code",
   "execution_count": null,
   "id": "2f87348a-2d9e-4f59-ad90-ca440c561cdd",
   "metadata": {},
   "outputs": [],
   "source": [
    "gdf_boundaries_regions = convert_df_to_gdf(gdf_boundaries_regions)\n",
    "gdf_points_units = convert_df_to_gdf(gdf_points_units)\n",
    "gdf_lines_transfer = convert_df_to_gdf(gdf_lines_transfer)\n",
    "gdf_boundaries_lsoa = convert_df_to_gdf(gdf_boundaries_lsoa)\n",
    "gdf_boundaries_catchment = convert_df_to_gdf(gdf_boundaries_catchment)"
   ]
  },
  {
   "cell_type": "code",
   "execution_count": null,
   "id": "e03f0a20-7840-4b80-9c5a-d9a9f917162a",
   "metadata": {},
   "outputs": [],
   "source": [
    "(\n",
    "gdf_boundaries_regions,\n",
    "gdf_points_units,\n",
    "gdf_boundaries_catchment,\n",
    "gdf_boundaries_lsoa,\n",
    "gdf_lines_transfer,\n",
    "box_shared,\n",
    "map_extent_shared\n",
    "        ) = stroke_maps.plot.main(\n",
    "    gdf_boundaries_regions,\n",
    "    gdf_points_units,\n",
    "    gdf_boundaries_catchment,\n",
    "    gdf_boundaries_lsoa,\n",
    "    gdf_lines_transfer,\n",
    "    crop_axis_leeway=5000\n",
    "    )"
   ]
  },
  {
   "cell_type": "markdown",
   "id": "1a35b267-c337-4f0c-8b84-5087bbccb670",
   "metadata": {},
   "source": [
    "## Plotting\n",
    "\n",
    "Combining the scenarios earlier means that these maps share axis limits even though they contain different information for each scenario."
   ]
  },
  {
   "cell_type": "code",
   "execution_count": null,
   "id": "9c299015-2881-45cb-a8ce-77775319c792",
   "metadata": {
    "tags": []
   },
   "outputs": [],
   "source": [
    "for scenario in ['drip-and-ship', 'mothership']:\n",
    "    stroke_maps.plot.plot_map_selected_regions(\n",
    "        gdf_boundaries_regions,\n",
    "        gdf_points_units,\n",
    "        scenario=scenario,\n",
    "        map_extent=map_extent_shared,\n",
    "        path_to_file=os.path.join(dir_output_maps, f'map_regions_{scenario}.png')\n",
    "    )"
   ]
  },
  {
   "cell_type": "code",
   "execution_count": null,
   "id": "628f388d-9d05-4027-a4ce-993b43673edb",
   "metadata": {},
   "outputs": [],
   "source": [
    "for scenario in ['drip-and-ship', 'mothership']:\n",
    "    stroke_maps.plot.plot_map_selected_units(\n",
    "        gdf_boundaries_regions,\n",
    "        gdf_points_units,\n",
    "        gdf_lines_transfer,\n",
    "        scenario=scenario,\n",
    "        map_extent=map_extent_shared,\n",
    "        path_to_file=os.path.join(dir_output_maps, f'map_units_{scenario}.png')\n",
    "    )"
   ]
  },
  {
   "cell_type": "code",
   "execution_count": null,
   "id": "d86f2245-a921-4d90-a7b4-1d59ef73fd14",
   "metadata": {},
   "outputs": [],
   "source": [
    "for scenario in ['drip-and-ship', 'mothership']:\n",
    "    stroke_maps.plot.plot_map_catchment(\n",
    "        gdf_boundaries_catchment,\n",
    "        gdf_boundaries_regions,\n",
    "        gdf_points_units,\n",
    "        gdf_lines_transfer,\n",
    "        scenario=scenario,\n",
    "        map_extent=map_extent_shared,\n",
    "        path_to_file=os.path.join(dir_output_maps, f'map_catchment_{scenario}.png')\n",
    "    )"
   ]
  }
 ],
 "metadata": {
  "kernelspec": {
   "display_name": "Python 3 (ipykernel)",
   "language": "python",
   "name": "python3"
  },
  "language_info": {
   "codemirror_mode": {
    "name": "ipython",
    "version": 3
   },
   "file_extension": ".py",
   "mimetype": "text/x-python",
   "name": "python",
   "nbconvert_exporter": "python",
   "pygments_lexer": "ipython3",
   "version": "3.12.2"
  }
 },
 "nbformat": 4,
 "nbformat_minor": 5
}
