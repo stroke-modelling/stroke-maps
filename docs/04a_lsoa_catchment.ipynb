{
 "cells": [
  {
   "cell_type": "markdown",
   "id": "be606116-0c03-4daf-87cb-82bc0080581a",
   "metadata": {},
   "source": [
    "# Catchment areas for stroke units\n",
    "\n",
    "This notebook shows how to determine the closest acute stroke unit to any patient in any part of England and Wales or of Northern Ireland.\n",
    "\n",
    "## Plain English summary\n",
    "\n",
    "Usually we assume that when an ambulance is taking a patient to an acute stroke unit, the ambulance will choose to go to the nearest acute stroke unit out of all available options.\n",
    "\n",
    "Every area of England and Wales is in a single Lower Super Output Area (LSOA) and every area of Northern Ireland is in a single Small Area (SA). By calculating the travel time from every LSOA or SA to every stroke unit, we can calculate which acute stroke unit is closest to any patient anywhere.\n",
    "\n",
    "Looking at it the other way around, we can find which areas of the country are in each stroke unit's \"catchment area\".\n",
    "\n",
    "## Aims\n",
    "\n",
    "This notebook shows how to use the `stroke-maps` package to find the catchment area of each acute stroke unit.\n",
    "\n",
    "## Method\n",
    "\n",
    "+ Load a list of the LSOA or Small Areas\n",
    "+ Load a list of the travel times from each area to each stroke unit\n",
    "+ Find the stroke unit with the minimum time to each area\n",
    "+ Create a map of the resulting catchment areas\n",
    "\n",
    "## Notebook setup"
   ]
  },
  {
   "cell_type": "code",
   "execution_count": 1,
   "id": "eb8be88d-5c4e-4958-ae5b-2a8ae34e83ee",
   "metadata": {},
   "outputs": [],
   "source": [
    "import stroke_maps.load_data\n",
    "import stroke_maps.catchment\n",
    "import stroke_maps.geo  # to make catchment area geometry\n",
    "\n",
    "import pandas as pd\n",
    "import matplotlib.pyplot as plt\n",
    "from mapclassify import greedy  # to assign colours to regions on map.\n",
    "                                # ^ also requires libpysal."
   ]
  },
  {
   "cell_type": "markdown",
   "id": "5c3acda5-880a-4d7c-be6c-c3a22ed2b3ae",
   "metadata": {},
   "source": [
    "## England and Wales\n",
    "\n",
    "### Load data\n",
    "\n",
    "__LSOA travel time__\n",
    "\n",
    "This dataframe contains one row for each LSOA in England and Wales. There is one column for each stroke unit in England and Wales. The value in each cell is the time from that row's LSOA to that column's stroke unit."
   ]
  },
  {
   "cell_type": "code",
   "execution_count": 2,
   "id": "6fec3840-d71a-443b-8b59-b0244e893639",
   "metadata": {},
   "outputs": [
    {
     "data": {
      "text/html": [
       "<div>\n",
       "<style scoped>\n",
       "    .dataframe tbody tr th:only-of-type {\n",
       "        vertical-align: middle;\n",
       "    }\n",
       "\n",
       "    .dataframe tbody tr th {\n",
       "        vertical-align: top;\n",
       "    }\n",
       "\n",
       "    .dataframe thead th {\n",
       "        text-align: right;\n",
       "    }\n",
       "</style>\n",
       "<table border=\"1\" class=\"dataframe\">\n",
       "  <thead>\n",
       "    <tr style=\"text-align: right;\">\n",
       "      <th></th>\n",
       "      <th>B152TH</th>\n",
       "      <th>B714HJ</th>\n",
       "      <th>B95SS</th>\n",
       "      <th>BA13NG</th>\n",
       "      <th>BA214AT</th>\n",
       "    </tr>\n",
       "    <tr>\n",
       "      <th>LSOA</th>\n",
       "      <th></th>\n",
       "      <th></th>\n",
       "      <th></th>\n",
       "      <th></th>\n",
       "      <th></th>\n",
       "    </tr>\n",
       "  </thead>\n",
       "  <tbody>\n",
       "    <tr>\n",
       "      <th>Adur 001A</th>\n",
       "      <td>173.3</td>\n",
       "      <td>179.8</td>\n",
       "      <td>171.2</td>\n",
       "      <td>161.5</td>\n",
       "      <td>152.9</td>\n",
       "    </tr>\n",
       "    <tr>\n",
       "      <th>Adur 001B</th>\n",
       "      <td>173.3</td>\n",
       "      <td>179.8</td>\n",
       "      <td>172.3</td>\n",
       "      <td>161.5</td>\n",
       "      <td>152.9</td>\n",
       "    </tr>\n",
       "    <tr>\n",
       "      <th>Adur 001C</th>\n",
       "      <td>173.3</td>\n",
       "      <td>180.9</td>\n",
       "      <td>172.3</td>\n",
       "      <td>150.8</td>\n",
       "      <td>151.9</td>\n",
       "    </tr>\n",
       "    <tr>\n",
       "      <th>Adur 001D</th>\n",
       "      <td>173.3</td>\n",
       "      <td>180.9</td>\n",
       "      <td>172.3</td>\n",
       "      <td>161.5</td>\n",
       "      <td>152.9</td>\n",
       "    </tr>\n",
       "    <tr>\n",
       "      <th>Adur 001E</th>\n",
       "      <td>174.4</td>\n",
       "      <td>180.9</td>\n",
       "      <td>173.3</td>\n",
       "      <td>150.8</td>\n",
       "      <td>151.9</td>\n",
       "    </tr>\n",
       "  </tbody>\n",
       "</table>\n",
       "</div>"
      ],
      "text/plain": [
       "           B152TH  B714HJ  B95SS  BA13NG  BA214AT\n",
       "LSOA                                             \n",
       "Adur 001A   173.3   179.8  171.2   161.5    152.9\n",
       "Adur 001B   173.3   179.8  172.3   161.5    152.9\n",
       "Adur 001C   173.3   180.9  172.3   150.8    151.9\n",
       "Adur 001D   173.3   180.9  172.3   161.5    152.9\n",
       "Adur 001E   174.4   180.9  173.3   150.8    151.9"
      ]
     },
     "execution_count": 2,
     "metadata": {},
     "output_type": "execute_result"
    }
   ],
   "source": [
    "df_travel_lsoa = stroke_maps.load_data.travel_time_matrix_lsoa()\n",
    "\n",
    "# Show the first five rows and columns:\n",
    "df_travel_lsoa.iloc[:5, :5]"
   ]
  },
  {
   "cell_type": "markdown",
   "id": "7dbd5d86-836d-4a69-8640-407247a12cc0",
   "metadata": {},
   "source": [
    "Write how many LSOA and then how many stroke teams are in this matrix:"
   ]
  },
  {
   "cell_type": "code",
   "execution_count": 3,
   "id": "699699fe-0580-44b7-8de3-d2522c8b277e",
   "metadata": {},
   "outputs": [
    {
     "data": {
      "text/plain": [
       "(34752, 125)"
      ]
     },
     "execution_count": 3,
     "metadata": {},
     "output_type": "execute_result"
    }
   ],
   "source": [
    "df_travel_lsoa.shape"
   ]
  },
  {
   "cell_type": "markdown",
   "id": "dcf07c53-c8a9-4dc7-aa25-14df33102c74",
   "metadata": {},
   "source": [
    "__Stroke unit services__\n",
    "\n",
    "This dataframe contains information on which stroke units provide which services (IVT and MT). The imported dataframe, df_units, contains only units that appear in the travel time matrix. This includes units that are not acute stroke units (i.e. provide neither thrombolysis nor thrombectomy)."
   ]
  },
  {
   "cell_type": "code",
   "execution_count": 4,
   "id": "d04a9fbf-b82d-494d-9087-6c34fc48dc58",
   "metadata": {},
   "outputs": [
    {
     "data": {
      "text/html": [
       "<div>\n",
       "<style scoped>\n",
       "    .dataframe tbody tr th:only-of-type {\n",
       "        vertical-align: middle;\n",
       "    }\n",
       "\n",
       "    .dataframe tbody tr th {\n",
       "        vertical-align: top;\n",
       "    }\n",
       "\n",
       "    .dataframe thead th {\n",
       "        text-align: right;\n",
       "    }\n",
       "</style>\n",
       "<table border=\"1\" class=\"dataframe\">\n",
       "  <thead>\n",
       "    <tr style=\"text-align: right;\">\n",
       "      <th>postcode</th>\n",
       "      <th>SY231ER</th>\n",
       "      <th>CB20QQ</th>\n",
       "      <th>L97AL</th>\n",
       "    </tr>\n",
       "  </thead>\n",
       "  <tbody>\n",
       "    <tr>\n",
       "      <th>stroke_team</th>\n",
       "      <td>Bronglais Hospital (Aberystwyth)</td>\n",
       "      <td>Addenbrooke's Hospital, Cambridge</td>\n",
       "      <td>University Hospital Aintree, Liverpool</td>\n",
       "    </tr>\n",
       "    <tr>\n",
       "      <th>short_code</th>\n",
       "      <td>AB</td>\n",
       "      <td>AD</td>\n",
       "      <td>AI</td>\n",
       "    </tr>\n",
       "    <tr>\n",
       "      <th>ssnap_name</th>\n",
       "      <td>Bronglais Hospital</td>\n",
       "      <td>Addenbrooke's Hospital</td>\n",
       "      <td>University Hospital Aintree</td>\n",
       "    </tr>\n",
       "    <tr>\n",
       "      <th>use_ivt</th>\n",
       "      <td>1</td>\n",
       "      <td>1</td>\n",
       "      <td>1</td>\n",
       "    </tr>\n",
       "    <tr>\n",
       "      <th>use_mt</th>\n",
       "      <td>0</td>\n",
       "      <td>1</td>\n",
       "      <td>1</td>\n",
       "    </tr>\n",
       "    <tr>\n",
       "      <th>use_msu</th>\n",
       "      <td>0</td>\n",
       "      <td>1</td>\n",
       "      <td>1</td>\n",
       "    </tr>\n",
       "    <tr>\n",
       "      <th>transfer_unit_postcode</th>\n",
       "      <td>nearest</td>\n",
       "      <td>nearest</td>\n",
       "      <td>nearest</td>\n",
       "    </tr>\n",
       "    <tr>\n",
       "      <th>lsoa</th>\n",
       "      <td>Ceredigion 002A</td>\n",
       "      <td>Cambridge 013D</td>\n",
       "      <td>Liverpool 005A</td>\n",
       "    </tr>\n",
       "    <tr>\n",
       "      <th>lsoa_code</th>\n",
       "      <td>W01000512</td>\n",
       "      <td>E01017995</td>\n",
       "      <td>E01006654</td>\n",
       "    </tr>\n",
       "    <tr>\n",
       "      <th>region</th>\n",
       "      <td>Hywel Dda University Health Board</td>\n",
       "      <td>NHS Cambridgeshire and Peterborough ICB - 06H</td>\n",
       "      <td>NHS Cheshire and Merseyside ICB - 99A</td>\n",
       "    </tr>\n",
       "    <tr>\n",
       "      <th>region_code</th>\n",
       "      <td>W11000025</td>\n",
       "      <td>E38000260</td>\n",
       "      <td>E38000101</td>\n",
       "    </tr>\n",
       "    <tr>\n",
       "      <th>region_type</th>\n",
       "      <td>LHB</td>\n",
       "      <td>SICBL</td>\n",
       "      <td>SICBL</td>\n",
       "    </tr>\n",
       "    <tr>\n",
       "      <th>country</th>\n",
       "      <td>Wales</td>\n",
       "      <td>England</td>\n",
       "      <td>England</td>\n",
       "    </tr>\n",
       "    <tr>\n",
       "      <th>icb</th>\n",
       "      <td>NaN</td>\n",
       "      <td>NHS Cambridgeshire and Peterborough Integrated...</td>\n",
       "      <td>NHS Cheshire and Merseyside Integrated Care Board</td>\n",
       "    </tr>\n",
       "    <tr>\n",
       "      <th>icb_code</th>\n",
       "      <td>NaN</td>\n",
       "      <td>E54000056</td>\n",
       "      <td>E54000008</td>\n",
       "    </tr>\n",
       "    <tr>\n",
       "      <th>isdn</th>\n",
       "      <td>NaN</td>\n",
       "      <td>East of England (South)</td>\n",
       "      <td>Cheshire and Merseyside</td>\n",
       "    </tr>\n",
       "  </tbody>\n",
       "</table>\n",
       "</div>"
      ],
      "text/plain": [
       "postcode                                          SY231ER  \\\n",
       "stroke_team              Bronglais Hospital (Aberystwyth)   \n",
       "short_code                                             AB   \n",
       "ssnap_name                             Bronglais Hospital   \n",
       "use_ivt                                                 1   \n",
       "use_mt                                                  0   \n",
       "use_msu                                                 0   \n",
       "transfer_unit_postcode                            nearest   \n",
       "lsoa                                      Ceredigion 002A   \n",
       "lsoa_code                                       W01000512   \n",
       "region                  Hywel Dda University Health Board   \n",
       "region_code                                     W11000025   \n",
       "region_type                                           LHB   \n",
       "country                                             Wales   \n",
       "icb                                                   NaN   \n",
       "icb_code                                              NaN   \n",
       "isdn                                                  NaN   \n",
       "\n",
       "postcode                                                           CB20QQ  \\\n",
       "stroke_team                             Addenbrooke's Hospital, Cambridge   \n",
       "short_code                                                             AD   \n",
       "ssnap_name                                         Addenbrooke's Hospital   \n",
       "use_ivt                                                                 1   \n",
       "use_mt                                                                  1   \n",
       "use_msu                                                                 1   \n",
       "transfer_unit_postcode                                            nearest   \n",
       "lsoa                                                       Cambridge 013D   \n",
       "lsoa_code                                                       E01017995   \n",
       "region                      NHS Cambridgeshire and Peterborough ICB - 06H   \n",
       "region_code                                                     E38000260   \n",
       "region_type                                                         SICBL   \n",
       "country                                                           England   \n",
       "icb                     NHS Cambridgeshire and Peterborough Integrated...   \n",
       "icb_code                                                        E54000056   \n",
       "isdn                                              East of England (South)   \n",
       "\n",
       "postcode                                                            L97AL  \n",
       "stroke_team                        University Hospital Aintree, Liverpool  \n",
       "short_code                                                             AI  \n",
       "ssnap_name                                    University Hospital Aintree  \n",
       "use_ivt                                                                 1  \n",
       "use_mt                                                                  1  \n",
       "use_msu                                                                 1  \n",
       "transfer_unit_postcode                                            nearest  \n",
       "lsoa                                                       Liverpool 005A  \n",
       "lsoa_code                                                       E01006654  \n",
       "region                              NHS Cheshire and Merseyside ICB - 99A  \n",
       "region_code                                                     E38000101  \n",
       "region_type                                                         SICBL  \n",
       "country                                                           England  \n",
       "icb                     NHS Cheshire and Merseyside Integrated Care Board  \n",
       "icb_code                                                        E54000008  \n",
       "isdn                                              Cheshire and Merseyside  "
      ]
     },
     "execution_count": 4,
     "metadata": {},
     "output_type": "execute_result"
    }
   ],
   "source": [
    "df_units = stroke_maps.load_data.stroke_unit_region_lookup()\n",
    "\n",
    "df_units.head(3).T"
   ]
  },
  {
   "cell_type": "markdown",
   "id": "359825ff-ba63-4098-a55d-278b739c7c52",
   "metadata": {},
   "source": [
    "### Calculate nearest acute stroke unit\n",
    "\n",
    "The full travel time matrix gives the time from every LSOA to every stroke unit, including those that don't provide acute care. Realistically an ambulance should never choose to take the patient to those units.\n",
    "\n",
    "Firstly, find a list of stroke units that offer acute care. These are units where `use_ivt` and/or `use_mt` are equal to 1 (one)."
   ]
  },
  {
   "cell_type": "code",
   "execution_count": 5,
   "id": "b2010e8b-3383-45e4-9b5f-1fdaba78ae33",
   "metadata": {},
   "outputs": [],
   "source": [
    "mask_acute = ((df_units['use_ivt'] == 1) | (df_units['use_mt'] == 1))\n",
    "\n",
    "postcodes_acute_units = df_units[mask_acute].index.values"
   ]
  },
  {
   "cell_type": "markdown",
   "id": "a69a7b2f-9b87-4c15-a41e-06b3787a8584",
   "metadata": {},
   "source": [
    "Check how many postcodes are in this list compared with how many stroke units are in the full dataframe:"
   ]
  },
  {
   "cell_type": "code",
   "execution_count": 6,
   "id": "18b977e1-e621-4c5c-94d3-29d1bd5f2f30",
   "metadata": {},
   "outputs": [
    {
     "name": "stdout",
     "output_type": "stream",
     "text": [
      "141 113\n"
     ]
    }
   ],
   "source": [
    "n_units = len(df_units)\n",
    "n_units_acute = len(postcodes_acute_units)\n",
    "\n",
    "print(n_units, n_units_acute)"
   ]
  },
  {
   "cell_type": "markdown",
   "id": "9987a99b-d84b-40bb-99d3-d62574b30e26",
   "metadata": {},
   "source": [
    "Now make a copy of the travel time matrix that only includes times to these units:"
   ]
  },
  {
   "cell_type": "code",
   "execution_count": 7,
   "id": "17123f1c-5c21-4664-a66d-18fa4fd9dab0",
   "metadata": {},
   "outputs": [
    {
     "data": {
      "text/plain": [
       "(34752, 113)"
      ]
     },
     "execution_count": 7,
     "metadata": {},
     "output_type": "execute_result"
    }
   ],
   "source": [
    "df_travel_lsoa_acute = df_travel_lsoa[postcodes_acute_units].copy()\n",
    "\n",
    "# (Number of LSOA, number of stroke teams)\n",
    "df_travel_lsoa_acute.shape"
   ]
  },
  {
   "cell_type": "markdown",
   "id": "58337b18-ddda-4990-8ae3-b652d27b50da",
   "metadata": {},
   "source": [
    "Run the function to find which of the units in the reduced dataframe is closest to each LSOA:"
   ]
  },
  {
   "cell_type": "code",
   "execution_count": 8,
   "id": "895cf6e7-7fdf-4ce0-a958-8d4d51a267d1",
   "metadata": {},
   "outputs": [
    {
     "data": {
      "text/html": [
       "<div>\n",
       "<style scoped>\n",
       "    .dataframe tbody tr th:only-of-type {\n",
       "        vertical-align: middle;\n",
       "    }\n",
       "\n",
       "    .dataframe tbody tr th {\n",
       "        vertical-align: top;\n",
       "    }\n",
       "\n",
       "    .dataframe thead th {\n",
       "        text-align: right;\n",
       "    }\n",
       "</style>\n",
       "<table border=\"1\" class=\"dataframe\">\n",
       "  <thead>\n",
       "    <tr style=\"text-align: right;\">\n",
       "      <th></th>\n",
       "      <th>unit_travel_time</th>\n",
       "      <th>unit_postcode</th>\n",
       "    </tr>\n",
       "    <tr>\n",
       "      <th>LSOA</th>\n",
       "      <th></th>\n",
       "      <th></th>\n",
       "    </tr>\n",
       "  </thead>\n",
       "  <tbody>\n",
       "    <tr>\n",
       "      <th>Adur 001A</th>\n",
       "      <td>17.6</td>\n",
       "      <td>BN25BE</td>\n",
       "    </tr>\n",
       "    <tr>\n",
       "      <th>Adur 001B</th>\n",
       "      <td>18.7</td>\n",
       "      <td>BN25BE</td>\n",
       "    </tr>\n",
       "    <tr>\n",
       "      <th>Adur 001C</th>\n",
       "      <td>17.6</td>\n",
       "      <td>BN112DH</td>\n",
       "    </tr>\n",
       "    <tr>\n",
       "      <th>Adur 001D</th>\n",
       "      <td>17.6</td>\n",
       "      <td>BN112DH</td>\n",
       "    </tr>\n",
       "    <tr>\n",
       "      <th>Adur 001E</th>\n",
       "      <td>16.5</td>\n",
       "      <td>BN112DH</td>\n",
       "    </tr>\n",
       "  </tbody>\n",
       "</table>\n",
       "</div>"
      ],
      "text/plain": [
       "           unit_travel_time unit_postcode\n",
       "LSOA                                     \n",
       "Adur 001A              17.6        BN25BE\n",
       "Adur 001B              18.7        BN25BE\n",
       "Adur 001C              17.6       BN112DH\n",
       "Adur 001D              17.6       BN112DH\n",
       "Adur 001E              16.5       BN112DH"
      ]
     },
     "execution_count": 8,
     "metadata": {},
     "output_type": "execute_result"
    }
   ],
   "source": [
    "df_catchment_acute = stroke_maps.catchment.find_nearest_unit(df_travel_lsoa_acute)\n",
    "\n",
    "df_catchment_acute.head(5)"
   ]
  },
  {
   "cell_type": "markdown",
   "id": "b1842f63-6abf-4f03-bd5b-077311c47435",
   "metadata": {},
   "source": [
    "### Calculate nearest thrombectomy unit\n",
    "\n",
    "We can use a very similar method to before by only keeping stroke units that offer thrombectomy (MT):"
   ]
  },
  {
   "cell_type": "code",
   "execution_count": 9,
   "id": "876d10e1-394a-41af-8a63-156164434966",
   "metadata": {},
   "outputs": [],
   "source": [
    "mask_mt = (df_units['use_mt'] == 1)\n",
    "\n",
    "postcodes_mt_units = df_units[mask_mt].index.values"
   ]
  },
  {
   "cell_type": "markdown",
   "id": "df9f45c5-43e6-4f5a-8f57-14dbd40ac34e",
   "metadata": {},
   "source": [
    "Check how many postcodes are in this list compared with how many stroke units are in the full dataframe:"
   ]
  },
  {
   "cell_type": "code",
   "execution_count": 10,
   "id": "300565d4-402b-4366-8d14-110db8ec7a25",
   "metadata": {},
   "outputs": [
    {
     "name": "stdout",
     "output_type": "stream",
     "text": [
      "141 25\n"
     ]
    }
   ],
   "source": [
    "n_units = len(df_units)\n",
    "n_units_mt = len(postcodes_mt_units)\n",
    "\n",
    "print(n_units, n_units_mt)"
   ]
  },
  {
   "cell_type": "markdown",
   "id": "e4aab58b-f353-43e0-b81d-e3f7df92f104",
   "metadata": {},
   "source": [
    "Now make a copy of the travel time matrix that includes times to only these units:"
   ]
  },
  {
   "cell_type": "code",
   "execution_count": 11,
   "id": "8c255d0d-0c22-45a0-bc3e-c15be2f8d6ce",
   "metadata": {},
   "outputs": [
    {
     "data": {
      "text/plain": [
       "(34752, 25)"
      ]
     },
     "execution_count": 11,
     "metadata": {},
     "output_type": "execute_result"
    }
   ],
   "source": [
    "df_travel_lsoa_mt = df_travel_lsoa[postcodes_mt_units].copy()\n",
    "\n",
    "# (Number of LSOA, number of stroke teams)\n",
    "df_travel_lsoa_mt.shape"
   ]
  },
  {
   "cell_type": "markdown",
   "id": "bb26169f-cdba-4abf-a889-10599aa9c89b",
   "metadata": {},
   "source": [
    "Run the function to find which of the units in the reduced dataframe is closest to each LSOA:"
   ]
  },
  {
   "cell_type": "code",
   "execution_count": 12,
   "id": "065ed5fe-34b6-494e-9a7d-6e2e007d169f",
   "metadata": {},
   "outputs": [
    {
     "data": {
      "text/html": [
       "<div>\n",
       "<style scoped>\n",
       "    .dataframe tbody tr th:only-of-type {\n",
       "        vertical-align: middle;\n",
       "    }\n",
       "\n",
       "    .dataframe tbody tr th {\n",
       "        vertical-align: top;\n",
       "    }\n",
       "\n",
       "    .dataframe thead th {\n",
       "        text-align: right;\n",
       "    }\n",
       "</style>\n",
       "<table border=\"1\" class=\"dataframe\">\n",
       "  <thead>\n",
       "    <tr style=\"text-align: right;\">\n",
       "      <th></th>\n",
       "      <th>unit_travel_time</th>\n",
       "      <th>unit_postcode</th>\n",
       "    </tr>\n",
       "    <tr>\n",
       "      <th>LSOA</th>\n",
       "      <th></th>\n",
       "      <th></th>\n",
       "    </tr>\n",
       "  </thead>\n",
       "  <tbody>\n",
       "    <tr>\n",
       "      <th>Adur 001A</th>\n",
       "      <td>17.6</td>\n",
       "      <td>BN25BE</td>\n",
       "    </tr>\n",
       "    <tr>\n",
       "      <th>Adur 001B</th>\n",
       "      <td>18.7</td>\n",
       "      <td>BN25BE</td>\n",
       "    </tr>\n",
       "    <tr>\n",
       "      <th>Adur 001C</th>\n",
       "      <td>19.8</td>\n",
       "      <td>BN25BE</td>\n",
       "    </tr>\n",
       "    <tr>\n",
       "      <th>Adur 001D</th>\n",
       "      <td>19.8</td>\n",
       "      <td>BN25BE</td>\n",
       "    </tr>\n",
       "    <tr>\n",
       "      <th>Adur 001E</th>\n",
       "      <td>19.8</td>\n",
       "      <td>BN25BE</td>\n",
       "    </tr>\n",
       "  </tbody>\n",
       "</table>\n",
       "</div>"
      ],
      "text/plain": [
       "           unit_travel_time unit_postcode\n",
       "LSOA                                     \n",
       "Adur 001A              17.6        BN25BE\n",
       "Adur 001B              18.7        BN25BE\n",
       "Adur 001C              19.8        BN25BE\n",
       "Adur 001D              19.8        BN25BE\n",
       "Adur 001E              19.8        BN25BE"
      ]
     },
     "execution_count": 12,
     "metadata": {},
     "output_type": "execute_result"
    }
   ],
   "source": [
    "df_catchment_mt = stroke_maps.catchment.find_nearest_unit(df_travel_lsoa_mt)\n",
    "\n",
    "df_catchment_mt.head(5)"
   ]
  },
  {
   "cell_type": "markdown",
   "id": "60413c2c-6d0a-4146-8704-941095e7a5c7",
   "metadata": {},
   "source": [
    "### Calculate nearest transfer unit\n",
    "\n",
    "The method for finding transfer units is shown in more detail in _the transfer units demonstration_ (__TO DO__: add link to this)."
   ]
  },
  {
   "cell_type": "code",
   "execution_count": 13,
   "id": "cb11b0cf-a0d7-4afb-af57-39075b1b2492",
   "metadata": {},
   "outputs": [],
   "source": [
    "df_transfer = stroke_maps.catchment.calculate_transfer_units(df_units)"
   ]
  },
  {
   "cell_type": "code",
   "execution_count": 14,
   "id": "939b5251-baa0-4fd4-8709-f648daf604c1",
   "metadata": {},
   "outputs": [
    {
     "data": {
      "text/html": [
       "<div>\n",
       "<style scoped>\n",
       "    .dataframe tbody tr th:only-of-type {\n",
       "        vertical-align: middle;\n",
       "    }\n",
       "\n",
       "    .dataframe tbody tr th {\n",
       "        vertical-align: top;\n",
       "    }\n",
       "\n",
       "    .dataframe thead th {\n",
       "        text-align: right;\n",
       "    }\n",
       "</style>\n",
       "<table border=\"1\" class=\"dataframe\">\n",
       "  <thead>\n",
       "    <tr style=\"text-align: right;\">\n",
       "      <th></th>\n",
       "      <th>transfer_unit_travel_time</th>\n",
       "      <th>transfer_unit_postcode</th>\n",
       "    </tr>\n",
       "    <tr>\n",
       "      <th>postcode</th>\n",
       "      <th></th>\n",
       "      <th></th>\n",
       "    </tr>\n",
       "  </thead>\n",
       "  <tbody>\n",
       "    <tr>\n",
       "      <th>SY231ER</th>\n",
       "      <td>135.8</td>\n",
       "      <td>CF144XW</td>\n",
       "    </tr>\n",
       "    <tr>\n",
       "      <th>CB20QQ</th>\n",
       "      <td>0.0</td>\n",
       "      <td>CB20QQ</td>\n",
       "    </tr>\n",
       "    <tr>\n",
       "      <th>L97AL</th>\n",
       "      <td>0.0</td>\n",
       "      <td>L97AL</td>\n",
       "    </tr>\n",
       "    <tr>\n",
       "      <th>CH495PE</th>\n",
       "      <td>27.3</td>\n",
       "      <td>L97AL</td>\n",
       "    </tr>\n",
       "    <tr>\n",
       "      <th>BA13NG</th>\n",
       "      <td>33.7</td>\n",
       "      <td>BS105NB</td>\n",
       "    </tr>\n",
       "    <tr>\n",
       "      <th>...</th>\n",
       "      <td>...</td>\n",
       "      <td>...</td>\n",
       "    </tr>\n",
       "    <tr>\n",
       "      <th>SL24HL</th>\n",
       "      <td>NaN</td>\n",
       "      <td>&lt;NA&gt;</td>\n",
       "    </tr>\n",
       "    <tr>\n",
       "      <th>HP112TT</th>\n",
       "      <td>34.8</td>\n",
       "      <td>OX39DU</td>\n",
       "    </tr>\n",
       "    <tr>\n",
       "      <th>BA214AT</th>\n",
       "      <td>74.5</td>\n",
       "      <td>BS105NB</td>\n",
       "    </tr>\n",
       "    <tr>\n",
       "      <th>YO318HE</th>\n",
       "      <td>44.5</td>\n",
       "      <td>LS13EX</td>\n",
       "    </tr>\n",
       "    <tr>\n",
       "      <th>LL572PW</th>\n",
       "      <td>103.5</td>\n",
       "      <td>L97AL</td>\n",
       "    </tr>\n",
       "  </tbody>\n",
       "</table>\n",
       "<p>141 rows × 2 columns</p>\n",
       "</div>"
      ],
      "text/plain": [
       "          transfer_unit_travel_time transfer_unit_postcode\n",
       "postcode                                                  \n",
       "SY231ER                       135.8                CF144XW\n",
       "CB20QQ                          0.0                 CB20QQ\n",
       "L97AL                           0.0                  L97AL\n",
       "CH495PE                        27.3                  L97AL\n",
       "BA13NG                         33.7                BS105NB\n",
       "...                             ...                    ...\n",
       "SL24HL                          NaN                   <NA>\n",
       "HP112TT                        34.8                 OX39DU\n",
       "BA214AT                        74.5                BS105NB\n",
       "YO318HE                        44.5                 LS13EX\n",
       "LL572PW                       103.5                  L97AL\n",
       "\n",
       "[141 rows x 2 columns]"
      ]
     },
     "execution_count": 14,
     "metadata": {},
     "output_type": "execute_result"
    }
   ],
   "source": [
    "df_transfer"
   ]
  },
  {
   "cell_type": "markdown",
   "id": "78deb1fe-76ef-4ed2-b015-e3e7e542f8a8",
   "metadata": {},
   "source": [
    "### Combine results for nearest acute, MT, and transfer units"
   ]
  },
  {
   "cell_type": "code",
   "execution_count": 15,
   "id": "d3d71f43-1dc2-498e-97e7-b92ea252cb96",
   "metadata": {},
   "outputs": [],
   "source": [
    "# Combine nearest unit and nearest MT unit:\n",
    "df_results = pd.merge(\n",
    "    df_catchment_acute, df_catchment_mt,\n",
    "    left_index=True, right_index=True, how='left',\n",
    "    suffixes=['_acute', '_mt']\n",
    ")\n",
    "# Combine these with the nearest unit's transfer unit:\n",
    "df_results = pd.merge(\n",
    "    df_results, df_transfer,\n",
    "    left_on='unit_postcode_acute', right_index=True, how='left',\n",
    ")"
   ]
  },
  {
   "cell_type": "code",
   "execution_count": 16,
   "id": "2e9eb478-8466-459a-a827-b51a59909e89",
   "metadata": {},
   "outputs": [
    {
     "data": {
      "text/html": [
       "<div>\n",
       "<style scoped>\n",
       "    .dataframe tbody tr th:only-of-type {\n",
       "        vertical-align: middle;\n",
       "    }\n",
       "\n",
       "    .dataframe tbody tr th {\n",
       "        vertical-align: top;\n",
       "    }\n",
       "\n",
       "    .dataframe thead th {\n",
       "        text-align: right;\n",
       "    }\n",
       "</style>\n",
       "<table border=\"1\" class=\"dataframe\">\n",
       "  <thead>\n",
       "    <tr style=\"text-align: right;\">\n",
       "      <th></th>\n",
       "      <th>unit_travel_time_acute</th>\n",
       "      <th>unit_postcode_acute</th>\n",
       "      <th>unit_travel_time_mt</th>\n",
       "      <th>unit_postcode_mt</th>\n",
       "      <th>transfer_unit_travel_time</th>\n",
       "      <th>transfer_unit_postcode</th>\n",
       "    </tr>\n",
       "    <tr>\n",
       "      <th>LSOA</th>\n",
       "      <th></th>\n",
       "      <th></th>\n",
       "      <th></th>\n",
       "      <th></th>\n",
       "      <th></th>\n",
       "      <th></th>\n",
       "    </tr>\n",
       "  </thead>\n",
       "  <tbody>\n",
       "    <tr>\n",
       "      <th>Adur 001A</th>\n",
       "      <td>17.6</td>\n",
       "      <td>BN25BE</td>\n",
       "      <td>17.6</td>\n",
       "      <td>BN25BE</td>\n",
       "      <td>0.0</td>\n",
       "      <td>BN25BE</td>\n",
       "    </tr>\n",
       "    <tr>\n",
       "      <th>Adur 001B</th>\n",
       "      <td>18.7</td>\n",
       "      <td>BN25BE</td>\n",
       "      <td>18.7</td>\n",
       "      <td>BN25BE</td>\n",
       "      <td>0.0</td>\n",
       "      <td>BN25BE</td>\n",
       "    </tr>\n",
       "    <tr>\n",
       "      <th>Adur 001C</th>\n",
       "      <td>17.6</td>\n",
       "      <td>BN112DH</td>\n",
       "      <td>19.8</td>\n",
       "      <td>BN25BE</td>\n",
       "      <td>31.6</td>\n",
       "      <td>BN25BE</td>\n",
       "    </tr>\n",
       "    <tr>\n",
       "      <th>Adur 001D</th>\n",
       "      <td>17.6</td>\n",
       "      <td>BN112DH</td>\n",
       "      <td>19.8</td>\n",
       "      <td>BN25BE</td>\n",
       "      <td>31.6</td>\n",
       "      <td>BN25BE</td>\n",
       "    </tr>\n",
       "    <tr>\n",
       "      <th>Adur 001E</th>\n",
       "      <td>16.5</td>\n",
       "      <td>BN112DH</td>\n",
       "      <td>19.8</td>\n",
       "      <td>BN25BE</td>\n",
       "      <td>31.6</td>\n",
       "      <td>BN25BE</td>\n",
       "    </tr>\n",
       "  </tbody>\n",
       "</table>\n",
       "</div>"
      ],
      "text/plain": [
       "           unit_travel_time_acute unit_postcode_acute  unit_travel_time_mt  \\\n",
       "LSOA                                                                         \n",
       "Adur 001A                    17.6              BN25BE                 17.6   \n",
       "Adur 001B                    18.7              BN25BE                 18.7   \n",
       "Adur 001C                    17.6             BN112DH                 19.8   \n",
       "Adur 001D                    17.6             BN112DH                 19.8   \n",
       "Adur 001E                    16.5             BN112DH                 19.8   \n",
       "\n",
       "          unit_postcode_mt  transfer_unit_travel_time transfer_unit_postcode  \n",
       "LSOA                                                                          \n",
       "Adur 001A           BN25BE                        0.0                 BN25BE  \n",
       "Adur 001B           BN25BE                        0.0                 BN25BE  \n",
       "Adur 001C           BN25BE                       31.6                 BN25BE  \n",
       "Adur 001D           BN25BE                       31.6                 BN25BE  \n",
       "Adur 001E           BN25BE                       31.6                 BN25BE  "
      ]
     },
     "execution_count": 16,
     "metadata": {},
     "output_type": "execute_result"
    }
   ],
   "source": [
    "df_results.head(5)"
   ]
  },
  {
   "cell_type": "markdown",
   "id": "c5902fdf-10f2-4694-823a-76847d42eb3f",
   "metadata": {},
   "source": [
    "### Plot the catchment areas\n",
    "\n",
    "__Set up catchment data for plot__\n",
    "\n",
    "First, load the LSOA boundaries:"
   ]
  },
  {
   "cell_type": "code",
   "execution_count": 17,
   "id": "eab6bb49-f778-4cee-98a9-9f120c2c067a",
   "metadata": {},
   "outputs": [
    {
     "data": {
      "text/html": [
       "<div>\n",
       "<style scoped>\n",
       "    .dataframe tbody tr th:only-of-type {\n",
       "        vertical-align: middle;\n",
       "    }\n",
       "\n",
       "    .dataframe tbody tr th {\n",
       "        vertical-align: top;\n",
       "    }\n",
       "\n",
       "    .dataframe thead th {\n",
       "        text-align: right;\n",
       "    }\n",
       "</style>\n",
       "<table border=\"1\" class=\"dataframe\">\n",
       "  <thead>\n",
       "    <tr style=\"text-align: right;\">\n",
       "      <th></th>\n",
       "      <th>OBJECTID</th>\n",
       "      <th>LSOA11CD</th>\n",
       "      <th>LSOA11NM</th>\n",
       "      <th>LSOA11NMW</th>\n",
       "      <th>BNG_E</th>\n",
       "      <th>BNG_N</th>\n",
       "      <th>LONG</th>\n",
       "      <th>LAT</th>\n",
       "      <th>Shape__Area</th>\n",
       "      <th>Shape__Length</th>\n",
       "      <th>GlobalID</th>\n",
       "      <th>geometry</th>\n",
       "    </tr>\n",
       "  </thead>\n",
       "  <tbody>\n",
       "    <tr>\n",
       "      <th>0</th>\n",
       "      <td>1</td>\n",
       "      <td>E01000001</td>\n",
       "      <td>City of London 001A</td>\n",
       "      <td>City of London 001A</td>\n",
       "      <td>532129</td>\n",
       "      <td>181625</td>\n",
       "      <td>-0.09706</td>\n",
       "      <td>51.51810</td>\n",
       "      <td>157794.481079</td>\n",
       "      <td>1685.391778</td>\n",
       "      <td>b12173a3-5423-4672-a5eb-f152d2345f96</td>\n",
       "      <td>POLYGON ((-0.09474 51.52060, -0.09546 51.51544...</td>\n",
       "    </tr>\n",
       "    <tr>\n",
       "      <th>1</th>\n",
       "      <td>2</td>\n",
       "      <td>E01000002</td>\n",
       "      <td>City of London 001B</td>\n",
       "      <td>City of London 001B</td>\n",
       "      <td>532480</td>\n",
       "      <td>181699</td>\n",
       "      <td>-0.09197</td>\n",
       "      <td>51.51868</td>\n",
       "      <td>164882.427628</td>\n",
       "      <td>1804.828196</td>\n",
       "      <td>90274dc4-f785-4afb-95cd-7cc1fc9a2cad</td>\n",
       "      <td>POLYGON ((-0.08810 51.51941, -0.09546 51.51544...</td>\n",
       "    </tr>\n",
       "    <tr>\n",
       "      <th>2</th>\n",
       "      <td>3</td>\n",
       "      <td>E01000003</td>\n",
       "      <td>City of London 001C</td>\n",
       "      <td>City of London 001C</td>\n",
       "      <td>532245</td>\n",
       "      <td>182036</td>\n",
       "      <td>-0.09523</td>\n",
       "      <td>51.52176</td>\n",
       "      <td>42219.805717</td>\n",
       "      <td>909.223277</td>\n",
       "      <td>7e89d0ba-f186-45fb-961c-8f5ffcd03808</td>\n",
       "      <td>POLYGON ((-0.09453 51.52205, -0.09274 51.52139...</td>\n",
       "    </tr>\n",
       "  </tbody>\n",
       "</table>\n",
       "</div>"
      ],
      "text/plain": [
       "   OBJECTID   LSOA11CD             LSOA11NM            LSOA11NMW   BNG_E  \\\n",
       "0         1  E01000001  City of London 001A  City of London 001A  532129   \n",
       "1         2  E01000002  City of London 001B  City of London 001B  532480   \n",
       "2         3  E01000003  City of London 001C  City of London 001C  532245   \n",
       "\n",
       "    BNG_N     LONG       LAT    Shape__Area  Shape__Length  \\\n",
       "0  181625 -0.09706  51.51810  157794.481079    1685.391778   \n",
       "1  181699 -0.09197  51.51868  164882.427628    1804.828196   \n",
       "2  182036 -0.09523  51.52176   42219.805717     909.223277   \n",
       "\n",
       "                               GlobalID  \\\n",
       "0  b12173a3-5423-4672-a5eb-f152d2345f96   \n",
       "1  90274dc4-f785-4afb-95cd-7cc1fc9a2cad   \n",
       "2  7e89d0ba-f186-45fb-961c-8f5ffcd03808   \n",
       "\n",
       "                                            geometry  \n",
       "0  POLYGON ((-0.09474 51.52060, -0.09546 51.51544...  \n",
       "1  POLYGON ((-0.08810 51.51941, -0.09546 51.51544...  \n",
       "2  POLYGON ((-0.09453 51.52205, -0.09274 51.52139...  "
      ]
     },
     "execution_count": 17,
     "metadata": {},
     "output_type": "execute_result"
    }
   ],
   "source": [
    "gdf_lsoa = stroke_maps.load_data.lsoa_geography()\n",
    "\n",
    "gdf_lsoa.head(3)"
   ]
  },
  {
   "cell_type": "markdown",
   "id": "47305593-89cf-4a27-9104-29b2e71272f6",
   "metadata": {},
   "source": [
    "Merge in the information on nearest acute stroke unit:"
   ]
  },
  {
   "cell_type": "code",
   "execution_count": 18,
   "id": "6255a814-6b0f-498d-afc8-e69ee5eef1d3",
   "metadata": {},
   "outputs": [
    {
     "data": {
      "text/html": [
       "<div>\n",
       "<style scoped>\n",
       "    .dataframe tbody tr th:only-of-type {\n",
       "        vertical-align: middle;\n",
       "    }\n",
       "\n",
       "    .dataframe tbody tr th {\n",
       "        vertical-align: top;\n",
       "    }\n",
       "\n",
       "    .dataframe thead th {\n",
       "        text-align: right;\n",
       "    }\n",
       "</style>\n",
       "<table border=\"1\" class=\"dataframe\">\n",
       "  <thead>\n",
       "    <tr style=\"text-align: right;\">\n",
       "      <th></th>\n",
       "      <th>OBJECTID</th>\n",
       "      <th>LSOA11CD</th>\n",
       "      <th>LSOA11NM</th>\n",
       "      <th>LSOA11NMW</th>\n",
       "      <th>BNG_E</th>\n",
       "      <th>BNG_N</th>\n",
       "      <th>LONG</th>\n",
       "      <th>LAT</th>\n",
       "      <th>Shape__Area</th>\n",
       "      <th>Shape__Length</th>\n",
       "      <th>GlobalID</th>\n",
       "      <th>geometry</th>\n",
       "      <th>unit_postcode_acute</th>\n",
       "    </tr>\n",
       "  </thead>\n",
       "  <tbody>\n",
       "    <tr>\n",
       "      <th>30556.0</th>\n",
       "      <td>30557.0</td>\n",
       "      <td>E01031349</td>\n",
       "      <td>Adur 001A</td>\n",
       "      <td>Adur 001A</td>\n",
       "      <td>524915.0</td>\n",
       "      <td>105607.0</td>\n",
       "      <td>-0.22737</td>\n",
       "      <td>50.83651</td>\n",
       "      <td>3.641032e+05</td>\n",
       "      <td>3054.751704</td>\n",
       "      <td>ecd2c1ea-25a5-4f52-b374-126691b92f15</td>\n",
       "      <td>POLYGON ((-0.23184 50.83984, -0.22291 50.83909...</td>\n",
       "      <td>BN25BE</td>\n",
       "    </tr>\n",
       "    <tr>\n",
       "      <th>30557.0</th>\n",
       "      <td>30558.0</td>\n",
       "      <td>E01031350</td>\n",
       "      <td>Adur 001B</td>\n",
       "      <td>Adur 001B</td>\n",
       "      <td>524825.0</td>\n",
       "      <td>106265.0</td>\n",
       "      <td>-0.22842</td>\n",
       "      <td>50.84244</td>\n",
       "      <td>2.921732e+05</td>\n",
       "      <td>2977.102897</td>\n",
       "      <td>811f014e-053b-4486-a779-d970f44c9302</td>\n",
       "      <td>POLYGON ((-0.22593 50.84288, -0.22291 50.83909...</td>\n",
       "      <td>BN25BE</td>\n",
       "    </tr>\n",
       "    <tr>\n",
       "      <th>30558.0</th>\n",
       "      <td>30559.0</td>\n",
       "      <td>E01031351</td>\n",
       "      <td>Adur 001C</td>\n",
       "      <td>Adur 001C</td>\n",
       "      <td>523053.0</td>\n",
       "      <td>108004.0</td>\n",
       "      <td>-0.25300</td>\n",
       "      <td>50.85845</td>\n",
       "      <td>5.281768e+06</td>\n",
       "      <td>11671.349143</td>\n",
       "      <td>5b19d5c7-aa66-42fa-9423-6c41a6808b54</td>\n",
       "      <td>POLYGON ((-0.23771 50.84069, -0.24358 50.84107...</td>\n",
       "      <td>BN112DH</td>\n",
       "    </tr>\n",
       "  </tbody>\n",
       "</table>\n",
       "</div>"
      ],
      "text/plain": [
       "         OBJECTID   LSOA11CD   LSOA11NM  LSOA11NMW     BNG_E     BNG_N  \\\n",
       "30556.0   30557.0  E01031349  Adur 001A  Adur 001A  524915.0  105607.0   \n",
       "30557.0   30558.0  E01031350  Adur 001B  Adur 001B  524825.0  106265.0   \n",
       "30558.0   30559.0  E01031351  Adur 001C  Adur 001C  523053.0  108004.0   \n",
       "\n",
       "            LONG       LAT   Shape__Area  Shape__Length  \\\n",
       "30556.0 -0.22737  50.83651  3.641032e+05    3054.751704   \n",
       "30557.0 -0.22842  50.84244  2.921732e+05    2977.102897   \n",
       "30558.0 -0.25300  50.85845  5.281768e+06   11671.349143   \n",
       "\n",
       "                                     GlobalID  \\\n",
       "30556.0  ecd2c1ea-25a5-4f52-b374-126691b92f15   \n",
       "30557.0  811f014e-053b-4486-a779-d970f44c9302   \n",
       "30558.0  5b19d5c7-aa66-42fa-9423-6c41a6808b54   \n",
       "\n",
       "                                                  geometry unit_postcode_acute  \n",
       "30556.0  POLYGON ((-0.23184 50.83984, -0.22291 50.83909...              BN25BE  \n",
       "30557.0  POLYGON ((-0.22593 50.84288, -0.22291 50.83909...              BN25BE  \n",
       "30558.0  POLYGON ((-0.23771 50.84069, -0.24358 50.84107...             BN112DH  "
      ]
     },
     "execution_count": 18,
     "metadata": {},
     "output_type": "execute_result"
    }
   ],
   "source": [
    "gdf_lsoa = pd.merge(\n",
    "    gdf_lsoa, df_results['unit_postcode_acute'],\n",
    "    left_on='LSOA11NM', right_index=True, how='right'\n",
    ")\n",
    "\n",
    "gdf_lsoa.head(3)"
   ]
  },
  {
   "cell_type": "markdown",
   "id": "2b7e8c61-897f-4b47-bfeb-e500684eff76",
   "metadata": {},
   "source": [
    "Combine LSOA with the same acute stroke unit into a single region:"
   ]
  },
  {
   "cell_type": "code",
   "execution_count": 19,
   "id": "801aae19-2cad-43a1-950a-0be376f64fbf",
   "metadata": {},
   "outputs": [],
   "source": [
    "gdf_catchment = stroke_maps.geo.combine_regions(gdf_lsoa, 'unit_postcode_acute')"
   ]
  },
  {
   "cell_type": "markdown",
   "id": "720d8e9d-7691-40ef-9fbb-5b8952e0b250",
   "metadata": {},
   "source": [
    "Convert the coordinates to British National Grid so that they match other geometry:"
   ]
  },
  {
   "cell_type": "code",
   "execution_count": 20,
   "id": "13e48610-3643-4508-8dcf-904a6e640238",
   "metadata": {},
   "outputs": [],
   "source": [
    "gdf_catchment = gdf_catchment.to_crs('EPSG:27700')"
   ]
  },
  {
   "cell_type": "code",
   "execution_count": 21,
   "id": "3f7d0632-643a-4183-a342-dd0c982f565d",
   "metadata": {},
   "outputs": [
    {
     "data": {
      "text/html": [
       "<div>\n",
       "<style scoped>\n",
       "    .dataframe tbody tr th:only-of-type {\n",
       "        vertical-align: middle;\n",
       "    }\n",
       "\n",
       "    .dataframe tbody tr th {\n",
       "        vertical-align: top;\n",
       "    }\n",
       "\n",
       "    .dataframe thead th {\n",
       "        text-align: right;\n",
       "    }\n",
       "</style>\n",
       "<table border=\"1\" class=\"dataframe\">\n",
       "  <thead>\n",
       "    <tr style=\"text-align: right;\">\n",
       "      <th></th>\n",
       "      <th>geometry</th>\n",
       "    </tr>\n",
       "    <tr>\n",
       "      <th>unit_postcode_acute</th>\n",
       "      <th></th>\n",
       "    </tr>\n",
       "  </thead>\n",
       "  <tbody>\n",
       "    <tr>\n",
       "      <th>B152TH</th>\n",
       "      <td>MULTIPOLYGON (((416305.700 265602.906, 417069....</td>\n",
       "    </tr>\n",
       "    <tr>\n",
       "      <th>B714HJ</th>\n",
       "      <td>MULTIPOLYGON (((399681.915 286423.006, 399888....</td>\n",
       "    </tr>\n",
       "    <tr>\n",
       "      <th>BA13NG</th>\n",
       "      <td>MULTIPOLYGON (((390560.691 145587.417, 389463....</td>\n",
       "    </tr>\n",
       "    <tr>\n",
       "      <th>BA214AT</th>\n",
       "      <td>MULTIPOLYGON (((332368.011 102237.393, 333313....</td>\n",
       "    </tr>\n",
       "    <tr>\n",
       "      <th>BB23HH</th>\n",
       "      <td>POLYGON ((370868.322 414133.507, 370698.959 41...</td>\n",
       "    </tr>\n",
       "    <tr>\n",
       "      <th>...</th>\n",
       "      <td>...</td>\n",
       "    </tr>\n",
       "    <tr>\n",
       "      <th>WD180HB</th>\n",
       "      <td>MULTIPOLYGON (((508161.692 189477.493, 507774....</td>\n",
       "    </tr>\n",
       "    <tr>\n",
       "      <th>WF14DG</th>\n",
       "      <td>MULTIPOLYGON (((436308.822 404777.192, 436566....</td>\n",
       "    </tr>\n",
       "    <tr>\n",
       "      <th>WR51DD</th>\n",
       "      <td>MULTIPOLYGON (((391976.606 238195.600, 392123....</td>\n",
       "    </tr>\n",
       "    <tr>\n",
       "      <th>WV100QP</th>\n",
       "      <td>MULTIPOLYGON (((393005.464 294686.206, 393181....</td>\n",
       "    </tr>\n",
       "    <tr>\n",
       "      <th>YO318HE</th>\n",
       "      <td>MULTIPOLYGON (((466322.105 430254.405, 466491....</td>\n",
       "    </tr>\n",
       "  </tbody>\n",
       "</table>\n",
       "<p>113 rows × 1 columns</p>\n",
       "</div>"
      ],
      "text/plain": [
       "                                                              geometry\n",
       "unit_postcode_acute                                                   \n",
       "B152TH               MULTIPOLYGON (((416305.700 265602.906, 417069....\n",
       "B714HJ               MULTIPOLYGON (((399681.915 286423.006, 399888....\n",
       "BA13NG               MULTIPOLYGON (((390560.691 145587.417, 389463....\n",
       "BA214AT              MULTIPOLYGON (((332368.011 102237.393, 333313....\n",
       "BB23HH               POLYGON ((370868.322 414133.507, 370698.959 41...\n",
       "...                                                                ...\n",
       "WD180HB              MULTIPOLYGON (((508161.692 189477.493, 507774....\n",
       "WF14DG               MULTIPOLYGON (((436308.822 404777.192, 436566....\n",
       "WR51DD               MULTIPOLYGON (((391976.606 238195.600, 392123....\n",
       "WV100QP              MULTIPOLYGON (((393005.464 294686.206, 393181....\n",
       "YO318HE              MULTIPOLYGON (((466322.105 430254.405, 466491....\n",
       "\n",
       "[113 rows x 1 columns]"
      ]
     },
     "execution_count": 21,
     "metadata": {},
     "output_type": "execute_result"
    }
   ],
   "source": [
    "gdf_catchment"
   ]
  },
  {
   "cell_type": "markdown",
   "id": "89aa7fcb-58f8-4baf-b000-c51944ae9031",
   "metadata": {},
   "source": [
    "For plotting the regions here, assign each region a number in the `adjacent_colours` column. Regions that border each other will never be given the same number."
   ]
  },
  {
   "cell_type": "code",
   "execution_count": 22,
   "id": "939d3803-42a4-4b3f-a3e5-2fcda7bfca68",
   "metadata": {},
   "outputs": [],
   "source": [
    "# Use greedy to assign colours wherein adjacent polygons are never the same\n",
    "# min_distance is the minimal distance between colours\n",
    "# balance=count means we try to balance number of features per colour\n",
    "gdf_catchment['adjacent_colours'] = greedy(\n",
    "    gdf_catchment, min_distance=1, balance='count').astype(str)"
   ]
  },
  {
   "cell_type": "markdown",
   "id": "cdc1e479-205f-44f0-a8da-85f3be429d3d",
   "metadata": {},
   "source": [
    "Map these numbers to some colour names of our choosing:"
   ]
  },
  {
   "cell_type": "code",
   "execution_count": 23,
   "id": "188145d1-44c5-4abc-96be-35f24e6b2213",
   "metadata": {},
   "outputs": [],
   "source": [
    "# Make a list of colour names:\n",
    "# Expecting to only need about six colours for this example.\n",
    "colours = ['Indigo', 'Purple', 'DarkOrchid', 'MediumOrchid', 'Orchid', 'Plum', 'Lavender']\n",
    "\n",
    "# Make a dictionary of numbers to colours.\n",
    "# The keys are the numbers in the `adjacent_colours` column:\n",
    "keys = [f'{i}' for i in range(len(colours))]\n",
    "colour_map = dict(zip(keys, colours))\n",
    "\n",
    "# Assign these colours to the regions:\n",
    "gdf_catchment['colour_str'] = gdf_catchment['adjacent_colours'].map(colour_map)"
   ]
  },
  {
   "cell_type": "code",
   "execution_count": 24,
   "id": "369c9b0f-55c0-44cb-9f4b-60b1eafe751e",
   "metadata": {},
   "outputs": [
    {
     "data": {
      "text/html": [
       "<div>\n",
       "<style scoped>\n",
       "    .dataframe tbody tr th:only-of-type {\n",
       "        vertical-align: middle;\n",
       "    }\n",
       "\n",
       "    .dataframe tbody tr th {\n",
       "        vertical-align: top;\n",
       "    }\n",
       "\n",
       "    .dataframe thead th {\n",
       "        text-align: right;\n",
       "    }\n",
       "</style>\n",
       "<table border=\"1\" class=\"dataframe\">\n",
       "  <thead>\n",
       "    <tr style=\"text-align: right;\">\n",
       "      <th></th>\n",
       "      <th>geometry</th>\n",
       "      <th>adjacent_colours</th>\n",
       "      <th>colour_str</th>\n",
       "    </tr>\n",
       "    <tr>\n",
       "      <th>unit_postcode_acute</th>\n",
       "      <th></th>\n",
       "      <th></th>\n",
       "      <th></th>\n",
       "    </tr>\n",
       "  </thead>\n",
       "  <tbody>\n",
       "    <tr>\n",
       "      <th>B152TH</th>\n",
       "      <td>MULTIPOLYGON (((416305.700 265602.906, 417069....</td>\n",
       "      <td>3</td>\n",
       "      <td>MediumOrchid</td>\n",
       "    </tr>\n",
       "    <tr>\n",
       "      <th>B714HJ</th>\n",
       "      <td>MULTIPOLYGON (((399681.915 286423.006, 399888....</td>\n",
       "      <td>1</td>\n",
       "      <td>Purple</td>\n",
       "    </tr>\n",
       "    <tr>\n",
       "      <th>BA13NG</th>\n",
       "      <td>MULTIPOLYGON (((390560.691 145587.417, 389463....</td>\n",
       "      <td>2</td>\n",
       "      <td>DarkOrchid</td>\n",
       "    </tr>\n",
       "    <tr>\n",
       "      <th>BA214AT</th>\n",
       "      <td>MULTIPOLYGON (((332368.011 102237.393, 333313....</td>\n",
       "      <td>3</td>\n",
       "      <td>MediumOrchid</td>\n",
       "    </tr>\n",
       "    <tr>\n",
       "      <th>BB23HH</th>\n",
       "      <td>POLYGON ((370868.322 414133.507, 370698.959 41...</td>\n",
       "      <td>5</td>\n",
       "      <td>Plum</td>\n",
       "    </tr>\n",
       "    <tr>\n",
       "      <th>...</th>\n",
       "      <td>...</td>\n",
       "      <td>...</td>\n",
       "      <td>...</td>\n",
       "    </tr>\n",
       "    <tr>\n",
       "      <th>WD180HB</th>\n",
       "      <td>MULTIPOLYGON (((508161.692 189477.493, 507774....</td>\n",
       "      <td>1</td>\n",
       "      <td>Purple</td>\n",
       "    </tr>\n",
       "    <tr>\n",
       "      <th>WF14DG</th>\n",
       "      <td>MULTIPOLYGON (((436308.822 404777.192, 436566....</td>\n",
       "      <td>5</td>\n",
       "      <td>Plum</td>\n",
       "    </tr>\n",
       "    <tr>\n",
       "      <th>WR51DD</th>\n",
       "      <td>MULTIPOLYGON (((391976.606 238195.600, 392123....</td>\n",
       "      <td>4</td>\n",
       "      <td>Orchid</td>\n",
       "    </tr>\n",
       "    <tr>\n",
       "      <th>WV100QP</th>\n",
       "      <td>MULTIPOLYGON (((393005.464 294686.206, 393181....</td>\n",
       "      <td>5</td>\n",
       "      <td>Plum</td>\n",
       "    </tr>\n",
       "    <tr>\n",
       "      <th>YO318HE</th>\n",
       "      <td>MULTIPOLYGON (((466322.105 430254.405, 466491....</td>\n",
       "      <td>0</td>\n",
       "      <td>Indigo</td>\n",
       "    </tr>\n",
       "  </tbody>\n",
       "</table>\n",
       "<p>113 rows × 3 columns</p>\n",
       "</div>"
      ],
      "text/plain": [
       "                                                              geometry  \\\n",
       "unit_postcode_acute                                                      \n",
       "B152TH               MULTIPOLYGON (((416305.700 265602.906, 417069....   \n",
       "B714HJ               MULTIPOLYGON (((399681.915 286423.006, 399888....   \n",
       "BA13NG               MULTIPOLYGON (((390560.691 145587.417, 389463....   \n",
       "BA214AT              MULTIPOLYGON (((332368.011 102237.393, 333313....   \n",
       "BB23HH               POLYGON ((370868.322 414133.507, 370698.959 41...   \n",
       "...                                                                ...   \n",
       "WD180HB              MULTIPOLYGON (((508161.692 189477.493, 507774....   \n",
       "WF14DG               MULTIPOLYGON (((436308.822 404777.192, 436566....   \n",
       "WR51DD               MULTIPOLYGON (((391976.606 238195.600, 392123....   \n",
       "WV100QP              MULTIPOLYGON (((393005.464 294686.206, 393181....   \n",
       "YO318HE              MULTIPOLYGON (((466322.105 430254.405, 466491....   \n",
       "\n",
       "                    adjacent_colours    colour_str  \n",
       "unit_postcode_acute                                 \n",
       "B152TH                             3  MediumOrchid  \n",
       "B714HJ                             1        Purple  \n",
       "BA13NG                             2    DarkOrchid  \n",
       "BA214AT                            3  MediumOrchid  \n",
       "BB23HH                             5          Plum  \n",
       "...                              ...           ...  \n",
       "WD180HB                            1        Purple  \n",
       "WF14DG                             5          Plum  \n",
       "WR51DD                             4        Orchid  \n",
       "WV100QP                            5          Plum  \n",
       "YO318HE                            0        Indigo  \n",
       "\n",
       "[113 rows x 3 columns]"
      ]
     },
     "execution_count": 24,
     "metadata": {},
     "output_type": "execute_result"
    }
   ],
   "source": [
    "gdf_catchment"
   ]
  },
  {
   "cell_type": "markdown",
   "id": "90f78145-5a76-4995-936c-ec83f9c85465",
   "metadata": {},
   "source": [
    "__Create the map__\n",
    "\n",
    "Load in the stroke unit coordinates and merge in the services information:"
   ]
  },
  {
   "cell_type": "code",
   "execution_count": 25,
   "id": "5c639b15-7613-4fe5-b88c-5c078d27114d",
   "metadata": {},
   "outputs": [],
   "source": [
    "gdf_units = stroke_maps.load_data.stroke_unit_coordinates()\n",
    "gdf_units = pd.merge(\n",
    "    gdf_units, df_units[['use_ivt', 'use_mt']],\n",
    "    left_index=True, right_index=True, how='right'\n",
    ")"
   ]
  },
  {
   "cell_type": "markdown",
   "id": "0e1e4fa0-8015-4c72-a2e0-d36b0c83b3b9",
   "metadata": {},
   "source": [
    "Plot the unit locations and catchment areas using matplotlib:"
   ]
  },
  {
   "cell_type": "code",
   "execution_count": 26,
   "id": "c1242452-4d85-472f-8718-69f1633f1b8e",
   "metadata": {},
   "outputs": [
    {
     "data": {
      "image/png": "[encoded data removed]",
      "text/plain": [
       "<Figure size 800x800 with 1 Axes>"
      ]
     },
     "metadata": {},
     "output_type": "display_data"
    }
   ],
   "source": [
    "fig, ax = plt.subplots(figsize=(8, 8))\n",
    "\n",
    "# Catchment areas:\n",
    "gdf_catchment.plot(\n",
    "    ax=ax,              # Set which axes to use for plot\n",
    "    antialiased=False,  # Avoids artefact boundary lines\n",
    "    color=gdf_catchment['colour_str'],  # set colours using this column\n",
    "    linewidth=0.2,\n",
    "    )\n",
    "\n",
    "# Pick out which stroke units to plot:\n",
    "mask_ivt = ((gdf_units['use_ivt'] == 1) & (gdf_units['use_mt'] == 0))\n",
    "mask_mt = (gdf_units['use_mt'] == 1)\n",
    "\n",
    "# IVT units:\n",
    "ax.scatter(\n",
    "    gdf_units.loc[mask_ivt, 'geometry'].x,\n",
    "    gdf_units.loc[mask_ivt, 'geometry'].y,\n",
    "    marker='o',\n",
    "    facecolor='k',\n",
    "    label='IVT unit',\n",
    "    s=20,  # size\n",
    "    )\n",
    "\n",
    "# MT units:\n",
    "ax.scatter(\n",
    "    gdf_units.loc[mask_mt, 'geometry'].x,\n",
    "    gdf_units.loc[mask_mt, 'geometry'].y,\n",
    "    marker='*',\n",
    "    facecolor='k',\n",
    "    label='MT unit',\n",
    "    s=40,  # size\n",
    "    )\n",
    "\n",
    "# Remove the axis border, ticks, labels...\n",
    "ax.axis('off')\n",
    "\n",
    "# Add legend:\n",
    "ax.legend()\n",
    "\n",
    "plt.show()"
   ]
  },
  {
   "cell_type": "markdown",
   "id": "34525b0e-f68c-437b-ad29-5367d1b827cb",
   "metadata": {},
   "source": [
    "## Northern Ireland\n",
    "\n",
    "### Load data\n",
    "\n",
    "__SA travel time__\n",
    "\n",
    "This dataframe contains one row for each SA in Northern Ireland. There is one column for each stroke unit in Northern Ireland. The value in each cell is the time from that row's SA to that column's stroke unit."
   ]
  },
  {
   "cell_type": "code",
   "execution_count": 27,
   "id": "3034b498-4016-4514-8e13-28e0f24da88e",
   "metadata": {},
   "outputs": [
    {
     "data": {
      "text/html": [
       "<div>\n",
       "<style scoped>\n",
       "    .dataframe tbody tr th:only-of-type {\n",
       "        vertical-align: middle;\n",
       "    }\n",
       "\n",
       "    .dataframe tbody tr th {\n",
       "        vertical-align: top;\n",
       "    }\n",
       "\n",
       "    .dataframe thead th {\n",
       "        text-align: right;\n",
       "    }\n",
       "</style>\n",
       "<table border=\"1\" class=\"dataframe\">\n",
       "  <thead>\n",
       "    <tr style=\"text-align: right;\">\n",
       "      <th></th>\n",
       "      <th>BT126BA</th>\n",
       "      <th>BT161RH</th>\n",
       "      <th>BT358DR</th>\n",
       "      <th>BT412RL</th>\n",
       "      <th>BT476SB</th>\n",
       "    </tr>\n",
       "    <tr>\n",
       "      <th>from_postcode</th>\n",
       "      <th></th>\n",
       "      <th></th>\n",
       "      <th></th>\n",
       "      <th></th>\n",
       "      <th></th>\n",
       "    </tr>\n",
       "  </thead>\n",
       "  <tbody>\n",
       "    <tr>\n",
       "      <th>N00000001</th>\n",
       "      <td>31.400562</td>\n",
       "      <td>37.852665</td>\n",
       "      <td>64.223641</td>\n",
       "      <td>19.032658</td>\n",
       "      <td>79.895643</td>\n",
       "    </tr>\n",
       "    <tr>\n",
       "      <th>N00000002</th>\n",
       "      <td>24.677730</td>\n",
       "      <td>37.852665</td>\n",
       "      <td>61.926859</td>\n",
       "      <td>23.292278</td>\n",
       "      <td>83.200000</td>\n",
       "    </tr>\n",
       "    <tr>\n",
       "      <th>N00000003</th>\n",
       "      <td>24.677730</td>\n",
       "      <td>37.852665</td>\n",
       "      <td>63.077279</td>\n",
       "      <td>20.471335</td>\n",
       "      <td>80.991077</td>\n",
       "    </tr>\n",
       "    <tr>\n",
       "      <th>N00000004</th>\n",
       "      <td>30.080264</td>\n",
       "      <td>42.862547</td>\n",
       "      <td>66.504588</td>\n",
       "      <td>24.677730</td>\n",
       "      <td>83.200000</td>\n",
       "    </tr>\n",
       "    <tr>\n",
       "      <th>N00000005</th>\n",
       "      <td>32.710168</td>\n",
       "      <td>40.372700</td>\n",
       "      <td>66.504588</td>\n",
       "      <td>16.088440</td>\n",
       "      <td>76.591575</td>\n",
       "    </tr>\n",
       "  </tbody>\n",
       "</table>\n",
       "</div>"
      ],
      "text/plain": [
       "                 BT126BA    BT161RH    BT358DR    BT412RL    BT476SB\n",
       "from_postcode                                                       \n",
       "N00000001      31.400562  37.852665  64.223641  19.032658  79.895643\n",
       "N00000002      24.677730  37.852665  61.926859  23.292278  83.200000\n",
       "N00000003      24.677730  37.852665  63.077279  20.471335  80.991077\n",
       "N00000004      30.080264  42.862547  66.504588  24.677730  83.200000\n",
       "N00000005      32.710168  40.372700  66.504588  16.088440  76.591575"
      ]
     },
     "execution_count": 27,
     "metadata": {},
     "output_type": "execute_result"
    }
   ],
   "source": [
    "df_travel_sa = stroke_maps.load_data.travel_time_matrix_ni_areas()\n",
    "\n",
    "# Show the first five rows and columns:\n",
    "df_travel_sa.iloc[:5, :5]"
   ]
  },
  {
   "cell_type": "markdown",
   "id": "688f52ac-e88c-48d6-a1a9-6c4a271ccce7",
   "metadata": {},
   "source": [
    "Write how many SA and then how many stroke teams are in this matrix:"
   ]
  },
  {
   "cell_type": "code",
   "execution_count": 28,
   "id": "63be4efa-9221-494d-af65-871df5867558",
   "metadata": {},
   "outputs": [
    {
     "data": {
      "text/plain": [
       "(4537, 8)"
      ]
     },
     "execution_count": 28,
     "metadata": {},
     "output_type": "execute_result"
    }
   ],
   "source": [
    "df_travel_sa.shape"
   ]
  },
  {
   "cell_type": "markdown",
   "id": "f39c7262-5576-400d-bb3c-9dab590f8b67",
   "metadata": {},
   "source": [
    "__Stroke unit services__\n",
    "\n",
    "This dataframe contains information on which stroke units provide which services (IVT and MT). The imported dataframe, df_units, contains only units that appear in the travel time matrix. This includes units that are not acute stroke units (i.e. provide neither thrombolysis nor thrombectomy)."
   ]
  },
  {
   "cell_type": "code",
   "execution_count": 29,
   "id": "ee76e19f-4913-4783-bb48-98cbf5065293",
   "metadata": {},
   "outputs": [
    {
     "data": {
      "text/html": [
       "<div>\n",
       "<style scoped>\n",
       "    .dataframe tbody tr th:only-of-type {\n",
       "        vertical-align: middle;\n",
       "    }\n",
       "\n",
       "    .dataframe tbody tr th {\n",
       "        vertical-align: top;\n",
       "    }\n",
       "\n",
       "    .dataframe thead th {\n",
       "        text-align: right;\n",
       "    }\n",
       "</style>\n",
       "<table border=\"1\" class=\"dataframe\">\n",
       "  <thead>\n",
       "    <tr style=\"text-align: right;\">\n",
       "      <th>Postcode</th>\n",
       "      <th>BT126BA</th>\n",
       "      <th>BT161RH</th>\n",
       "      <th>BT358DR</th>\n",
       "    </tr>\n",
       "  </thead>\n",
       "  <tbody>\n",
       "    <tr>\n",
       "      <th>Hospital_name</th>\n",
       "      <td>Royal Victoria</td>\n",
       "      <td>Ulster</td>\n",
       "      <td>Daisy Hill</td>\n",
       "    </tr>\n",
       "    <tr>\n",
       "      <th>City</th>\n",
       "      <td>Belfast</td>\n",
       "      <td>Belfast</td>\n",
       "      <td>Newry</td>\n",
       "    </tr>\n",
       "    <tr>\n",
       "      <th>door_to_needle</th>\n",
       "      <td>43</td>\n",
       "      <td>50</td>\n",
       "      <td>38</td>\n",
       "    </tr>\n",
       "    <tr>\n",
       "      <th>Fixed</th>\n",
       "      <td>2.0</td>\n",
       "      <td>NaN</td>\n",
       "      <td>NaN</td>\n",
       "    </tr>\n",
       "    <tr>\n",
       "      <th>use_ivt</th>\n",
       "      <td>1</td>\n",
       "      <td>1</td>\n",
       "      <td>0</td>\n",
       "    </tr>\n",
       "    <tr>\n",
       "      <th>use_mt</th>\n",
       "      <td>1</td>\n",
       "      <td>0</td>\n",
       "      <td>0</td>\n",
       "    </tr>\n",
       "  </tbody>\n",
       "</table>\n",
       "</div>"
      ],
      "text/plain": [
       "Postcode               BT126BA  BT161RH     BT358DR\n",
       "Hospital_name   Royal Victoria   Ulster  Daisy Hill\n",
       "City                   Belfast  Belfast       Newry\n",
       "door_to_needle              43       50          38\n",
       "Fixed                      2.0      NaN         NaN\n",
       "use_ivt                      1        1           0\n",
       "use_mt                       1        0           0"
      ]
     },
     "execution_count": 29,
     "metadata": {},
     "output_type": "execute_result"
    }
   ],
   "source": [
    "df_units_ni = stroke_maps.load_data.ni_stroke_unit_services()\n",
    "\n",
    "df_units_ni.head(3).T"
   ]
  },
  {
   "cell_type": "markdown",
   "id": "24cbb2bd-59bf-40f6-b285-213ea5907b02",
   "metadata": {},
   "source": [
    "### Calculate nearest acute stroke unit\n",
    "\n",
    "The full travel time matrix gives the time from every SA to every stroke unit, including those that don't provide acute care. Realistically an ambulance should never choose to take the patient to those units.\n",
    "\n",
    "Firstly, find a list of stroke units that offer acute care. These are units where `use_ivt` and/or `use_mt` are equal to 1 (one)."
   ]
  },
  {
   "cell_type": "code",
   "execution_count": 30,
   "id": "a80c0251-05b3-416d-97b2-afbd04c3f2ea",
   "metadata": {},
   "outputs": [],
   "source": [
    "mask_acute = ((df_units_ni['use_ivt'] == 1) | (df_units_ni['use_mt'] == 1))\n",
    "\n",
    "postcodes_acute_units_ni = df_units_ni[mask_acute].index.values"
   ]
  },
  {
   "cell_type": "markdown",
   "id": "a7d1c4d2-0a20-4743-a064-8e9ecc8f9819",
   "metadata": {},
   "source": [
    "Check how many postcodes are in this list compared with how many stroke units are in the full dataframe:"
   ]
  },
  {
   "cell_type": "code",
   "execution_count": 31,
   "id": "87177da4-3ab5-4389-a3fd-eb5ddcfacf63",
   "metadata": {},
   "outputs": [
    {
     "name": "stdout",
     "output_type": "stream",
     "text": [
      "8 7\n"
     ]
    }
   ],
   "source": [
    "n_units = len(df_units_ni)\n",
    "n_units_acute = len(postcodes_acute_units_ni)\n",
    "\n",
    "print(n_units, n_units_acute)"
   ]
  },
  {
   "cell_type": "markdown",
   "id": "fd13549f-9a67-4545-ad49-8c7824b5c726",
   "metadata": {},
   "source": [
    "Now make a copy of the travel time matrix that only includes times to these units:"
   ]
  },
  {
   "cell_type": "code",
   "execution_count": 32,
   "id": "940d0070-9af5-415e-9e39-495228cff7f1",
   "metadata": {},
   "outputs": [
    {
     "data": {
      "text/plain": [
       "(4537, 7)"
      ]
     },
     "execution_count": 32,
     "metadata": {},
     "output_type": "execute_result"
    }
   ],
   "source": [
    "df_travel_sa_acute = df_travel_sa[postcodes_acute_units_ni].copy()\n",
    "\n",
    "# (Number of LSOA, number of stroke teams)\n",
    "df_travel_sa_acute.shape"
   ]
  },
  {
   "cell_type": "markdown",
   "id": "51139161-2207-45a5-b181-f3de548843fc",
   "metadata": {},
   "source": [
    "Run the function to find which of the units in the reduced dataframe is closest to each LSOA:"
   ]
  },
  {
   "cell_type": "code",
   "execution_count": 33,
   "id": "16c220bb-c1ad-425b-ae7a-0f0d892977be",
   "metadata": {},
   "outputs": [
    {
     "data": {
      "text/html": [
       "<div>\n",
       "<style scoped>\n",
       "    .dataframe tbody tr th:only-of-type {\n",
       "        vertical-align: middle;\n",
       "    }\n",
       "\n",
       "    .dataframe tbody tr th {\n",
       "        vertical-align: top;\n",
       "    }\n",
       "\n",
       "    .dataframe thead th {\n",
       "        text-align: right;\n",
       "    }\n",
       "</style>\n",
       "<table border=\"1\" class=\"dataframe\">\n",
       "  <thead>\n",
       "    <tr style=\"text-align: right;\">\n",
       "      <th></th>\n",
       "      <th>unit_travel_time</th>\n",
       "      <th>unit_postcode</th>\n",
       "    </tr>\n",
       "    <tr>\n",
       "      <th>from_postcode</th>\n",
       "      <th></th>\n",
       "      <th></th>\n",
       "    </tr>\n",
       "  </thead>\n",
       "  <tbody>\n",
       "    <tr>\n",
       "      <th>N00000001</th>\n",
       "      <td>19.032658</td>\n",
       "      <td>BT412RL</td>\n",
       "    </tr>\n",
       "    <tr>\n",
       "      <th>N00000002</th>\n",
       "      <td>23.292278</td>\n",
       "      <td>BT412RL</td>\n",
       "    </tr>\n",
       "    <tr>\n",
       "      <th>N00000003</th>\n",
       "      <td>20.471335</td>\n",
       "      <td>BT412RL</td>\n",
       "    </tr>\n",
       "    <tr>\n",
       "      <th>N00000004</th>\n",
       "      <td>24.677730</td>\n",
       "      <td>BT412RL</td>\n",
       "    </tr>\n",
       "    <tr>\n",
       "      <th>N00000005</th>\n",
       "      <td>16.088440</td>\n",
       "      <td>BT412RL</td>\n",
       "    </tr>\n",
       "  </tbody>\n",
       "</table>\n",
       "</div>"
      ],
      "text/plain": [
       "               unit_travel_time unit_postcode\n",
       "from_postcode                                \n",
       "N00000001             19.032658       BT412RL\n",
       "N00000002             23.292278       BT412RL\n",
       "N00000003             20.471335       BT412RL\n",
       "N00000004             24.677730       BT412RL\n",
       "N00000005             16.088440       BT412RL"
      ]
     },
     "execution_count": 33,
     "metadata": {},
     "output_type": "execute_result"
    }
   ],
   "source": [
    "df_catchment_acute_ni = stroke_maps.catchment.find_nearest_unit(df_travel_sa_acute)\n",
    "\n",
    "df_catchment_acute_ni.head(5)"
   ]
  },
  {
   "cell_type": "markdown",
   "id": "de83499e-b6d2-4ad4-b7f8-6253fb931ec5",
   "metadata": {},
   "source": [
    "### Calculate nearest thrombectomy unit\n",
    "\n",
    "We can use a very similar method to before by only keeping stroke units that offer thrombectomy (MT):"
   ]
  },
  {
   "cell_type": "code",
   "execution_count": 34,
   "id": "582837f7-0c28-4526-9460-ff496c56e646",
   "metadata": {},
   "outputs": [],
   "source": [
    "mask_mt = (df_units_ni['use_mt'] == 1)\n",
    "\n",
    "postcodes_mt_units_ni = df_units_ni[mask_mt].index.values"
   ]
  },
  {
   "cell_type": "markdown",
   "id": "cbda6b34-e9fa-4ffc-9f9a-d7a67202254e",
   "metadata": {},
   "source": [
    "Check how many postcodes are in this list compared with how many stroke units are in the full dataframe:"
   ]
  },
  {
   "cell_type": "code",
   "execution_count": 35,
   "id": "e8b9228e-84bd-4470-a7aa-e0d93ef9c87d",
   "metadata": {},
   "outputs": [
    {
     "name": "stdout",
     "output_type": "stream",
     "text": [
      "8 1\n"
     ]
    }
   ],
   "source": [
    "n_units = len(df_units_ni)\n",
    "n_units_mt = len(postcodes_mt_units_ni)\n",
    "\n",
    "print(n_units, n_units_mt)"
   ]
  },
  {
   "cell_type": "markdown",
   "id": "14e3b3c0-0781-481a-810d-0423708c43d4",
   "metadata": {},
   "source": [
    "Now make a copy of the travel time matrix that includes times to only these units:"
   ]
  },
  {
   "cell_type": "code",
   "execution_count": 36,
   "id": "e04c52d0-a77b-4990-8c7a-205856b53c69",
   "metadata": {},
   "outputs": [
    {
     "data": {
      "text/plain": [
       "(4537, 1)"
      ]
     },
     "execution_count": 36,
     "metadata": {},
     "output_type": "execute_result"
    }
   ],
   "source": [
    "df_travel_sa_mt = df_travel_sa[postcodes_mt_units_ni].copy()\n",
    "\n",
    "# (Number of LSOA, number of stroke teams)\n",
    "df_travel_sa_mt.shape"
   ]
  },
  {
   "cell_type": "markdown",
   "id": "1bba918a-fbe5-43bf-a19e-24bd7f6d0155",
   "metadata": {},
   "source": [
    "Run the function to find which of the units in the reduced dataframe is closest to each LSOA:"
   ]
  },
  {
   "cell_type": "code",
   "execution_count": 37,
   "id": "d2e1a5e9-8163-4910-893a-112afedf20ca",
   "metadata": {},
   "outputs": [
    {
     "data": {
      "text/html": [
       "<div>\n",
       "<style scoped>\n",
       "    .dataframe tbody tr th:only-of-type {\n",
       "        vertical-align: middle;\n",
       "    }\n",
       "\n",
       "    .dataframe tbody tr th {\n",
       "        vertical-align: top;\n",
       "    }\n",
       "\n",
       "    .dataframe thead th {\n",
       "        text-align: right;\n",
       "    }\n",
       "</style>\n",
       "<table border=\"1\" class=\"dataframe\">\n",
       "  <thead>\n",
       "    <tr style=\"text-align: right;\">\n",
       "      <th></th>\n",
       "      <th>unit_travel_time</th>\n",
       "      <th>unit_postcode</th>\n",
       "    </tr>\n",
       "    <tr>\n",
       "      <th>from_postcode</th>\n",
       "      <th></th>\n",
       "      <th></th>\n",
       "    </tr>\n",
       "  </thead>\n",
       "  <tbody>\n",
       "    <tr>\n",
       "      <th>N00000001</th>\n",
       "      <td>31.400562</td>\n",
       "      <td>BT126BA</td>\n",
       "    </tr>\n",
       "    <tr>\n",
       "      <th>N00000002</th>\n",
       "      <td>24.677730</td>\n",
       "      <td>BT126BA</td>\n",
       "    </tr>\n",
       "    <tr>\n",
       "      <th>N00000003</th>\n",
       "      <td>24.677730</td>\n",
       "      <td>BT126BA</td>\n",
       "    </tr>\n",
       "    <tr>\n",
       "      <th>N00000004</th>\n",
       "      <td>30.080264</td>\n",
       "      <td>BT126BA</td>\n",
       "    </tr>\n",
       "    <tr>\n",
       "      <th>N00000005</th>\n",
       "      <td>32.710168</td>\n",
       "      <td>BT126BA</td>\n",
       "    </tr>\n",
       "  </tbody>\n",
       "</table>\n",
       "</div>"
      ],
      "text/plain": [
       "               unit_travel_time unit_postcode\n",
       "from_postcode                                \n",
       "N00000001             31.400562       BT126BA\n",
       "N00000002             24.677730       BT126BA\n",
       "N00000003             24.677730       BT126BA\n",
       "N00000004             30.080264       BT126BA\n",
       "N00000005             32.710168       BT126BA"
      ]
     },
     "execution_count": 37,
     "metadata": {},
     "output_type": "execute_result"
    }
   ],
   "source": [
    "df_catchment_mt_ni = stroke_maps.catchment.find_nearest_unit(df_travel_sa_mt)\n",
    "\n",
    "df_catchment_mt_ni.head(5)"
   ]
  },
  {
   "cell_type": "markdown",
   "id": "5387d8d6-6d46-4a2f-b13c-af1af2e12032",
   "metadata": {},
   "source": [
    "### Calculate nearest transfer unit\n",
    "\n",
    "The method for finding transfer units is shown in more detail in _the transfer units demonstration_ (__TO DO__: add link to this)."
   ]
  },
  {
   "cell_type": "code",
   "execution_count": 39,
   "id": "3612501f-d688-46f9-8e4f-00338f3a5539",
   "metadata": {},
   "outputs": [],
   "source": [
    "df_transfer_ni = stroke_maps.catchment.calculate_transfer_units(df_units_ni, use_northern_ireland=True)"
   ]
  },
  {
   "cell_type": "code",
   "execution_count": 40,
   "id": "69425f90-731d-4168-bcfd-e037436b530b",
   "metadata": {},
   "outputs": [
    {
     "data": {
      "text/html": [
       "<div>\n",
       "<style scoped>\n",
       "    .dataframe tbody tr th:only-of-type {\n",
       "        vertical-align: middle;\n",
       "    }\n",
       "\n",
       "    .dataframe tbody tr th {\n",
       "        vertical-align: top;\n",
       "    }\n",
       "\n",
       "    .dataframe thead th {\n",
       "        text-align: right;\n",
       "    }\n",
       "</style>\n",
       "<table border=\"1\" class=\"dataframe\">\n",
       "  <thead>\n",
       "    <tr style=\"text-align: right;\">\n",
       "      <th></th>\n",
       "      <th>transfer_unit_travel_time</th>\n",
       "      <th>transfer_unit_postcode</th>\n",
       "    </tr>\n",
       "    <tr>\n",
       "      <th>Postcode</th>\n",
       "      <th></th>\n",
       "      <th></th>\n",
       "    </tr>\n",
       "  </thead>\n",
       "  <tbody>\n",
       "    <tr>\n",
       "      <th>BT126BA</th>\n",
       "      <td>0.000000</td>\n",
       "      <td>BT126BA</td>\n",
       "    </tr>\n",
       "    <tr>\n",
       "      <th>BT161RH</th>\n",
       "      <td>19.032658</td>\n",
       "      <td>BT126BA</td>\n",
       "    </tr>\n",
       "    <tr>\n",
       "      <th>BT358DR</th>\n",
       "      <td>NaN</td>\n",
       "      <td>&lt;NA&gt;</td>\n",
       "    </tr>\n",
       "    <tr>\n",
       "      <th>BT412RL</th>\n",
       "      <td>28.748618</td>\n",
       "      <td>BT126BA</td>\n",
       "    </tr>\n",
       "    <tr>\n",
       "      <th>BT476SB</th>\n",
       "      <td>88.400000</td>\n",
       "      <td>BT126BA</td>\n",
       "    </tr>\n",
       "    <tr>\n",
       "      <th>BT521HS</th>\n",
       "      <td>69.897939</td>\n",
       "      <td>BT126BA</td>\n",
       "    </tr>\n",
       "    <tr>\n",
       "      <th>BT635QQ</th>\n",
       "      <td>37.852665</td>\n",
       "      <td>BT126BA</td>\n",
       "    </tr>\n",
       "    <tr>\n",
       "      <th>BT746DN</th>\n",
       "      <td>104.000000</td>\n",
       "      <td>BT126BA</td>\n",
       "    </tr>\n",
       "  </tbody>\n",
       "</table>\n",
       "</div>"
      ],
      "text/plain": [
       "          transfer_unit_travel_time transfer_unit_postcode\n",
       "Postcode                                                  \n",
       "BT126BA                    0.000000                BT126BA\n",
       "BT161RH                   19.032658                BT126BA\n",
       "BT358DR                         NaN                   <NA>\n",
       "BT412RL                   28.748618                BT126BA\n",
       "BT476SB                   88.400000                BT126BA\n",
       "BT521HS                   69.897939                BT126BA\n",
       "BT635QQ                   37.852665                BT126BA\n",
       "BT746DN                  104.000000                BT126BA"
      ]
     },
     "execution_count": 40,
     "metadata": {},
     "output_type": "execute_result"
    }
   ],
   "source": [
    "df_transfer_ni"
   ]
  },
  {
   "cell_type": "markdown",
   "id": "3ab912a4-2996-4505-95b3-68b05701c090",
   "metadata": {},
   "source": [
    "### Combine results for nearest acute, MT, and transfer units"
   ]
  },
  {
   "cell_type": "code",
   "execution_count": 41,
   "id": "c9dd9df5-916f-4e3e-a987-3dbd614d79c4",
   "metadata": {},
   "outputs": [],
   "source": [
    "# Combine nearest unit and nearest MT unit:\n",
    "df_results_ni = pd.merge(\n",
    "    df_catchment_acute_ni, df_catchment_mt_ni,\n",
    "    left_index=True, right_index=True, how='left',\n",
    "    suffixes=['_acute', '_mt']\n",
    ")\n",
    "# Combine these with the nearest unit's transfer unit:\n",
    "df_results_ni = pd.merge(\n",
    "    df_results_ni, df_transfer_ni,\n",
    "    left_on='unit_postcode_acute', right_index=True, how='left',\n",
    ")"
   ]
  },
  {
   "cell_type": "code",
   "execution_count": 42,
   "id": "3ba237af-5aaa-4c1a-b543-9c32db2d7872",
   "metadata": {},
   "outputs": [
    {
     "data": {
      "text/html": [
       "<div>\n",
       "<style scoped>\n",
       "    .dataframe tbody tr th:only-of-type {\n",
       "        vertical-align: middle;\n",
       "    }\n",
       "\n",
       "    .dataframe tbody tr th {\n",
       "        vertical-align: top;\n",
       "    }\n",
       "\n",
       "    .dataframe thead th {\n",
       "        text-align: right;\n",
       "    }\n",
       "</style>\n",
       "<table border=\"1\" class=\"dataframe\">\n",
       "  <thead>\n",
       "    <tr style=\"text-align: right;\">\n",
       "      <th></th>\n",
       "      <th>unit_travel_time_acute</th>\n",
       "      <th>unit_postcode_acute</th>\n",
       "      <th>unit_travel_time_mt</th>\n",
       "      <th>unit_postcode_mt</th>\n",
       "      <th>transfer_unit_travel_time</th>\n",
       "      <th>transfer_unit_postcode</th>\n",
       "    </tr>\n",
       "    <tr>\n",
       "      <th>from_postcode</th>\n",
       "      <th></th>\n",
       "      <th></th>\n",
       "      <th></th>\n",
       "      <th></th>\n",
       "      <th></th>\n",
       "      <th></th>\n",
       "    </tr>\n",
       "  </thead>\n",
       "  <tbody>\n",
       "    <tr>\n",
       "      <th>N00000001</th>\n",
       "      <td>19.032658</td>\n",
       "      <td>BT412RL</td>\n",
       "      <td>31.400562</td>\n",
       "      <td>BT126BA</td>\n",
       "      <td>28.748618</td>\n",
       "      <td>BT126BA</td>\n",
       "    </tr>\n",
       "    <tr>\n",
       "      <th>N00000002</th>\n",
       "      <td>23.292278</td>\n",
       "      <td>BT412RL</td>\n",
       "      <td>24.677730</td>\n",
       "      <td>BT126BA</td>\n",
       "      <td>28.748618</td>\n",
       "      <td>BT126BA</td>\n",
       "    </tr>\n",
       "    <tr>\n",
       "      <th>N00000003</th>\n",
       "      <td>20.471335</td>\n",
       "      <td>BT412RL</td>\n",
       "      <td>24.677730</td>\n",
       "      <td>BT126BA</td>\n",
       "      <td>28.748618</td>\n",
       "      <td>BT126BA</td>\n",
       "    </tr>\n",
       "    <tr>\n",
       "      <th>N00000004</th>\n",
       "      <td>24.677730</td>\n",
       "      <td>BT412RL</td>\n",
       "      <td>30.080264</td>\n",
       "      <td>BT126BA</td>\n",
       "      <td>28.748618</td>\n",
       "      <td>BT126BA</td>\n",
       "    </tr>\n",
       "    <tr>\n",
       "      <th>N00000005</th>\n",
       "      <td>16.088440</td>\n",
       "      <td>BT412RL</td>\n",
       "      <td>32.710168</td>\n",
       "      <td>BT126BA</td>\n",
       "      <td>28.748618</td>\n",
       "      <td>BT126BA</td>\n",
       "    </tr>\n",
       "  </tbody>\n",
       "</table>\n",
       "</div>"
      ],
      "text/plain": [
       "               unit_travel_time_acute unit_postcode_acute  \\\n",
       "from_postcode                                               \n",
       "N00000001                   19.032658             BT412RL   \n",
       "N00000002                   23.292278             BT412RL   \n",
       "N00000003                   20.471335             BT412RL   \n",
       "N00000004                   24.677730             BT412RL   \n",
       "N00000005                   16.088440             BT412RL   \n",
       "\n",
       "               unit_travel_time_mt unit_postcode_mt  \\\n",
       "from_postcode                                         \n",
       "N00000001                31.400562          BT126BA   \n",
       "N00000002                24.677730          BT126BA   \n",
       "N00000003                24.677730          BT126BA   \n",
       "N00000004                30.080264          BT126BA   \n",
       "N00000005                32.710168          BT126BA   \n",
       "\n",
       "               transfer_unit_travel_time transfer_unit_postcode  \n",
       "from_postcode                                                    \n",
       "N00000001                      28.748618                BT126BA  \n",
       "N00000002                      28.748618                BT126BA  \n",
       "N00000003                      28.748618                BT126BA  \n",
       "N00000004                      28.748618                BT126BA  \n",
       "N00000005                      28.748618                BT126BA  "
      ]
     },
     "execution_count": 42,
     "metadata": {},
     "output_type": "execute_result"
    }
   ],
   "source": [
    "df_results_ni.head(5)"
   ]
  },
  {
   "cell_type": "markdown",
   "id": "56aa2036-6f19-41ef-99ad-f097dff564b2",
   "metadata": {},
   "source": [
    "### Plot the catchment areas\n",
    "\n",
    "__Set up catchment data for plot__\n",
    "\n",
    "First, load the Small Area boundaries:"
   ]
  },
  {
   "cell_type": "code",
   "execution_count": 43,
   "id": "db790af5-3ecc-4963-97c6-eb6e86db5d15",
   "metadata": {},
   "outputs": [
    {
     "data": {
      "text/html": [
       "<div>\n",
       "<style scoped>\n",
       "    .dataframe tbody tr th:only-of-type {\n",
       "        vertical-align: middle;\n",
       "    }\n",
       "\n",
       "    .dataframe tbody tr th {\n",
       "        vertical-align: top;\n",
       "    }\n",
       "\n",
       "    .dataframe thead th {\n",
       "        text-align: right;\n",
       "    }\n",
       "</style>\n",
       "<table border=\"1\" class=\"dataframe\">\n",
       "  <thead>\n",
       "    <tr style=\"text-align: right;\">\n",
       "      <th></th>\n",
       "      <th>OBJECTID</th>\n",
       "      <th>SA2011</th>\n",
       "      <th>SOA2011</th>\n",
       "      <th>X_COORD</th>\n",
       "      <th>Y_COORD</th>\n",
       "      <th>Hectares</th>\n",
       "      <th>Shape_Leng</th>\n",
       "      <th>Shape_Area</th>\n",
       "      <th>Code_all</th>\n",
       "      <th>geometry</th>\n",
       "    </tr>\n",
       "  </thead>\n",
       "  <tbody>\n",
       "    <tr>\n",
       "      <th>0</th>\n",
       "      <td>1</td>\n",
       "      <td>N00000002</td>\n",
       "      <td>95AA01S2</td>\n",
       "      <td>315465</td>\n",
       "      <td>377176</td>\n",
       "      <td>169.044</td>\n",
       "      <td>8476.858446</td>\n",
       "      <td>1.690436e+06</td>\n",
       "      <td>N00000002</td>\n",
       "      <td>POLYGON ((315481.125 376464.219, 315472.344 37...</td>\n",
       "    </tr>\n",
       "    <tr>\n",
       "      <th>1</th>\n",
       "      <td>2</td>\n",
       "      <td>N00000004</td>\n",
       "      <td>95AA01S2</td>\n",
       "      <td>307147</td>\n",
       "      <td>376182</td>\n",
       "      <td>8700.040</td>\n",
       "      <td>46727.719482</td>\n",
       "      <td>8.700042e+07</td>\n",
       "      <td>N00000004</td>\n",
       "      <td>POLYGON ((307740.812 382573.219, 307762.250 38...</td>\n",
       "    </tr>\n",
       "    <tr>\n",
       "      <th>2</th>\n",
       "      <td>3</td>\n",
       "      <td>N00000007</td>\n",
       "      <td>95AA01S3</td>\n",
       "      <td>314461</td>\n",
       "      <td>383440</td>\n",
       "      <td>1287.990</td>\n",
       "      <td>21817.292006</td>\n",
       "      <td>1.287995e+07</td>\n",
       "      <td>N00000007</td>\n",
       "      <td>POLYGON ((311363.312 385217.625, 311600.000 38...</td>\n",
       "    </tr>\n",
       "  </tbody>\n",
       "</table>\n",
       "</div>"
      ],
      "text/plain": [
       "   OBJECTID     SA2011   SOA2011  X_COORD  Y_COORD  Hectares    Shape_Leng  \\\n",
       "0         1  N00000002  95AA01S2   315465   377176   169.044   8476.858446   \n",
       "1         2  N00000004  95AA01S2   307147   376182  8700.040  46727.719482   \n",
       "2         3  N00000007  95AA01S3   314461   383440  1287.990  21817.292006   \n",
       "\n",
       "     Shape_Area   Code_all                                           geometry  \n",
       "0  1.690436e+06  N00000002  POLYGON ((315481.125 376464.219, 315472.344 37...  \n",
       "1  8.700042e+07  N00000004  POLYGON ((307740.812 382573.219, 307762.250 38...  \n",
       "2  1.287995e+07  N00000007  POLYGON ((311363.312 385217.625, 311600.000 38...  "
      ]
     },
     "execution_count": 43,
     "metadata": {},
     "output_type": "execute_result"
    }
   ],
   "source": [
    "gdf_sa = stroke_maps.load_data.ni_sa_geography()\n",
    "\n",
    "gdf_sa.head(3)"
   ]
  },
  {
   "cell_type": "markdown",
   "id": "a4c70131-2569-452c-abec-c2077426edf7",
   "metadata": {},
   "source": [
    "Merge in the information on nearest acute stroke unit:"
   ]
  },
  {
   "cell_type": "code",
   "execution_count": 44,
   "id": "d3502e9e-ec81-43ff-8c9b-14ca8f11d0eb",
   "metadata": {},
   "outputs": [
    {
     "data": {
      "text/html": [
       "<div>\n",
       "<style scoped>\n",
       "    .dataframe tbody tr th:only-of-type {\n",
       "        vertical-align: middle;\n",
       "    }\n",
       "\n",
       "    .dataframe tbody tr th {\n",
       "        vertical-align: top;\n",
       "    }\n",
       "\n",
       "    .dataframe thead th {\n",
       "        text-align: right;\n",
       "    }\n",
       "</style>\n",
       "<table border=\"1\" class=\"dataframe\">\n",
       "  <thead>\n",
       "    <tr style=\"text-align: right;\">\n",
       "      <th></th>\n",
       "      <th>OBJECTID</th>\n",
       "      <th>SA2011</th>\n",
       "      <th>SOA2011</th>\n",
       "      <th>X_COORD</th>\n",
       "      <th>Y_COORD</th>\n",
       "      <th>Hectares</th>\n",
       "      <th>Shape_Leng</th>\n",
       "      <th>Shape_Area</th>\n",
       "      <th>Code_all</th>\n",
       "      <th>geometry</th>\n",
       "      <th>unit_postcode_acute</th>\n",
       "    </tr>\n",
       "  </thead>\n",
       "  <tbody>\n",
       "    <tr>\n",
       "      <th>6</th>\n",
       "      <td>7</td>\n",
       "      <td>N00000001</td>\n",
       "      <td>95AA01S1</td>\n",
       "      <td>315036</td>\n",
       "      <td>380003</td>\n",
       "      <td>540.076</td>\n",
       "      <td>12921.250935</td>\n",
       "      <td>5.400762e+06</td>\n",
       "      <td>N00000001</td>\n",
       "      <td>POLYGON ((315795.031 380324.188, 315785.546 38...</td>\n",
       "      <td>BT412RL</td>\n",
       "    </tr>\n",
       "    <tr>\n",
       "      <th>0</th>\n",
       "      <td>1</td>\n",
       "      <td>N00000002</td>\n",
       "      <td>95AA01S2</td>\n",
       "      <td>315465</td>\n",
       "      <td>377176</td>\n",
       "      <td>169.044</td>\n",
       "      <td>8476.858446</td>\n",
       "      <td>1.690436e+06</td>\n",
       "      <td>N00000002</td>\n",
       "      <td>POLYGON ((315481.125 376464.219, 315472.344 37...</td>\n",
       "      <td>BT412RL</td>\n",
       "    </tr>\n",
       "    <tr>\n",
       "      <th>4536</th>\n",
       "      <td>4537</td>\n",
       "      <td>N00000003</td>\n",
       "      <td>95AA01S2</td>\n",
       "      <td>316689</td>\n",
       "      <td>378660</td>\n",
       "      <td>500.210</td>\n",
       "      <td>12659.603928</td>\n",
       "      <td>5.002105e+06</td>\n",
       "      <td>N00000003</td>\n",
       "      <td>POLYGON ((315434.406 378660.625, 315415.500 37...</td>\n",
       "      <td>BT412RL</td>\n",
       "    </tr>\n",
       "  </tbody>\n",
       "</table>\n",
       "</div>"
      ],
      "text/plain": [
       "      OBJECTID     SA2011   SOA2011  X_COORD  Y_COORD  Hectares    Shape_Leng  \\\n",
       "6            7  N00000001  95AA01S1   315036   380003   540.076  12921.250935   \n",
       "0            1  N00000002  95AA01S2   315465   377176   169.044   8476.858446   \n",
       "4536      4537  N00000003  95AA01S2   316689   378660   500.210  12659.603928   \n",
       "\n",
       "        Shape_Area   Code_all  \\\n",
       "6     5.400762e+06  N00000001   \n",
       "0     1.690436e+06  N00000002   \n",
       "4536  5.002105e+06  N00000003   \n",
       "\n",
       "                                               geometry unit_postcode_acute  \n",
       "6     POLYGON ((315795.031 380324.188, 315785.546 38...             BT412RL  \n",
       "0     POLYGON ((315481.125 376464.219, 315472.344 37...             BT412RL  \n",
       "4536  POLYGON ((315434.406 378660.625, 315415.500 37...             BT412RL  "
      ]
     },
     "execution_count": 44,
     "metadata": {},
     "output_type": "execute_result"
    }
   ],
   "source": [
    "gdf_sa = pd.merge(\n",
    "    gdf_sa, df_results_ni['unit_postcode_acute'],\n",
    "    left_on='SA2011', right_index=True, how='right'\n",
    ")\n",
    "\n",
    "gdf_sa.head(3)"
   ]
  },
  {
   "cell_type": "markdown",
   "id": "ccae2268-8852-4441-b3e8-c77dd3afd7db",
   "metadata": {},
   "source": [
    "Combine SA with the same acute stroke unit into a single region:"
   ]
  },
  {
   "cell_type": "code",
   "execution_count": 56,
   "id": "c6b96d14-295f-4903-bd52-4cc601a53210",
   "metadata": {},
   "outputs": [],
   "source": [
    "gdf_catchment_ni = stroke_maps.geo.combine_regions(gdf_sa, 'unit_postcode_acute')"
   ]
  },
  {
   "cell_type": "markdown",
   "id": "7f7a5f22-7295-4d90-bc23-2e72b49c5793",
   "metadata": {},
   "source": [
    "Convert the coordinates to Irish Grid so that they match other geometry:"
   ]
  },
  {
   "cell_type": "code",
   "execution_count": 57,
   "id": "683b7e27-ec30-42d0-bebf-6871bcef2503",
   "metadata": {},
   "outputs": [],
   "source": [
    "gdf_catchment_ni = gdf_catchment_ni.to_crs('EPSG:29902')"
   ]
  },
  {
   "cell_type": "code",
   "execution_count": 58,
   "id": "4b641d28-e927-4c3f-bc6f-b15965527772",
   "metadata": {},
   "outputs": [
    {
     "data": {
      "text/html": [
       "<div>\n",
       "<style scoped>\n",
       "    .dataframe tbody tr th:only-of-type {\n",
       "        vertical-align: middle;\n",
       "    }\n",
       "\n",
       "    .dataframe tbody tr th {\n",
       "        vertical-align: top;\n",
       "    }\n",
       "\n",
       "    .dataframe thead th {\n",
       "        text-align: right;\n",
       "    }\n",
       "</style>\n",
       "<table border=\"1\" class=\"dataframe\">\n",
       "  <thead>\n",
       "    <tr style=\"text-align: right;\">\n",
       "      <th></th>\n",
       "      <th>geometry</th>\n",
       "    </tr>\n",
       "    <tr>\n",
       "      <th>unit_postcode_acute</th>\n",
       "      <th></th>\n",
       "    </tr>\n",
       "  </thead>\n",
       "  <tbody>\n",
       "    <tr>\n",
       "      <th>BT126BA</th>\n",
       "      <td>MULTIPOLYGON (((330973.812 313545.625, 330964....</td>\n",
       "    </tr>\n",
       "    <tr>\n",
       "      <th>BT161RH</th>\n",
       "      <td>MULTIPOLYGON (((353700.375 336535.562, 353703....</td>\n",
       "    </tr>\n",
       "    <tr>\n",
       "      <th>BT412RL</th>\n",
       "      <td>POLYGON ((315133.250 375991.062, 315114.781 37...</td>\n",
       "    </tr>\n",
       "    <tr>\n",
       "      <th>BT476SB</th>\n",
       "      <td>POLYGON ((241791.359 383254.344, 241778.391 38...</td>\n",
       "    </tr>\n",
       "    <tr>\n",
       "      <th>BT521HS</th>\n",
       "      <td>MULTIPOLYGON (((285173.500 400934.625, 285178....</td>\n",
       "    </tr>\n",
       "    <tr>\n",
       "      <th>BT635QQ</th>\n",
       "      <td>MULTIPOLYGON (((292320.812 312793.406, 292324....</td>\n",
       "    </tr>\n",
       "    <tr>\n",
       "      <th>BT746DN</th>\n",
       "      <td>POLYGON ((234860.312 321458.750, 234858.609 32...</td>\n",
       "    </tr>\n",
       "  </tbody>\n",
       "</table>\n",
       "</div>"
      ],
      "text/plain": [
       "                                                              geometry\n",
       "unit_postcode_acute                                                   \n",
       "BT126BA              MULTIPOLYGON (((330973.812 313545.625, 330964....\n",
       "BT161RH              MULTIPOLYGON (((353700.375 336535.562, 353703....\n",
       "BT412RL              POLYGON ((315133.250 375991.062, 315114.781 37...\n",
       "BT476SB              POLYGON ((241791.359 383254.344, 241778.391 38...\n",
       "BT521HS              MULTIPOLYGON (((285173.500 400934.625, 285178....\n",
       "BT635QQ              MULTIPOLYGON (((292320.812 312793.406, 292324....\n",
       "BT746DN              POLYGON ((234860.312 321458.750, 234858.609 32..."
      ]
     },
     "execution_count": 58,
     "metadata": {},
     "output_type": "execute_result"
    }
   ],
   "source": [
    "gdf_catchment_ni"
   ]
  },
  {
   "cell_type": "markdown",
   "id": "a7ffb721-5fa8-4b17-9daa-1c4352fea9ea",
   "metadata": {},
   "source": [
    "For plotting the regions here, assign each region a number in the `adjacent_colours` column. Regions that border each other will never be given the same number."
   ]
  },
  {
   "cell_type": "code",
   "execution_count": 59,
   "id": "86ddad1a-00d1-4b50-83e2-34768cc9807e",
   "metadata": {},
   "outputs": [],
   "source": [
    "# Use greedy to assign colours wherein adjacent polygons are never the same\n",
    "# min_distance is the minimal distance between colours\n",
    "# balance=count means we try to balance number of features per colour\n",
    "gdf_catchment_ni['adjacent_colours'] = greedy(\n",
    "    gdf_catchment_ni, min_distance=1, balance='count').astype(str)"
   ]
  },
  {
   "cell_type": "markdown",
   "id": "6e1c02e2-7ba5-4746-a7cc-8ff0c5416e61",
   "metadata": {},
   "source": [
    "Map these numbers to some colour names of our choosing:"
   ]
  },
  {
   "cell_type": "code",
   "execution_count": 60,
   "id": "b64e7c3b-0763-4106-8f23-eaaca1a77d85",
   "metadata": {},
   "outputs": [],
   "source": [
    "# Make a list of colour names:\n",
    "# Expecting to only need about six colours for this example.\n",
    "colours = ['Indigo', 'Purple', 'DarkOrchid', 'MediumOrchid', 'Orchid', 'Plum', 'Lavender']\n",
    "\n",
    "# Make a dictionary of numbers to colours.\n",
    "# The keys are the numbers in the `adjacent_colours` column:\n",
    "keys = [f'{i}' for i in range(len(colours))]\n",
    "colour_map = dict(zip(keys, colours))\n",
    "\n",
    "# Assign these colours to the regions:\n",
    "gdf_catchment_ni['colour_str'] = gdf_catchment_ni['adjacent_colours'].map(colour_map)"
   ]
  },
  {
   "cell_type": "code",
   "execution_count": 61,
   "id": "7b4f5b69-77e2-4530-aac1-3fa801e08f58",
   "metadata": {},
   "outputs": [
    {
     "data": {
      "text/html": [
       "<div>\n",
       "<style scoped>\n",
       "    .dataframe tbody tr th:only-of-type {\n",
       "        vertical-align: middle;\n",
       "    }\n",
       "\n",
       "    .dataframe tbody tr th {\n",
       "        vertical-align: top;\n",
       "    }\n",
       "\n",
       "    .dataframe thead th {\n",
       "        text-align: right;\n",
       "    }\n",
       "</style>\n",
       "<table border=\"1\" class=\"dataframe\">\n",
       "  <thead>\n",
       "    <tr style=\"text-align: right;\">\n",
       "      <th></th>\n",
       "      <th>geometry</th>\n",
       "      <th>adjacent_colours</th>\n",
       "      <th>colour_str</th>\n",
       "    </tr>\n",
       "    <tr>\n",
       "      <th>unit_postcode_acute</th>\n",
       "      <th></th>\n",
       "      <th></th>\n",
       "      <th></th>\n",
       "    </tr>\n",
       "  </thead>\n",
       "  <tbody>\n",
       "    <tr>\n",
       "      <th>BT126BA</th>\n",
       "      <td>MULTIPOLYGON (((330973.812 313545.625, 330964....</td>\n",
       "      <td>3</td>\n",
       "      <td>MediumOrchid</td>\n",
       "    </tr>\n",
       "    <tr>\n",
       "      <th>BT161RH</th>\n",
       "      <td>MULTIPOLYGON (((353700.375 336535.562, 353703....</td>\n",
       "      <td>1</td>\n",
       "      <td>Purple</td>\n",
       "    </tr>\n",
       "    <tr>\n",
       "      <th>BT412RL</th>\n",
       "      <td>POLYGON ((315133.250 375991.062, 315114.781 37...</td>\n",
       "      <td>0</td>\n",
       "      <td>Indigo</td>\n",
       "    </tr>\n",
       "    <tr>\n",
       "      <th>BT476SB</th>\n",
       "      <td>POLYGON ((241791.359 383254.344, 241778.391 38...</td>\n",
       "      <td>1</td>\n",
       "      <td>Purple</td>\n",
       "    </tr>\n",
       "    <tr>\n",
       "      <th>BT521HS</th>\n",
       "      <td>MULTIPOLYGON (((285173.500 400934.625, 285178....</td>\n",
       "      <td>2</td>\n",
       "      <td>DarkOrchid</td>\n",
       "    </tr>\n",
       "    <tr>\n",
       "      <th>BT635QQ</th>\n",
       "      <td>MULTIPOLYGON (((292320.812 312793.406, 292324....</td>\n",
       "      <td>2</td>\n",
       "      <td>DarkOrchid</td>\n",
       "    </tr>\n",
       "    <tr>\n",
       "      <th>BT746DN</th>\n",
       "      <td>POLYGON ((234860.312 321458.750, 234858.609 32...</td>\n",
       "      <td>0</td>\n",
       "      <td>Indigo</td>\n",
       "    </tr>\n",
       "  </tbody>\n",
       "</table>\n",
       "</div>"
      ],
      "text/plain": [
       "                                                              geometry  \\\n",
       "unit_postcode_acute                                                      \n",
       "BT126BA              MULTIPOLYGON (((330973.812 313545.625, 330964....   \n",
       "BT161RH              MULTIPOLYGON (((353700.375 336535.562, 353703....   \n",
       "BT412RL              POLYGON ((315133.250 375991.062, 315114.781 37...   \n",
       "BT476SB              POLYGON ((241791.359 383254.344, 241778.391 38...   \n",
       "BT521HS              MULTIPOLYGON (((285173.500 400934.625, 285178....   \n",
       "BT635QQ              MULTIPOLYGON (((292320.812 312793.406, 292324....   \n",
       "BT746DN              POLYGON ((234860.312 321458.750, 234858.609 32...   \n",
       "\n",
       "                    adjacent_colours    colour_str  \n",
       "unit_postcode_acute                                 \n",
       "BT126BA                            3  MediumOrchid  \n",
       "BT161RH                            1        Purple  \n",
       "BT412RL                            0        Indigo  \n",
       "BT476SB                            1        Purple  \n",
       "BT521HS                            2    DarkOrchid  \n",
       "BT635QQ                            2    DarkOrchid  \n",
       "BT746DN                            0        Indigo  "
      ]
     },
     "execution_count": 61,
     "metadata": {},
     "output_type": "execute_result"
    }
   ],
   "source": [
    "gdf_catchment_ni"
   ]
  },
  {
   "cell_type": "markdown",
   "id": "d9e790ea-d0ad-40a8-b628-4d12495d7f3e",
   "metadata": {},
   "source": [
    "__Create the map__\n",
    "\n",
    "Load in the stroke unit coordinates and merge in the services information:"
   ]
  },
  {
   "cell_type": "code",
   "execution_count": 62,
   "id": "727c850a-8f74-4ce2-ad73-df4d927316bc",
   "metadata": {},
   "outputs": [],
   "source": [
    "gdf_units_ni = stroke_maps.load_data.stroke_unit_coordinates_ni()\n",
    "gdf_units_ni = pd.merge(\n",
    "    gdf_units_ni, df_units_ni[['use_ivt', 'use_mt']],\n",
    "    left_index=True, right_index=True, how='right'\n",
    ")"
   ]
  },
  {
   "cell_type": "markdown",
   "id": "1fc14261-e6f3-49e9-a771-987520bc48b6",
   "metadata": {},
   "source": [
    "Plot the unit locations and catchment areas using matplotlib:"
   ]
  },
  {
   "cell_type": "code",
   "execution_count": 63,
   "id": "6233252c-097a-497c-8101-b0a7eed6c8a8",
   "metadata": {},
   "outputs": [
    {
     "data": {
      "image/png": "[encoded data removed]",
      "text/plain": [
       "<Figure size 800x800 with 1 Axes>"
      ]
     },
     "metadata": {},
     "output_type": "display_data"
    }
   ],
   "source": [
    "fig, ax = plt.subplots(figsize=(8, 8))\n",
    "\n",
    "# Catchment areas:\n",
    "gdf_catchment_ni.plot(\n",
    "    ax=ax,              # Set which axes to use for plot\n",
    "    antialiased=False,  # Avoids artefact boundary lines\n",
    "    color=gdf_catchment_ni['colour_str'],  # set colours using this column\n",
    "    linewidth=0.2,\n",
    "    )\n",
    "\n",
    "# Pick out which stroke units to plot:\n",
    "mask_ivt = ((gdf_units_ni['use_ivt'] == 1) & (gdf_units_ni['use_mt'] == 0))\n",
    "mask_mt = (gdf_units_ni['use_mt'] == 1)\n",
    "\n",
    "# IVT units:\n",
    "ax.scatter(\n",
    "    gdf_units_ni.loc[mask_ivt, 'geometry'].x,\n",
    "    gdf_units_ni.loc[mask_ivt, 'geometry'].y,\n",
    "    marker='o',\n",
    "    facecolor='k',\n",
    "    label='IVT unit',\n",
    "    s=20,  # size\n",
    "    )\n",
    "\n",
    "# MT units:\n",
    "ax.scatter(\n",
    "    gdf_units_ni.loc[mask_mt, 'geometry'].x,\n",
    "    gdf_units_ni.loc[mask_mt, 'geometry'].y,\n",
    "    marker='*',\n",
    "    facecolor='k',\n",
    "    label='MT unit',\n",
    "    s=40,  # size\n",
    "    )\n",
    "\n",
    "# Remove the axis border, ticks, labels...\n",
    "ax.axis('off')\n",
    "\n",
    "# Add legend:\n",
    "ax.legend()\n",
    "\n",
    "plt.show()"
   ]
  },
  {
   "cell_type": "markdown",
   "id": "bf567bcf-e4b1-4915-af88-6da587d36ac6",
   "metadata": {},
   "source": [
    "## Conclusion\n",
    "\n",
    "We have shown how to find the catchment area of each stroke unit and to plot the results."
   ]
  },
  {
   "cell_type": "code",
   "execution_count": null,
   "id": "b589fccd-ad3c-4cb9-bb0e-24bdc636ccdd",
   "metadata": {},
   "outputs": [],
   "source": []
  }
 ],
 "metadata": {
  "kernelspec": {
   "display_name": "Python 3 (ipykernel)",
   "language": "python",
   "name": "python3"
  },
  "language_info": {
   "codemirror_mode": {
    "name": "ipython",
    "version": 3
   },
   "file_extension": ".py",
   "mimetype": "text/x-python",
   "name": "python",
   "nbconvert_exporter": "python",
   "pygments_lexer": "ipython3",
   "version": "3.12.2"
  }
 },
 "nbformat": 4,
 "nbformat_minor": 5
}
