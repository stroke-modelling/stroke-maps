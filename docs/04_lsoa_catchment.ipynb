{
 "cells": [
  {
   "cell_type": "markdown",
   "id": "be606116-0c03-4daf-87cb-82bc0080581a",
   "metadata": {},
   "source": [
    "# LSOA catchment areas for stroke units\n",
    "\n",
    "Usually we assume that when an ambulance is taking a patient to an acute stroke unit, the ambulance will choose to go to the nearest acute stroke unit out of all available options.\n",
    "\n",
    "Every area of the UK is in a single Lower Super Output Area (LSOA). By calculating the travel time from every LSOA to every stroke unit, we can calculate which acute stroke unit is closest to a patient in any LSOA.\n",
    "\n",
    "This notebook shows how to use the `stroke-maps` package to find the catchment area of each acute stroke unit. It does this by checking each LSOA in turn to find out which stroke unit is nearest to it.\n",
    "\n",
    "## Notebook setup"
   ]
  },
  {
   "cell_type": "code",
   "execution_count": 1,
   "id": "eb8be88d-5c4e-4958-ae5b-2a8ae34e83ee",
   "metadata": {},
   "outputs": [],
   "source": [
    "import stroke_maps.load_data\n",
    "import stroke_maps.units  # for transfer units\n",
    "from stroke_maps.catchment import find_each_lsoa_chosen_unit\n",
    "\n",
    "import pandas as pd"
   ]
  },
  {
   "cell_type": "markdown",
   "id": "5c3acda5-880a-4d7c-be6c-c3a22ed2b3ae",
   "metadata": {},
   "source": [
    "## Load data\n",
    "\n",
    "__LSOA travel time__\n",
    "\n",
    "This dataframe contains one row for each LSOA in England and Wales. There is one column for each stroke unit in England and Wales. The value in each cell is the time from that row's LSOA to that column's stroke unit."
   ]
  },
  {
   "cell_type": "code",
   "execution_count": 2,
   "id": "6fec3840-d71a-443b-8b59-b0244e893639",
   "metadata": {},
   "outputs": [
    {
     "data": {
      "text/html": [
       "<div>\n",
       "<style scoped>\n",
       "    .dataframe tbody tr th:only-of-type {\n",
       "        vertical-align: middle;\n",
       "    }\n",
       "\n",
       "    .dataframe tbody tr th {\n",
       "        vertical-align: top;\n",
       "    }\n",
       "\n",
       "    .dataframe thead th {\n",
       "        text-align: right;\n",
       "    }\n",
       "</style>\n",
       "<table border=\"1\" class=\"dataframe\">\n",
       "  <thead>\n",
       "    <tr style=\"text-align: right;\">\n",
       "      <th></th>\n",
       "      <th>B152TH</th>\n",
       "      <th>B714HJ</th>\n",
       "      <th>B95SS</th>\n",
       "      <th>BA13NG</th>\n",
       "      <th>BA214AT</th>\n",
       "    </tr>\n",
       "    <tr>\n",
       "      <th>LSOA</th>\n",
       "      <th></th>\n",
       "      <th></th>\n",
       "      <th></th>\n",
       "      <th></th>\n",
       "      <th></th>\n",
       "    </tr>\n",
       "  </thead>\n",
       "  <tbody>\n",
       "    <tr>\n",
       "      <th>Adur 001A</th>\n",
       "      <td>173.3</td>\n",
       "      <td>179.8</td>\n",
       "      <td>171.2</td>\n",
       "      <td>161.5</td>\n",
       "      <td>152.9</td>\n",
       "    </tr>\n",
       "    <tr>\n",
       "      <th>Adur 001B</th>\n",
       "      <td>173.3</td>\n",
       "      <td>179.8</td>\n",
       "      <td>172.3</td>\n",
       "      <td>161.5</td>\n",
       "      <td>152.9</td>\n",
       "    </tr>\n",
       "    <tr>\n",
       "      <th>Adur 001C</th>\n",
       "      <td>173.3</td>\n",
       "      <td>180.9</td>\n",
       "      <td>172.3</td>\n",
       "      <td>150.8</td>\n",
       "      <td>151.9</td>\n",
       "    </tr>\n",
       "    <tr>\n",
       "      <th>Adur 001D</th>\n",
       "      <td>173.3</td>\n",
       "      <td>180.9</td>\n",
       "      <td>172.3</td>\n",
       "      <td>161.5</td>\n",
       "      <td>152.9</td>\n",
       "    </tr>\n",
       "    <tr>\n",
       "      <th>Adur 001E</th>\n",
       "      <td>174.4</td>\n",
       "      <td>180.9</td>\n",
       "      <td>173.3</td>\n",
       "      <td>150.8</td>\n",
       "      <td>151.9</td>\n",
       "    </tr>\n",
       "  </tbody>\n",
       "</table>\n",
       "</div>"
      ],
      "text/plain": [
       "           B152TH  B714HJ  B95SS  BA13NG  BA214AT\n",
       "LSOA                                             \n",
       "Adur 001A   173.3   179.8  171.2   161.5    152.9\n",
       "Adur 001B   173.3   179.8  172.3   161.5    152.9\n",
       "Adur 001C   173.3   180.9  172.3   150.8    151.9\n",
       "Adur 001D   173.3   180.9  172.3   161.5    152.9\n",
       "Adur 001E   174.4   180.9  173.3   150.8    151.9"
      ]
     },
     "execution_count": 2,
     "metadata": {},
     "output_type": "execute_result"
    }
   ],
   "source": [
    "df_travel_lsoa = stroke_maps.load_data.travel_time_matrix_lsoa()\n",
    "\n",
    "# Show the first five rows and columns:\n",
    "df_travel_lsoa.iloc[:5, :5]"
   ]
  },
  {
   "cell_type": "markdown",
   "id": "7dbd5d86-836d-4a69-8640-407247a12cc0",
   "metadata": {},
   "source": [
    "Write how many LSOA and then how many stroke teams are in this matrix:"
   ]
  },
  {
   "cell_type": "code",
   "execution_count": 3,
   "id": "699699fe-0580-44b7-8de3-d2522c8b277e",
   "metadata": {},
   "outputs": [
    {
     "data": {
      "text/plain": [
       "(34752, 125)"
      ]
     },
     "execution_count": 3,
     "metadata": {},
     "output_type": "execute_result"
    }
   ],
   "source": [
    "df_travel_lsoa.shape"
   ]
  },
  {
   "cell_type": "markdown",
   "id": "dcf07c53-c8a9-4dc7-aa25-14df33102c74",
   "metadata": {},
   "source": [
    "__Stroke unit services__\n",
    "\n",
    "This dataframe contains information on which stroke units provide which services (IVT and MT). The imported dataframe, df_units, contains only units that appear in the travel time matrix. This includes units that are not acute stroke units (i.e. provide neither thrombolysis nor thrombectomy)."
   ]
  },
  {
   "cell_type": "code",
   "execution_count": 4,
   "id": "d04a9fbf-b82d-494d-9087-6c34fc48dc58",
   "metadata": {},
   "outputs": [
    {
     "data": {
      "text/html": [
       "<div>\n",
       "<style scoped>\n",
       "    .dataframe tbody tr th:only-of-type {\n",
       "        vertical-align: middle;\n",
       "    }\n",
       "\n",
       "    .dataframe tbody tr th {\n",
       "        vertical-align: top;\n",
       "    }\n",
       "\n",
       "    .dataframe thead th {\n",
       "        text-align: right;\n",
       "    }\n",
       "</style>\n",
       "<table border=\"1\" class=\"dataframe\">\n",
       "  <thead>\n",
       "    <tr style=\"text-align: right;\">\n",
       "      <th>postcode</th>\n",
       "      <th>SY231ER</th>\n",
       "      <th>CB20QQ</th>\n",
       "      <th>L97AL</th>\n",
       "    </tr>\n",
       "  </thead>\n",
       "  <tbody>\n",
       "    <tr>\n",
       "      <th>stroke_team</th>\n",
       "      <td>Bronglais Hospital (Aberystwyth)</td>\n",
       "      <td>Addenbrooke's Hospital, Cambridge</td>\n",
       "      <td>University Hospital Aintree, Liverpool</td>\n",
       "    </tr>\n",
       "    <tr>\n",
       "      <th>short_code</th>\n",
       "      <td>AB</td>\n",
       "      <td>AD</td>\n",
       "      <td>AI</td>\n",
       "    </tr>\n",
       "    <tr>\n",
       "      <th>ssnap_name</th>\n",
       "      <td>Bronglais Hospital</td>\n",
       "      <td>Addenbrooke's Hospital</td>\n",
       "      <td>University Hospital Aintree</td>\n",
       "    </tr>\n",
       "    <tr>\n",
       "      <th>use_ivt</th>\n",
       "      <td>1</td>\n",
       "      <td>1</td>\n",
       "      <td>1</td>\n",
       "    </tr>\n",
       "    <tr>\n",
       "      <th>use_mt</th>\n",
       "      <td>0</td>\n",
       "      <td>1</td>\n",
       "      <td>1</td>\n",
       "    </tr>\n",
       "    <tr>\n",
       "      <th>use_msu</th>\n",
       "      <td>0</td>\n",
       "      <td>1</td>\n",
       "      <td>1</td>\n",
       "    </tr>\n",
       "    <tr>\n",
       "      <th>transfer_unit_postcode</th>\n",
       "      <td>nearest</td>\n",
       "      <td>nearest</td>\n",
       "      <td>nearest</td>\n",
       "    </tr>\n",
       "    <tr>\n",
       "      <th>lsoa</th>\n",
       "      <td>Ceredigion 002A</td>\n",
       "      <td>Cambridge 013D</td>\n",
       "      <td>Liverpool 005A</td>\n",
       "    </tr>\n",
       "    <tr>\n",
       "      <th>lsoa_code</th>\n",
       "      <td>W01000512</td>\n",
       "      <td>E01017995</td>\n",
       "      <td>E01006654</td>\n",
       "    </tr>\n",
       "    <tr>\n",
       "      <th>region</th>\n",
       "      <td>Hywel Dda University Health Board</td>\n",
       "      <td>NHS Cambridgeshire and Peterborough ICB - 06H</td>\n",
       "      <td>NHS Cheshire and Merseyside ICB - 99A</td>\n",
       "    </tr>\n",
       "    <tr>\n",
       "      <th>region_code</th>\n",
       "      <td>W11000025</td>\n",
       "      <td>E38000260</td>\n",
       "      <td>E38000101</td>\n",
       "    </tr>\n",
       "    <tr>\n",
       "      <th>region_type</th>\n",
       "      <td>LHB</td>\n",
       "      <td>SICBL</td>\n",
       "      <td>SICBL</td>\n",
       "    </tr>\n",
       "    <tr>\n",
       "      <th>country</th>\n",
       "      <td>Wales</td>\n",
       "      <td>England</td>\n",
       "      <td>England</td>\n",
       "    </tr>\n",
       "    <tr>\n",
       "      <th>icb</th>\n",
       "      <td>NaN</td>\n",
       "      <td>NHS Cambridgeshire and Peterborough Integrated...</td>\n",
       "      <td>NHS Cheshire and Merseyside Integrated Care Board</td>\n",
       "    </tr>\n",
       "    <tr>\n",
       "      <th>icb_code</th>\n",
       "      <td>NaN</td>\n",
       "      <td>E54000056</td>\n",
       "      <td>E54000008</td>\n",
       "    </tr>\n",
       "    <tr>\n",
       "      <th>isdn</th>\n",
       "      <td>NaN</td>\n",
       "      <td>East of England (South)</td>\n",
       "      <td>Cheshire and Merseyside</td>\n",
       "    </tr>\n",
       "  </tbody>\n",
       "</table>\n",
       "</div>"
      ],
      "text/plain": [
       "postcode                                          SY231ER  \\\n",
       "stroke_team              Bronglais Hospital (Aberystwyth)   \n",
       "short_code                                             AB   \n",
       "ssnap_name                             Bronglais Hospital   \n",
       "use_ivt                                                 1   \n",
       "use_mt                                                  0   \n",
       "use_msu                                                 0   \n",
       "transfer_unit_postcode                            nearest   \n",
       "lsoa                                      Ceredigion 002A   \n",
       "lsoa_code                                       W01000512   \n",
       "region                  Hywel Dda University Health Board   \n",
       "region_code                                     W11000025   \n",
       "region_type                                           LHB   \n",
       "country                                             Wales   \n",
       "icb                                                   NaN   \n",
       "icb_code                                              NaN   \n",
       "isdn                                                  NaN   \n",
       "\n",
       "postcode                                                           CB20QQ  \\\n",
       "stroke_team                             Addenbrooke's Hospital, Cambridge   \n",
       "short_code                                                             AD   \n",
       "ssnap_name                                         Addenbrooke's Hospital   \n",
       "use_ivt                                                                 1   \n",
       "use_mt                                                                  1   \n",
       "use_msu                                                                 1   \n",
       "transfer_unit_postcode                                            nearest   \n",
       "lsoa                                                       Cambridge 013D   \n",
       "lsoa_code                                                       E01017995   \n",
       "region                      NHS Cambridgeshire and Peterborough ICB - 06H   \n",
       "region_code                                                     E38000260   \n",
       "region_type                                                         SICBL   \n",
       "country                                                           England   \n",
       "icb                     NHS Cambridgeshire and Peterborough Integrated...   \n",
       "icb_code                                                        E54000056   \n",
       "isdn                                              East of England (South)   \n",
       "\n",
       "postcode                                                            L97AL  \n",
       "stroke_team                        University Hospital Aintree, Liverpool  \n",
       "short_code                                                             AI  \n",
       "ssnap_name                                    University Hospital Aintree  \n",
       "use_ivt                                                                 1  \n",
       "use_mt                                                                  1  \n",
       "use_msu                                                                 1  \n",
       "transfer_unit_postcode                                            nearest  \n",
       "lsoa                                                       Liverpool 005A  \n",
       "lsoa_code                                                       E01006654  \n",
       "region                              NHS Cheshire and Merseyside ICB - 99A  \n",
       "region_code                                                     E38000101  \n",
       "region_type                                                         SICBL  \n",
       "country                                                           England  \n",
       "icb                     NHS Cheshire and Merseyside Integrated Care Board  \n",
       "icb_code                                                        E54000008  \n",
       "isdn                                              Cheshire and Merseyside  "
      ]
     },
     "execution_count": 4,
     "metadata": {},
     "output_type": "execute_result"
    }
   ],
   "source": [
    "df_units = stroke_maps.load_data.stroke_unit_region_lookup()\n",
    "\n",
    "df_units.head(3).T"
   ]
  },
  {
   "cell_type": "markdown",
   "id": "359825ff-ba63-4098-a55d-278b739c7c52",
   "metadata": {},
   "source": [
    "## Calculate nearest acute stroke unit\n",
    "\n",
    "The full travel time matrix gives the time from every LSOA to every stroke unit, including those that don't provide acute care. Realistically an ambulance should never choose to take the patient to those units.\n",
    "\n",
    "Firstly, find a list of stroke units that offer acute care. These are units where `use_ivt` and/or `use_mt` are equal to 1 (one)."
   ]
  },
  {
   "cell_type": "code",
   "execution_count": 5,
   "id": "b2010e8b-3383-45e4-9b5f-1fdaba78ae33",
   "metadata": {},
   "outputs": [],
   "source": [
    "mask_acute = ((df_units['use_ivt'] == 1) | (df_units['use_mt'] == 1))\n",
    "\n",
    "postcodes_acute_units = df_units[mask_acute].index.values"
   ]
  },
  {
   "cell_type": "markdown",
   "id": "a69a7b2f-9b87-4c15-a41e-06b3787a8584",
   "metadata": {},
   "source": [
    "Check how many postcodes are in this list compared with how many stroke units are in the full dataframe:"
   ]
  },
  {
   "cell_type": "code",
   "execution_count": 20,
   "id": "18b977e1-e621-4c5c-94d3-29d1bd5f2f30",
   "metadata": {},
   "outputs": [
    {
     "name": "stdout",
     "output_type": "stream",
     "text": [
      "141 113\n"
     ]
    }
   ],
   "source": [
    "n_units = len(df_units)\n",
    "n_units_acute = len(postcodes_acute_units)\n",
    "\n",
    "print(n_units, n_units_acute)"
   ]
  },
  {
   "cell_type": "markdown",
   "id": "9987a99b-d84b-40bb-99d3-d62574b30e26",
   "metadata": {},
   "source": [
    "Now make a copy of the travel time matrix that only includes times to these units:"
   ]
  },
  {
   "cell_type": "code",
   "execution_count": 8,
   "id": "17123f1c-5c21-4664-a66d-18fa4fd9dab0",
   "metadata": {},
   "outputs": [
    {
     "data": {
      "text/plain": [
       "(34752, 113)"
      ]
     },
     "execution_count": 8,
     "metadata": {},
     "output_type": "execute_result"
    }
   ],
   "source": [
    "df_travel_lsoa_acute = df_travel_lsoa[postcodes_acute_units].copy()\n",
    "\n",
    "# (Number of LSOA, number of stroke teams)\n",
    "df_travel_lsoa_acute.shape"
   ]
  },
  {
   "cell_type": "markdown",
   "id": "58337b18-ddda-4990-8ae3-b652d27b50da",
   "metadata": {},
   "source": [
    "Run the function to find which of the units in the reduced dataframe is closest to each LSOA:"
   ]
  },
  {
   "cell_type": "code",
   "execution_count": 9,
   "id": "895cf6e7-7fdf-4ce0-a958-8d4d51a267d1",
   "metadata": {},
   "outputs": [
    {
     "data": {
      "text/html": [
       "<div>\n",
       "<style scoped>\n",
       "    .dataframe tbody tr th:only-of-type {\n",
       "        vertical-align: middle;\n",
       "    }\n",
       "\n",
       "    .dataframe tbody tr th {\n",
       "        vertical-align: top;\n",
       "    }\n",
       "\n",
       "    .dataframe thead th {\n",
       "        text-align: right;\n",
       "    }\n",
       "</style>\n",
       "<table border=\"1\" class=\"dataframe\">\n",
       "  <thead>\n",
       "    <tr style=\"text-align: right;\">\n",
       "      <th></th>\n",
       "      <th>unit_travel_time</th>\n",
       "      <th>unit_postcode</th>\n",
       "    </tr>\n",
       "    <tr>\n",
       "      <th>LSOA</th>\n",
       "      <th></th>\n",
       "      <th></th>\n",
       "    </tr>\n",
       "  </thead>\n",
       "  <tbody>\n",
       "    <tr>\n",
       "      <th>Adur 001A</th>\n",
       "      <td>17.6</td>\n",
       "      <td>BN25BE</td>\n",
       "    </tr>\n",
       "    <tr>\n",
       "      <th>Adur 001B</th>\n",
       "      <td>18.7</td>\n",
       "      <td>BN25BE</td>\n",
       "    </tr>\n",
       "    <tr>\n",
       "      <th>Adur 001C</th>\n",
       "      <td>17.6</td>\n",
       "      <td>BN112DH</td>\n",
       "    </tr>\n",
       "    <tr>\n",
       "      <th>Adur 001D</th>\n",
       "      <td>17.6</td>\n",
       "      <td>BN112DH</td>\n",
       "    </tr>\n",
       "    <tr>\n",
       "      <th>Adur 001E</th>\n",
       "      <td>16.5</td>\n",
       "      <td>BN112DH</td>\n",
       "    </tr>\n",
       "  </tbody>\n",
       "</table>\n",
       "</div>"
      ],
      "text/plain": [
       "           unit_travel_time unit_postcode\n",
       "LSOA                                     \n",
       "Adur 001A              17.6        BN25BE\n",
       "Adur 001B              18.7        BN25BE\n",
       "Adur 001C              17.6       BN112DH\n",
       "Adur 001D              17.6       BN112DH\n",
       "Adur 001E              16.5       BN112DH"
      ]
     },
     "execution_count": 9,
     "metadata": {},
     "output_type": "execute_result"
    }
   ],
   "source": [
    "df_catchment_acute = find_each_lsoa_chosen_unit(df_travel_lsoa_acute)\n",
    "\n",
    "df_catchment_acute.head(5)"
   ]
  },
  {
   "cell_type": "markdown",
   "id": "b1842f63-6abf-4f03-bd5b-077311c47435",
   "metadata": {},
   "source": [
    "## Calculate nearest thrombectomy unit\n",
    "\n",
    "We can use a very similar method to before by only keeping stroke units that offer thrombectomy (MT):"
   ]
  },
  {
   "cell_type": "code",
   "execution_count": 10,
   "id": "876d10e1-394a-41af-8a63-156164434966",
   "metadata": {},
   "outputs": [],
   "source": [
    "mask_mt = (df_units['use_mt'] == 1)\n",
    "\n",
    "postcodes_mt_units = df_units[mask_mt].index.values"
   ]
  },
  {
   "cell_type": "markdown",
   "id": "df9f45c5-43e6-4f5a-8f57-14dbd40ac34e",
   "metadata": {},
   "source": [
    "Check how many postcodes are in this list compared with how many stroke units are in the full dataframe:"
   ]
  },
  {
   "cell_type": "code",
   "execution_count": 19,
   "id": "300565d4-402b-4366-8d14-110db8ec7a25",
   "metadata": {},
   "outputs": [
    {
     "name": "stdout",
     "output_type": "stream",
     "text": [
      "141 25\n"
     ]
    }
   ],
   "source": [
    "n_units = len(df_units)\n",
    "n_units_mt = len(postcodes_mt_units)\n",
    "\n",
    "print(n_units, n_units_mt)"
   ]
  },
  {
   "cell_type": "markdown",
   "id": "e4aab58b-f353-43e0-b81d-e3f7df92f104",
   "metadata": {},
   "source": [
    "Now make a copy of the travel time matrix that includes times to only these units:"
   ]
  },
  {
   "cell_type": "code",
   "execution_count": 13,
   "id": "8c255d0d-0c22-45a0-bc3e-c15be2f8d6ce",
   "metadata": {},
   "outputs": [
    {
     "data": {
      "text/plain": [
       "(34752, 25)"
      ]
     },
     "execution_count": 13,
     "metadata": {},
     "output_type": "execute_result"
    }
   ],
   "source": [
    "df_travel_lsoa_mt = df_travel_lsoa[postcodes_mt_units].copy()\n",
    "\n",
    "# (Number of LSOA, number of stroke teams)\n",
    "df_travel_lsoa_mt.shape"
   ]
  },
  {
   "cell_type": "markdown",
   "id": "bb26169f-cdba-4abf-a889-10599aa9c89b",
   "metadata": {},
   "source": [
    "Run the function to find which of the units in the reduced dataframe is closest to each LSOA:"
   ]
  },
  {
   "cell_type": "code",
   "execution_count": 14,
   "id": "065ed5fe-34b6-494e-9a7d-6e2e007d169f",
   "metadata": {},
   "outputs": [
    {
     "data": {
      "text/html": [
       "<div>\n",
       "<style scoped>\n",
       "    .dataframe tbody tr th:only-of-type {\n",
       "        vertical-align: middle;\n",
       "    }\n",
       "\n",
       "    .dataframe tbody tr th {\n",
       "        vertical-align: top;\n",
       "    }\n",
       "\n",
       "    .dataframe thead th {\n",
       "        text-align: right;\n",
       "    }\n",
       "</style>\n",
       "<table border=\"1\" class=\"dataframe\">\n",
       "  <thead>\n",
       "    <tr style=\"text-align: right;\">\n",
       "      <th></th>\n",
       "      <th>unit_travel_time</th>\n",
       "      <th>unit_postcode</th>\n",
       "    </tr>\n",
       "    <tr>\n",
       "      <th>LSOA</th>\n",
       "      <th></th>\n",
       "      <th></th>\n",
       "    </tr>\n",
       "  </thead>\n",
       "  <tbody>\n",
       "    <tr>\n",
       "      <th>Adur 001A</th>\n",
       "      <td>17.6</td>\n",
       "      <td>BN25BE</td>\n",
       "    </tr>\n",
       "    <tr>\n",
       "      <th>Adur 001B</th>\n",
       "      <td>18.7</td>\n",
       "      <td>BN25BE</td>\n",
       "    </tr>\n",
       "    <tr>\n",
       "      <th>Adur 001C</th>\n",
       "      <td>19.8</td>\n",
       "      <td>BN25BE</td>\n",
       "    </tr>\n",
       "    <tr>\n",
       "      <th>Adur 001D</th>\n",
       "      <td>19.8</td>\n",
       "      <td>BN25BE</td>\n",
       "    </tr>\n",
       "    <tr>\n",
       "      <th>Adur 001E</th>\n",
       "      <td>19.8</td>\n",
       "      <td>BN25BE</td>\n",
       "    </tr>\n",
       "  </tbody>\n",
       "</table>\n",
       "</div>"
      ],
      "text/plain": [
       "           unit_travel_time unit_postcode\n",
       "LSOA                                     \n",
       "Adur 001A              17.6        BN25BE\n",
       "Adur 001B              18.7        BN25BE\n",
       "Adur 001C              19.8        BN25BE\n",
       "Adur 001D              19.8        BN25BE\n",
       "Adur 001E              19.8        BN25BE"
      ]
     },
     "execution_count": 14,
     "metadata": {},
     "output_type": "execute_result"
    }
   ],
   "source": [
    "df_catchment_mt = find_each_lsoa_chosen_unit(df_travel_lsoa_mt)\n",
    "\n",
    "df_catchment_mt.head(5)"
   ]
  },
  {
   "cell_type": "markdown",
   "id": "60413c2c-6d0a-4146-8704-941095e7a5c7",
   "metadata": {},
   "source": [
    "## Calculate nearest transfer unit\n",
    "\n",
    "The method for finding transfer units is shown in more detail in _the transfer units demonstration_ (__TO DO__: add link to this)."
   ]
  },
  {
   "cell_type": "code",
   "execution_count": 15,
   "id": "cb11b0cf-a0d7-4afb-af57-39075b1b2492",
   "metadata": {},
   "outputs": [],
   "source": [
    "df_transfer = stroke_maps.units.calculate_transfer_units(df_units)"
   ]
  },
  {
   "cell_type": "code",
   "execution_count": 16,
   "id": "939b5251-baa0-4fd4-8709-f648daf604c1",
   "metadata": {},
   "outputs": [
    {
     "data": {
      "text/html": [
       "<div>\n",
       "<style scoped>\n",
       "    .dataframe tbody tr th:only-of-type {\n",
       "        vertical-align: middle;\n",
       "    }\n",
       "\n",
       "    .dataframe tbody tr th {\n",
       "        vertical-align: top;\n",
       "    }\n",
       "\n",
       "    .dataframe thead th {\n",
       "        text-align: right;\n",
       "    }\n",
       "</style>\n",
       "<table border=\"1\" class=\"dataframe\">\n",
       "  <thead>\n",
       "    <tr style=\"text-align: right;\">\n",
       "      <th></th>\n",
       "      <th>transfer_unit_travel_time</th>\n",
       "      <th>transfer_unit_postcode</th>\n",
       "    </tr>\n",
       "    <tr>\n",
       "      <th>postcode</th>\n",
       "      <th></th>\n",
       "      <th></th>\n",
       "    </tr>\n",
       "  </thead>\n",
       "  <tbody>\n",
       "    <tr>\n",
       "      <th>SY231ER</th>\n",
       "      <td>135.8</td>\n",
       "      <td>CF144XW</td>\n",
       "    </tr>\n",
       "    <tr>\n",
       "      <th>CB20QQ</th>\n",
       "      <td>0.0</td>\n",
       "      <td>CB20QQ</td>\n",
       "    </tr>\n",
       "    <tr>\n",
       "      <th>L97AL</th>\n",
       "      <td>0.0</td>\n",
       "      <td>L97AL</td>\n",
       "    </tr>\n",
       "    <tr>\n",
       "      <th>CH495PE</th>\n",
       "      <td>27.3</td>\n",
       "      <td>L97AL</td>\n",
       "    </tr>\n",
       "    <tr>\n",
       "      <th>BA13NG</th>\n",
       "      <td>33.7</td>\n",
       "      <td>BS105NB</td>\n",
       "    </tr>\n",
       "    <tr>\n",
       "      <th>...</th>\n",
       "      <td>...</td>\n",
       "      <td>...</td>\n",
       "    </tr>\n",
       "    <tr>\n",
       "      <th>SL24HL</th>\n",
       "      <td>NaN</td>\n",
       "      <td>&lt;NA&gt;</td>\n",
       "    </tr>\n",
       "    <tr>\n",
       "      <th>HP112TT</th>\n",
       "      <td>34.8</td>\n",
       "      <td>OX39DU</td>\n",
       "    </tr>\n",
       "    <tr>\n",
       "      <th>BA214AT</th>\n",
       "      <td>74.5</td>\n",
       "      <td>BS105NB</td>\n",
       "    </tr>\n",
       "    <tr>\n",
       "      <th>YO318HE</th>\n",
       "      <td>44.5</td>\n",
       "      <td>LS13EX</td>\n",
       "    </tr>\n",
       "    <tr>\n",
       "      <th>LL572PW</th>\n",
       "      <td>103.5</td>\n",
       "      <td>L97AL</td>\n",
       "    </tr>\n",
       "  </tbody>\n",
       "</table>\n",
       "<p>141 rows × 2 columns</p>\n",
       "</div>"
      ],
      "text/plain": [
       "          transfer_unit_travel_time transfer_unit_postcode\n",
       "postcode                                                  \n",
       "SY231ER                       135.8                CF144XW\n",
       "CB20QQ                          0.0                 CB20QQ\n",
       "L97AL                           0.0                  L97AL\n",
       "CH495PE                        27.3                  L97AL\n",
       "BA13NG                         33.7                BS105NB\n",
       "...                             ...                    ...\n",
       "SL24HL                          NaN                   <NA>\n",
       "HP112TT                        34.8                 OX39DU\n",
       "BA214AT                        74.5                BS105NB\n",
       "YO318HE                        44.5                 LS13EX\n",
       "LL572PW                       103.5                  L97AL\n",
       "\n",
       "[141 rows x 2 columns]"
      ]
     },
     "execution_count": 16,
     "metadata": {},
     "output_type": "execute_result"
    }
   ],
   "source": [
    "df_transfer"
   ]
  },
  {
   "cell_type": "markdown",
   "id": "78deb1fe-76ef-4ed2-b015-e3e7e542f8a8",
   "metadata": {},
   "source": [
    "## Combine results for nearest acute, MT, and transfer units"
   ]
  },
  {
   "cell_type": "code",
   "execution_count": 17,
   "id": "d3d71f43-1dc2-498e-97e7-b92ea252cb96",
   "metadata": {},
   "outputs": [],
   "source": [
    "# Combine nearest unit and nearest MT unit:\n",
    "df_results = pd.merge(\n",
    "    df_catchment_acute, df_catchment_mt,\n",
    "    left_index=True, right_index=True, how='left',\n",
    "    suffixes=['_acute', '_mt']\n",
    ")\n",
    "# Combine these with the nearest unit's transfer unit:\n",
    "df_results = pd.merge(\n",
    "    df_results, df_transfer,\n",
    "    left_on='unit_postcode_acute', right_index=True, how='left',\n",
    ")"
   ]
  },
  {
   "cell_type": "code",
   "execution_count": 18,
   "id": "2e9eb478-8466-459a-a827-b51a59909e89",
   "metadata": {},
   "outputs": [
    {
     "data": {
      "text/html": [
       "<div>\n",
       "<style scoped>\n",
       "    .dataframe tbody tr th:only-of-type {\n",
       "        vertical-align: middle;\n",
       "    }\n",
       "\n",
       "    .dataframe tbody tr th {\n",
       "        vertical-align: top;\n",
       "    }\n",
       "\n",
       "    .dataframe thead th {\n",
       "        text-align: right;\n",
       "    }\n",
       "</style>\n",
       "<table border=\"1\" class=\"dataframe\">\n",
       "  <thead>\n",
       "    <tr style=\"text-align: right;\">\n",
       "      <th></th>\n",
       "      <th>unit_travel_time_acute</th>\n",
       "      <th>unit_postcode_acute</th>\n",
       "      <th>unit_travel_time_mt</th>\n",
       "      <th>unit_postcode_mt</th>\n",
       "      <th>transfer_unit_travel_time</th>\n",
       "      <th>transfer_unit_postcode</th>\n",
       "    </tr>\n",
       "    <tr>\n",
       "      <th>LSOA</th>\n",
       "      <th></th>\n",
       "      <th></th>\n",
       "      <th></th>\n",
       "      <th></th>\n",
       "      <th></th>\n",
       "      <th></th>\n",
       "    </tr>\n",
       "  </thead>\n",
       "  <tbody>\n",
       "    <tr>\n",
       "      <th>Adur 001A</th>\n",
       "      <td>17.6</td>\n",
       "      <td>BN25BE</td>\n",
       "      <td>17.6</td>\n",
       "      <td>BN25BE</td>\n",
       "      <td>0.0</td>\n",
       "      <td>BN25BE</td>\n",
       "    </tr>\n",
       "    <tr>\n",
       "      <th>Adur 001B</th>\n",
       "      <td>18.7</td>\n",
       "      <td>BN25BE</td>\n",
       "      <td>18.7</td>\n",
       "      <td>BN25BE</td>\n",
       "      <td>0.0</td>\n",
       "      <td>BN25BE</td>\n",
       "    </tr>\n",
       "    <tr>\n",
       "      <th>Adur 001C</th>\n",
       "      <td>17.6</td>\n",
       "      <td>BN112DH</td>\n",
       "      <td>19.8</td>\n",
       "      <td>BN25BE</td>\n",
       "      <td>31.6</td>\n",
       "      <td>BN25BE</td>\n",
       "    </tr>\n",
       "    <tr>\n",
       "      <th>Adur 001D</th>\n",
       "      <td>17.6</td>\n",
       "      <td>BN112DH</td>\n",
       "      <td>19.8</td>\n",
       "      <td>BN25BE</td>\n",
       "      <td>31.6</td>\n",
       "      <td>BN25BE</td>\n",
       "    </tr>\n",
       "    <tr>\n",
       "      <th>Adur 001E</th>\n",
       "      <td>16.5</td>\n",
       "      <td>BN112DH</td>\n",
       "      <td>19.8</td>\n",
       "      <td>BN25BE</td>\n",
       "      <td>31.6</td>\n",
       "      <td>BN25BE</td>\n",
       "    </tr>\n",
       "  </tbody>\n",
       "</table>\n",
       "</div>"
      ],
      "text/plain": [
       "           unit_travel_time_acute unit_postcode_acute  unit_travel_time_mt  \\\n",
       "LSOA                                                                         \n",
       "Adur 001A                    17.6              BN25BE                 17.6   \n",
       "Adur 001B                    18.7              BN25BE                 18.7   \n",
       "Adur 001C                    17.6             BN112DH                 19.8   \n",
       "Adur 001D                    17.6             BN112DH                 19.8   \n",
       "Adur 001E                    16.5             BN112DH                 19.8   \n",
       "\n",
       "          unit_postcode_mt  transfer_unit_travel_time transfer_unit_postcode  \n",
       "LSOA                                                                          \n",
       "Adur 001A           BN25BE                        0.0                 BN25BE  \n",
       "Adur 001B           BN25BE                        0.0                 BN25BE  \n",
       "Adur 001C           BN25BE                       31.6                 BN25BE  \n",
       "Adur 001D           BN25BE                       31.6                 BN25BE  \n",
       "Adur 001E           BN25BE                       31.6                 BN25BE  "
      ]
     },
     "execution_count": 18,
     "metadata": {},
     "output_type": "execute_result"
    }
   ],
   "source": [
    "df_results.head(5)"
   ]
  },
  {
   "cell_type": "markdown",
   "id": "c011871e-d3f2-40db-8002-9ae0609131d6",
   "metadata": {},
   "source": [
    "## Example: turning Birmingham into an island\n",
    "\n",
    "Ordinarily the catchment areas of each stroke unit don't match up nicely to other defined regions, for example the Integrated Care Boards or Ambulance Service boundaries.\n",
    "\n",
    "Sometimes though it's preferable to only consider patients within a given Integrated Care Board region, even if patients outside the border would still ordinarily travel to a stroke unit within that ICB.\n",
    "\n",
    "This is quite like pretending that everything outside the ICB doesn't exist. Outside the ICB, there are no LSOA with patients who will want to enter the ICB for treatment. Outside the ICB, there are no other stroke units that patients within the ICB might prefer to travel to.\n",
    "\n",
    "When the regions are split off like this, it is as though each one is its own island with nothing else surrounding it.\n",
    "\n",
    "To create this effect with the catchment code, it is possible to restrict:\n",
    "+ which stroke units are considered for each LSOA\n",
    "+ which LSOA are considered"
   ]
  },
  {
   "cell_type": "code",
   "execution_count": null,
   "id": "bb2ac217-611f-40c3-940e-89827f778438",
   "metadata": {},
   "outputs": [],
   "source": []
  }
 ],
 "metadata": {
  "kernelspec": {
   "display_name": "Python 3 (ipykernel)",
   "language": "python",
   "name": "python3"
  },
  "language_info": {
   "codemirror_mode": {
    "name": "ipython",
    "version": 3
   },
   "file_extension": ".py",
   "mimetype": "text/x-python",
   "name": "python",
   "nbconvert_exporter": "python",
   "pygments_lexer": "ipython3",
   "version": "3.12.2"
  }
 },
 "nbformat": 4,
 "nbformat_minor": 5
}
