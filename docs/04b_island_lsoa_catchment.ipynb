{
 "cells": [
  {
   "cell_type": "markdown",
   "id": "be606116-0c03-4daf-87cb-82bc0080581a",
   "metadata": {},
   "source": [
    "# \"Island\" catchment areas\n",
    "\n",
    "Ordinarily the catchment areas of each stroke unit don't match up nicely to other defined regions, for example the Integrated Care Boards or Ambulance Service boundaries.\n",
    "\n",
    "Sometimes though it's preferable to only consider patients within a given region, even if patients outside the border would still ordinarily travel to a stroke unit within that region.\n",
    "\n",
    "This is like pretending that everything outside the region doesn't exist. Outside the region, there are no LSOA with patients who will want to enter the region for treatment. Outside the region, there are no other stroke units that patients within the region might prefer to travel to. When the regions are split off like this, it is as though each one is its own island with nothing else surrounding it.\n",
    "\n",
    "To create this effect with the catchment code, it is possible to restrict:\n",
    "+ which stroke units are considered for each LSOA\n",
    "+ which LSOA are considered\n",
    "\n",
    "In this example we will restrict everything to the ISDN named \"West Midlands\".\n",
    "\n",
    "\n",
    "## Notebook setup"
   ]
  },
  {
   "cell_type": "code",
   "execution_count": 1,
   "id": "eb8be88d-5c4e-4958-ae5b-2a8ae34e83ee",
   "metadata": {},
   "outputs": [],
   "source": [
    "import stroke_maps.load_data\n",
    "import stroke_maps.catchment\n",
    "import stroke_maps.geo\n",
    "\n",
    "import pandas as pd\n",
    "import matplotlib.pyplot as plt\n",
    "from mapclassify import greedy  # to assign colours to regions on map.\n",
    "                                # ^ also requires libpysal."
   ]
  },
  {
   "cell_type": "markdown",
   "id": "5c3acda5-880a-4d7c-be6c-c3a22ed2b3ae",
   "metadata": {},
   "source": [
    "## Load data\n",
    "\n",
    "__LSOA travel time__\n",
    "\n",
    "This dataframe contains one row for each LSOA in England and Wales. There is one column for each stroke unit in England and Wales. The value in each cell is the time from that row's LSOA to that column's stroke unit."
   ]
  },
  {
   "cell_type": "code",
   "execution_count": 2,
   "id": "6fec3840-d71a-443b-8b59-b0244e893639",
   "metadata": {},
   "outputs": [
    {
     "data": {
      "text/html": [
       "<div>\n",
       "<style scoped>\n",
       "    .dataframe tbody tr th:only-of-type {\n",
       "        vertical-align: middle;\n",
       "    }\n",
       "\n",
       "    .dataframe tbody tr th {\n",
       "        vertical-align: top;\n",
       "    }\n",
       "\n",
       "    .dataframe thead th {\n",
       "        text-align: right;\n",
       "    }\n",
       "</style>\n",
       "<table border=\"1\" class=\"dataframe\">\n",
       "  <thead>\n",
       "    <tr style=\"text-align: right;\">\n",
       "      <th></th>\n",
       "      <th>B152TH</th>\n",
       "      <th>B714HJ</th>\n",
       "      <th>B95SS</th>\n",
       "      <th>BA13NG</th>\n",
       "      <th>BA214AT</th>\n",
       "    </tr>\n",
       "    <tr>\n",
       "      <th>LSOA</th>\n",
       "      <th></th>\n",
       "      <th></th>\n",
       "      <th></th>\n",
       "      <th></th>\n",
       "      <th></th>\n",
       "    </tr>\n",
       "  </thead>\n",
       "  <tbody>\n",
       "    <tr>\n",
       "      <th>Adur 001A</th>\n",
       "      <td>173.3</td>\n",
       "      <td>179.8</td>\n",
       "      <td>171.2</td>\n",
       "      <td>161.5</td>\n",
       "      <td>152.9</td>\n",
       "    </tr>\n",
       "    <tr>\n",
       "      <th>Adur 001B</th>\n",
       "      <td>173.3</td>\n",
       "      <td>179.8</td>\n",
       "      <td>172.3</td>\n",
       "      <td>161.5</td>\n",
       "      <td>152.9</td>\n",
       "    </tr>\n",
       "    <tr>\n",
       "      <th>Adur 001C</th>\n",
       "      <td>173.3</td>\n",
       "      <td>180.9</td>\n",
       "      <td>172.3</td>\n",
       "      <td>150.8</td>\n",
       "      <td>151.9</td>\n",
       "    </tr>\n",
       "    <tr>\n",
       "      <th>Adur 001D</th>\n",
       "      <td>173.3</td>\n",
       "      <td>180.9</td>\n",
       "      <td>172.3</td>\n",
       "      <td>161.5</td>\n",
       "      <td>152.9</td>\n",
       "    </tr>\n",
       "    <tr>\n",
       "      <th>Adur 001E</th>\n",
       "      <td>174.4</td>\n",
       "      <td>180.9</td>\n",
       "      <td>173.3</td>\n",
       "      <td>150.8</td>\n",
       "      <td>151.9</td>\n",
       "    </tr>\n",
       "  </tbody>\n",
       "</table>\n",
       "</div>"
      ],
      "text/plain": [
       "           B152TH  B714HJ  B95SS  BA13NG  BA214AT\n",
       "LSOA                                             \n",
       "Adur 001A   173.3   179.8  171.2   161.5    152.9\n",
       "Adur 001B   173.3   179.8  172.3   161.5    152.9\n",
       "Adur 001C   173.3   180.9  172.3   150.8    151.9\n",
       "Adur 001D   173.3   180.9  172.3   161.5    152.9\n",
       "Adur 001E   174.4   180.9  173.3   150.8    151.9"
      ]
     },
     "execution_count": 2,
     "metadata": {},
     "output_type": "execute_result"
    }
   ],
   "source": [
    "df_travel_lsoa = stroke_maps.load_data.travel_time_matrix_lsoa()\n",
    "\n",
    "# Show the first five rows and columns:\n",
    "df_travel_lsoa.iloc[:5, :5]"
   ]
  },
  {
   "cell_type": "markdown",
   "id": "dcf07c53-c8a9-4dc7-aa25-14df33102c74",
   "metadata": {},
   "source": [
    "__Stroke unit services__\n",
    "\n",
    "This dataframe contains information on which stroke units provide which services (IVT and MT). The imported dataframe, df_units, contains only units that appear in the travel time matrix. This includes units that are not acute stroke units (i.e. provide neither thrombolysis nor thrombectomy)."
   ]
  },
  {
   "cell_type": "code",
   "execution_count": 3,
   "id": "d04a9fbf-b82d-494d-9087-6c34fc48dc58",
   "metadata": {},
   "outputs": [
    {
     "data": {
      "text/html": [
       "<div>\n",
       "<style scoped>\n",
       "    .dataframe tbody tr th:only-of-type {\n",
       "        vertical-align: middle;\n",
       "    }\n",
       "\n",
       "    .dataframe tbody tr th {\n",
       "        vertical-align: top;\n",
       "    }\n",
       "\n",
       "    .dataframe thead th {\n",
       "        text-align: right;\n",
       "    }\n",
       "</style>\n",
       "<table border=\"1\" class=\"dataframe\">\n",
       "  <thead>\n",
       "    <tr style=\"text-align: right;\">\n",
       "      <th>postcode</th>\n",
       "      <th>SY231ER</th>\n",
       "      <th>CB20QQ</th>\n",
       "      <th>L97AL</th>\n",
       "    </tr>\n",
       "  </thead>\n",
       "  <tbody>\n",
       "    <tr>\n",
       "      <th>stroke_team</th>\n",
       "      <td>Bronglais Hospital (Aberystwyth)</td>\n",
       "      <td>Addenbrooke's Hospital, Cambridge</td>\n",
       "      <td>University Hospital Aintree, Liverpool</td>\n",
       "    </tr>\n",
       "    <tr>\n",
       "      <th>short_code</th>\n",
       "      <td>AB</td>\n",
       "      <td>AD</td>\n",
       "      <td>AI</td>\n",
       "    </tr>\n",
       "    <tr>\n",
       "      <th>ssnap_name</th>\n",
       "      <td>Bronglais Hospital</td>\n",
       "      <td>Addenbrooke's Hospital</td>\n",
       "      <td>University Hospital Aintree</td>\n",
       "    </tr>\n",
       "    <tr>\n",
       "      <th>use_ivt</th>\n",
       "      <td>1</td>\n",
       "      <td>1</td>\n",
       "      <td>1</td>\n",
       "    </tr>\n",
       "    <tr>\n",
       "      <th>use_mt</th>\n",
       "      <td>0</td>\n",
       "      <td>1</td>\n",
       "      <td>1</td>\n",
       "    </tr>\n",
       "    <tr>\n",
       "      <th>use_msu</th>\n",
       "      <td>0</td>\n",
       "      <td>1</td>\n",
       "      <td>1</td>\n",
       "    </tr>\n",
       "    <tr>\n",
       "      <th>transfer_unit_postcode</th>\n",
       "      <td>nearest</td>\n",
       "      <td>nearest</td>\n",
       "      <td>nearest</td>\n",
       "    </tr>\n",
       "    <tr>\n",
       "      <th>lsoa</th>\n",
       "      <td>Ceredigion 002A</td>\n",
       "      <td>Cambridge 013D</td>\n",
       "      <td>Liverpool 005A</td>\n",
       "    </tr>\n",
       "    <tr>\n",
       "      <th>lsoa_code</th>\n",
       "      <td>W01000512</td>\n",
       "      <td>E01017995</td>\n",
       "      <td>E01006654</td>\n",
       "    </tr>\n",
       "    <tr>\n",
       "      <th>region</th>\n",
       "      <td>Hywel Dda University Health Board</td>\n",
       "      <td>NHS Cambridgeshire and Peterborough ICB - 06H</td>\n",
       "      <td>NHS Cheshire and Merseyside ICB - 99A</td>\n",
       "    </tr>\n",
       "    <tr>\n",
       "      <th>region_code</th>\n",
       "      <td>W11000025</td>\n",
       "      <td>E38000260</td>\n",
       "      <td>E38000101</td>\n",
       "    </tr>\n",
       "    <tr>\n",
       "      <th>region_type</th>\n",
       "      <td>LHB</td>\n",
       "      <td>SICBL</td>\n",
       "      <td>SICBL</td>\n",
       "    </tr>\n",
       "    <tr>\n",
       "      <th>country</th>\n",
       "      <td>Wales</td>\n",
       "      <td>England</td>\n",
       "      <td>England</td>\n",
       "    </tr>\n",
       "    <tr>\n",
       "      <th>icb</th>\n",
       "      <td>NaN</td>\n",
       "      <td>NHS Cambridgeshire and Peterborough Integrated...</td>\n",
       "      <td>NHS Cheshire and Merseyside Integrated Care Board</td>\n",
       "    </tr>\n",
       "    <tr>\n",
       "      <th>icb_code</th>\n",
       "      <td>NaN</td>\n",
       "      <td>E54000056</td>\n",
       "      <td>E54000008</td>\n",
       "    </tr>\n",
       "    <tr>\n",
       "      <th>isdn</th>\n",
       "      <td>NaN</td>\n",
       "      <td>East of England (South)</td>\n",
       "      <td>Cheshire and Merseyside</td>\n",
       "    </tr>\n",
       "  </tbody>\n",
       "</table>\n",
       "</div>"
      ],
      "text/plain": [
       "postcode                                          SY231ER  \\\n",
       "stroke_team              Bronglais Hospital (Aberystwyth)   \n",
       "short_code                                             AB   \n",
       "ssnap_name                             Bronglais Hospital   \n",
       "use_ivt                                                 1   \n",
       "use_mt                                                  0   \n",
       "use_msu                                                 0   \n",
       "transfer_unit_postcode                            nearest   \n",
       "lsoa                                      Ceredigion 002A   \n",
       "lsoa_code                                       W01000512   \n",
       "region                  Hywel Dda University Health Board   \n",
       "region_code                                     W11000025   \n",
       "region_type                                           LHB   \n",
       "country                                             Wales   \n",
       "icb                                                   NaN   \n",
       "icb_code                                              NaN   \n",
       "isdn                                                  NaN   \n",
       "\n",
       "postcode                                                           CB20QQ  \\\n",
       "stroke_team                             Addenbrooke's Hospital, Cambridge   \n",
       "short_code                                                             AD   \n",
       "ssnap_name                                         Addenbrooke's Hospital   \n",
       "use_ivt                                                                 1   \n",
       "use_mt                                                                  1   \n",
       "use_msu                                                                 1   \n",
       "transfer_unit_postcode                                            nearest   \n",
       "lsoa                                                       Cambridge 013D   \n",
       "lsoa_code                                                       E01017995   \n",
       "region                      NHS Cambridgeshire and Peterborough ICB - 06H   \n",
       "region_code                                                     E38000260   \n",
       "region_type                                                         SICBL   \n",
       "country                                                           England   \n",
       "icb                     NHS Cambridgeshire and Peterborough Integrated...   \n",
       "icb_code                                                        E54000056   \n",
       "isdn                                              East of England (South)   \n",
       "\n",
       "postcode                                                            L97AL  \n",
       "stroke_team                        University Hospital Aintree, Liverpool  \n",
       "short_code                                                             AI  \n",
       "ssnap_name                                    University Hospital Aintree  \n",
       "use_ivt                                                                 1  \n",
       "use_mt                                                                  1  \n",
       "use_msu                                                                 1  \n",
       "transfer_unit_postcode                                            nearest  \n",
       "lsoa                                                       Liverpool 005A  \n",
       "lsoa_code                                                       E01006654  \n",
       "region                              NHS Cheshire and Merseyside ICB - 99A  \n",
       "region_code                                                     E38000101  \n",
       "region_type                                                         SICBL  \n",
       "country                                                           England  \n",
       "icb                     NHS Cheshire and Merseyside Integrated Care Board  \n",
       "icb_code                                                        E54000008  \n",
       "isdn                                              Cheshire and Merseyside  "
      ]
     },
     "execution_count": 3,
     "metadata": {},
     "output_type": "execute_result"
    }
   ],
   "source": [
    "df_units = stroke_maps.load_data.stroke_unit_region_lookup()\n",
    "\n",
    "df_units.head(3).T"
   ]
  },
  {
   "cell_type": "markdown",
   "id": "09bdd8e2-36b8-4bce-a321-dd929540e689",
   "metadata": {},
   "source": [
    "__LSOA boundaries__"
   ]
  },
  {
   "cell_type": "code",
   "execution_count": 4,
   "id": "aa4d7a43-7bc6-42f9-902f-8b71f1d8c0e3",
   "metadata": {},
   "outputs": [
    {
     "data": {
      "text/html": [
       "<div>\n",
       "<style scoped>\n",
       "    .dataframe tbody tr th:only-of-type {\n",
       "        vertical-align: middle;\n",
       "    }\n",
       "\n",
       "    .dataframe tbody tr th {\n",
       "        vertical-align: top;\n",
       "    }\n",
       "\n",
       "    .dataframe thead th {\n",
       "        text-align: right;\n",
       "    }\n",
       "</style>\n",
       "<table border=\"1\" class=\"dataframe\">\n",
       "  <thead>\n",
       "    <tr style=\"text-align: right;\">\n",
       "      <th></th>\n",
       "      <th>OBJECTID</th>\n",
       "      <th>LSOA11CD</th>\n",
       "      <th>LSOA11NM</th>\n",
       "      <th>LSOA11NMW</th>\n",
       "      <th>BNG_E</th>\n",
       "      <th>BNG_N</th>\n",
       "      <th>LONG</th>\n",
       "      <th>LAT</th>\n",
       "      <th>Shape__Area</th>\n",
       "      <th>Shape__Length</th>\n",
       "      <th>GlobalID</th>\n",
       "      <th>geometry</th>\n",
       "    </tr>\n",
       "  </thead>\n",
       "  <tbody>\n",
       "    <tr>\n",
       "      <th>0</th>\n",
       "      <td>1</td>\n",
       "      <td>E01000001</td>\n",
       "      <td>City of London 001A</td>\n",
       "      <td>City of London 001A</td>\n",
       "      <td>532129</td>\n",
       "      <td>181625</td>\n",
       "      <td>-0.09706</td>\n",
       "      <td>51.51810</td>\n",
       "      <td>157794.481079</td>\n",
       "      <td>1685.391778</td>\n",
       "      <td>b12173a3-5423-4672-a5eb-f152d2345f96</td>\n",
       "      <td>POLYGON ((-0.09474 51.52060, -0.09546 51.51544...</td>\n",
       "    </tr>\n",
       "    <tr>\n",
       "      <th>1</th>\n",
       "      <td>2</td>\n",
       "      <td>E01000002</td>\n",
       "      <td>City of London 001B</td>\n",
       "      <td>City of London 001B</td>\n",
       "      <td>532480</td>\n",
       "      <td>181699</td>\n",
       "      <td>-0.09197</td>\n",
       "      <td>51.51868</td>\n",
       "      <td>164882.427628</td>\n",
       "      <td>1804.828196</td>\n",
       "      <td>90274dc4-f785-4afb-95cd-7cc1fc9a2cad</td>\n",
       "      <td>POLYGON ((-0.08810 51.51941, -0.09546 51.51544...</td>\n",
       "    </tr>\n",
       "    <tr>\n",
       "      <th>2</th>\n",
       "      <td>3</td>\n",
       "      <td>E01000003</td>\n",
       "      <td>City of London 001C</td>\n",
       "      <td>City of London 001C</td>\n",
       "      <td>532245</td>\n",
       "      <td>182036</td>\n",
       "      <td>-0.09523</td>\n",
       "      <td>51.52176</td>\n",
       "      <td>42219.805717</td>\n",
       "      <td>909.223277</td>\n",
       "      <td>7e89d0ba-f186-45fb-961c-8f5ffcd03808</td>\n",
       "      <td>POLYGON ((-0.09453 51.52205, -0.09274 51.52139...</td>\n",
       "    </tr>\n",
       "  </tbody>\n",
       "</table>\n",
       "</div>"
      ],
      "text/plain": [
       "   OBJECTID   LSOA11CD             LSOA11NM            LSOA11NMW   BNG_E  \\\n",
       "0         1  E01000001  City of London 001A  City of London 001A  532129   \n",
       "1         2  E01000002  City of London 001B  City of London 001B  532480   \n",
       "2         3  E01000003  City of London 001C  City of London 001C  532245   \n",
       "\n",
       "    BNG_N     LONG       LAT    Shape__Area  Shape__Length  \\\n",
       "0  181625 -0.09706  51.51810  157794.481079    1685.391778   \n",
       "1  181699 -0.09197  51.51868  164882.427628    1804.828196   \n",
       "2  182036 -0.09523  51.52176   42219.805717     909.223277   \n",
       "\n",
       "                               GlobalID  \\\n",
       "0  b12173a3-5423-4672-a5eb-f152d2345f96   \n",
       "1  90274dc4-f785-4afb-95cd-7cc1fc9a2cad   \n",
       "2  7e89d0ba-f186-45fb-961c-8f5ffcd03808   \n",
       "\n",
       "                                            geometry  \n",
       "0  POLYGON ((-0.09474 51.52060, -0.09546 51.51544...  \n",
       "1  POLYGON ((-0.08810 51.51941, -0.09546 51.51544...  \n",
       "2  POLYGON ((-0.09453 51.52205, -0.09274 51.52139...  "
      ]
     },
     "execution_count": 4,
     "metadata": {},
     "output_type": "execute_result"
    }
   ],
   "source": [
    "gdf_lsoa = stroke_maps.load_data.lsoa_geography()\n",
    "\n",
    "gdf_lsoa.head(3)"
   ]
  },
  {
   "cell_type": "markdown",
   "id": "bdf34fab-7894-48be-bf19-a5753439032d",
   "metadata": {},
   "source": [
    "__ISDN boundaries__"
   ]
  },
  {
   "cell_type": "code",
   "execution_count": 5,
   "id": "63ac6412-1d6b-4d8e-8b09-9bd5dd6fc17c",
   "metadata": {},
   "outputs": [
    {
     "data": {
      "text/html": [
       "<div>\n",
       "<style scoped>\n",
       "    .dataframe tbody tr th:only-of-type {\n",
       "        vertical-align: middle;\n",
       "    }\n",
       "\n",
       "    .dataframe tbody tr th {\n",
       "        vertical-align: top;\n",
       "    }\n",
       "\n",
       "    .dataframe thead th {\n",
       "        text-align: right;\n",
       "    }\n",
       "</style>\n",
       "<table border=\"1\" class=\"dataframe\">\n",
       "  <thead>\n",
       "    <tr style=\"text-align: right;\">\n",
       "      <th></th>\n",
       "      <th>isdn</th>\n",
       "      <th>SICBL22CD</th>\n",
       "      <th>SICBL22NM</th>\n",
       "      <th>BNG_E</th>\n",
       "      <th>BNG_N</th>\n",
       "      <th>LONG</th>\n",
       "      <th>LAT</th>\n",
       "      <th>OBJECTID</th>\n",
       "      <th>GlobalID</th>\n",
       "      <th>geometry</th>\n",
       "    </tr>\n",
       "  </thead>\n",
       "  <tbody>\n",
       "    <tr>\n",
       "      <th>18</th>\n",
       "      <td>West Midlands</td>\n",
       "      <td>E38000236</td>\n",
       "      <td>NHS Herefordshire and Worcestershire ICB - 18C</td>\n",
       "      <td>364519</td>\n",
       "      <td>249269</td>\n",
       "      <td>-2.51986</td>\n",
       "      <td>52.14057</td>\n",
       "      <td>82</td>\n",
       "      <td>cb92b6e6-7380-4183-863b-835220205fc0</td>\n",
       "      <td>POLYGON ((388888.001 281369.374, 390847.000 28...</td>\n",
       "    </tr>\n",
       "  </tbody>\n",
       "</table>\n",
       "</div>"
      ],
      "text/plain": [
       "             isdn  SICBL22CD                                       SICBL22NM  \\\n",
       "18  West Midlands  E38000236  NHS Herefordshire and Worcestershire ICB - 18C   \n",
       "\n",
       "     BNG_E   BNG_N     LONG       LAT  OBJECTID  \\\n",
       "18  364519  249269 -2.51986  52.14057        82   \n",
       "\n",
       "                                GlobalID  \\\n",
       "18  cb92b6e6-7380-4183-863b-835220205fc0   \n",
       "\n",
       "                                             geometry  \n",
       "18  POLYGON ((388888.001 281369.374, 390847.000 28...  "
      ]
     },
     "execution_count": 5,
     "metadata": {},
     "output_type": "execute_result"
    }
   ],
   "source": [
    "gdf_isdn = stroke_maps.load_data.isdn_geography()\n",
    "\n",
    "# Only keep the chosen region:\n",
    "gdf_isdn = gdf_isdn[gdf_isdn['isdn'] == 'West Midlands']\n",
    "\n",
    "gdf_isdn.head(3)"
   ]
  },
  {
   "cell_type": "markdown",
   "id": "f0e5252f-717b-4c72-87f3-006bc7dfcb8c",
   "metadata": {},
   "source": [
    "__Stroke unit coordinates__\n",
    "\n",
    "Load in the stroke unit coordinates and merge in the services information:"
   ]
  },
  {
   "cell_type": "code",
   "execution_count": 6,
   "id": "5c639b15-7613-4fe5-b88c-5c078d27114d",
   "metadata": {},
   "outputs": [],
   "source": [
    "gdf_units = stroke_maps.load_data.stroke_unit_coordinates()\n",
    "gdf_units = pd.merge(\n",
    "    gdf_units, df_units[['use_ivt', 'use_mt']],\n",
    "    left_index=True, right_index=True, how='right'\n",
    ")"
   ]
  },
  {
   "cell_type": "markdown",
   "id": "f098fdff-b516-4729-87ee-7847bc07284b",
   "metadata": {},
   "source": [
    "__Colour list__\n",
    "\n",
    "For the plots."
   ]
  },
  {
   "cell_type": "code",
   "execution_count": 7,
   "id": "8ed00574-f2cf-4178-a9e5-50802ac2e542",
   "metadata": {},
   "outputs": [],
   "source": [
    "# Make a list of colour names:\n",
    "# Expecting to only need about six colours for this example.\n",
    "colours = ['Indigo', 'Purple', 'DarkOrchid', 'MediumOrchid', 'Orchid', 'Plum', 'Lavender']\n",
    "\n",
    "# Make a dictionary of numbers to colours.\n",
    "# The keys are the numbers in the `adjacent_colours` column:\n",
    "keys = [f'{i}' for i in range(len(colours))]\n",
    "colour_map = dict(zip(keys, colours))"
   ]
  },
  {
   "cell_type": "markdown",
   "id": "85f3cfce-700e-422a-9fc4-d32e11c5161e",
   "metadata": {},
   "source": [
    "Functions to make both sets of maps:"
   ]
  },
  {
   "cell_type": "code",
   "execution_count": 8,
   "id": "a618aa7b-2bbe-41d6-82b7-fc14045b53a3",
   "metadata": {},
   "outputs": [],
   "source": [
    "def make_gdf(df_catchment_acute, gdf_lsoa):\n",
    "    gdf_lsoa_acute = gdf_lsoa.copy()\n",
    "    \n",
    "    # Merge in the information on nearest acute stroke unit:\n",
    "    gdf_lsoa_acute = pd.merge(\n",
    "        gdf_lsoa_acute, df_catchment_acute['unit_postcode'],\n",
    "        left_on='LSOA11NM', right_index=True, how='right'\n",
    "    )\n",
    "    # Combine LSOA with the same acute stroke unit into a single region:\n",
    "    gdf_catchment_acute = stroke_maps.geo.combine_regions(gdf_lsoa_acute, 'unit_postcode')\n",
    "    # Convert the coordinates to British National Grid so that they match other geometry:\n",
    "    gdf_catchment_acute = gdf_catchment_acute.to_crs('EPSG:27700')\n",
    "    # Assign colours:\n",
    "    gdf_catchment_acute['adjacent_colours'] = greedy(\n",
    "        gdf_catchment_acute, min_distance=1, balance='count').astype(str)\n",
    "    # Assign these colours to the regions:\n",
    "    gdf_catchment_acute['colour_str'] = gdf_catchment_acute['adjacent_colours'].map(colour_map)\n",
    "\n",
    "    return gdf_catchment_acute"
   ]
  },
  {
   "cell_type": "code",
   "execution_count": 39,
   "id": "c1242452-4d85-472f-8718-69f1633f1b8e",
   "metadata": {},
   "outputs": [],
   "source": [
    "def plot_catchment(\n",
    "        gdf_catchment_acute,\n",
    "        title='',\n",
    "        bounds=[]\n",
    "    ):\n",
    "    fig, ax = plt.subplots(figsize=(8, 8))\n",
    "    \n",
    "    # Catchment areas:\n",
    "    gdf_catchment_acute.plot(\n",
    "        ax=ax,              # Set which axes to use for plot\n",
    "        antialiased=False,  # Avoids artefact boundary lines\n",
    "        color=gdf_catchment_acute['colour_str'],  # set colours using this column\n",
    "        linewidth=0.2,\n",
    "        )\n",
    "    \n",
    "    # Setup for ISDN:\n",
    "    kwargs_isdn = dict(\n",
    "        facecolor='none',\n",
    "        edgecolor='k',\n",
    "        linewidth=0.2,\n",
    "    )\n",
    "    # ISDN outlines:\n",
    "    gdf_isdn.plot(\n",
    "        ax=ax,              # Set which axes to use for plot\n",
    "        antialiased=False,  # Avoids artefact boundary lines\n",
    "        **kwargs_isdn\n",
    "        )\n",
    "    # Can't put regions like this ^ in the legend, so fake it now.\n",
    "    # Draw an area so small you'll never see it\n",
    "    # and give it the same properties as the wanted region.\n",
    "    points = [p for p in gdf_isdn['geometry'].iloc[0].exterior.coords]\n",
    "    x = points[0][0]\n",
    "    y = points[0][1]\n",
    "    ax.fill(\n",
    "        [x, x+1e-7],\n",
    "        [y, y+1e-7],\n",
    "        **kwargs_isdn,\n",
    "        label='West Midlands ISDN'\n",
    "    )\n",
    "    \n",
    "    # Pick out which stroke units to plot:\n",
    "    mask_ivt = ((gdf_units['use_ivt'] == 1) & (gdf_units['use_mt'] == 0))\n",
    "    mask_mt = (gdf_units['use_mt'] == 1)\n",
    "    \n",
    "    # IVT units:\n",
    "    ax.scatter(\n",
    "        gdf_units.loc[mask_ivt, 'geometry'].x,\n",
    "        gdf_units.loc[mask_ivt, 'geometry'].y,\n",
    "        marker='o',\n",
    "        facecolor='k',\n",
    "        label='IVT unit',\n",
    "        s=20,  # size\n",
    "        )\n",
    "    \n",
    "    # MT units:\n",
    "    ax.scatter(\n",
    "        gdf_units.loc[mask_mt, 'geometry'].x,\n",
    "        gdf_units.loc[mask_mt, 'geometry'].y,\n",
    "        marker='*',\n",
    "        facecolor='k',\n",
    "        label='MT unit',\n",
    "        s=40,  # size\n",
    "        )\n",
    "\n",
    "    # Axis limits:\n",
    "    if len(bounds) > 0:\n",
    "        ax.set_xlim(bounds[0], bounds[2])\n",
    "        ax.set_ylim(bounds[1], bounds[3])\n",
    "\n",
    "    # Remove the axis border, ticks, labels...\n",
    "    ax.axis('off')\n",
    "    ax.set_title(title)\n",
    "    \n",
    "    # Add legend:\n",
    "    ax.legend()\n",
    "    \n",
    "    plt.show()"
   ]
  },
  {
   "cell_type": "markdown",
   "id": "b7a85061-3a35-43e7-9804-c786c8e26306",
   "metadata": {},
   "source": [
    "## Method 1: nearest stroke unit\n",
    "\n",
    "First we'll create a map of the normal stroke unit catchment areas in the West Midlands when we don't restrict anything."
   ]
  },
  {
   "cell_type": "markdown",
   "id": "937ddf40-a8e9-4fb2-9179-7333672d27f1",
   "metadata": {},
   "source": [
    "Find a list of stroke units that offer acute care. These are units where `use_ivt` and/or `use_mt` are equal to 1 (one)."
   ]
  },
  {
   "cell_type": "code",
   "execution_count": 10,
   "id": "b2010e8b-3383-45e4-9b5f-1fdaba78ae33",
   "metadata": {},
   "outputs": [],
   "source": [
    "mask_acute = ((df_units['use_ivt'] == 1) | (df_units['use_mt'] == 1))\n",
    "\n",
    "postcodes_acute_units = df_units[mask_acute].index.values"
   ]
  },
  {
   "cell_type": "markdown",
   "id": "17dc90af-4fbc-4089-befc-6e38e50b10ff",
   "metadata": {},
   "source": [
    "Now make a copy of the travel time matrix that only includes times to these units:"
   ]
  },
  {
   "cell_type": "code",
   "execution_count": 11,
   "id": "17123f1c-5c21-4664-a66d-18fa4fd9dab0",
   "metadata": {},
   "outputs": [],
   "source": [
    "df_travel_lsoa_acute = df_travel_lsoa[postcodes_acute_units].copy()"
   ]
  },
  {
   "cell_type": "markdown",
   "id": "3fb3a41c-5cdc-4fc2-b5a2-8b814cebdc74",
   "metadata": {},
   "source": [
    "Run the function to find which of the units in the reduced dataframe is closest to each LSOA:"
   ]
  },
  {
   "cell_type": "code",
   "execution_count": 12,
   "id": "895cf6e7-7fdf-4ce0-a958-8d4d51a267d1",
   "metadata": {},
   "outputs": [],
   "source": [
    "df_catchment_acute = stroke_maps.catchment.find_nearest_unit(df_travel_lsoa_acute)"
   ]
  },
  {
   "cell_type": "markdown",
   "id": "3f3b88ea-3c79-4d20-87eb-e1968c9116ac",
   "metadata": {},
   "source": [
    "Limit this results dataframe to only stroke units in the chosen region:"
   ]
  },
  {
   "cell_type": "code",
   "execution_count": 13,
   "id": "eef62519-aed6-4736-b2e1-7d915eb018f8",
   "metadata": {},
   "outputs": [],
   "source": [
    "mask_here = (df_units['isdn'] == 'West Midlands')\n",
    "postcodes_here = df_units[mask_here].index.values"
   ]
  },
  {
   "cell_type": "code",
   "execution_count": 14,
   "id": "b87ab195-89d6-46da-b35f-2cc162bb9df6",
   "metadata": {},
   "outputs": [],
   "source": [
    "mask_catchment = df_catchment_acute['unit_postcode'].isin(postcodes_here)\n",
    "df_catchment_acute = df_catchment_acute[mask_catchment]"
   ]
  },
  {
   "cell_type": "markdown",
   "id": "2d87fc6c-a10c-4bd1-8930-fda527c309c4",
   "metadata": {},
   "source": [
    "Create the map. Same setup as the previous LSOA catchment documentation. __TO DO: add link__"
   ]
  },
  {
   "cell_type": "code",
   "execution_count": 15,
   "id": "1e12fdab-6611-412b-8efc-652d529df26e",
   "metadata": {},
   "outputs": [],
   "source": [
    "gdf_catchment_acute = make_gdf(df_catchment_acute, gdf_lsoa)"
   ]
  },
  {
   "cell_type": "markdown",
   "id": "47151177-831b-48a7-874b-3f44c659cf92",
   "metadata": {},
   "source": [
    "Plot the unit locations and catchment areas using matplotlib:"
   ]
  },
  {
   "cell_type": "markdown",
   "id": "ea531fef-6245-4003-8128-ff6a596ac10f",
   "metadata": {},
   "source": [
    "## Method 2: Island"
   ]
  },
  {
   "attachments": {},
   "cell_type": "markdown",
   "id": "c011871e-d3f2-40db-8002-9ae0609131d6",
   "metadata": {},
   "source": [
    "Make a copy of the travel time matrix to edit:"
   ]
  },
  {
   "cell_type": "code",
   "execution_count": 17,
   "id": "8535711e-f899-4e26-b868-3143a154bbf3",
   "metadata": {},
   "outputs": [],
   "source": [
    "df_travel_lsoa = stroke_maps.load_data.travel_time_matrix_lsoa()\n",
    "\n",
    "df_travel_lsoa_here = df_travel_lsoa.copy()"
   ]
  },
  {
   "cell_type": "markdown",
   "id": "52259cb1-fabe-441b-84dd-1e3e4f0196b1",
   "metadata": {},
   "source": [
    "Limit the stroke units:"
   ]
  },
  {
   "cell_type": "code",
   "execution_count": 18,
   "id": "bb2ac217-611f-40c3-940e-89827f778438",
   "metadata": {},
   "outputs": [],
   "source": [
    "mask_units = (\n",
    "    (df_units['isdn'] == 'West Midlands') &\n",
    "    (df_units['use_ivt'] == 1)\n",
    ")\n",
    "\n",
    "df_units_here = df_units[mask_units]"
   ]
  },
  {
   "cell_type": "code",
   "execution_count": 19,
   "id": "c20786e3-8f27-4272-8e6a-4ecc734667e5",
   "metadata": {},
   "outputs": [],
   "source": [
    "df_travel_lsoa_here = df_travel_lsoa_here[df_units_here.index]"
   ]
  },
  {
   "cell_type": "markdown",
   "id": "a62206b9-2496-4a73-b090-e9c93e074d93",
   "metadata": {},
   "source": [
    "Load the LSOA-region lookup data:"
   ]
  },
  {
   "cell_type": "code",
   "execution_count": 20,
   "id": "488715bb-86f7-4b11-b6ab-b48ec6b6b443",
   "metadata": {},
   "outputs": [],
   "source": [
    "df_lsoa_regions = stroke_maps.load_data.lsoa_region_lookup()\n",
    "df_regions = stroke_maps.load_data.region_lookup()\n",
    "\n",
    "# Merge the ISDN names into the LSOA-region lookup:\n",
    "df_lsoa_regions = pd.merge(\n",
    "    df_lsoa_regions.reset_index(),\n",
    "    df_regions.reset_index()[['region_code', 'isdn']],\n",
    "    on='region_code', how='left'\n",
    ")"
   ]
  },
  {
   "cell_type": "markdown",
   "id": "a09598b0-bfb3-4edf-ba35-6f581a142ef6",
   "metadata": {},
   "source": [
    "Pick out the LSOAs in the chosen region:"
   ]
  },
  {
   "cell_type": "code",
   "execution_count": 21,
   "id": "58593bea-4025-4a2f-99ad-e8398c1d50ad",
   "metadata": {},
   "outputs": [],
   "source": [
    "mask_lsoa = df_lsoa_regions['isdn'] == 'West Midlands'\n",
    "df_lsoa_regions = df_lsoa_regions[mask_lsoa].copy()"
   ]
  },
  {
   "cell_type": "markdown",
   "id": "0125c6ab-15b4-479d-aa6c-0ce61a725b60",
   "metadata": {},
   "source": [
    "Limit the travel time matrix to only these LSOA:"
   ]
  },
  {
   "cell_type": "code",
   "execution_count": 22,
   "id": "809fed3d-b238-47e9-9b74-6cf53bd62bc2",
   "metadata": {},
   "outputs": [],
   "source": [
    "mask_travel = df_travel_lsoa_here.index.isin(df_lsoa_regions['lsoa'])\n",
    "df_travel_lsoa_here = df_travel_lsoa_here[mask_travel]"
   ]
  },
  {
   "cell_type": "markdown",
   "id": "5d939fcc-b20a-4db7-944c-29a560f5cead",
   "metadata": {},
   "source": [
    "Resulting travel matrix:"
   ]
  },
  {
   "cell_type": "code",
   "execution_count": 23,
   "id": "092ad5a3-ebc4-4607-91c7-07278e81b6f9",
   "metadata": {},
   "outputs": [
    {
     "data": {
      "text/html": [
       "<div>\n",
       "<style scoped>\n",
       "    .dataframe tbody tr th:only-of-type {\n",
       "        vertical-align: middle;\n",
       "    }\n",
       "\n",
       "    .dataframe tbody tr th {\n",
       "        vertical-align: top;\n",
       "    }\n",
       "\n",
       "    .dataframe thead th {\n",
       "        text-align: right;\n",
       "    }\n",
       "</style>\n",
       "<table border=\"1\" class=\"dataframe\">\n",
       "  <thead>\n",
       "    <tr style=\"text-align: right;\">\n",
       "      <th></th>\n",
       "      <th>CV22DX</th>\n",
       "      <th>HR12ER</th>\n",
       "      <th>B152TH</th>\n",
       "      <th>WR51DD</th>\n",
       "    </tr>\n",
       "    <tr>\n",
       "      <th>LSOA</th>\n",
       "      <th></th>\n",
       "      <th></th>\n",
       "      <th></th>\n",
       "      <th></th>\n",
       "    </tr>\n",
       "  </thead>\n",
       "  <tbody>\n",
       "    <tr>\n",
       "      <th>Birmingham 001A</th>\n",
       "      <td>36.9</td>\n",
       "      <td>84.2</td>\n",
       "      <td>31.6</td>\n",
       "      <td>47.7</td>\n",
       "    </tr>\n",
       "    <tr>\n",
       "      <th>Birmingham 001B</th>\n",
       "      <td>36.9</td>\n",
       "      <td>85.3</td>\n",
       "      <td>33.7</td>\n",
       "      <td>49.8</td>\n",
       "    </tr>\n",
       "    <tr>\n",
       "      <th>Birmingham 001C</th>\n",
       "      <td>38.0</td>\n",
       "      <td>84.2</td>\n",
       "      <td>32.6</td>\n",
       "      <td>48.8</td>\n",
       "    </tr>\n",
       "    <tr>\n",
       "      <th>Birmingham 001D</th>\n",
       "      <td>36.9</td>\n",
       "      <td>85.3</td>\n",
       "      <td>33.7</td>\n",
       "      <td>49.8</td>\n",
       "    </tr>\n",
       "    <tr>\n",
       "      <th>Birmingham 002A</th>\n",
       "      <td>35.9</td>\n",
       "      <td>85.3</td>\n",
       "      <td>33.7</td>\n",
       "      <td>49.8</td>\n",
       "    </tr>\n",
       "    <tr>\n",
       "      <th>...</th>\n",
       "      <td>...</td>\n",
       "      <td>...</td>\n",
       "      <td>...</td>\n",
       "      <td>...</td>\n",
       "    </tr>\n",
       "    <tr>\n",
       "      <th>Wyre Forest 013D</th>\n",
       "      <td>64.9</td>\n",
       "      <td>57.4</td>\n",
       "      <td>38.0</td>\n",
       "      <td>26.2</td>\n",
       "    </tr>\n",
       "    <tr>\n",
       "      <th>Wyre Forest 014A</th>\n",
       "      <td>64.9</td>\n",
       "      <td>52.0</td>\n",
       "      <td>38.0</td>\n",
       "      <td>26.2</td>\n",
       "    </tr>\n",
       "    <tr>\n",
       "      <th>Wyre Forest 014B</th>\n",
       "      <td>65.9</td>\n",
       "      <td>52.0</td>\n",
       "      <td>39.1</td>\n",
       "      <td>27.3</td>\n",
       "    </tr>\n",
       "    <tr>\n",
       "      <th>Wyre Forest 014C</th>\n",
       "      <td>65.9</td>\n",
       "      <td>50.9</td>\n",
       "      <td>39.1</td>\n",
       "      <td>27.3</td>\n",
       "    </tr>\n",
       "    <tr>\n",
       "      <th>Wyre Forest 014D</th>\n",
       "      <td>65.9</td>\n",
       "      <td>50.9</td>\n",
       "      <td>39.1</td>\n",
       "      <td>27.3</td>\n",
       "    </tr>\n",
       "  </tbody>\n",
       "</table>\n",
       "<p>1787 rows × 4 columns</p>\n",
       "</div>"
      ],
      "text/plain": [
       "                  CV22DX  HR12ER  B152TH  WR51DD\n",
       "LSOA                                            \n",
       "Birmingham 001A     36.9    84.2    31.6    47.7\n",
       "Birmingham 001B     36.9    85.3    33.7    49.8\n",
       "Birmingham 001C     38.0    84.2    32.6    48.8\n",
       "Birmingham 001D     36.9    85.3    33.7    49.8\n",
       "Birmingham 002A     35.9    85.3    33.7    49.8\n",
       "...                  ...     ...     ...     ...\n",
       "Wyre Forest 013D    64.9    57.4    38.0    26.2\n",
       "Wyre Forest 014A    64.9    52.0    38.0    26.2\n",
       "Wyre Forest 014B    65.9    52.0    39.1    27.3\n",
       "Wyre Forest 014C    65.9    50.9    39.1    27.3\n",
       "Wyre Forest 014D    65.9    50.9    39.1    27.3\n",
       "\n",
       "[1787 rows x 4 columns]"
      ]
     },
     "execution_count": 23,
     "metadata": {},
     "output_type": "execute_result"
    }
   ],
   "source": [
    "df_travel_lsoa_here"
   ]
  },
  {
   "cell_type": "markdown",
   "id": "f481c2cd-f469-48cc-a870-7df4a44244c3",
   "metadata": {},
   "source": [
    "Pull out the nearest stroke units:"
   ]
  },
  {
   "cell_type": "code",
   "execution_count": 24,
   "id": "7b21fffd-4978-4c48-b16b-fbcdb9f54dbb",
   "metadata": {},
   "outputs": [
    {
     "data": {
      "text/html": [
       "<div>\n",
       "<style scoped>\n",
       "    .dataframe tbody tr th:only-of-type {\n",
       "        vertical-align: middle;\n",
       "    }\n",
       "\n",
       "    .dataframe tbody tr th {\n",
       "        vertical-align: top;\n",
       "    }\n",
       "\n",
       "    .dataframe thead th {\n",
       "        text-align: right;\n",
       "    }\n",
       "</style>\n",
       "<table border=\"1\" class=\"dataframe\">\n",
       "  <thead>\n",
       "    <tr style=\"text-align: right;\">\n",
       "      <th></th>\n",
       "      <th>unit_travel_time</th>\n",
       "      <th>unit_postcode</th>\n",
       "    </tr>\n",
       "    <tr>\n",
       "      <th>LSOA</th>\n",
       "      <th></th>\n",
       "      <th></th>\n",
       "    </tr>\n",
       "  </thead>\n",
       "  <tbody>\n",
       "    <tr>\n",
       "      <th>Birmingham 001A</th>\n",
       "      <td>31.6</td>\n",
       "      <td>B152TH</td>\n",
       "    </tr>\n",
       "    <tr>\n",
       "      <th>Birmingham 001B</th>\n",
       "      <td>33.7</td>\n",
       "      <td>B152TH</td>\n",
       "    </tr>\n",
       "    <tr>\n",
       "      <th>Birmingham 001C</th>\n",
       "      <td>32.6</td>\n",
       "      <td>B152TH</td>\n",
       "    </tr>\n",
       "    <tr>\n",
       "      <th>Birmingham 001D</th>\n",
       "      <td>33.7</td>\n",
       "      <td>B152TH</td>\n",
       "    </tr>\n",
       "    <tr>\n",
       "      <th>Birmingham 002A</th>\n",
       "      <td>33.7</td>\n",
       "      <td>B152TH</td>\n",
       "    </tr>\n",
       "    <tr>\n",
       "      <th>...</th>\n",
       "      <td>...</td>\n",
       "      <td>...</td>\n",
       "    </tr>\n",
       "    <tr>\n",
       "      <th>Wyre Forest 013D</th>\n",
       "      <td>26.2</td>\n",
       "      <td>WR51DD</td>\n",
       "    </tr>\n",
       "    <tr>\n",
       "      <th>Wyre Forest 014A</th>\n",
       "      <td>26.2</td>\n",
       "      <td>WR51DD</td>\n",
       "    </tr>\n",
       "    <tr>\n",
       "      <th>Wyre Forest 014B</th>\n",
       "      <td>27.3</td>\n",
       "      <td>WR51DD</td>\n",
       "    </tr>\n",
       "    <tr>\n",
       "      <th>Wyre Forest 014C</th>\n",
       "      <td>27.3</td>\n",
       "      <td>WR51DD</td>\n",
       "    </tr>\n",
       "    <tr>\n",
       "      <th>Wyre Forest 014D</th>\n",
       "      <td>27.3</td>\n",
       "      <td>WR51DD</td>\n",
       "    </tr>\n",
       "  </tbody>\n",
       "</table>\n",
       "<p>1787 rows × 2 columns</p>\n",
       "</div>"
      ],
      "text/plain": [
       "                  unit_travel_time unit_postcode\n",
       "LSOA                                            \n",
       "Birmingham 001A               31.6        B152TH\n",
       "Birmingham 001B               33.7        B152TH\n",
       "Birmingham 001C               32.6        B152TH\n",
       "Birmingham 001D               33.7        B152TH\n",
       "Birmingham 002A               33.7        B152TH\n",
       "...                            ...           ...\n",
       "Wyre Forest 013D              26.2        WR51DD\n",
       "Wyre Forest 014A              26.2        WR51DD\n",
       "Wyre Forest 014B              27.3        WR51DD\n",
       "Wyre Forest 014C              27.3        WR51DD\n",
       "Wyre Forest 014D              27.3        WR51DD\n",
       "\n",
       "[1787 rows x 2 columns]"
      ]
     },
     "execution_count": 24,
     "metadata": {},
     "output_type": "execute_result"
    }
   ],
   "source": [
    "df_catchment_island = stroke_maps.catchment.find_nearest_unit(df_travel_lsoa_here)\n",
    "\n",
    "df_catchment_island"
   ]
  },
  {
   "cell_type": "markdown",
   "id": "31a249be-5c90-4d6c-bcc9-b5b3b01bf0d2",
   "metadata": {},
   "source": [
    "This dataframe contains only stroke units and LSOA within the boundary of the selected region."
   ]
  },
  {
   "cell_type": "markdown",
   "id": "50e5de80-dcdc-4e0e-9d15-a679903b133a",
   "metadata": {},
   "source": [
    "Create the map. Same setup as the previous LSOA catchment documentation. __TO DO: add link__"
   ]
  },
  {
   "cell_type": "code",
   "execution_count": 25,
   "id": "fcfc7896-6cde-43a7-aa80-610bacb9eb1e",
   "metadata": {},
   "outputs": [],
   "source": [
    "gdf_catchment_island = make_gdf(df_catchment_island, gdf_lsoa)"
   ]
  },
  {
   "cell_type": "markdown",
   "id": "bfacc339-d314-4000-9ea9-14a4d9cebca0",
   "metadata": {},
   "source": [
    "## Plots"
   ]
  },
  {
   "cell_type": "markdown",
   "id": "d4224ddf-d1ee-4ef0-b3bb-358a70648bb8",
   "metadata": {},
   "source": [
    "Find shared axis limits by finding the bounding box that just contains both sets of catchment areas:"
   ]
  },
  {
   "cell_type": "code",
   "execution_count": 33,
   "id": "4c07fea6-3463-4e56-b8cf-8e247054a1f0",
   "metadata": {},
   "outputs": [],
   "source": [
    "bounds_acute = gdf_catchment_acute.total_bounds\n",
    "bounds_island = gdf_catchment_island.total_bounds\n",
    "\n",
    "bounds = [\n",
    "    min(bounds_acute[0], bounds_island[0]),\n",
    "    min(bounds_acute[1], bounds_island[1]),\n",
    "    max(bounds_acute[2], bounds_island[2]),\n",
    "    max(bounds_acute[3], bounds_island[3]),\n",
    "]"
   ]
  },
  {
   "cell_type": "markdown",
   "id": "c81b0b70-aebc-4f65-bc62-db0d57ba21ab",
   "metadata": {},
   "source": [
    "Plot the unit locations and catchment areas using matplotlib:"
   ]
  },
  {
   "cell_type": "code",
   "execution_count": 40,
   "id": "1766709c-93a3-492a-bb87-fc3ff4b18fc7",
   "metadata": {},
   "outputs": [
    {
     "data": {
      "image/png": "[encoded data removed]",
      "text/plain": [
       "<Figure size 800x800 with 1 Axes>"
      ]
     },
     "metadata": {},
     "output_type": "display_data"
    },
    {
     "data": {
      "image/png": "[encoded data removed]",
      "text/plain": [
       "<Figure size 800x800 with 1 Axes>"
      ]
     },
     "metadata": {},
     "output_type": "display_data"
    }
   ],
   "source": [
    "plot_catchment(gdf_catchment_acute, title='Nearest unit', bounds=bounds)\n",
    "plot_catchment(gdf_catchment_island, title='Island method', bounds=bounds)"
   ]
  },
  {
   "cell_type": "code",
   "execution_count": null,
   "id": "eea49b46-8f94-4f27-8d8b-2959a0f984d7",
   "metadata": {},
   "outputs": [],
   "source": []
  },
  {
   "cell_type": "code",
   "execution_count": null,
   "id": "4f9e949f-c138-4b62-921e-0609cc56b475",
   "metadata": {},
   "outputs": [],
   "source": []
  }
 ],
 "metadata": {
  "kernelspec": {
   "display_name": "Python 3 (ipykernel)",
   "language": "python",
   "name": "python3"
  },
  "language_info": {
   "codemirror_mode": {
    "name": "ipython",
    "version": 3
   },
   "file_extension": ".py",
   "mimetype": "text/x-python",
   "name": "python",
   "nbconvert_exporter": "python",
   "pygments_lexer": "ipython3",
   "version": "3.12.2"
  }
 },
 "nbformat": 4,
 "nbformat_minor": 5
}
