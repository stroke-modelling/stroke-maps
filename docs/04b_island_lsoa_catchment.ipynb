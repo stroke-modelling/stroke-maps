{
 "cells": [
  {
   "cell_type": "markdown",
   "id": "be606116-0c03-4daf-87cb-82bc0080581a",
   "metadata": {},
   "source": [
    "# \"Island\" catchment areas\n",
    "\n",
    "Ordinarily the catchment areas of each stroke unit don't match up nicely to other defined regions, for example the Integrated Care Boards or Ambulance Service boundaries.\n",
    "\n",
    "Sometimes though it's preferable to only consider patients within a given region, even if patients outside the border would still ordinarily travel to a stroke unit within that region.\n",
    "\n",
    "This is like pretending that everything outside the region doesn't exist. Outside the region, there are no LSOA with patients who will want to enter the region for treatment. Outside the region, there are no other stroke units that patients within the region might prefer to travel to. When the regions are split off like this, it is as though each one is its own island with nothing else surrounding it.\n",
    "\n",
    "To create this effect with the catchment code, it is possible to restrict:\n",
    "+ which stroke units are considered for each LSOA\n",
    "+ which LSOA are considered\n",
    "\n",
    "In this example we will restrict everything to the ISDN named \"West Midlands\".\n",
    "\n",
    "\n",
    "## Notebook setup"
   ]
  },
  {
   "cell_type": "code",
   "execution_count": 1,
   "id": "eb8be88d-5c4e-4958-ae5b-2a8ae34e83ee",
   "metadata": {},
   "outputs": [],
   "source": [
    "import stroke_maps.load_data\n",
    "import stroke_maps.catchment\n",
    "import stroke_maps.geo\n",
    "\n",
    "import pandas as pd\n",
    "import matplotlib.pyplot as plt\n",
    "from mapclassify import greedy  # to assign colours to regions on map.\n",
    "                                # ^ also requires libpysal."
   ]
  },
  {
   "attachments": {},
   "cell_type": "markdown",
   "id": "e07fb2ba-13be-4d9f-ab14-731bac7e4fd6",
   "metadata": {},
   "source": [
    "## Load data\n",
    "\n",
    "__Stroke unit services__ for the calculations and __coordinates__ for the maps"
   ]
  },
  {
   "cell_type": "code",
   "execution_count": 2,
   "id": "f1fa1fc9-1ac7-4bd0-81a7-95873e6fc2eb",
   "metadata": {},
   "outputs": [],
   "source": [
    "df_units = stroke_maps.load_data.stroke_unit_region_lookup()\n",
    "\n",
    "gdf_units = stroke_maps.load_data.stroke_unit_coordinates()\n",
    "# Merge the services information into the coordinates:\n",
    "gdf_units = pd.merge(\n",
    "    gdf_units, df_units[['use_ivt', 'use_mt']],\n",
    "    left_index=True, right_index=True, how='right'\n",
    ")"
   ]
  },
  {
   "cell_type": "markdown",
   "id": "d60d1e62-ea07-431b-86f8-11720b429de1",
   "metadata": {},
   "source": [
    "__LSOA travel time__ for the calculations"
   ]
  },
  {
   "cell_type": "code",
   "execution_count": 3,
   "id": "6fec3840-d71a-443b-8b59-b0244e893639",
   "metadata": {},
   "outputs": [],
   "source": [
    "df_travel_lsoa = stroke_maps.load_data.travel_time_matrix_lsoa()"
   ]
  },
  {
   "cell_type": "markdown",
   "id": "09bdd8e2-36b8-4bce-a321-dd929540e689",
   "metadata": {},
   "source": [
    "__LSOA boundaries__ for the maps"
   ]
  },
  {
   "cell_type": "code",
   "execution_count": 4,
   "id": "aa4d7a43-7bc6-42f9-902f-8b71f1d8c0e3",
   "metadata": {},
   "outputs": [],
   "source": [
    "gdf_lsoa = stroke_maps.load_data.lsoa_geography()"
   ]
  },
  {
   "cell_type": "markdown",
   "id": "bdf34fab-7894-48be-bf19-a5753439032d",
   "metadata": {},
   "source": [
    "__ISDN boundaries__ for the maps"
   ]
  },
  {
   "cell_type": "code",
   "execution_count": 5,
   "id": "63ac6412-1d6b-4d8e-8b09-9bd5dd6fc17c",
   "metadata": {},
   "outputs": [],
   "source": [
    "gdf_isdn = stroke_maps.load_data.isdn_geography()\n",
    "# Only keep the chosen region:\n",
    "gdf_isdn = gdf_isdn[gdf_isdn['isdn'] == 'West Midlands']"
   ]
  },
  {
   "cell_type": "markdown",
   "id": "85f3cfce-700e-422a-9fc4-d32e11c5161e",
   "metadata": {},
   "source": [
    "## Functions\n",
    "\n",
    "Define functions that will be used to create catchment area boundaries and plot the map for both methods in the same way.\n",
    "\n",
    "The following function creates the catchment area boundaries for the map. It has the same setup as the previous LSOA catchment documentation. __TO DO: add link__"
   ]
  },
  {
   "cell_type": "code",
   "execution_count": 6,
   "id": "a618aa7b-2bbe-41d6-82b7-fc14045b53a3",
   "metadata": {},
   "outputs": [],
   "source": [
    "def make_gdf(\n",
    "        df_catchment_acute,  # Contains LSOA-unit link.\n",
    "        gdf_lsoa\n",
    "        ):\n",
    "    \"\"\"\n",
    "    Make a GeoDataFrame of stroke unit catchment areas.\n",
    "    \"\"\"\n",
    "    gdf_lsoa_acute = gdf_lsoa.copy()\n",
    "    \n",
    "    # Merge in the information on nearest acute stroke unit:\n",
    "    gdf_lsoa_acute = pd.merge(\n",
    "        gdf_lsoa_acute, df_catchment_acute['unit_postcode'],\n",
    "        left_on='LSOA11NM', right_index=True, how='right'\n",
    "    )\n",
    "    # Combine LSOA with the same acute stroke unit into a single region:\n",
    "    gdf_catchment_acute = stroke_maps.geo.combine_regions(gdf_lsoa_acute, 'unit_postcode')\n",
    "    # Convert the coordinates to British National Grid so that they match other geometry:\n",
    "    gdf_catchment_acute = gdf_catchment_acute.to_crs('EPSG:27700')\n",
    "    # Assign colours:\n",
    "    gdf_catchment_acute['adjacent_colours'] = greedy(\n",
    "        gdf_catchment_acute, min_distance=1, balance='count').astype(str)\n",
    "    # Assign these colours to the regions:\n",
    "    gdf_catchment_acute['colour_str'] = gdf_catchment_acute['adjacent_colours'].map(colour_map)\n",
    "\n",
    "    return gdf_catchment_acute"
   ]
  },
  {
   "cell_type": "markdown",
   "id": "f85f5a34-88dc-4d26-9930-864c77917171",
   "metadata": {},
   "source": [
    "The following function plots the map:"
   ]
  },
  {
   "cell_type": "code",
   "execution_count": 7,
   "id": "c1242452-4d85-472f-8718-69f1633f1b8e",
   "metadata": {},
   "outputs": [],
   "source": [
    "def plot_catchment(\n",
    "        gdf_catchment,\n",
    "        gdf_isdn,\n",
    "        gdf_units,\n",
    "        postcodes_used=[],\n",
    "        title='',\n",
    "        bounds=[]\n",
    "    ):\n",
    "    \"\"\"\n",
    "    Plot catchment areas, stroke units, and ISDN boundary.\n",
    "    \"\"\"\n",
    "    fig, ax = plt.subplots(figsize=(8, 8))\n",
    "    \n",
    "    # Catchment areas:\n",
    "    gdf_catchment.plot(\n",
    "        ax=ax,              # Set which axes to use for plot\n",
    "        antialiased=False,  # Avoids artefact boundary lines\n",
    "        color=gdf_catchment['colour_str'],  # set colours using this column\n",
    "        linewidth=0.2,\n",
    "        )\n",
    "    \n",
    "    # Setup for ISDN:\n",
    "    kwargs_isdn = dict(\n",
    "        facecolor='none',\n",
    "        edgecolor='k',\n",
    "        linewidth=0.2,\n",
    "    )\n",
    "    # ISDN outlines:\n",
    "    gdf_isdn.plot(\n",
    "        ax=ax,              # Set which axes to use for plot\n",
    "        antialiased=False,  # Avoids artefact boundary lines\n",
    "        **kwargs_isdn\n",
    "        )\n",
    "    # Can't put regions like this ^ in the legend, so fake it now.\n",
    "    # Draw an area so small you'll never see it\n",
    "    # and give it the same properties as the wanted region.\n",
    "    points = [p for p in gdf_isdn['geometry'].iloc[0].exterior.coords]\n",
    "    x = points[0][0]\n",
    "    y = points[0][1]\n",
    "    ax.fill(\n",
    "        [x, x+1e-7],\n",
    "        [y, y+1e-7],\n",
    "        **kwargs_isdn,\n",
    "        label='West Midlands ISDN'\n",
    "    )\n",
    "\n",
    "    if len(postcodes_used) > 0:\n",
    "        # Limit the stroke units to only the ones used:\n",
    "        gdf_units = gdf_units[gdf_units.index.isin(postcodes_used)]\n",
    "    # Pick out which stroke units to plot:\n",
    "    mask_ivt = ((gdf_units['use_ivt'] == 1) & (gdf_units['use_mt'] == 0))\n",
    "    mask_mt = (gdf_units['use_mt'] == 1)\n",
    "    \n",
    "    # IVT units:\n",
    "    ax.scatter(\n",
    "        gdf_units.loc[mask_ivt, 'geometry'].x,\n",
    "        gdf_units.loc[mask_ivt, 'geometry'].y,\n",
    "        marker='o',\n",
    "        facecolor='k',\n",
    "        label='IVT unit',\n",
    "        s=20,  # size\n",
    "        )\n",
    "    \n",
    "    # MT units:\n",
    "    ax.scatter(\n",
    "        gdf_units.loc[mask_mt, 'geometry'].x,\n",
    "        gdf_units.loc[mask_mt, 'geometry'].y,\n",
    "        marker='*',\n",
    "        facecolor='k',\n",
    "        label='MT unit',\n",
    "        s=40,  # size\n",
    "        )\n",
    "\n",
    "    # Axis limits:\n",
    "    if len(bounds) > 0:\n",
    "        ax.set_xlim(bounds[0], bounds[2])\n",
    "        ax.set_ylim(bounds[1], bounds[3])\n",
    "\n",
    "    # Remove the axis ticks\n",
    "    ax.set_xticks([])\n",
    "    ax.set_yticks([])\n",
    "    ax.set_title(title)\n",
    "    \n",
    "    # Add legend:\n",
    "    ax.legend(bbox_to_anchor=(1.0, 1.0), loc='upper left')\n",
    "    \n",
    "    plt.show()"
   ]
  },
  {
   "cell_type": "markdown",
   "id": "fd79aec2-97b0-4e76-bd4e-d62b7499857b",
   "metadata": {},
   "source": [
    "The following colour list is used to colour the catchment areas in the maps."
   ]
  },
  {
   "cell_type": "code",
   "execution_count": 8,
   "id": "8ed00574-f2cf-4178-a9e5-50802ac2e542",
   "metadata": {},
   "outputs": [],
   "source": [
    "# Make a list of colour names:\n",
    "# Expecting to only need a few colours for this example.\n",
    "colours = ['Indigo', 'Purple', 'DarkOrchid', 'MediumOrchid', 'Orchid', 'Plum', 'Lavender']\n",
    "\n",
    "# Make a dictionary of numbers to colours.\n",
    "# The keys are the numbers in the `adjacent_colours` column:\n",
    "keys = [f'{i}' for i in range(len(colours))]\n",
    "colour_map = dict(zip(keys, colours))"
   ]
  },
  {
   "attachments": {},
   "cell_type": "markdown",
   "id": "9270d200-b65f-4d04-a2b4-aef0089c7c8d",
   "metadata": {},
   "source": [
    "## Method 1: nearest stroke unit\n",
    "\n",
    "First we'll create a map of the normal stroke unit catchment areas in the West Midlands when we don't restrict anything.\n",
    "\n",
    "Limit the travel time matrix to only stroke units that offer acute care. These are units where `use_ivt` and/or `use_mt` are equal to 1 (one)."
   ]
  },
  {
   "cell_type": "code",
   "execution_count": 9,
   "id": "9a02b54a-b65a-4143-9ec5-a4888307104e",
   "metadata": {},
   "outputs": [],
   "source": [
    "mask_acute = ((df_units['use_ivt'] == 1) | (df_units['use_mt'] == 1))\n",
    "postcodes_acute_units = df_units[mask_acute].index.values\n",
    "\n",
    "# Load the travel time matrix:\n",
    "df_travel_lsoa = stroke_maps.load_data.travel_time_matrix_lsoa()\n",
    "# Limit it to these units:\n",
    "df_travel_lsoa_acute = df_travel_lsoa[postcodes_acute_units].copy()"
   ]
  },
  {
   "cell_type": "markdown",
   "id": "3fb3a41c-5cdc-4fc2-b5a2-8b814cebdc74",
   "metadata": {},
   "source": [
    "Run the function to find which of the units in the reduced dataframe is closest to each LSOA:"
   ]
  },
  {
   "cell_type": "code",
   "execution_count": 10,
   "id": "895cf6e7-7fdf-4ce0-a958-8d4d51a267d1",
   "metadata": {},
   "outputs": [],
   "source": [
    "df_catchment_acute = stroke_maps.catchment.find_nearest_unit(df_travel_lsoa_acute)"
   ]
  },
  {
   "cell_type": "markdown",
   "id": "3f3b88ea-3c79-4d20-87eb-e1968c9116ac",
   "metadata": {},
   "source": [
    "Limit this results dataframe to only stroke units in the chosen region:"
   ]
  },
  {
   "cell_type": "code",
   "execution_count": 11,
   "id": "95bcac0c-b49d-4456-a155-74422bbf6380",
   "metadata": {},
   "outputs": [],
   "source": [
    "# Which postcodes are in the chosen region?\n",
    "mask_here = (df_units['isdn'] == 'West Midlands')\n",
    "postcodes_here = df_units[mask_here].index.values\n",
    "\n",
    "# Limit the catchment data to only those postcodes:\n",
    "mask_catchment = df_catchment_acute['unit_postcode'].isin(postcodes_here)\n",
    "df_catchment_acute = df_catchment_acute[mask_catchment]"
   ]
  },
  {
   "attachments": {},
   "cell_type": "markdown",
   "id": "7e320be5-687b-48f1-b373-1e70b9063949",
   "metadata": {},
   "source": [
    "This dataframe is allowed to contain LSOA outside the selected region and to not contain LSOA within the selected region.\n",
    "\n",
    "## Method 2: Island\n",
    "\n",
    "Next we'll create the catchment areas when considering only LSOA and stroke units within the chosen region.\n",
    "\n",
    "Limit the travel time matrix to only the stroke units offering acute care and in the chosen region."
   ]
  },
  {
   "cell_type": "code",
   "execution_count": 12,
   "id": "67714102-3058-4be0-9ad9-fa35d8b0282e",
   "metadata": {},
   "outputs": [],
   "source": [
    "mask_units = (\n",
    "    (df_units['isdn'] == 'West Midlands') &\n",
    "    (df_units['use_ivt'] == 1)\n",
    ")\n",
    "df_units = df_units[mask_units]\n",
    "postcodes_island = df_units.index\n",
    "\n",
    "# Load the travel time matrix:\n",
    "df_travel_lsoa = stroke_maps.load_data.travel_time_matrix_lsoa()\n",
    "# Limit it to these units:\n",
    "df_travel_lsoa_here = df_travel_lsoa.copy()[df_units.index]"
   ]
  },
  {
   "cell_type": "markdown",
   "id": "a62206b9-2496-4a73-b090-e9c93e074d93",
   "metadata": {},
   "source": [
    "Link LSOA names to the ISDN that contains them."
   ]
  },
  {
   "cell_type": "code",
   "execution_count": 13,
   "id": "488715bb-86f7-4b11-b6ab-b48ec6b6b443",
   "metadata": {},
   "outputs": [],
   "source": [
    "# Load the LSOA-region lookup data:\n",
    "df_lsoa_regions = stroke_maps.load_data.lsoa_region_lookup()\n",
    "df_regions = stroke_maps.load_data.region_lookup()\n",
    "\n",
    "# Merge the ISDN names into the LSOA-region lookup:\n",
    "df_lsoa_regions = pd.merge(\n",
    "    df_lsoa_regions.reset_index(),\n",
    "    df_regions.reset_index()[['region_code', 'isdn']],\n",
    "    on='region_code', how='left'\n",
    ")"
   ]
  },
  {
   "cell_type": "markdown",
   "id": "a09598b0-bfb3-4edf-ba35-6f581a142ef6",
   "metadata": {},
   "source": [
    "Limit the travel time matrix to only the LSOAs in the chosen region:"
   ]
  },
  {
   "cell_type": "code",
   "execution_count": 14,
   "id": "84782a04-64d3-440a-a933-51cd17c183a9",
   "metadata": {},
   "outputs": [],
   "source": [
    "mask_lsoa = df_lsoa_regions['isdn'] == 'West Midlands'\n",
    "df_lsoa_regions = df_lsoa_regions[mask_lsoa].copy()\n",
    "\n",
    "# Limit the travel time matrix to only these LSOA:\n",
    "mask_travel = df_travel_lsoa_here.index.isin(df_lsoa_regions['lsoa'])\n",
    "df_travel_lsoa_here = df_travel_lsoa_here[mask_travel]"
   ]
  },
  {
   "cell_type": "markdown",
   "id": "5d939fcc-b20a-4db7-944c-29a560f5cead",
   "metadata": {},
   "source": [
    "Resulting travel matrix:"
   ]
  },
  {
   "cell_type": "code",
   "execution_count": 15,
   "id": "092ad5a3-ebc4-4607-91c7-07278e81b6f9",
   "metadata": {},
   "outputs": [
    {
     "data": {
      "text/html": [
       "<div>\n",
       "<style scoped>\n",
       "    .dataframe tbody tr th:only-of-type {\n",
       "        vertical-align: middle;\n",
       "    }\n",
       "\n",
       "    .dataframe tbody tr th {\n",
       "        vertical-align: top;\n",
       "    }\n",
       "\n",
       "    .dataframe thead th {\n",
       "        text-align: right;\n",
       "    }\n",
       "</style>\n",
       "<table border=\"1\" class=\"dataframe\">\n",
       "  <thead>\n",
       "    <tr style=\"text-align: right;\">\n",
       "      <th></th>\n",
       "      <th>CV22DX</th>\n",
       "      <th>HR12ER</th>\n",
       "      <th>B152TH</th>\n",
       "      <th>WR51DD</th>\n",
       "    </tr>\n",
       "    <tr>\n",
       "      <th>LSOA</th>\n",
       "      <th></th>\n",
       "      <th></th>\n",
       "      <th></th>\n",
       "      <th></th>\n",
       "    </tr>\n",
       "  </thead>\n",
       "  <tbody>\n",
       "    <tr>\n",
       "      <th>Birmingham 001A</th>\n",
       "      <td>36.9</td>\n",
       "      <td>84.2</td>\n",
       "      <td>31.6</td>\n",
       "      <td>47.7</td>\n",
       "    </tr>\n",
       "    <tr>\n",
       "      <th>Birmingham 001B</th>\n",
       "      <td>36.9</td>\n",
       "      <td>85.3</td>\n",
       "      <td>33.7</td>\n",
       "      <td>49.8</td>\n",
       "    </tr>\n",
       "    <tr>\n",
       "      <th>Birmingham 001C</th>\n",
       "      <td>38.0</td>\n",
       "      <td>84.2</td>\n",
       "      <td>32.6</td>\n",
       "      <td>48.8</td>\n",
       "    </tr>\n",
       "    <tr>\n",
       "      <th>Birmingham 001D</th>\n",
       "      <td>36.9</td>\n",
       "      <td>85.3</td>\n",
       "      <td>33.7</td>\n",
       "      <td>49.8</td>\n",
       "    </tr>\n",
       "    <tr>\n",
       "      <th>Birmingham 002A</th>\n",
       "      <td>35.9</td>\n",
       "      <td>85.3</td>\n",
       "      <td>33.7</td>\n",
       "      <td>49.8</td>\n",
       "    </tr>\n",
       "    <tr>\n",
       "      <th>...</th>\n",
       "      <td>...</td>\n",
       "      <td>...</td>\n",
       "      <td>...</td>\n",
       "      <td>...</td>\n",
       "    </tr>\n",
       "    <tr>\n",
       "      <th>Wyre Forest 013D</th>\n",
       "      <td>64.9</td>\n",
       "      <td>57.4</td>\n",
       "      <td>38.0</td>\n",
       "      <td>26.2</td>\n",
       "    </tr>\n",
       "    <tr>\n",
       "      <th>Wyre Forest 014A</th>\n",
       "      <td>64.9</td>\n",
       "      <td>52.0</td>\n",
       "      <td>38.0</td>\n",
       "      <td>26.2</td>\n",
       "    </tr>\n",
       "    <tr>\n",
       "      <th>Wyre Forest 014B</th>\n",
       "      <td>65.9</td>\n",
       "      <td>52.0</td>\n",
       "      <td>39.1</td>\n",
       "      <td>27.3</td>\n",
       "    </tr>\n",
       "    <tr>\n",
       "      <th>Wyre Forest 014C</th>\n",
       "      <td>65.9</td>\n",
       "      <td>50.9</td>\n",
       "      <td>39.1</td>\n",
       "      <td>27.3</td>\n",
       "    </tr>\n",
       "    <tr>\n",
       "      <th>Wyre Forest 014D</th>\n",
       "      <td>65.9</td>\n",
       "      <td>50.9</td>\n",
       "      <td>39.1</td>\n",
       "      <td>27.3</td>\n",
       "    </tr>\n",
       "  </tbody>\n",
       "</table>\n",
       "<p>1787 rows × 4 columns</p>\n",
       "</div>"
      ],
      "text/plain": [
       "                  CV22DX  HR12ER  B152TH  WR51DD\n",
       "LSOA                                            \n",
       "Birmingham 001A     36.9    84.2    31.6    47.7\n",
       "Birmingham 001B     36.9    85.3    33.7    49.8\n",
       "Birmingham 001C     38.0    84.2    32.6    48.8\n",
       "Birmingham 001D     36.9    85.3    33.7    49.8\n",
       "Birmingham 002A     35.9    85.3    33.7    49.8\n",
       "...                  ...     ...     ...     ...\n",
       "Wyre Forest 013D    64.9    57.4    38.0    26.2\n",
       "Wyre Forest 014A    64.9    52.0    38.0    26.2\n",
       "Wyre Forest 014B    65.9    52.0    39.1    27.3\n",
       "Wyre Forest 014C    65.9    50.9    39.1    27.3\n",
       "Wyre Forest 014D    65.9    50.9    39.1    27.3\n",
       "\n",
       "[1787 rows x 4 columns]"
      ]
     },
     "execution_count": 15,
     "metadata": {},
     "output_type": "execute_result"
    }
   ],
   "source": [
    "df_travel_lsoa_here"
   ]
  },
  {
   "cell_type": "markdown",
   "id": "f481c2cd-f469-48cc-a870-7df4a44244c3",
   "metadata": {},
   "source": [
    "Run the function to find which of the units in the reduced dataframe is closest to each LSOA:"
   ]
  },
  {
   "cell_type": "code",
   "execution_count": 16,
   "id": "7b21fffd-4978-4c48-b16b-fbcdb9f54dbb",
   "metadata": {},
   "outputs": [],
   "source": [
    "df_catchment_island = stroke_maps.catchment.find_nearest_unit(df_travel_lsoa_here)"
   ]
  },
  {
   "cell_type": "markdown",
   "id": "31a249be-5c90-4d6c-bcc9-b5b3b01bf0d2",
   "metadata": {},
   "source": [
    "This dataframe contains only stroke units and LSOA within the boundary of the selected region."
   ]
  },
  {
   "attachments": {},
   "cell_type": "markdown",
   "id": "0d7a169a-870e-4765-b4f1-d98d0a369c02",
   "metadata": {},
   "source": [
    "## Plots\n",
    "\n",
    "Turn the stroke unit catchment area dataframes into geometry data:"
   ]
  },
  {
   "cell_type": "code",
   "execution_count": 17,
   "id": "21b60f7f-6510-47ed-b9f2-8bca863a6dce",
   "metadata": {},
   "outputs": [],
   "source": [
    "gdf_catchment_acute = make_gdf(df_catchment_acute, gdf_lsoa)\n",
    "gdf_catchment_island = make_gdf(df_catchment_island, gdf_lsoa)"
   ]
  },
  {
   "cell_type": "markdown",
   "id": "d4224ddf-d1ee-4ef0-b3bb-358a70648bb8",
   "metadata": {},
   "source": [
    "Find shared axis limits by finding the bounding box that just contains both sets of catchment areas:"
   ]
  },
  {
   "cell_type": "code",
   "execution_count": 18,
   "id": "4c07fea6-3463-4e56-b8cf-8e247054a1f0",
   "metadata": {},
   "outputs": [],
   "source": [
    "bounds_acute = gdf_catchment_acute.total_bounds\n",
    "bounds_island = gdf_catchment_island.total_bounds\n",
    "\n",
    "bounds = [\n",
    "    min(bounds_acute[0], bounds_island[0]),  # xmin\n",
    "    min(bounds_acute[1], bounds_island[1]),  # ymin\n",
    "    max(bounds_acute[2], bounds_island[2]),  # xmax\n",
    "    max(bounds_acute[3], bounds_island[3]),  # ymax\n",
    "]"
   ]
  },
  {
   "cell_type": "markdown",
   "id": "c81b0b70-aebc-4f65-bc62-db0d57ba21ab",
   "metadata": {},
   "source": [
    "Plot the unit locations and catchment areas using matplotlib:"
   ]
  },
  {
   "cell_type": "code",
   "execution_count": 19,
   "id": "1766709c-93a3-492a-bb87-fc3ff4b18fc7",
   "metadata": {},
   "outputs": [
    {
     "data": {
      "image/png": "[encoded data removed]",
      "text/plain": [
       "<Figure size 800x800 with 1 Axes>"
      ]
     },
     "metadata": {},
     "output_type": "display_data"
    },
    {
     "data": {
      "image/png": "[encoded data removed]",
      "text/plain": [
       "<Figure size 800x800 with 1 Axes>"
      ]
     },
     "metadata": {},
     "output_type": "display_data"
    }
   ],
   "source": [
    "plot_catchment(gdf_catchment_acute, gdf_isdn, gdf_units, postcodes_acute_units, title='Nearest unit', bounds=bounds)\n",
    "plot_catchment(gdf_catchment_island, gdf_isdn, gdf_units, postcodes_island, title='Island method', bounds=bounds)"
   ]
  },
  {
   "cell_type": "code",
   "execution_count": null,
   "id": "709d0182-9d1d-497a-9dbf-b756408f7ea6",
   "metadata": {},
   "outputs": [],
   "source": []
  }
 ],
 "metadata": {
  "kernelspec": {
   "display_name": "Python 3 (ipykernel)",
   "language": "python",
   "name": "python3"
  },
  "language_info": {
   "codemirror_mode": {
    "name": "ipython",
    "version": 3
   },
   "file_extension": ".py",
   "mimetype": "text/x-python",
   "name": "python",
   "nbconvert_exporter": "python",
   "pygments_lexer": "ipython3",
   "version": "3.12.2"
  }
 },
 "nbformat": 4,
 "nbformat_minor": 5
}
