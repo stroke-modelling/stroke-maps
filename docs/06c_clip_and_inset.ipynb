{
 "cells": [
  {
   "cell_type": "markdown",
   "id": "56d32f40-200e-454d-94c7-9fe7b88c7209",
   "metadata": {},
   "source": [
    "# Inset to focus on some area of the map\n",
    "\n",
    "This notebook shows an example of a UK-wide map of stroke units and catchment areas with a bonus inset image that shows a zoom-in of London.\n",
    "\n",
    "## Notebook setup"
   ]
  },
  {
   "cell_type": "code",
   "execution_count": 1,
   "id": "64500689-dce5-4f69-9455-2e4a0d6030ef",
   "metadata": {},
   "outputs": [],
   "source": [
    "import stroke_maps.load_data\n",
    "import stroke_maps.catchment\n",
    "import stroke_maps.geo\n",
    "\n",
    "import pandas as pd\n",
    "import matplotlib.pyplot as plt\n",
    "import numpy as np\n",
    "from mpl_toolkits.axes_grid1.inset_locator import mark_inset\n",
    "from mapclassify import greedy  # to assign colours to regions on map.\n",
    "                                # ^ also requires libpysal."
   ]
  },
  {
   "cell_type": "markdown",
   "id": "2404e0fc-16a0-4444-9f43-6af0cb8410e6",
   "metadata": {},
   "source": [
    "## Load the stroke unit data\n",
    "\n",
    "Postcodes, stroke team names, services etc. are stored in this dataframe:"
   ]
  },
  {
   "cell_type": "code",
   "execution_count": 2,
   "id": "2d56d419-9fd5-4631-bb2c-9974dd85b620",
   "metadata": {},
   "outputs": [],
   "source": [
    "df_units = stroke_maps.load_data.stroke_unit_region_lookup()"
   ]
  },
  {
   "cell_type": "markdown",
   "id": "56cd0f0e-71f2-46dc-b83e-2fe6026c099a",
   "metadata": {},
   "source": [
    "Coordinates of each stroke unit are stored in here:"
   ]
  },
  {
   "cell_type": "code",
   "execution_count": 3,
   "id": "dddf5bc5-83aa-407f-a2e3-00efaaefabe6",
   "metadata": {},
   "outputs": [],
   "source": [
    "gdf_units = stroke_maps.load_data.stroke_unit_coordinates()"
   ]
  },
  {
   "cell_type": "markdown",
   "id": "1b1d2dc9-8275-47a8-ab6f-027ec931992d",
   "metadata": {},
   "source": [
    "Merge the unit names and services into the coordinates:"
   ]
  },
  {
   "cell_type": "code",
   "execution_count": 4,
   "id": "d37dad8e-c992-4ecf-8064-a8f4f3c404ef",
   "metadata": {},
   "outputs": [],
   "source": [
    "gdf_units = pd.merge(\n",
    "    gdf_units, df_units,\n",
    "    left_index=True, right_index=True, how='right'\n",
    ")"
   ]
  },
  {
   "cell_type": "code",
   "execution_count": 5,
   "id": "7b66bc9f-35ab-47e2-8d09-9fbff7f45628",
   "metadata": {},
   "outputs": [
    {
     "data": {
      "text/html": [
       "<div>\n",
       "<style scoped>\n",
       "    .dataframe tbody tr th:only-of-type {\n",
       "        vertical-align: middle;\n",
       "    }\n",
       "\n",
       "    .dataframe tbody tr th {\n",
       "        vertical-align: top;\n",
       "    }\n",
       "\n",
       "    .dataframe thead th {\n",
       "        text-align: right;\n",
       "    }\n",
       "</style>\n",
       "<table border=\"1\" class=\"dataframe\">\n",
       "  <thead>\n",
       "    <tr style=\"text-align: right;\">\n",
       "      <th>postcode</th>\n",
       "      <th>SY231ER</th>\n",
       "      <th>CB20QQ</th>\n",
       "      <th>L97AL</th>\n",
       "    </tr>\n",
       "  </thead>\n",
       "  <tbody>\n",
       "    <tr>\n",
       "      <th>BNG_E</th>\n",
       "      <td>259208</td>\n",
       "      <td>546375</td>\n",
       "      <td>338020</td>\n",
       "    </tr>\n",
       "    <tr>\n",
       "      <th>BNG_N</th>\n",
       "      <td>281805</td>\n",
       "      <td>254988</td>\n",
       "      <td>397205</td>\n",
       "    </tr>\n",
       "    <tr>\n",
       "      <th>Latitude</th>\n",
       "      <td>52.416068</td>\n",
       "      <td>52.173741</td>\n",
       "      <td>53.467918</td>\n",
       "    </tr>\n",
       "    <tr>\n",
       "      <th>Longitude</th>\n",
       "      <td>-4.071578</td>\n",
       "      <td>0.139114</td>\n",
       "      <td>-2.935131</td>\n",
       "    </tr>\n",
       "    <tr>\n",
       "      <th>geometry</th>\n",
       "      <td>POINT (259208 281805)</td>\n",
       "      <td>POINT (546375 254988)</td>\n",
       "      <td>POINT (338020 397205)</td>\n",
       "    </tr>\n",
       "    <tr>\n",
       "      <th>stroke_team</th>\n",
       "      <td>Bronglais Hospital (Aberystwyth)</td>\n",
       "      <td>Addenbrooke's Hospital, Cambridge</td>\n",
       "      <td>University Hospital Aintree, Liverpool</td>\n",
       "    </tr>\n",
       "    <tr>\n",
       "      <th>short_code</th>\n",
       "      <td>AB</td>\n",
       "      <td>AD</td>\n",
       "      <td>AI</td>\n",
       "    </tr>\n",
       "    <tr>\n",
       "      <th>ssnap_name</th>\n",
       "      <td>Bronglais Hospital</td>\n",
       "      <td>Addenbrooke's Hospital</td>\n",
       "      <td>University Hospital Aintree</td>\n",
       "    </tr>\n",
       "    <tr>\n",
       "      <th>use_ivt</th>\n",
       "      <td>1</td>\n",
       "      <td>1</td>\n",
       "      <td>1</td>\n",
       "    </tr>\n",
       "    <tr>\n",
       "      <th>use_mt</th>\n",
       "      <td>0</td>\n",
       "      <td>1</td>\n",
       "      <td>1</td>\n",
       "    </tr>\n",
       "    <tr>\n",
       "      <th>use_msu</th>\n",
       "      <td>0</td>\n",
       "      <td>1</td>\n",
       "      <td>1</td>\n",
       "    </tr>\n",
       "    <tr>\n",
       "      <th>transfer_unit_postcode</th>\n",
       "      <td>nearest</td>\n",
       "      <td>nearest</td>\n",
       "      <td>nearest</td>\n",
       "    </tr>\n",
       "    <tr>\n",
       "      <th>lsoa</th>\n",
       "      <td>Ceredigion 002A</td>\n",
       "      <td>Cambridge 013D</td>\n",
       "      <td>Liverpool 005A</td>\n",
       "    </tr>\n",
       "    <tr>\n",
       "      <th>lsoa_code</th>\n",
       "      <td>W01000512</td>\n",
       "      <td>E01017995</td>\n",
       "      <td>E01006654</td>\n",
       "    </tr>\n",
       "    <tr>\n",
       "      <th>region</th>\n",
       "      <td>Hywel Dda University Health Board</td>\n",
       "      <td>NHS Cambridgeshire and Peterborough ICB - 06H</td>\n",
       "      <td>NHS Cheshire and Merseyside ICB - 99A</td>\n",
       "    </tr>\n",
       "    <tr>\n",
       "      <th>region_code</th>\n",
       "      <td>W11000025</td>\n",
       "      <td>E38000260</td>\n",
       "      <td>E38000101</td>\n",
       "    </tr>\n",
       "    <tr>\n",
       "      <th>region_type</th>\n",
       "      <td>LHB</td>\n",
       "      <td>SICBL</td>\n",
       "      <td>SICBL</td>\n",
       "    </tr>\n",
       "    <tr>\n",
       "      <th>country</th>\n",
       "      <td>Wales</td>\n",
       "      <td>England</td>\n",
       "      <td>England</td>\n",
       "    </tr>\n",
       "    <tr>\n",
       "      <th>icb</th>\n",
       "      <td>NaN</td>\n",
       "      <td>NHS Cambridgeshire and Peterborough Integrated...</td>\n",
       "      <td>NHS Cheshire and Merseyside Integrated Care Board</td>\n",
       "    </tr>\n",
       "    <tr>\n",
       "      <th>icb_code</th>\n",
       "      <td>NaN</td>\n",
       "      <td>E54000056</td>\n",
       "      <td>E54000008</td>\n",
       "    </tr>\n",
       "    <tr>\n",
       "      <th>isdn</th>\n",
       "      <td>NaN</td>\n",
       "      <td>East of England (South)</td>\n",
       "      <td>Cheshire and Merseyside</td>\n",
       "    </tr>\n",
       "  </tbody>\n",
       "</table>\n",
       "</div>"
      ],
      "text/plain": [
       "postcode                                          SY231ER  \\\n",
       "BNG_E                                              259208   \n",
       "BNG_N                                              281805   \n",
       "Latitude                                        52.416068   \n",
       "Longitude                                       -4.071578   \n",
       "geometry                            POINT (259208 281805)   \n",
       "stroke_team              Bronglais Hospital (Aberystwyth)   \n",
       "short_code                                             AB   \n",
       "ssnap_name                             Bronglais Hospital   \n",
       "use_ivt                                                 1   \n",
       "use_mt                                                  0   \n",
       "use_msu                                                 0   \n",
       "transfer_unit_postcode                            nearest   \n",
       "lsoa                                      Ceredigion 002A   \n",
       "lsoa_code                                       W01000512   \n",
       "region                  Hywel Dda University Health Board   \n",
       "region_code                                     W11000025   \n",
       "region_type                                           LHB   \n",
       "country                                             Wales   \n",
       "icb                                                   NaN   \n",
       "icb_code                                              NaN   \n",
       "isdn                                                  NaN   \n",
       "\n",
       "postcode                                                           CB20QQ  \\\n",
       "BNG_E                                                              546375   \n",
       "BNG_N                                                              254988   \n",
       "Latitude                                                        52.173741   \n",
       "Longitude                                                        0.139114   \n",
       "geometry                                            POINT (546375 254988)   \n",
       "stroke_team                             Addenbrooke's Hospital, Cambridge   \n",
       "short_code                                                             AD   \n",
       "ssnap_name                                         Addenbrooke's Hospital   \n",
       "use_ivt                                                                 1   \n",
       "use_mt                                                                  1   \n",
       "use_msu                                                                 1   \n",
       "transfer_unit_postcode                                            nearest   \n",
       "lsoa                                                       Cambridge 013D   \n",
       "lsoa_code                                                       E01017995   \n",
       "region                      NHS Cambridgeshire and Peterborough ICB - 06H   \n",
       "region_code                                                     E38000260   \n",
       "region_type                                                         SICBL   \n",
       "country                                                           England   \n",
       "icb                     NHS Cambridgeshire and Peterborough Integrated...   \n",
       "icb_code                                                        E54000056   \n",
       "isdn                                              East of England (South)   \n",
       "\n",
       "postcode                                                            L97AL  \n",
       "BNG_E                                                              338020  \n",
       "BNG_N                                                              397205  \n",
       "Latitude                                                        53.467918  \n",
       "Longitude                                                       -2.935131  \n",
       "geometry                                            POINT (338020 397205)  \n",
       "stroke_team                        University Hospital Aintree, Liverpool  \n",
       "short_code                                                             AI  \n",
       "ssnap_name                                    University Hospital Aintree  \n",
       "use_ivt                                                                 1  \n",
       "use_mt                                                                  1  \n",
       "use_msu                                                                 1  \n",
       "transfer_unit_postcode                                            nearest  \n",
       "lsoa                                                       Liverpool 005A  \n",
       "lsoa_code                                                       E01006654  \n",
       "region                              NHS Cheshire and Merseyside ICB - 99A  \n",
       "region_code                                                     E38000101  \n",
       "region_type                                                         SICBL  \n",
       "country                                                           England  \n",
       "icb                     NHS Cheshire and Merseyside Integrated Care Board  \n",
       "icb_code                                                        E54000008  \n",
       "isdn                                              Cheshire and Merseyside  "
      ]
     },
     "execution_count": 5,
     "metadata": {},
     "output_type": "execute_result"
    }
   ],
   "source": [
    "gdf_units.head(3).T"
   ]
  },
  {
   "cell_type": "markdown",
   "id": "b274c29c-44f0-4ff5-8470-97844460f090",
   "metadata": {},
   "source": [
    "__LSOA regions__:"
   ]
  },
  {
   "cell_type": "code",
   "execution_count": 6,
   "id": "b99f7996-bc46-4152-a7e6-4e20fa20fb24",
   "metadata": {},
   "outputs": [],
   "source": [
    "gdf_lsoa = stroke_maps.load_data.lsoa_geography()"
   ]
  },
  {
   "cell_type": "markdown",
   "id": "318365bd-c887-4804-a4f6-1b09cb8887ad",
   "metadata": {},
   "source": [
    "The following colour list is used to colour the catchment areas in the maps."
   ]
  },
  {
   "cell_type": "code",
   "execution_count": 7,
   "id": "61ea7d42-b07b-4c78-a5c3-dcf97eff9902",
   "metadata": {},
   "outputs": [],
   "source": [
    "# Make a list of colour names:\n",
    "# Expecting to only need a few colours for this example.\n",
    "colours = ['Indigo', 'Purple', 'DarkOrchid', 'MediumOrchid', 'Orchid', 'Plum', 'Lavender']\n",
    "\n",
    "# Make a dictionary of numbers to colours.\n",
    "# The keys are the numbers in the `adjacent_colours` column:\n",
    "keys = [f'{i}' for i in range(len(colours))]\n",
    "colour_map = dict(zip(keys, colours))"
   ]
  },
  {
   "attachments": {},
   "cell_type": "markdown",
   "id": "bbb4ad6c-d1b4-495d-888c-ddb1c159df82",
   "metadata": {},
   "source": [
    "## Calculate LSOA catchment areas\n",
    "\n",
    "First we'll create a map of the normal stroke unit catchment areas in the West Midlands when we don't restrict anything.\n",
    "\n",
    "Limit the travel time matrix to only stroke units that offer acute care. These are units where `use_ivt` and/or `use_mt` are equal to 1 (one)."
   ]
  },
  {
   "cell_type": "code",
   "execution_count": 8,
   "id": "b87f9905-4109-4cb1-8919-5f0a0aa578d2",
   "metadata": {},
   "outputs": [],
   "source": [
    "mask = ((df_units['use_ivt'] == 1) | (df_units['use_mt'] == 1))\n",
    "postcodes_units = df_units[mask].index.values\n",
    "\n",
    "# Load the travel time matrix:\n",
    "df_travel_lsoa = stroke_maps.load_data.travel_time_matrix_lsoa()\n",
    "# Limit it to these units:\n",
    "df_travel_lsoa = df_travel_lsoa[postcodes_units].copy()"
   ]
  },
  {
   "cell_type": "markdown",
   "id": "26e45837-89ac-451a-8f25-a75fe24567cf",
   "metadata": {},
   "source": [
    "Run the function to find which of the units in the reduced dataframe is closest to each LSOA:"
   ]
  },
  {
   "cell_type": "code",
   "execution_count": 9,
   "id": "2ccd32b0-ec76-4eb3-9a29-90ccdfb21923",
   "metadata": {},
   "outputs": [],
   "source": [
    "df_catchment = stroke_maps.catchment.find_nearest_unit(df_travel_lsoa)"
   ]
  },
  {
   "cell_type": "markdown",
   "id": "d26be862-21ef-4a57-b4c3-2103a023653c",
   "metadata": {},
   "source": [
    "Combine this data with geometry:"
   ]
  },
  {
   "cell_type": "code",
   "execution_count": 10,
   "id": "b0e3d13a-d1d4-4781-8c2e-957aa3a6b553",
   "metadata": {},
   "outputs": [],
   "source": [
    "# Merge in the information on nearest acute stroke unit:\n",
    "gdf_lsoa = pd.merge(\n",
    "    gdf_lsoa, df_catchment['unit_postcode'],\n",
    "    left_on='LSOA11NM', right_index=True, how='right'\n",
    ")\n",
    "# Combine LSOA with the same acute stroke unit into a single region:\n",
    "gdf_catchment = stroke_maps.geo.combine_regions(gdf_lsoa, 'unit_postcode')\n",
    "# Convert the coordinates to British National Grid so that they match other geometry:\n",
    "gdf_catchment = gdf_catchment.to_crs('EPSG:27700')\n",
    "# Assign colours:\n",
    "# Use balance='distance' option to use as few colours as possible.\n",
    "# It does take longer to run though.\n",
    "gdf_catchment['adjacent_colours'] = greedy(\n",
    "    gdf_catchment, min_distance=1, balance='distance').astype(str)\n",
    "# Assign these colours to the regions:\n",
    "gdf_catchment['colour_str'] = gdf_catchment['adjacent_colours'].map(colour_map)"
   ]
  },
  {
   "cell_type": "markdown",
   "id": "297a2790-9cde-4734-a216-e12657cb753d",
   "metadata": {},
   "source": [
    "## Plot"
   ]
  },
  {
   "cell_type": "markdown",
   "id": "08969c9d-30cc-4ff8-908f-f58671e05b05",
   "metadata": {},
   "source": [
    "First load the outline of England and Wales:"
   ]
  },
  {
   "cell_type": "code",
   "execution_count": 11,
   "id": "63778a5d-4844-4269-9419-07843dfa51a2",
   "metadata": {},
   "outputs": [],
   "source": [
    "gdf_ew = stroke_maps.load_data.englandwales_outline()"
   ]
  },
  {
   "cell_type": "code",
   "execution_count": 12,
   "id": "80bd54f0-dea1-4391-836f-c2c34a92a395",
   "metadata": {},
   "outputs": [
    {
     "data": {
      "image/png": "[encoded data removed]",
      "text/plain": [
       "<Figure size 1200x1200 with 1 Axes>"
      ]
     },
     "metadata": {},
     "output_type": "display_data"
    }
   ],
   "source": [
    "fig, ax = plt.subplots(figsize=(12, 12))\n",
    "# Create inset axis in bottom right corner.\n",
    "# x left anchor, y bottom anchor, width, height.\n",
    "# If you define an axis that will fall outside the figure limits,\n",
    "# pyplot will quietly move the fig boundaries around to accommodate it.\n",
    "axins = ax.inset_axes([0.9, -0.05, 0.18, 0.18])\n",
    "\n",
    "def plot_map(gdf_ew, gdf_catchment, gdf_units, ax):\n",
    "    # Plot the catchment areas:\n",
    "    gdf_catchment.plot(\n",
    "        ax=ax,              # Set which axes to use for plot\n",
    "        antialiased=False,  # Avoids artefact boundary lines\n",
    "        color=gdf_catchment['colour_str'],  # set colours using this column\n",
    "        linewidth=0.2,\n",
    "        )\n",
    "    \n",
    "    # Plot the country outlines:\n",
    "    gdf_ew.plot(\n",
    "        ax=ax,              # Set which axes to use for plot\n",
    "        antialiased=False,  # Avoids artefact boundary lines\n",
    "        facecolor='none',\n",
    "        edgecolor='k',\n",
    "        linewidth=0.2,\n",
    "        )\n",
    "    \n",
    "    # Pick out which stroke units to plot:\n",
    "    mask_ivt = ((gdf_units['use_ivt'] == 1) & (gdf_units['use_mt'] == 0))\n",
    "    mask_mt = (gdf_units['use_mt'] == 1)\n",
    "    \n",
    "    # IVT units:\n",
    "    ax.scatter(\n",
    "        gdf_units.loc[mask_ivt, 'geometry'].x,\n",
    "        gdf_units.loc[mask_ivt, 'geometry'].y,\n",
    "        marker='o',\n",
    "        color='k',\n",
    "        label='IVT unit',\n",
    "        s=10,  # size\n",
    "        )\n",
    "    \n",
    "    # MT units:\n",
    "    ax.scatter(\n",
    "        gdf_units.loc[mask_mt, 'geometry'].x,\n",
    "        gdf_units.loc[mask_mt, 'geometry'].y,\n",
    "        marker='*',\n",
    "        color='k',\n",
    "        label='MT unit',\n",
    "        s=20,  # size\n",
    "        )    \n",
    "\n",
    "# ----- Main map -----\n",
    "plot_map(gdf_ew, gdf_catchment, gdf_units, ax)\n",
    "\n",
    "\n",
    "# ----- London inset -----\n",
    "# Identify London hospitals to go in the inset map\n",
    "london_mask = gdf_units['region'].str.contains('London')\n",
    "london_hospitals = gdf_units[london_mask].index.to_list()\n",
    "london_units = gdf_units[london_mask]\n",
    "\n",
    "# # Identify map area to plot in the inset map.\n",
    "# Limit catchment areas to just the stroke units in London:\n",
    "gdf_catchment_here = gdf_catchment[\n",
    "    gdf_catchment.index.isin(london_hospitals)].copy()\n",
    "\n",
    "minx_, miny_, maxx_, maxy_ = gdf_catchment_here.total_bounds\n",
    "\n",
    "# Set extent of inset map\n",
    "axins.set_xlim(minx_, maxx_)\n",
    "axins.set_ylim(miny_, maxy_)\n",
    "\n",
    "# Remove axis tick labels:\n",
    "axins.set_xticks([])\n",
    "axins.set_yticks([])\n",
    "\n",
    "# Define lines connecting inset map to main map\n",
    "mark_inset(ax, axins, loc1=1, loc2=3, fc=\"none\", ec=\"0.5\")\n",
    "\n",
    "# Plot inset map of London\n",
    "plot_map(gdf_ew, gdf_catchment, london_units, axins)\n",
    "\n",
    "\n",
    "# ----- Figure setup -----\n",
    "# Remove the axis border, ticks, labels...\n",
    "ax.axis('off')\n",
    "\n",
    "plt.show()"
   ]
  },
  {
   "cell_type": "code",
   "execution_count": null,
   "id": "d8a5d282-9e9a-44ed-b4ab-63b60d06e52f",
   "metadata": {},
   "outputs": [],
   "source": []
  }
 ],
 "metadata": {
  "kernelspec": {
   "display_name": "Python 3 (ipykernel)",
   "language": "python",
   "name": "python3"
  },
  "language_info": {
   "codemirror_mode": {
    "name": "ipython",
    "version": 3
   },
   "file_extension": ".py",
   "mimetype": "text/x-python",
   "name": "python",
   "nbconvert_exporter": "python",
   "pygments_lexer": "ipython3",
   "version": "3.12.2"
  }
 },
 "nbformat": 4,
 "nbformat_minor": 5
}
