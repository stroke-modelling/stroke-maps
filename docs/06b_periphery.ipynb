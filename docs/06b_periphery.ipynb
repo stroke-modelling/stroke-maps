{
 "cells": [
  {
   "cell_type": "markdown",
   "id": "0d5dd8a3-a541-40ce-9dd9-8ea8be9f075e",
   "metadata": {},
   "source": [
    "# Periphery units, LSOA, regions containing LSOA...\n",
    "\n",
    "Ways to label them as periphery and draw them on the maps in a different way."
   ]
  },
  {
   "cell_type": "code",
   "execution_count": 1,
   "id": "2fac86d7-f1f0-4342-b279-747d16461936",
   "metadata": {},
   "outputs": [],
   "source": [
    "import stroke_maps.load_data\n",
    "import stroke_maps.catchment\n",
    "import stroke_maps.geo\n",
    "\n",
    "import pandas as pd\n",
    "import matplotlib.pyplot as plt\n",
    "from mapclassify import greedy  # to assign colours to regions on map.\n",
    "                                # ^ also requires libpysal."
   ]
  },
  {
   "attachments": {},
   "cell_type": "markdown",
   "id": "131e58f3-c1ab-4378-a56f-d2924b7f1052",
   "metadata": {},
   "source": [
    "## Load data\n",
    "\n",
    "__Stroke unit services__ for the calculations and __coordinates__ for the maps"
   ]
  },
  {
   "cell_type": "code",
   "execution_count": 2,
   "id": "bc951483-9d3b-44c4-ad1b-c92ab624fd83",
   "metadata": {},
   "outputs": [],
   "source": [
    "df_units = stroke_maps.load_data.stroke_unit_region_lookup()\n",
    "\n",
    "gdf_units = stroke_maps.load_data.stroke_unit_coordinates()\n",
    "# Merge the services information into the coordinates:\n",
    "gdf_units = pd.merge(\n",
    "    gdf_units, df_units[['use_ivt', 'use_mt']],\n",
    "    left_index=True, right_index=True, how='right'\n",
    ")"
   ]
  },
  {
   "cell_type": "markdown",
   "id": "839ea21f-b9f4-4e3e-88ad-08a647a9d25f",
   "metadata": {},
   "source": [
    "__LSOA travel time__ for the calculations"
   ]
  },
  {
   "cell_type": "code",
   "execution_count": 3,
   "id": "50b9e616-5f35-444c-bca2-9e38968d2e08",
   "metadata": {},
   "outputs": [],
   "source": [
    "df_travel_lsoa = stroke_maps.load_data.travel_time_matrix_lsoa()"
   ]
  },
  {
   "cell_type": "markdown",
   "id": "9874a277-c5bc-4ffc-95a0-b2b793ebc018",
   "metadata": {},
   "source": [
    "__LSOA boundaries__ for the maps"
   ]
  },
  {
   "cell_type": "code",
   "execution_count": 4,
   "id": "7ac1c595-95f2-4a77-9fcb-223fba985e3f",
   "metadata": {},
   "outputs": [],
   "source": [
    "gdf_lsoa = stroke_maps.load_data.lsoa_geography()"
   ]
  },
  {
   "cell_type": "markdown",
   "id": "7f6093ea-80d2-4156-acd1-962a93eaa8db",
   "metadata": {},
   "source": [
    "__Region boundaries__ for the maps"
   ]
  },
  {
   "cell_type": "code",
   "execution_count": 5,
   "id": "532c3d8f-4cde-4483-943e-c21f013a924d",
   "metadata": {},
   "outputs": [],
   "source": [
    "gdf_sicbl = stroke_maps.load_data.sicbl_geography()\n",
    "gdf_lhb = stroke_maps.load_data.lhb_geography()"
   ]
  },
  {
   "cell_type": "code",
   "execution_count": 6,
   "id": "b1a83393-9739-4f0f-a1b4-e37d80bf867d",
   "metadata": {},
   "outputs": [],
   "source": [
    "# Set both to have the same column names:\n",
    "gdf_sicbl['region'] = gdf_sicbl['SICBL22NM']\n",
    "gdf_sicbl['region_code'] = gdf_sicbl['SICBL22CD']\n",
    "\n",
    "gdf_lhb['region'] = gdf_lhb['LHB20NM']\n",
    "gdf_lhb['region_code'] = gdf_lhb['LHB20CD']\n",
    "\n",
    "gdf_sicbl['region_type'] = 'SICBL'\n",
    "gdf_lhb['region_type'] = 'LHB'"
   ]
  },
  {
   "cell_type": "code",
   "execution_count": 7,
   "id": "397a4337-8a38-432f-9b90-728084573398",
   "metadata": {},
   "outputs": [],
   "source": [
    "# Combine both region types into one geodataframe:\n",
    "gdf_regions = pd.concat((\n",
    "    gdf_sicbl[['region', 'region_type', 'region_code', 'geometry']],\n",
    "    gdf_lhb[['region', 'region_type', 'region_code', 'geometry']]\n",
    "))\n",
    "\n",
    "gdf_regions.index = range(len(gdf_regions))"
   ]
  },
  {
   "cell_type": "markdown",
   "id": "285ba39f-2b3c-4b4e-99b8-3299ce841f0e",
   "metadata": {},
   "source": [
    "The following colour list is used to colour the catchment areas in the maps."
   ]
  },
  {
   "cell_type": "code",
   "execution_count": 8,
   "id": "079decbb-30a9-4fcd-aba3-bb398dba32a9",
   "metadata": {},
   "outputs": [],
   "source": [
    "# Make a list of colour names:\n",
    "# Expecting to only need a few colours for this example.\n",
    "colours = ['Indigo', 'Purple', 'DarkOrchid', 'MediumOrchid', 'Orchid', 'Plum', 'Lavender']\n",
    "\n",
    "# Make a dictionary of numbers to colours.\n",
    "# The keys are the numbers in the `adjacent_colours` column:\n",
    "keys = [f'{i}' for i in range(len(colours))]\n",
    "colour_map = dict(zip(keys, colours))"
   ]
  },
  {
   "attachments": {},
   "cell_type": "markdown",
   "id": "cddda142-1ec2-4bd0-b536-e1d4efe7c026",
   "metadata": {},
   "source": [
    "## Calculate LSOA catchment areas\n",
    "\n",
    "First we'll create a map of the normal stroke unit catchment areas in the West Midlands when we don't restrict anything.\n",
    "\n",
    "Limit the travel time matrix to only stroke units that offer acute care. These are units where `use_ivt` and/or `use_mt` are equal to 1 (one)."
   ]
  },
  {
   "cell_type": "code",
   "execution_count": 9,
   "id": "2d988b9e-bb38-46d0-b4dd-6fdd568163b8",
   "metadata": {},
   "outputs": [],
   "source": [
    "mask = ((df_units['use_ivt'] == 1) | (df_units['use_mt'] == 1))\n",
    "postcodes_units = df_units[mask].index.values\n",
    "\n",
    "# Load the travel time matrix:\n",
    "df_travel_lsoa = stroke_maps.load_data.travel_time_matrix_lsoa()\n",
    "# Limit it to these units:\n",
    "df_travel_lsoa = df_travel_lsoa[postcodes_units].copy()"
   ]
  },
  {
   "cell_type": "markdown",
   "id": "a67f39a6-78e0-4ff1-bd7b-e50efab834ee",
   "metadata": {},
   "source": [
    "Run the function to find which of the units in the reduced dataframe is closest to each LSOA:"
   ]
  },
  {
   "cell_type": "code",
   "execution_count": 10,
   "id": "9d3caab5-3899-40a5-9486-2c4f9ea68ac9",
   "metadata": {},
   "outputs": [],
   "source": [
    "df_catchment = stroke_maps.catchment.find_nearest_unit(df_travel_lsoa)"
   ]
  },
  {
   "cell_type": "markdown",
   "id": "e7897ef5-da2d-4750-a608-37d921cc0087",
   "metadata": {},
   "source": [
    "Limit this results dataframe to only stroke units in the chosen region:"
   ]
  },
  {
   "cell_type": "code",
   "execution_count": 11,
   "id": "b6e48571-9f25-4dc0-b03a-420034d5d7ad",
   "metadata": {},
   "outputs": [],
   "source": [
    "# Which postcodes are in the chosen region?\n",
    "mask_here = (df_units['isdn'] == 'West Midlands')\n",
    "postcodes_here = df_units[mask_here].index.values\n",
    "\n",
    "# Limit the catchment data to only those postcodes:\n",
    "mask_catchment = df_catchment['unit_postcode'].isin(postcodes_here)\n",
    "df_catchment = df_catchment[mask_catchment]"
   ]
  },
  {
   "cell_type": "markdown",
   "id": "d2e76f6d-8dbb-418e-ad07-1cbe97c37493",
   "metadata": {},
   "source": [
    "This dataframe is allowed to contain LSOA outside the selected region and to not contain LSOA within the selected region.\n",
    "\n",
    "Combine this data with geometry:"
   ]
  },
  {
   "cell_type": "code",
   "execution_count": 12,
   "id": "a1750f42-432f-4858-ab64-882d812fd525",
   "metadata": {},
   "outputs": [],
   "source": [
    "# Merge in the information on nearest acute stroke unit:\n",
    "gdf_lsoa = pd.merge(\n",
    "    gdf_lsoa, df_catchment['unit_postcode'],\n",
    "    left_on='LSOA11NM', right_index=True, how='right'\n",
    ")\n",
    "# Combine LSOA with the same acute stroke unit into a single region:\n",
    "gdf_catchment = stroke_maps.geo.combine_regions(gdf_lsoa, 'unit_postcode')\n",
    "# Convert the coordinates to British National Grid so that they match other geometry:\n",
    "gdf_catchment = gdf_catchment.to_crs('EPSG:27700')\n",
    "# Assign colours:\n",
    "gdf_catchment['adjacent_colours'] = greedy(\n",
    "    gdf_catchment, min_distance=1, balance='count').astype(str)\n",
    "# Assign these colours to the regions:\n",
    "gdf_catchment['colour_str'] = gdf_catchment['adjacent_colours'].map(colour_map)"
   ]
  },
  {
   "attachments": {},
   "cell_type": "markdown",
   "id": "d90116f3-253c-4934-8cca-de4767ffa713",
   "metadata": {},
   "source": [
    "## Plot 1: Everything\n",
    "\n",
    "Crop the extent of the plot to a box just containing the catchment areas, and otherwise plot all of the stroke units and region boundaries in the full data files."
   ]
  },
  {
   "cell_type": "code",
   "execution_count": 13,
   "id": "872e4eb4-7d83-43d6-bf96-411f7334e080",
   "metadata": {},
   "outputs": [
    {
     "data": {
      "image/png": "[encoded data removed]",
      "text/plain": [
       "<Figure size 800x800 with 1 Axes>"
      ]
     },
     "metadata": {},
     "output_type": "display_data"
    }
   ],
   "source": [
    "fig, ax = plt.subplots(figsize=(8, 8))\n",
    "\n",
    "# Catchment areas:\n",
    "gdf_catchment.plot(\n",
    "    ax=ax,              # Set which axes to use for plot\n",
    "    antialiased=False,  # Avoids artefact boundary lines\n",
    "    color=gdf_catchment['colour_str'],  # set colours using this column\n",
    "    linewidth=0.2,\n",
    "    )\n",
    "\n",
    "# Setup for ISDN:\n",
    "kwargs_isdn = dict(\n",
    "    facecolor='none',\n",
    "    edgecolor='k',\n",
    "    linewidth=0.2,\n",
    ")\n",
    "# ISDN outlines:\n",
    "gdf_regions.plot(\n",
    "    ax=ax,              # Set which axes to use for plot\n",
    "    antialiased=False,  # Avoids artefact boundary lines\n",
    "    **kwargs_isdn\n",
    "    )\n",
    "# Can't put regions like this ^ in the legend, so fake it now.\n",
    "# Draw an area so small you'll never see it\n",
    "# and give it the same properties as the wanted region.\n",
    "points = [p for p in gdf_regions['geometry'].iloc[0].exterior.coords]\n",
    "x = points[0][0]\n",
    "y = points[0][1]\n",
    "ax.fill(\n",
    "    [x, x+1e-7],\n",
    "    [y, y+1e-7],\n",
    "    **kwargs_isdn,\n",
    "    label='ICB & LHB'\n",
    ")\n",
    "\n",
    "# Pick out which stroke units to plot:\n",
    "mask_ivt = ((gdf_units['use_ivt'] == 1) & (gdf_units['use_mt'] == 0))\n",
    "mask_mt = (gdf_units['use_mt'] == 1)\n",
    "\n",
    "# IVT units:\n",
    "ax.scatter(\n",
    "    gdf_units.loc[mask_ivt, 'geometry'].x,\n",
    "    gdf_units.loc[mask_ivt, 'geometry'].y,\n",
    "    marker='o',\n",
    "    facecolor='k',\n",
    "    label='IVT unit',\n",
    "    s=20,  # size\n",
    "    )\n",
    "\n",
    "# MT units:\n",
    "ax.scatter(\n",
    "    gdf_units.loc[mask_mt, 'geometry'].x,\n",
    "    gdf_units.loc[mask_mt, 'geometry'].y,\n",
    "    marker='*',\n",
    "    facecolor='k',\n",
    "    label='MT unit',\n",
    "    s=40,  # size\n",
    "    )\n",
    "\n",
    "# Axis limits:\n",
    "bounds = gdf_catchment.geometry.total_bounds\n",
    "ax.set_xlim(bounds[0], bounds[2])\n",
    "ax.set_ylim(bounds[1], bounds[3])\n",
    "\n",
    "# Remove the axis ticks\n",
    "ax.set_xticks([])\n",
    "ax.set_yticks([])\n",
    "\n",
    "# Add legend:\n",
    "ax.legend(bbox_to_anchor=(1.0, 1.0), loc='upper left')\n",
    "\n",
    "plt.show()"
   ]
  },
  {
   "cell_type": "markdown",
   "id": "68534c9c-edce-45a0-9cac-0daeb625c98d",
   "metadata": {},
   "source": [
    "## Plot 2: Periphery data\n",
    "\n",
    "Change the formatting so that the main features stand out more.\n",
    "\n",
    "Assume that the starting point is the selected stroke units, and that we know their LSOA catchment areas.\n",
    "\n",
    "1. Find the regions that contain the selected stroke units.\n",
    "2. Find \"periphery regions\": the regions that contain LSOA caught by the selected stroke units.\n",
    "3. Find \"periphery units\": the other stroke units that catch LSOA within the starting region."
   ]
  },
  {
   "cell_type": "markdown",
   "id": "6fe20d51-f5ea-41ef-90d1-449b279e433a",
   "metadata": {},
   "source": [
    "### 1. Regions containing selected stroke units:"
   ]
  },
  {
   "cell_type": "code",
   "execution_count": 14,
   "id": "8174124c-f7f2-4fbd-ae6d-5650e6621a27",
   "metadata": {},
   "outputs": [
    {
     "data": {
      "text/html": [
       "<div>\n",
       "<style scoped>\n",
       "    .dataframe tbody tr th:only-of-type {\n",
       "        vertical-align: middle;\n",
       "    }\n",
       "\n",
       "    .dataframe tbody tr th {\n",
       "        vertical-align: top;\n",
       "    }\n",
       "\n",
       "    .dataframe thead th {\n",
       "        text-align: right;\n",
       "    }\n",
       "</style>\n",
       "<table border=\"1\" class=\"dataframe\">\n",
       "  <thead>\n",
       "    <tr style=\"text-align: right;\">\n",
       "      <th></th>\n",
       "      <th>region</th>\n",
       "      <th>region_type</th>\n",
       "      <th>isdn</th>\n",
       "    </tr>\n",
       "    <tr>\n",
       "      <th>postcode</th>\n",
       "      <th></th>\n",
       "      <th></th>\n",
       "      <th></th>\n",
       "    </tr>\n",
       "  </thead>\n",
       "  <tbody>\n",
       "    <tr>\n",
       "      <th>B95SS</th>\n",
       "      <td>NHS Birmingham and Solihull ICB - 15E</td>\n",
       "      <td>SICBL</td>\n",
       "      <td>West Midlands</td>\n",
       "    </tr>\n",
       "    <tr>\n",
       "      <th>CV22DX</th>\n",
       "      <td>NHS Coventry and Warwickshire ICB - B2M3M</td>\n",
       "      <td>SICBL</td>\n",
       "      <td>West Midlands</td>\n",
       "    </tr>\n",
       "    <tr>\n",
       "      <th>CV107DJ</th>\n",
       "      <td>NHS Coventry and Warwickshire ICB - B2M3M</td>\n",
       "      <td>SICBL</td>\n",
       "      <td>West Midlands</td>\n",
       "    </tr>\n",
       "    <tr>\n",
       "      <th>HR12ER</th>\n",
       "      <td>NHS Herefordshire and Worcestershire ICB - 18C</td>\n",
       "      <td>SICBL</td>\n",
       "      <td>West Midlands</td>\n",
       "    </tr>\n",
       "    <tr>\n",
       "      <th>B152TH</th>\n",
       "      <td>NHS Birmingham and Solihull ICB - 15E</td>\n",
       "      <td>SICBL</td>\n",
       "      <td>West Midlands</td>\n",
       "    </tr>\n",
       "    <tr>\n",
       "      <th>CV345BW</th>\n",
       "      <td>NHS Coventry and Warwickshire ICB - B2M3M</td>\n",
       "      <td>SICBL</td>\n",
       "      <td>West Midlands</td>\n",
       "    </tr>\n",
       "    <tr>\n",
       "      <th>WR51DD</th>\n",
       "      <td>NHS Herefordshire and Worcestershire ICB - 18C</td>\n",
       "      <td>SICBL</td>\n",
       "      <td>West Midlands</td>\n",
       "    </tr>\n",
       "  </tbody>\n",
       "</table>\n",
       "</div>"
      ],
      "text/plain": [
       "                                                  region region_type  \\\n",
       "postcode                                                               \n",
       "B95SS              NHS Birmingham and Solihull ICB - 15E       SICBL   \n",
       "CV22DX         NHS Coventry and Warwickshire ICB - B2M3M       SICBL   \n",
       "CV107DJ        NHS Coventry and Warwickshire ICB - B2M3M       SICBL   \n",
       "HR12ER    NHS Herefordshire and Worcestershire ICB - 18C       SICBL   \n",
       "B152TH             NHS Birmingham and Solihull ICB - 15E       SICBL   \n",
       "CV345BW        NHS Coventry and Warwickshire ICB - B2M3M       SICBL   \n",
       "WR51DD    NHS Herefordshire and Worcestershire ICB - 18C       SICBL   \n",
       "\n",
       "                   isdn  \n",
       "postcode                 \n",
       "B95SS     West Midlands  \n",
       "CV22DX    West Midlands  \n",
       "CV107DJ   West Midlands  \n",
       "HR12ER    West Midlands  \n",
       "B152TH    West Midlands  \n",
       "CV345BW   West Midlands  \n",
       "WR51DD    West Midlands  "
      ]
     },
     "execution_count": 14,
     "metadata": {},
     "output_type": "execute_result"
    }
   ],
   "source": [
    "df_units.loc[postcodes_here][['region', 'region_type', 'isdn']]"
   ]
  },
  {
   "cell_type": "code",
   "execution_count": 15,
   "id": "c90056de-2912-4c21-9f81-b8c91f06e2aa",
   "metadata": {},
   "outputs": [
    {
     "data": {
      "text/plain": [
       "['NHS Birmingham and Solihull ICB - 15E',\n",
       " 'NHS Coventry and Warwickshire ICB - B2M3M',\n",
       " 'NHS Herefordshire and Worcestershire ICB - 18C']"
      ]
     },
     "execution_count": 15,
     "metadata": {},
     "output_type": "execute_result"
    }
   ],
   "source": [
    "regions_with_selected_units = sorted(list(set(df_units.loc[postcodes_here]['region'].values)))\n",
    "\n",
    "regions_with_selected_units"
   ]
  },
  {
   "cell_type": "markdown",
   "id": "40d7fdad-4c8a-402a-8440-e5c08d47f570",
   "metadata": {},
   "source": [
    "### 2. Periphery regions\n",
    "\n",
    "Take the list of LSOA from the catchment results and find the regions that they belong to."
   ]
  },
  {
   "cell_type": "code",
   "execution_count": 16,
   "id": "f402491d-29c8-4b2c-867c-6758db254966",
   "metadata": {},
   "outputs": [],
   "source": [
    "lsoa_selected = df_catchment.index.values"
   ]
  },
  {
   "cell_type": "markdown",
   "id": "5e64d357-c656-4a0a-9d18-df3a5ee878b4",
   "metadata": {},
   "source": [
    "Load in the LSOA-region lookup data:"
   ]
  },
  {
   "cell_type": "code",
   "execution_count": 17,
   "id": "49f7e4e2-827b-409b-be8e-6561b7d0f4af",
   "metadata": {},
   "outputs": [],
   "source": [
    "df_lsoa_regions = stroke_maps.load_data.lsoa_region_lookup()\n",
    "df_regions = stroke_maps.load_data.region_lookup()"
   ]
  },
  {
   "cell_type": "code",
   "execution_count": 18,
   "id": "18fc4189-d155-4fa3-ac7b-1baf39441a19",
   "metadata": {},
   "outputs": [],
   "source": [
    "# Link LSOA to further region info:\n",
    "df_lsoa_regions = pd.merge(\n",
    "    df_lsoa_regions.reset_index(), df_regions.reset_index().drop(['region', 'region_type'], axis='columns'),\n",
    "    on='region_code', how='left'\n",
    ")"
   ]
  },
  {
   "cell_type": "code",
   "execution_count": 19,
   "id": "4e6983d1-70ad-4e8c-ad68-051e7ef5019d",
   "metadata": {},
   "outputs": [],
   "source": [
    "# Limit the LSOA in the region list to only the selected ones:\n",
    "mask = (df_lsoa_regions.reset_index()['lsoa'].isin(lsoa_selected))\n",
    "\n",
    "df_lsoa_regions_selected = df_lsoa_regions.reset_index()[mask]"
   ]
  },
  {
   "cell_type": "code",
   "execution_count": 20,
   "id": "4a5e6b12-8ccc-4e95-a78a-c50143d3adcc",
   "metadata": {},
   "outputs": [
    {
     "data": {
      "text/html": [
       "<div>\n",
       "<style scoped>\n",
       "    .dataframe tbody tr th:only-of-type {\n",
       "        vertical-align: middle;\n",
       "    }\n",
       "\n",
       "    .dataframe tbody tr th {\n",
       "        vertical-align: top;\n",
       "    }\n",
       "\n",
       "    .dataframe thead th {\n",
       "        text-align: right;\n",
       "    }\n",
       "</style>\n",
       "<table border=\"1\" class=\"dataframe\">\n",
       "  <thead>\n",
       "    <tr style=\"text-align: right;\">\n",
       "      <th></th>\n",
       "      <th>index</th>\n",
       "      <th>lsoa</th>\n",
       "      <th>lsoa_code</th>\n",
       "      <th>region</th>\n",
       "      <th>region_code</th>\n",
       "      <th>region_type</th>\n",
       "      <th>short_code</th>\n",
       "      <th>country</th>\n",
       "      <th>icb</th>\n",
       "      <th>icb_code</th>\n",
       "      <th>isdn</th>\n",
       "    </tr>\n",
       "  </thead>\n",
       "  <tbody>\n",
       "    <tr>\n",
       "      <th>2522</th>\n",
       "      <td>2522</td>\n",
       "      <td>Shropshire 036A</td>\n",
       "      <td>E01028993</td>\n",
       "      <td>NHS Shropshire, Telford and Wrekin ICB - M2L0M</td>\n",
       "      <td>E38000257</td>\n",
       "      <td>SICBL</td>\n",
       "      <td>SH</td>\n",
       "      <td>England</td>\n",
       "      <td>NHS Shropshire, Telford and Wrekin Integrated ...</td>\n",
       "      <td>E54000011</td>\n",
       "      <td>North Midlands</td>\n",
       "    </tr>\n",
       "    <tr>\n",
       "      <th>2523</th>\n",
       "      <td>2523</td>\n",
       "      <td>Shropshire 037A</td>\n",
       "      <td>E01028994</td>\n",
       "      <td>NHS Shropshire, Telford and Wrekin ICB - M2L0M</td>\n",
       "      <td>E38000257</td>\n",
       "      <td>SICBL</td>\n",
       "      <td>SH</td>\n",
       "      <td>England</td>\n",
       "      <td>NHS Shropshire, Telford and Wrekin Integrated ...</td>\n",
       "      <td>E54000011</td>\n",
       "      <td>North Midlands</td>\n",
       "    </tr>\n",
       "    <tr>\n",
       "      <th>2524</th>\n",
       "      <td>2524</td>\n",
       "      <td>Shropshire 039A</td>\n",
       "      <td>E01028995</td>\n",
       "      <td>NHS Shropshire, Telford and Wrekin ICB - M2L0M</td>\n",
       "      <td>E38000257</td>\n",
       "      <td>SICBL</td>\n",
       "      <td>SH</td>\n",
       "      <td>England</td>\n",
       "      <td>NHS Shropshire, Telford and Wrekin Integrated ...</td>\n",
       "      <td>E54000011</td>\n",
       "      <td>North Midlands</td>\n",
       "    </tr>\n",
       "  </tbody>\n",
       "</table>\n",
       "</div>"
      ],
      "text/plain": [
       "      index             lsoa  lsoa_code  \\\n",
       "2522   2522  Shropshire 036A  E01028993   \n",
       "2523   2523  Shropshire 037A  E01028994   \n",
       "2524   2524  Shropshire 039A  E01028995   \n",
       "\n",
       "                                              region region_code region_type  \\\n",
       "2522  NHS Shropshire, Telford and Wrekin ICB - M2L0M   E38000257       SICBL   \n",
       "2523  NHS Shropshire, Telford and Wrekin ICB - M2L0M   E38000257       SICBL   \n",
       "2524  NHS Shropshire, Telford and Wrekin ICB - M2L0M   E38000257       SICBL   \n",
       "\n",
       "     short_code  country                                                icb  \\\n",
       "2522         SH  England  NHS Shropshire, Telford and Wrekin Integrated ...   \n",
       "2523         SH  England  NHS Shropshire, Telford and Wrekin Integrated ...   \n",
       "2524         SH  England  NHS Shropshire, Telford and Wrekin Integrated ...   \n",
       "\n",
       "       icb_code            isdn  \n",
       "2522  E54000011  North Midlands  \n",
       "2523  E54000011  North Midlands  \n",
       "2524  E54000011  North Midlands  "
      ]
     },
     "execution_count": 20,
     "metadata": {},
     "output_type": "execute_result"
    }
   ],
   "source": [
    "df_lsoa_regions_selected.head(3)"
   ]
  },
  {
   "cell_type": "code",
   "execution_count": 21,
   "id": "064ec960-f39c-4c7e-8c13-95880b47d930",
   "metadata": {},
   "outputs": [
    {
     "data": {
      "text/plain": [
       "['Aneurin Bevan University Health Board',\n",
       " 'NHS Birmingham and Solihull ICB - 15E',\n",
       " 'NHS Black Country ICB - D2P2L',\n",
       " 'NHS Buckinghamshire, Oxfordshire and Berkshire West ICB - 10Q',\n",
       " 'NHS Coventry and Warwickshire ICB - B2M3M',\n",
       " 'NHS Gloucestershire ICB - 11M',\n",
       " 'NHS Herefordshire and Worcestershire ICB - 18C',\n",
       " 'NHS Leicester, Leicestershire and Rutland ICB - 03W',\n",
       " 'NHS Leicester, Leicestershire and Rutland ICB - 04V',\n",
       " 'NHS Northamptonshire ICB - 78H',\n",
       " 'NHS Shropshire, Telford and Wrekin ICB - M2L0M',\n",
       " 'Powys Teaching Health Board']"
      ]
     },
     "execution_count": 21,
     "metadata": {},
     "output_type": "execute_result"
    }
   ],
   "source": [
    "periphery_regions = sorted(list(set(df_lsoa_regions_selected['region'])))\n",
    "\n",
    "periphery_regions"
   ]
  },
  {
   "cell_type": "markdown",
   "id": "127fbcc0-e114-4652-ad83-1d03a4694080",
   "metadata": {},
   "source": [
    "Note: if the LSOA have missing region information, the sorted() line will fail because the list will contain mixed strings (for names) and float (for missing values). This can happen when looking up ISDNs because Welsh LSOA are not allocated to any ISDN.\n",
    "\n",
    "### 3. Periphery units\n",
    "\n",
    "Redo the catchment calculation with all stroke units and all LSOA in the selected region."
   ]
  },
  {
   "cell_type": "code",
   "execution_count": 22,
   "id": "05bfedcc-b22e-46a9-861d-e0207da8c250",
   "metadata": {},
   "outputs": [],
   "source": [
    "df_travel_lsoa = stroke_maps.load_data.travel_time_matrix_lsoa()"
   ]
  },
  {
   "cell_type": "markdown",
   "id": "c0064d0a-8687-4bd6-bded-8d756016fc10",
   "metadata": {},
   "source": [
    "LSOA to keep are those in the selected region:"
   ]
  },
  {
   "cell_type": "code",
   "execution_count": 23,
   "id": "658e9ded-b7ec-465f-89e0-2c9f3d128419",
   "metadata": {},
   "outputs": [],
   "source": [
    "mask = df_lsoa_regions['isdn'] == 'West Midlands'\n",
    "\n",
    "lsoa_in_selected_region = df_lsoa_regions[mask]['lsoa'].values"
   ]
  },
  {
   "cell_type": "code",
   "execution_count": 24,
   "id": "612b2df7-f97a-45aa-90e0-a073d0aded3f",
   "metadata": {},
   "outputs": [],
   "source": [
    "mask = df_travel_lsoa.index.isin(lsoa_in_selected_region)\n",
    "\n",
    "df_travel_lsoa = df_travel_lsoa[mask]"
   ]
  },
  {
   "cell_type": "code",
   "execution_count": 25,
   "id": "79947822-efd8-4e61-820b-9c8a3b54eab3",
   "metadata": {},
   "outputs": [],
   "source": [
    "df_catchment_in_selected_region = stroke_maps.catchment.find_nearest_unit(df_travel_lsoa)"
   ]
  },
  {
   "cell_type": "code",
   "execution_count": 26,
   "id": "ba805842-aa9c-4455-9acd-a71e540c212a",
   "metadata": {},
   "outputs": [
    {
     "data": {
      "text/plain": [
       "['B152TH',\n",
       " 'B714HJ',\n",
       " 'B95SS',\n",
       " 'CV107DJ',\n",
       " 'CV22DX',\n",
       " 'CV345BW',\n",
       " 'DY12HQ',\n",
       " 'GL13NN',\n",
       " 'HR12ER',\n",
       " 'WR51DD']"
      ]
     },
     "execution_count": 26,
     "metadata": {},
     "output_type": "execute_result"
    }
   ],
   "source": [
    "periphery_units = sorted(list(set(df_catchment_in_selected_region['unit_postcode'])))\n",
    "\n",
    "periphery_units"
   ]
  },
  {
   "cell_type": "markdown",
   "id": "8dab0b0a-e113-4826-bce6-f2d1c1e95c40",
   "metadata": {},
   "source": [
    "### Place periphery info in starting dataframes"
   ]
  },
  {
   "cell_type": "code",
   "execution_count": 27,
   "id": "a9b6ca78-27bc-4498-9a71-b960e567adf6",
   "metadata": {},
   "outputs": [],
   "source": [
    "gdf_regions['selected'] = 0\n",
    "gdf_regions.loc[gdf_regions['region'].isin(regions_with_selected_units), 'selected'] = 1"
   ]
  },
  {
   "cell_type": "code",
   "execution_count": 28,
   "id": "aaa4728b-33d4-4187-a6a3-ebec4c9d2b26",
   "metadata": {},
   "outputs": [],
   "source": [
    "gdf_regions['periphery'] = 0\n",
    "gdf_regions.loc[gdf_regions['region'].isin(periphery_regions), 'periphery'] = 1"
   ]
  },
  {
   "cell_type": "code",
   "execution_count": 29,
   "id": "1364a17c-e132-4bae-bf3f-c8b620749ef4",
   "metadata": {},
   "outputs": [],
   "source": [
    "gdf_units['selected'] = 0\n",
    "gdf_units.loc[gdf_units.index.isin(postcodes_here), 'selected'] = 1"
   ]
  },
  {
   "cell_type": "code",
   "execution_count": 30,
   "id": "6f8ba4bf-2062-4a68-9f7d-c4de53654eb2",
   "metadata": {},
   "outputs": [],
   "source": [
    "gdf_units['periphery'] = 0\n",
    "gdf_units.loc[gdf_units.index.isin(periphery_units), 'periphery'] = 1"
   ]
  },
  {
   "cell_type": "markdown",
   "id": "c99fa0fa-f45d-4a93-a132-1cbfbd64ff43",
   "metadata": {},
   "source": [
    "## Plot periphery data"
   ]
  },
  {
   "cell_type": "code",
   "execution_count": 31,
   "id": "bfb1d729-da6a-4779-8800-f20aebb6e200",
   "metadata": {},
   "outputs": [
    {
     "data": {
      "image/png": "[encoded data removed]",
      "text/plain": [
       "<Figure size 800x800 with 1 Axes>"
      ]
     },
     "metadata": {},
     "output_type": "display_data"
    }
   ],
   "source": [
    "fig, ax = plt.subplots(figsize=(8, 8))\n",
    "\n",
    "# Catchment areas:\n",
    "gdf_catchment.plot(\n",
    "    ax=ax,              # Set which axes to use for plot\n",
    "    antialiased=False,  # Avoids artefact boundary lines\n",
    "    color=gdf_catchment['colour_str'],  # set colours using this column\n",
    "    linewidth=0.2,\n",
    "    )\n",
    "\n",
    "# Region outlines:\n",
    "gdf_regions.loc[gdf_regions['periphery'] == 1].plot(\n",
    "    ax=ax,              # Set which axes to use for plot\n",
    "    antialiased=False,  # Avoids artefact boundary lines\n",
    "    facecolor='none',\n",
    "    edgecolor='silver',\n",
    "    linewidth=0.2,\n",
    "    )\n",
    "gdf_regions.loc[gdf_regions['selected'] == 1].plot(\n",
    "    ax=ax,              # Set which axes to use for plot\n",
    "    antialiased=False,  # Avoids artefact boundary lines\n",
    "    facecolor='none',\n",
    "    edgecolor='k',\n",
    "    linewidth=0.2,\n",
    "    )\n",
    "\n",
    "# Pick out which stroke units to plot:\n",
    "mask = ((gdf_units['use_ivt'] == 1) | (gdf_units['use_mt'] == 1))\n",
    "\n",
    "# IVT units:\n",
    "mask_selected = mask & (gdf_units['selected'] == 1)\n",
    "mask_periphery = mask & (gdf_units['periphery'] == 1)\n",
    "ax.scatter(\n",
    "    gdf_units.loc[mask_periphery, 'geometry'].x,\n",
    "    gdf_units.loc[mask_periphery, 'geometry'].y,\n",
    "    marker='o',\n",
    "    facecolor='silver',\n",
    "    label='Periphery unit',\n",
    "    s=20,  # size\n",
    "    )\n",
    "ax.scatter(\n",
    "    gdf_units.loc[mask_selected, 'geometry'].x,\n",
    "    gdf_units.loc[mask_selected, 'geometry'].y,\n",
    "    marker='o',\n",
    "    facecolor='k',\n",
    "    label='Selected unit',\n",
    "    s=20,  # size\n",
    "    )\n",
    "\n",
    "# Axis limits:\n",
    "bounds = gdf_catchment.geometry.total_bounds\n",
    "ax.set_xlim(bounds[0], bounds[2])\n",
    "ax.set_ylim(bounds[1], bounds[3])\n",
    "\n",
    "# Remove the axis ticks\n",
    "ax.set_xticks([])\n",
    "ax.set_yticks([])\n",
    "\n",
    "# Add legend:\n",
    "ax.legend(bbox_to_anchor=(1.0, 1.0), loc='upper left')\n",
    "\n",
    "plt.show()"
   ]
  },
  {
   "cell_type": "code",
   "execution_count": null,
   "id": "f88c38df-d0fc-46bb-b21f-7f10531478aa",
   "metadata": {},
   "outputs": [],
   "source": []
  }
 ],
 "metadata": {
  "kernelspec": {
   "display_name": "Python 3 (ipykernel)",
   "language": "python",
   "name": "python3"
  },
  "language_info": {
   "codemirror_mode": {
    "name": "ipython",
    "version": 3
   },
   "file_extension": ".py",
   "mimetype": "text/x-python",
   "name": "python",
   "nbconvert_exporter": "python",
   "pygments_lexer": "ipython3",
   "version": "3.12.2"
  }
 },
 "nbformat": 4,
 "nbformat_minor": 5
}
