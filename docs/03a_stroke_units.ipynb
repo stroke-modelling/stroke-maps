{
 "cells": [
  {
   "cell_type": "markdown",
   "id": "4a301c79-77ab-43a3-99dc-f0fde1469054",
   "metadata": {},
   "source": [
    "# Stroke units\n",
    "\n",
    "__TO DO __ Write a bit about what data we have on them ok\n",
    "\n",
    "## Notebook setup"
   ]
  },
  {
   "cell_type": "code",
   "execution_count": 1,
   "id": "7704bf90-d159-4554-9e4f-b5579edf7c5a",
   "metadata": {},
   "outputs": [],
   "source": [
    "import stroke_maps.load_data\n",
    "import stroke_maps.catchment\n",
    "\n",
    "import pandas as pd\n",
    "import matplotlib.pyplot as plt"
   ]
  },
  {
   "cell_type": "markdown",
   "id": "055252a5-de51-469a-9d0a-2abd38adbbf4",
   "metadata": {},
   "source": [
    "## Load the stroke unit data"
   ]
  },
  {
   "cell_type": "code",
   "execution_count": 2,
   "id": "d240b800-885b-4697-80da-db5cb85899f3",
   "metadata": {},
   "outputs": [],
   "source": [
    "df_units = stroke_maps.load_data.stroke_unit_region_lookup()"
   ]
  },
  {
   "cell_type": "code",
   "execution_count": 3,
   "id": "fa4091da-ea0a-4d44-a6db-d663738274e4",
   "metadata": {},
   "outputs": [
    {
     "data": {
      "text/html": [
       "<div>\n",
       "<style scoped>\n",
       "    .dataframe tbody tr th:only-of-type {\n",
       "        vertical-align: middle;\n",
       "    }\n",
       "\n",
       "    .dataframe tbody tr th {\n",
       "        vertical-align: top;\n",
       "    }\n",
       "\n",
       "    .dataframe thead th {\n",
       "        text-align: right;\n",
       "    }\n",
       "</style>\n",
       "<table border=\"1\" class=\"dataframe\">\n",
       "  <thead>\n",
       "    <tr style=\"text-align: right;\">\n",
       "      <th>postcode</th>\n",
       "      <th>SY231ER</th>\n",
       "      <th>CB20QQ</th>\n",
       "      <th>L97AL</th>\n",
       "    </tr>\n",
       "  </thead>\n",
       "  <tbody>\n",
       "    <tr>\n",
       "      <th>stroke_team</th>\n",
       "      <td>Bronglais Hospital (Aberystwyth)</td>\n",
       "      <td>Addenbrooke's Hospital, Cambridge</td>\n",
       "      <td>University Hospital Aintree, Liverpool</td>\n",
       "    </tr>\n",
       "    <tr>\n",
       "      <th>short_code</th>\n",
       "      <td>AB</td>\n",
       "      <td>AD</td>\n",
       "      <td>AI</td>\n",
       "    </tr>\n",
       "    <tr>\n",
       "      <th>ssnap_name</th>\n",
       "      <td>Bronglais Hospital</td>\n",
       "      <td>Addenbrooke's Hospital</td>\n",
       "      <td>University Hospital Aintree</td>\n",
       "    </tr>\n",
       "    <tr>\n",
       "      <th>use_ivt</th>\n",
       "      <td>1</td>\n",
       "      <td>1</td>\n",
       "      <td>1</td>\n",
       "    </tr>\n",
       "    <tr>\n",
       "      <th>use_mt</th>\n",
       "      <td>0</td>\n",
       "      <td>1</td>\n",
       "      <td>1</td>\n",
       "    </tr>\n",
       "    <tr>\n",
       "      <th>use_msu</th>\n",
       "      <td>0</td>\n",
       "      <td>1</td>\n",
       "      <td>1</td>\n",
       "    </tr>\n",
       "    <tr>\n",
       "      <th>transfer_unit_postcode</th>\n",
       "      <td>nearest</td>\n",
       "      <td>nearest</td>\n",
       "      <td>nearest</td>\n",
       "    </tr>\n",
       "    <tr>\n",
       "      <th>lsoa</th>\n",
       "      <td>Ceredigion 002A</td>\n",
       "      <td>Cambridge 013D</td>\n",
       "      <td>Liverpool 005A</td>\n",
       "    </tr>\n",
       "    <tr>\n",
       "      <th>lsoa_code</th>\n",
       "      <td>W01000512</td>\n",
       "      <td>E01017995</td>\n",
       "      <td>E01006654</td>\n",
       "    </tr>\n",
       "    <tr>\n",
       "      <th>region</th>\n",
       "      <td>Hywel Dda University Health Board</td>\n",
       "      <td>NHS Cambridgeshire and Peterborough ICB - 06H</td>\n",
       "      <td>NHS Cheshire and Merseyside ICB - 99A</td>\n",
       "    </tr>\n",
       "    <tr>\n",
       "      <th>region_code</th>\n",
       "      <td>W11000025</td>\n",
       "      <td>E38000260</td>\n",
       "      <td>E38000101</td>\n",
       "    </tr>\n",
       "    <tr>\n",
       "      <th>region_type</th>\n",
       "      <td>LHB</td>\n",
       "      <td>SICBL</td>\n",
       "      <td>SICBL</td>\n",
       "    </tr>\n",
       "    <tr>\n",
       "      <th>country</th>\n",
       "      <td>Wales</td>\n",
       "      <td>England</td>\n",
       "      <td>England</td>\n",
       "    </tr>\n",
       "    <tr>\n",
       "      <th>icb</th>\n",
       "      <td>NaN</td>\n",
       "      <td>NHS Cambridgeshire and Peterborough Integrated...</td>\n",
       "      <td>NHS Cheshire and Merseyside Integrated Care Board</td>\n",
       "    </tr>\n",
       "    <tr>\n",
       "      <th>icb_code</th>\n",
       "      <td>NaN</td>\n",
       "      <td>E54000056</td>\n",
       "      <td>E54000008</td>\n",
       "    </tr>\n",
       "    <tr>\n",
       "      <th>isdn</th>\n",
       "      <td>NaN</td>\n",
       "      <td>East of England (South)</td>\n",
       "      <td>Cheshire and Merseyside</td>\n",
       "    </tr>\n",
       "  </tbody>\n",
       "</table>\n",
       "</div>"
      ],
      "text/plain": [
       "postcode                                          SY231ER  \\\n",
       "stroke_team              Bronglais Hospital (Aberystwyth)   \n",
       "short_code                                             AB   \n",
       "ssnap_name                             Bronglais Hospital   \n",
       "use_ivt                                                 1   \n",
       "use_mt                                                  0   \n",
       "use_msu                                                 0   \n",
       "transfer_unit_postcode                            nearest   \n",
       "lsoa                                      Ceredigion 002A   \n",
       "lsoa_code                                       W01000512   \n",
       "region                  Hywel Dda University Health Board   \n",
       "region_code                                     W11000025   \n",
       "region_type                                           LHB   \n",
       "country                                             Wales   \n",
       "icb                                                   NaN   \n",
       "icb_code                                              NaN   \n",
       "isdn                                                  NaN   \n",
       "\n",
       "postcode                                                           CB20QQ  \\\n",
       "stroke_team                             Addenbrooke's Hospital, Cambridge   \n",
       "short_code                                                             AD   \n",
       "ssnap_name                                         Addenbrooke's Hospital   \n",
       "use_ivt                                                                 1   \n",
       "use_mt                                                                  1   \n",
       "use_msu                                                                 1   \n",
       "transfer_unit_postcode                                            nearest   \n",
       "lsoa                                                       Cambridge 013D   \n",
       "lsoa_code                                                       E01017995   \n",
       "region                      NHS Cambridgeshire and Peterborough ICB - 06H   \n",
       "region_code                                                     E38000260   \n",
       "region_type                                                         SICBL   \n",
       "country                                                           England   \n",
       "icb                     NHS Cambridgeshire and Peterborough Integrated...   \n",
       "icb_code                                                        E54000056   \n",
       "isdn                                              East of England (South)   \n",
       "\n",
       "postcode                                                            L97AL  \n",
       "stroke_team                        University Hospital Aintree, Liverpool  \n",
       "short_code                                                             AI  \n",
       "ssnap_name                                    University Hospital Aintree  \n",
       "use_ivt                                                                 1  \n",
       "use_mt                                                                  1  \n",
       "use_msu                                                                 1  \n",
       "transfer_unit_postcode                                            nearest  \n",
       "lsoa                                                       Liverpool 005A  \n",
       "lsoa_code                                                       E01006654  \n",
       "region                              NHS Cheshire and Merseyside ICB - 99A  \n",
       "region_code                                                     E38000101  \n",
       "region_type                                                         SICBL  \n",
       "country                                                           England  \n",
       "icb                     NHS Cheshire and Merseyside Integrated Care Board  \n",
       "icb_code                                                        E54000008  \n",
       "isdn                                              Cheshire and Merseyside  "
      ]
     },
     "execution_count": 3,
     "metadata": {},
     "output_type": "execute_result"
    }
   ],
   "source": [
    "df_units.head(3).T"
   ]
  },
  {
   "cell_type": "markdown",
   "id": "b16644b9-8654-485f-8ba3-d3986f13bfd2",
   "metadata": {},
   "source": [
    "## Plot the unit locations"
   ]
  },
  {
   "cell_type": "markdown",
   "id": "351e6d27-de46-49e9-8255-de04512eb62f",
   "metadata": {},
   "source": [
    "First load the outline of England and Wales:"
   ]
  },
  {
   "cell_type": "code",
   "execution_count": 4,
   "id": "893fcf9b-09e3-4119-8137-212571f9c15f",
   "metadata": {},
   "outputs": [],
   "source": [
    "gdf_ew = stroke_maps.load_data.englandwales_outline()"
   ]
  },
  {
   "cell_type": "markdown",
   "id": "003c5bd1-4f0d-46a8-8449-aece465a615c",
   "metadata": {},
   "source": [
    "Then load in the stroke unit coordinates:"
   ]
  },
  {
   "cell_type": "code",
   "execution_count": 5,
   "id": "aa5aa727-48f9-4d5b-ae26-0d3852530a00",
   "metadata": {},
   "outputs": [],
   "source": [
    "gdf_units = stroke_maps.load_data.stroke_unit_coordinates()"
   ]
  },
  {
   "cell_type": "markdown",
   "id": "c4facbf0-39ac-4b90-a43e-89c6c802a813",
   "metadata": {},
   "source": [
    "Merge in the unit services information:"
   ]
  },
  {
   "cell_type": "code",
   "execution_count": 6,
   "id": "1add6f95-ef6a-422e-8491-210857db5f83",
   "metadata": {},
   "outputs": [],
   "source": [
    "gdf_units = pd.merge(\n",
    "    gdf_units, df_units[['use_ivt', 'use_mt']],\n",
    "    left_index=True, right_index=True, how='right'\n",
    ")"
   ]
  },
  {
   "cell_type": "markdown",
   "id": "5b5cf6a7-bc83-4350-85f2-4c255e7d34a2",
   "metadata": {},
   "source": [
    "Plot the country outlines and the unit locations using matplotlib:"
   ]
  },
  {
   "cell_type": "code",
   "execution_count": 8,
   "id": "ffc40b19-25f0-4cc4-aa8a-16670d34a70c",
   "metadata": {},
   "outputs": [
    {
     "data": {
      "image/png": "[encoded data removed]",
      "text/plain": [
       "<Figure size 800x800 with 1 Axes>"
      ]
     },
     "metadata": {},
     "output_type": "display_data"
    }
   ],
   "source": [
    "fig, ax = plt.subplots(figsize=(8, 8))\n",
    "\n",
    "# Plot the country outlines:\n",
    "gdf_ew.plot(\n",
    "    ax=ax,              # Set which axes to use for plot\n",
    "    antialiased=False,  # Avoids artefact boundary lines\n",
    "    facecolor='none',\n",
    "    edgecolor='grey',\n",
    "    linewidth=0.2,\n",
    "    )\n",
    "\n",
    "# Pick out which stroke units to plot:\n",
    "mask_ivt = ((gdf_units['use_ivt'] == 1) & (gdf_units['use_mt'] == 0))\n",
    "mask_mt = (gdf_units['use_mt'] == 1)\n",
    "\n",
    "# IVT units:\n",
    "ax.scatter(\n",
    "    gdf_units.loc[mask_ivt, 'geometry'].x,\n",
    "    gdf_units.loc[mask_ivt, 'geometry'].y,\n",
    "    marker='o',\n",
    "    label='IVT unit',\n",
    "    s=10,  # size\n",
    "    )\n",
    "\n",
    "# MT units:\n",
    "ax.scatter(\n",
    "    gdf_units.loc[mask_mt, 'geometry'].x,\n",
    "    gdf_units.loc[mask_mt, 'geometry'].y,\n",
    "    marker='*',\n",
    "    label='MT unit',\n",
    "    s=20,  # size\n",
    "    )\n",
    "\n",
    "# Remove the axis border, ticks, labels...\n",
    "ax.axis('off')\n",
    "\n",
    "# Add legend:\n",
    "ax.legend()\n",
    "\n",
    "plt.show()"
   ]
  }
 ],
 "metadata": {
  "kernelspec": {
   "display_name": "Python 3 (ipykernel)",
   "language": "python",
   "name": "python3"
  },
  "language_info": {
   "codemirror_mode": {
    "name": "ipython",
    "version": 3
   },
   "file_extension": ".py",
   "mimetype": "text/x-python",
   "name": "python",
   "nbconvert_exporter": "python",
   "pygments_lexer": "ipython3",
   "version": "3.12.2"
  }
 },
 "nbformat": 4,
 "nbformat_minor": 5
}
