{
 "cells": [
  {
   "cell_type": "markdown",
   "id": "27b54707-a108-4a8a-a7fc-cdda02f97b16",
   "metadata": {},
   "source": [
    "# Transfer units\n",
    "\n",
    "This notebook shows how to allocate a transfer unit to each acute stroke unit.\n",
    "\n",
    "## Plain English summary\n",
    "\n",
    "Different acute stroke units provide different services. Most provide intravenous thrombolysis (IVT) and a few provide mechanical thrombectomy (MT).\n",
    "\n",
    "If a patient with a stroke needs mechanical thrombectomy but has been taken to a stroke unit that doesn't provide it, they can receive a transfer to another stroke unit that does provide it.\n",
    "\n",
    "This notebook shows how the `stroke-maps` package can find each stroke unit's selected transfer unit.\n",
    "\n",
    "## Aims\n",
    "\n",
    "Separately for England and Wales and for Northern Ireland, Find the MT transfer unit for each acute stroke unit and plot the results on a map.\n",
    "\n",
    "## Method\n",
    "\n",
    "The following data is required:\n",
    "+ a dataframe of stroke units and their services.\n",
    "+ a matrix of travel times between all stroke units.\n",
    "\n",
    "For the maps, we also need:\n",
    "+ coordinates of the stroke units\n",
    "+ a blank outline of the country\n",
    "\n",
    "The first step in the calculation is to find the closest unit offering MT to each other stroke unit. There is also an option to overwrite the default closest unit for chosen units.\n",
    "\n",
    "This notebook shows two examples of possible changes to the default settings:\n",
    "1. Removing certain units. Make it impossible for certain units to be selected as a transfer unit.\n",
    "2. Overwriting the nearest transfer unit. By default, the selected transfer unit is the nearest transfer unit. By providing the name of an alternative unit, that unit can be selected instead.\n",
    "\n",
    "We then draw a map showing a line drawn between each unit and its transfer unit using the default settings. This is done separately for England and Wales and for Northern Ireland.\n",
    "\n",
    "Assumptions:\n",
    "+ The stroke units considered must be in the travel time matrix. _TO DO_: make a map or something to show which ones. For now the list can be found from the dataframe.\n",
    "\n",
    "## Notebook setup"
   ]
  },
  {
   "cell_type": "code",
   "execution_count": 1,
   "id": "7bcfe460-2bdc-43e2-a357-88c94656c0cb",
   "metadata": {},
   "outputs": [],
   "source": [
    "import stroke_maps.load_data\n",
    "import stroke_maps.catchment  # to link units to transfer units.\n",
    "import stroke_maps.geo  # to create transfer unit geometry to plot.\n",
    "\n",
    "import pandas as pd\n",
    "import matplotlib.pyplot as plt"
   ]
  },
  {
   "cell_type": "markdown",
   "id": "4ab6098c-9707-4072-815c-86ba2f755791",
   "metadata": {},
   "source": [
    "## Load the stroke unit data\n",
    "\n",
    "We import the data from the package files. The imported dataframe, `df_units`, contains only units that appear in the travel time matrix. This includes units that are not acute stroke units (i.e. provide neither thrombolysis nor thrombectomy)."
   ]
  },
  {
   "cell_type": "code",
   "execution_count": 3,
   "id": "45168c24-e88e-445f-b068-f33dcad4c57c",
   "metadata": {},
   "outputs": [
    {
     "data": {
      "text/html": [
       "<div>\n",
       "<style scoped>\n",
       "    .dataframe tbody tr th:only-of-type {\n",
       "        vertical-align: middle;\n",
       "    }\n",
       "\n",
       "    .dataframe tbody tr th {\n",
       "        vertical-align: top;\n",
       "    }\n",
       "\n",
       "    .dataframe thead th {\n",
       "        text-align: right;\n",
       "    }\n",
       "</style>\n",
       "<table border=\"1\" class=\"dataframe\">\n",
       "  <thead>\n",
       "    <tr style=\"text-align: right;\">\n",
       "      <th></th>\n",
       "      <th>stroke_team</th>\n",
       "      <th>ssnap_name</th>\n",
       "      <th>use_ivt</th>\n",
       "      <th>use_mt</th>\n",
       "      <th>country</th>\n",
       "    </tr>\n",
       "    <tr>\n",
       "      <th>postcode</th>\n",
       "      <th></th>\n",
       "      <th></th>\n",
       "      <th></th>\n",
       "      <th></th>\n",
       "      <th></th>\n",
       "    </tr>\n",
       "  </thead>\n",
       "  <tbody>\n",
       "    <tr>\n",
       "      <th>RM70AG</th>\n",
       "      <td>Havering and Redbridge University Hospitals NH...</td>\n",
       "      <td>Queens Hospital Romford HASU</td>\n",
       "      <td>1</td>\n",
       "      <td>1</td>\n",
       "      <td>England</td>\n",
       "    </tr>\n",
       "    <tr>\n",
       "      <th>E11BB</th>\n",
       "      <td>The Royal London Hospital</td>\n",
       "      <td>Royal London Hospital HASU</td>\n",
       "      <td>1</td>\n",
       "      <td>1</td>\n",
       "      <td>England</td>\n",
       "    </tr>\n",
       "    <tr>\n",
       "      <th>SW66SX</th>\n",
       "      <td>Charing Cross Hospital, London</td>\n",
       "      <td>Charing Cross Hospital HASU</td>\n",
       "      <td>1</td>\n",
       "      <td>1</td>\n",
       "      <td>England</td>\n",
       "    </tr>\n",
       "  </tbody>\n",
       "</table>\n",
       "</div>"
      ],
      "text/plain": [
       "                                                stroke_team  \\\n",
       "postcode                                                      \n",
       "RM70AG    Havering and Redbridge University Hospitals NH...   \n",
       "E11BB                             The Royal London Hospital   \n",
       "SW66SX                       Charing Cross Hospital, London   \n",
       "\n",
       "                            ssnap_name  use_ivt  use_mt  country  \n",
       "postcode                                                          \n",
       "RM70AG    Queens Hospital Romford HASU        1       1  England  \n",
       "E11BB       Royal London Hospital HASU        1       1  England  \n",
       "SW66SX     Charing Cross Hospital HASU        1       1  England  "
      ]
     },
     "execution_count": 3,
     "metadata": {},
     "output_type": "execute_result"
    }
   ],
   "source": [
    "df_units = stroke_maps.load_data.stroke_unit_region_lookup()\n",
    "\n",
    "# Reduce this to only the few columns that we need for this demo:\n",
    "columns_to_keep = [\n",
    "    'stroke_team',  # These two name columns aren't needed but\n",
    "    'ssnap_name',   # they are easier to read than postcodes.\n",
    "    'use_ivt',\n",
    "    'use_mt',\n",
    "    'country'  # not needed but used for an example in this notebook.\n",
    "]\n",
    "df_units = df_units[columns_to_keep]\n",
    "\n",
    "df_units.head(3)"
   ]
  },
  {
   "cell_type": "markdown",
   "id": "4c000a84-ed33-4cc9-b409-9673edd64162",
   "metadata": {},
   "source": [
    "Explanations of the columns:\n",
    "+ `use_ivt`: whether this stroke unit provides IVT. The value is 1 (one) if it does, and 0 (zero) if it doesn't.\n",
    "+ `use_mt`: whether this stroke unit provides MT. The value is 1 (one) if it does, and 0 (zero) if it doesn't.\n",
    "+ `transfer_unit_postcode`: optional column for overwriting the transfer units returned by the calculation. The value is `nearest` if the function should use the nearest transfer unit, or the postcode of the transfer unit that you would like to use instead."
   ]
  },
  {
   "cell_type": "markdown",
   "id": "ff4b39b3-7044-4b80-af34-b20576da2e28",
   "metadata": {},
   "source": [
    "## Find the transfer units\n",
    "\n",
    "The transfer units are found in the following function:"
   ]
  },
  {
   "cell_type": "code",
   "execution_count": 4,
   "id": "7421be1a-30e9-4a68-b0fc-3b0e506ee5c6",
   "metadata": {},
   "outputs": [],
   "source": [
    "df_transfer = stroke_maps.catchment.calculate_transfer_units(df_units)"
   ]
  },
  {
   "cell_type": "code",
   "execution_count": 5,
   "id": "8142dbda-e4a0-428c-a63f-814c68fcf51f",
   "metadata": {},
   "outputs": [
    {
     "data": {
      "text/html": [
       "<div>\n",
       "<style scoped>\n",
       "    .dataframe tbody tr th:only-of-type {\n",
       "        vertical-align: middle;\n",
       "    }\n",
       "\n",
       "    .dataframe tbody tr th {\n",
       "        vertical-align: top;\n",
       "    }\n",
       "\n",
       "    .dataframe thead th {\n",
       "        text-align: right;\n",
       "    }\n",
       "</style>\n",
       "<table border=\"1\" class=\"dataframe\">\n",
       "  <thead>\n",
       "    <tr style=\"text-align: right;\">\n",
       "      <th></th>\n",
       "      <th>transfer_unit_travel_time</th>\n",
       "      <th>transfer_unit_postcode</th>\n",
       "    </tr>\n",
       "    <tr>\n",
       "      <th>postcode</th>\n",
       "      <th></th>\n",
       "      <th></th>\n",
       "    </tr>\n",
       "  </thead>\n",
       "  <tbody>\n",
       "    <tr>\n",
       "      <th>RM70AG</th>\n",
       "      <td>0.0</td>\n",
       "      <td>RM70AG</td>\n",
       "    </tr>\n",
       "    <tr>\n",
       "      <th>E11BB</th>\n",
       "      <td>0.0</td>\n",
       "      <td>E11BB</td>\n",
       "    </tr>\n",
       "    <tr>\n",
       "      <th>SW66SX</th>\n",
       "      <td>0.0</td>\n",
       "      <td>SW66SX</td>\n",
       "    </tr>\n",
       "    <tr>\n",
       "      <th>SE59RW</th>\n",
       "      <td>0.0</td>\n",
       "      <td>SE59RW</td>\n",
       "    </tr>\n",
       "    <tr>\n",
       "      <th>BR68ND</th>\n",
       "      <td>34.8</td>\n",
       "      <td>SE59RW</td>\n",
       "    </tr>\n",
       "    <tr>\n",
       "      <th>...</th>\n",
       "      <td>...</td>\n",
       "      <td>...</td>\n",
       "    </tr>\n",
       "    <tr>\n",
       "      <th>SA148QF</th>\n",
       "      <td>59.5</td>\n",
       "      <td>CF144XW</td>\n",
       "    </tr>\n",
       "    <tr>\n",
       "      <th>SA312AF</th>\n",
       "      <td>76.7</td>\n",
       "      <td>CF144XW</td>\n",
       "    </tr>\n",
       "    <tr>\n",
       "      <th>SA612PZ</th>\n",
       "      <td>107.8</td>\n",
       "      <td>CF144XW</td>\n",
       "    </tr>\n",
       "    <tr>\n",
       "      <th>SA66NL</th>\n",
       "      <td>52.0</td>\n",
       "      <td>CF144XW</td>\n",
       "    </tr>\n",
       "    <tr>\n",
       "      <th>NP202UB</th>\n",
       "      <td>NaN</td>\n",
       "      <td>&lt;NA&gt;</td>\n",
       "    </tr>\n",
       "  </tbody>\n",
       "</table>\n",
       "<p>141 rows × 2 columns</p>\n",
       "</div>"
      ],
      "text/plain": [
       "          transfer_unit_travel_time transfer_unit_postcode\n",
       "postcode                                                  \n",
       "RM70AG                          0.0                 RM70AG\n",
       "E11BB                           0.0                  E11BB\n",
       "SW66SX                          0.0                 SW66SX\n",
       "SE59RW                          0.0                 SE59RW\n",
       "BR68ND                         34.8                 SE59RW\n",
       "...                             ...                    ...\n",
       "SA148QF                        59.5                CF144XW\n",
       "SA312AF                        76.7                CF144XW\n",
       "SA612PZ                       107.8                CF144XW\n",
       "SA66NL                         52.0                CF144XW\n",
       "NP202UB                         NaN                   <NA>\n",
       "\n",
       "[141 rows x 2 columns]"
      ]
     },
     "execution_count": 5,
     "metadata": {},
     "output_type": "execute_result"
    }
   ],
   "source": [
    "df_transfer"
   ]
  },
  {
   "cell_type": "markdown",
   "id": "e6e47d13-0fce-4954-a20e-eeacf1e17ff2",
   "metadata": {},
   "source": [
    "Notes:\n",
    "+ The index column has the same contents as the index of the input units dataframe (`df_units`).\n",
    "+ When the transfer unit is the same as the starting unit, the travel time is zero.\n",
    "+ When the starting unit is not an acute stroke unit, the transfer unit postcode is `pd.NA` (pandas missing value, displays as '\\<NA\\>') and the travel time is `NaN` (numpy Not A Number).\n",
    "\n",
    "## How does the function work?\n",
    "\n",
    "__TO DO__ write me please"
   ]
  },
  {
   "attachments": {},
   "cell_type": "markdown",
   "id": "e84cc827-cb2c-4fe3-b4fb-4e900d0504c5",
   "metadata": {},
   "source": [
    "## Example 1: removing certain units\n",
    "\n",
    "To remove certain units from this calculation, just remove them from the input `df_units` dataframe.\n",
    "\n",
    "The default setup means that some stroke units will transfer their patients across countries. Add some columns to the transfer dataframe to show this:"
   ]
  },
  {
   "cell_type": "code",
   "execution_count": 6,
   "id": "9de3a2ca-e39d-4027-8e91-fa032f2f08f0",
   "metadata": {},
   "outputs": [
    {
     "data": {
      "text/html": [
       "<div>\n",
       "<style scoped>\n",
       "    .dataframe tbody tr th:only-of-type {\n",
       "        vertical-align: middle;\n",
       "    }\n",
       "\n",
       "    .dataframe tbody tr th {\n",
       "        vertical-align: top;\n",
       "    }\n",
       "\n",
       "    .dataframe thead th {\n",
       "        text-align: right;\n",
       "    }\n",
       "</style>\n",
       "<table border=\"1\" class=\"dataframe\">\n",
       "  <thead>\n",
       "    <tr style=\"text-align: right;\">\n",
       "      <th></th>\n",
       "      <th>transfer_unit_travel_time</th>\n",
       "      <th>transfer_unit_postcode</th>\n",
       "      <th>country_start</th>\n",
       "      <th>country_end</th>\n",
       "    </tr>\n",
       "    <tr>\n",
       "      <th>postcode</th>\n",
       "      <th></th>\n",
       "      <th></th>\n",
       "      <th></th>\n",
       "      <th></th>\n",
       "    </tr>\n",
       "  </thead>\n",
       "  <tbody>\n",
       "    <tr>\n",
       "      <th>LL185UJ</th>\n",
       "      <td>67.0</td>\n",
       "      <td>L97AL</td>\n",
       "      <td>Wales</td>\n",
       "      <td>England</td>\n",
       "    </tr>\n",
       "    <tr>\n",
       "      <th>LL137TD</th>\n",
       "      <td>54.1</td>\n",
       "      <td>L97AL</td>\n",
       "      <td>Wales</td>\n",
       "      <td>England</td>\n",
       "    </tr>\n",
       "    <tr>\n",
       "      <th>LL572PW</th>\n",
       "      <td>103.5</td>\n",
       "      <td>L97AL</td>\n",
       "      <td>Wales</td>\n",
       "      <td>England</td>\n",
       "    </tr>\n",
       "  </tbody>\n",
       "</table>\n",
       "</div>"
      ],
      "text/plain": [
       "          transfer_unit_travel_time transfer_unit_postcode country_start  \\\n",
       "postcode                                                                   \n",
       "LL185UJ                        67.0                  L97AL         Wales   \n",
       "LL137TD                        54.1                  L97AL         Wales   \n",
       "LL572PW                       103.5                  L97AL         Wales   \n",
       "\n",
       "         country_end  \n",
       "postcode              \n",
       "LL185UJ      England  \n",
       "LL137TD      England  \n",
       "LL572PW      England  "
      ]
     },
     "execution_count": 6,
     "metadata": {},
     "output_type": "execute_result"
    }
   ],
   "source": [
    "# Merge in the country for the starting unit:\n",
    "df_country = pd.merge(\n",
    "    df_transfer, df_units['country'],\n",
    "    left_index=True, right_index=True, how='left'\n",
    ")\n",
    "df_country = df_country.rename(columns={'country': 'country_start'})\n",
    "# Merge in the country for the transfer unit:\n",
    "df_country = pd.merge(\n",
    "    df_country, df_units['country'],\n",
    "    left_on='transfer_unit_postcode', right_index=True, how='left'\n",
    ")\n",
    "df_country = df_country.rename(columns={'country': 'country_end'})\n",
    "\n",
    "# Find units where the start and end countries don't match:\n",
    "mask = df_country['country_start'] != df_country['country_end']\n",
    "\n",
    "# Show these units.\n",
    "# Drop NA to not display units that don't have a transfer unit.\n",
    "df_country[mask].dropna()"
   ]
  },
  {
   "cell_type": "markdown",
   "id": "d1f340e1-fb22-4358-a81d-9144be71f3ca",
   "metadata": {},
   "source": [
    "Patients will be transferred to Cardiff (CF144XW) from Hereford (HR12ER), and patients will be transferred to Liverpool (L97AL) from Rhyl (LL185UJ), Wrexham (LL137TD), and Bangor (LL572PW).\n",
    "\n",
    "One option for avoiding this is to remove the Welsh hospitals entirely and perform the calculation for only English stroke units. Then later, do the opposite and have two sets of results.\n",
    "\n",
    "Reload the list of stroke units and pick out any in Wales:"
   ]
  },
  {
   "cell_type": "code",
   "execution_count": 7,
   "id": "4d4562b4-5246-4013-8a80-23c64c4dc062",
   "metadata": {},
   "outputs": [],
   "source": [
    "df_units = stroke_maps.load_data.stroke_unit_region_lookup()"
   ]
  },
  {
   "cell_type": "code",
   "execution_count": 8,
   "id": "ca9f91fc-e02d-4708-93d3-2383fbad5394",
   "metadata": {},
   "outputs": [
    {
     "data": {
      "text/plain": [
       "array(['NP448YN', 'LL185UJ', 'LL137TD', 'LL572PW', 'CF144XW', 'CF479DT',\n",
       "       'CF311RQ', 'SY231ER', 'SA148QF', 'SA312AF', 'SA612PZ', 'SA66NL',\n",
       "       'NP202UB'], dtype=object)"
      ]
     },
     "execution_count": 8,
     "metadata": {},
     "output_type": "execute_result"
    }
   ],
   "source": [
    "postcodes_in_wales = df_units[df_units['country'] == 'Wales'].index.values\n",
    "\n",
    "postcodes_in_wales"
   ]
  },
  {
   "cell_type": "markdown",
   "id": "ad5b1ed3-59ca-42ff-9a10-09fce5eb84e9",
   "metadata": {},
   "source": [
    "Now keep only the rows of the dataframe that are not in that list of Welsh postcodes:"
   ]
  },
  {
   "cell_type": "code",
   "execution_count": 9,
   "id": "826fd98a-86f5-4396-bd37-4a0cb6c7ef2d",
   "metadata": {},
   "outputs": [
    {
     "data": {
      "text/plain": [
       "141"
      ]
     },
     "execution_count": 9,
     "metadata": {},
     "output_type": "execute_result"
    }
   ],
   "source": [
    "# How many stroke teams are in the list now?\n",
    "len(df_units)"
   ]
  },
  {
   "cell_type": "code",
   "execution_count": 10,
   "id": "01050f10-9f50-4381-aab5-e12a7b1863e4",
   "metadata": {},
   "outputs": [],
   "source": [
    "# Mask is True when the stroke unit is in Wales.\n",
    "mask = df_units.index.isin(postcodes_in_wales)\n",
    "\n",
    "# Include the \"~\" tilde to take everything in the mask that is _not_ True:\n",
    "df_units = df_units[~mask]"
   ]
  },
  {
   "cell_type": "code",
   "execution_count": 11,
   "id": "387b0780-7218-4036-a2ad-982caf56353c",
   "metadata": {},
   "outputs": [
    {
     "data": {
      "text/plain": [
       "128"
      ]
     },
     "execution_count": 11,
     "metadata": {},
     "output_type": "execute_result"
    }
   ],
   "source": [
    "# How many stroke teams are in the list now?\n",
    "len(df_units)"
   ]
  },
  {
   "cell_type": "markdown",
   "id": "cdf3bf8b-96c2-4f35-97f7-b6b52a3e157c",
   "metadata": {},
   "source": [
    "Now calculate the transfer units:"
   ]
  },
  {
   "cell_type": "code",
   "execution_count": 12,
   "id": "7511f7dc-134d-4031-9fdd-64060d412d8c",
   "metadata": {},
   "outputs": [],
   "source": [
    "df_transfer = stroke_maps.catchment.calculate_transfer_units(df_units)"
   ]
  },
  {
   "cell_type": "markdown",
   "id": "91d2b9b6-cd08-4b2c-9463-89f4b0616c49",
   "metadata": {},
   "source": [
    "Copy the exact same code from before to check the countries before and after:"
   ]
  },
  {
   "cell_type": "code",
   "execution_count": 13,
   "id": "d0f40890-cbfc-493e-849f-be5c79edff4a",
   "metadata": {},
   "outputs": [
    {
     "data": {
      "text/html": [
       "<div>\n",
       "<style scoped>\n",
       "    .dataframe tbody tr th:only-of-type {\n",
       "        vertical-align: middle;\n",
       "    }\n",
       "\n",
       "    .dataframe tbody tr th {\n",
       "        vertical-align: top;\n",
       "    }\n",
       "\n",
       "    .dataframe thead th {\n",
       "        text-align: right;\n",
       "    }\n",
       "</style>\n",
       "<table border=\"1\" class=\"dataframe\">\n",
       "  <thead>\n",
       "    <tr style=\"text-align: right;\">\n",
       "      <th></th>\n",
       "      <th>transfer_unit_travel_time</th>\n",
       "      <th>transfer_unit_postcode</th>\n",
       "      <th>country_start</th>\n",
       "      <th>country_end</th>\n",
       "    </tr>\n",
       "    <tr>\n",
       "      <th>postcode</th>\n",
       "      <th></th>\n",
       "      <th></th>\n",
       "      <th></th>\n",
       "      <th></th>\n",
       "    </tr>\n",
       "  </thead>\n",
       "  <tbody>\n",
       "  </tbody>\n",
       "</table>\n",
       "</div>"
      ],
      "text/plain": [
       "Empty DataFrame\n",
       "Columns: [transfer_unit_travel_time, transfer_unit_postcode, country_start, country_end]\n",
       "Index: []"
      ]
     },
     "execution_count": 13,
     "metadata": {},
     "output_type": "execute_result"
    }
   ],
   "source": [
    "# Merge in the country for the starting unit:\n",
    "df_country = pd.merge(\n",
    "    df_transfer, df_units['country'],\n",
    "    left_index=True, right_index=True, how='left'\n",
    ")\n",
    "df_country = df_country.rename(columns={'country': 'country_start'})\n",
    "# Merge in the country for the transfer unit:\n",
    "df_country = pd.merge(\n",
    "    df_country, df_units['country'],\n",
    "    left_on='transfer_unit_postcode', right_index=True, how='left'\n",
    ")\n",
    "df_country = df_country.rename(columns={'country': 'country_end'})\n",
    "\n",
    "# Find units where the start and end countries don't match:\n",
    "mask = df_country['country_start'] != df_country['country_end']\n",
    "\n",
    "# Show these units.\n",
    "# Drop NA to not display units that don't have a transfer unit.\n",
    "df_country[mask].dropna()"
   ]
  },
  {
   "cell_type": "markdown",
   "id": "c6cc6177-0792-4d15-802a-d73ea3ee0587",
   "metadata": {},
   "source": [
    "This dataframe is empty because no stroke units are transferred to another stroke unit in a different country."
   ]
  },
  {
   "cell_type": "markdown",
   "id": "c7ff86ab-5058-4ee6-8714-2aaed66d9b11",
   "metadata": {},
   "source": [
    "## Example 2: overwriting the nearest transfer unit\n",
    "\n",
    "To force patients from Royal Devon & Exeter to be transferred to Bristol, we first look up the postcodes of those units:"
   ]
  },
  {
   "cell_type": "code",
   "execution_count": 14,
   "id": "1b885c9a-115b-489e-80ca-8b5327dac8f4",
   "metadata": {},
   "outputs": [
    {
     "data": {
      "text/html": [
       "<div>\n",
       "<style scoped>\n",
       "    .dataframe tbody tr th:only-of-type {\n",
       "        vertical-align: middle;\n",
       "    }\n",
       "\n",
       "    .dataframe tbody tr th {\n",
       "        vertical-align: top;\n",
       "    }\n",
       "\n",
       "    .dataframe thead th {\n",
       "        text-align: right;\n",
       "    }\n",
       "</style>\n",
       "<table border=\"1\" class=\"dataframe\">\n",
       "  <thead>\n",
       "    <tr style=\"text-align: right;\">\n",
       "      <th></th>\n",
       "      <th>stroke_team</th>\n",
       "      <th>ssnap_name</th>\n",
       "      <th>use_ivt</th>\n",
       "      <th>use_mt</th>\n",
       "      <th>country</th>\n",
       "    </tr>\n",
       "    <tr>\n",
       "      <th>postcode</th>\n",
       "      <th></th>\n",
       "      <th></th>\n",
       "      <th></th>\n",
       "      <th></th>\n",
       "      <th></th>\n",
       "    </tr>\n",
       "  </thead>\n",
       "  <tbody>\n",
       "    <tr>\n",
       "      <th>BS105NB</th>\n",
       "      <td>North Bristol Hospital (Southmead)</td>\n",
       "      <td>North Bristol Hospitals</td>\n",
       "      <td>1</td>\n",
       "      <td>1</td>\n",
       "      <td>England</td>\n",
       "    </tr>\n",
       "    <tr>\n",
       "      <th>EX25DW</th>\n",
       "      <td>Royal Devon and Exeter Hospital</td>\n",
       "      <td>Royal Devon and Exeter Hospital</td>\n",
       "      <td>1</td>\n",
       "      <td>0</td>\n",
       "      <td>England</td>\n",
       "    </tr>\n",
       "    <tr>\n",
       "      <th>BS28HW</th>\n",
       "      <td>Bristol Royal Infirmary</td>\n",
       "      <td>University Hospitals Bristol Inpatient Team</td>\n",
       "      <td>0</td>\n",
       "      <td>0</td>\n",
       "      <td>England</td>\n",
       "    </tr>\n",
       "  </tbody>\n",
       "</table>\n",
       "</div>"
      ],
      "text/plain": [
       "                                 stroke_team  \\\n",
       "postcode                                       \n",
       "BS105NB   North Bristol Hospital (Southmead)   \n",
       "EX25DW       Royal Devon and Exeter Hospital   \n",
       "BS28HW               Bristol Royal Infirmary   \n",
       "\n",
       "                                           ssnap_name  use_ivt  use_mt  \\\n",
       "postcode                                                                 \n",
       "BS105NB                       North Bristol Hospitals        1       1   \n",
       "EX25DW                Royal Devon and Exeter Hospital        1       0   \n",
       "BS28HW    University Hospitals Bristol Inpatient Team        0       0   \n",
       "\n",
       "          country  \n",
       "postcode           \n",
       "BS105NB   England  \n",
       "EX25DW    England  \n",
       "BS28HW    England  "
      ]
     },
     "execution_count": 14,
     "metadata": {},
     "output_type": "execute_result"
    }
   ],
   "source": [
    "df_units[((df_units['stroke_team'].str.contains('Exeter')) |\n",
    "          (df_units['stroke_team'].str.contains('Bristol')))][columns_to_keep]"
   ]
  },
  {
   "cell_type": "markdown",
   "id": "fde17eb7-9e8a-4d6a-85e5-d7297a3a2e41",
   "metadata": {},
   "source": [
    "Have a quick check of where patients in Exeter were transferred to before:"
   ]
  },
  {
   "cell_type": "code",
   "execution_count": 15,
   "id": "7547704e-fa8b-4615-8495-b3484436c2d5",
   "metadata": {},
   "outputs": [
    {
     "data": {
      "text/plain": [
       "transfer_unit_travel_time      59.5\n",
       "transfer_unit_postcode       PL68DH\n",
       "Name: EX25DW, dtype: object"
      ]
     },
     "execution_count": 15,
     "metadata": {},
     "output_type": "execute_result"
    }
   ],
   "source": [
    "df_transfer.loc['EX25DW']"
   ]
  },
  {
   "cell_type": "markdown",
   "id": "94aea688-4e05-4842-83b1-26cb5dda6522",
   "metadata": {},
   "source": [
    "Then in the stroke unit dataframe, we create a new column named `transfer_unit_postcode`. We set all values to `nearest` except for the 'EX25DW' (Exeter) row, which we set to 'BS105NB' for Bristol."
   ]
  },
  {
   "cell_type": "code",
   "execution_count": 16,
   "id": "eac3c684-d9f3-43b0-9f9c-4fcdc62c0fca",
   "metadata": {},
   "outputs": [],
   "source": [
    "df_units['transfer_unit_postcode'] = 'nearest'\n",
    "df_units.loc['EX25DW', 'transfer_unit_postcode'] = 'BS105NB'"
   ]
  },
  {
   "cell_type": "markdown",
   "id": "12501d01-479e-43e0-a138-677ae7871a79",
   "metadata": {},
   "source": [
    "Check that this updated:"
   ]
  },
  {
   "cell_type": "code",
   "execution_count": 17,
   "id": "50c65009-baf6-465b-ba86-6734735a1214",
   "metadata": {},
   "outputs": [
    {
     "data": {
      "text/plain": [
       "stroke_team    Royal Devon and Exeter Hospital\n",
       "ssnap_name     Royal Devon and Exeter Hospital\n",
       "use_ivt                                      1\n",
       "use_mt                                       0\n",
       "country                                England\n",
       "Name: EX25DW, dtype: object"
      ]
     },
     "execution_count": 17,
     "metadata": {},
     "output_type": "execute_result"
    }
   ],
   "source": [
    "df_units.loc['EX25DW', columns_to_keep]"
   ]
  },
  {
   "cell_type": "markdown",
   "id": "e6b730fe-2daf-4b03-9caa-f588ad0243ad",
   "metadata": {},
   "source": [
    "Now calculate the transfer units:"
   ]
  },
  {
   "cell_type": "code",
   "execution_count": 18,
   "id": "b0721d0b-b93f-44b5-be20-da6ff840018d",
   "metadata": {},
   "outputs": [],
   "source": [
    "df_transfer = stroke_maps.catchment.calculate_transfer_units(df_units)"
   ]
  },
  {
   "cell_type": "markdown",
   "id": "b5cbde88-d624-42f8-a91d-b1bbe8db5eb7",
   "metadata": {},
   "source": [
    "And check the result for Exeter:"
   ]
  },
  {
   "cell_type": "code",
   "execution_count": 19,
   "id": "2c0ac494-9471-47a4-9138-3957aa2f66c5",
   "metadata": {},
   "outputs": [
    {
     "data": {
      "text/plain": [
       "transfer_unit_travel_time       90.6\n",
       "transfer_unit_postcode       BS105NB\n",
       "Name: EX25DW, dtype: object"
      ]
     },
     "execution_count": 19,
     "metadata": {},
     "output_type": "execute_result"
    }
   ],
   "source": [
    "df_transfer.loc['EX25DW']"
   ]
  },
  {
   "cell_type": "markdown",
   "id": "3783ed0d-ca1a-4deb-8d99-60b702442c6a",
   "metadata": {},
   "source": [
    "## England and Wales: Plot the transfer unit links\n",
    "\n",
    "### Set up transfer unit data for plotting\n",
    "\n",
    "Load in the default units data and create the transfer unit data:"
   ]
  },
  {
   "cell_type": "code",
   "execution_count": 20,
   "id": "7042dc73-8157-4753-abbd-cf7c0a7e4ece",
   "metadata": {},
   "outputs": [],
   "source": [
    "df_units = stroke_maps.load_data.stroke_unit_region_lookup()\n",
    "df_transfer = stroke_maps.catchment.calculate_transfer_units(df_units)"
   ]
  },
  {
   "cell_type": "markdown",
   "id": "21fb12f9-a4c0-4ba1-930c-542c2ff5ce26",
   "metadata": {},
   "source": [
    "Create a GeoDataFrame of Line objects connecting each start unit to its transfer unit:"
   ]
  },
  {
   "cell_type": "code",
   "execution_count": 21,
   "id": "ab96b596-6734-4303-8d41-ffe147dd9854",
   "metadata": {},
   "outputs": [],
   "source": [
    "gdf_transfer = stroke_maps.geo.make_geometry_transfer_units(df_transfer)"
   ]
  },
  {
   "cell_type": "markdown",
   "id": "d47e8fe6-3e16-49eb-befe-f2baf176c3ed",
   "metadata": {},
   "source": [
    "### Create the map\n",
    "\n",
    "Load the outline of England and Wales:"
   ]
  },
  {
   "cell_type": "code",
   "execution_count": 22,
   "id": "29819b98-5674-48a1-9ea1-9dde167a2322",
   "metadata": {},
   "outputs": [],
   "source": [
    "gdf_ew = stroke_maps.load_data.englandwales_outline()"
   ]
  },
  {
   "cell_type": "markdown",
   "id": "813f993b-94b7-4b45-9da5-95593427b45a",
   "metadata": {},
   "source": [
    "Then load in the stroke unit coordinates and merge in the services information:"
   ]
  },
  {
   "cell_type": "code",
   "execution_count": 23,
   "id": "5c639b15-7613-4fe5-b88c-5c078d27114d",
   "metadata": {},
   "outputs": [],
   "source": [
    "gdf_units = stroke_maps.load_data.stroke_unit_coordinates()\n",
    "gdf_units = pd.merge(\n",
    "    gdf_units, df_units[['use_ivt', 'use_mt']],\n",
    "    left_index=True, right_index=True, how='right'\n",
    ")"
   ]
  },
  {
   "cell_type": "markdown",
   "id": "a1b03b8f-4737-4647-8158-00a06e533545",
   "metadata": {},
   "source": [
    "Plot the country outlines, the unit locations, and links between units using matplotlib:"
   ]
  },
  {
   "cell_type": "code",
   "execution_count": 24,
   "id": "c1242452-4d85-472f-8718-69f1633f1b8e",
   "metadata": {},
   "outputs": [
    {
     "data": {
      "image/png": "[encoded data removed]",
      "text/plain": [
       "<Figure size 800x800 with 1 Axes>"
      ]
     },
     "metadata": {},
     "output_type": "display_data"
    }
   ],
   "source": [
    "fig, ax = plt.subplots(figsize=(8, 8))\n",
    "\n",
    "# Plot the country outlines:\n",
    "gdf_ew.plot(\n",
    "    ax=ax,              # Set which axes to use for plot\n",
    "    antialiased=False,  # Avoids artefact boundary lines\n",
    "    facecolor='none',\n",
    "    edgecolor='grey',\n",
    "    linewidth=0.2,\n",
    "    )\n",
    "\n",
    "# Lines between units:\n",
    "gdf_transfer.plot(\n",
    "    ax=ax,\n",
    "    zorder=0  # place lines behind the scatter markers.\n",
    ")\n",
    "\n",
    "# Pick out which stroke units to plot:\n",
    "mask_ivt = ((gdf_units['use_ivt'] == 1) & (gdf_units['use_mt'] == 0))\n",
    "mask_mt = (gdf_units['use_mt'] == 1)\n",
    "\n",
    "# IVT units:\n",
    "ax.scatter(\n",
    "    gdf_units.loc[mask_ivt, 'geometry'].x,\n",
    "    gdf_units.loc[mask_ivt, 'geometry'].y,\n",
    "    marker='o',\n",
    "    label='IVT unit',\n",
    "    s=10,  # size\n",
    "    )\n",
    "\n",
    "# MT units:\n",
    "ax.scatter(\n",
    "    gdf_units.loc[mask_mt, 'geometry'].x,\n",
    "    gdf_units.loc[mask_mt, 'geometry'].y,\n",
    "    marker='*',\n",
    "    label='MT unit',\n",
    "    s=20,  # size\n",
    "    )\n",
    "\n",
    "# Remove the axis border, ticks, labels...\n",
    "ax.axis('off')\n",
    "\n",
    "# Add legend:\n",
    "ax.legend()\n",
    "\n",
    "plt.show()"
   ]
  },
  {
   "cell_type": "markdown",
   "id": "a312c46f-537d-49a5-b5f7-d6274b02572b",
   "metadata": {},
   "source": [
    "## Northern Ireland: Plot the transfer unit links\n",
    "\n",
    "### Set up transfer unit data for plotting\n",
    "\n",
    "Load in the default units data and create the transfer unit data:"
   ]
  },
  {
   "cell_type": "code",
   "execution_count": 25,
   "id": "f69c632b-480f-4f6a-a7a2-e8cd9bfbffa8",
   "metadata": {},
   "outputs": [],
   "source": [
    "df_units_ni = stroke_maps.load_data.ni_stroke_unit_services()\n",
    "df_transfer_ni = stroke_maps.catchment.calculate_transfer_units(df_units_ni, use_northern_ireland=True)"
   ]
  },
  {
   "cell_type": "markdown",
   "id": "d1a3a862-3cb4-429b-8f18-8626967aee44",
   "metadata": {},
   "source": [
    "Create a GeoDataFrame of Line objects connecting each start unit to its transfer unit:"
   ]
  },
  {
   "cell_type": "code",
   "execution_count": 26,
   "id": "8edb5c56-27d7-4c6b-8055-47a331ef0ec7",
   "metadata": {},
   "outputs": [],
   "source": [
    "gdf_transfer_ni = stroke_maps.geo.make_geometry_transfer_units(df_transfer_ni, use_northern_ireland=True)"
   ]
  },
  {
   "cell_type": "markdown",
   "id": "90a852cc-be33-4e73-b7b4-e16ddef08bdd",
   "metadata": {},
   "source": [
    "### Create the map\n",
    "\n",
    "Load the outline of England and Wales:"
   ]
  },
  {
   "cell_type": "code",
   "execution_count": 27,
   "id": "eaaa5e65-442e-4d35-a7a2-1e2c5781a2ae",
   "metadata": {},
   "outputs": [],
   "source": [
    "gdf_ni = stroke_maps.load_data.ni_outline()"
   ]
  },
  {
   "cell_type": "markdown",
   "id": "69820d07-1dc2-4646-b4d3-cb04a5b52b80",
   "metadata": {},
   "source": [
    "Then load in the stroke unit coordinates and merge in the services information:"
   ]
  },
  {
   "cell_type": "code",
   "execution_count": 28,
   "id": "9c68f4eb-226c-4c6c-9541-079b23c1f1fa",
   "metadata": {},
   "outputs": [],
   "source": [
    "gdf_units_ni = stroke_maps.load_data.stroke_unit_coordinates_ni()\n",
    "gdf_units_ni = pd.merge(\n",
    "    gdf_units_ni, df_units_ni[['use_ivt', 'use_mt']],\n",
    "    left_index=True, right_index=True, how='right'\n",
    ")"
   ]
  },
  {
   "cell_type": "markdown",
   "id": "230b7a30-2023-4380-8341-1d132467c1a3",
   "metadata": {},
   "source": [
    "Plot the country outlines, the unit locations, and links between units using matplotlib:"
   ]
  },
  {
   "cell_type": "code",
   "execution_count": 29,
   "id": "75806f80-dd38-41c4-ab92-7966118c4452",
   "metadata": {},
   "outputs": [
    {
     "data": {
      "image/png": "[encoded data removed]",
      "text/plain": [
       "<Figure size 800x800 with 1 Axes>"
      ]
     },
     "metadata": {},
     "output_type": "display_data"
    }
   ],
   "source": [
    "fig, ax = plt.subplots(figsize=(8, 8))\n",
    "\n",
    "# Plot the country outlines:\n",
    "gdf_ni.plot(\n",
    "    ax=ax,              # Set which axes to use for plot\n",
    "    antialiased=False,  # Avoids artefact boundary lines\n",
    "    facecolor='none',\n",
    "    edgecolor='grey',\n",
    "    linewidth=0.2,\n",
    "    )\n",
    "\n",
    "# Lines between units:\n",
    "gdf_transfer_ni.plot(\n",
    "    ax=ax,\n",
    "    zorder=0  # place lines behind the scatter markers.\n",
    ")\n",
    "\n",
    "# Pick out which stroke units to plot:\n",
    "mask_ivt = ((gdf_units_ni['use_ivt'] == 1) & (gdf_units_ni['use_mt'] == 0))\n",
    "mask_mt = (gdf_units_ni['use_mt'] == 1)\n",
    "\n",
    "# IVT units:\n",
    "ax.scatter(\n",
    "    gdf_units_ni.loc[mask_ivt, 'geometry'].x,\n",
    "    gdf_units_ni.loc[mask_ivt, 'geometry'].y,\n",
    "    marker='o',\n",
    "    label='IVT unit',\n",
    "    s=10,  # size\n",
    "    )\n",
    "\n",
    "# MT units:\n",
    "ax.scatter(\n",
    "    gdf_units_ni.loc[mask_mt, 'geometry'].x,\n",
    "    gdf_units_ni.loc[mask_mt, 'geometry'].y,\n",
    "    marker='*',\n",
    "    label='MT unit',\n",
    "    s=20,  # size\n",
    "    )\n",
    "\n",
    "# Remove the axis border, ticks, labels...\n",
    "ax.axis('off')\n",
    "\n",
    "# Add legend:\n",
    "ax.legend()\n",
    "\n",
    "plt.show()"
   ]
  },
  {
   "cell_type": "markdown",
   "id": "7018900f-e934-418c-8667-a5e7fb44cc30",
   "metadata": {},
   "source": [
    "## Conclusion\n",
    "\n",
    "We have shown how the transfer unit calculation works and how the default settings can be overwritten to remove certain units or to force certain transfer units to be selected.\n",
    "\n",
    "We have also shown how to create maps that show which units select which transfer units."
   ]
  },
  {
   "cell_type": "code",
   "execution_count": null,
   "id": "042a7a90-ff14-4b9c-9180-3ed43f74a247",
   "metadata": {},
   "outputs": [],
   "source": []
  }
 ],
 "metadata": {
  "kernelspec": {
   "display_name": "Python 3 (ipykernel)",
   "language": "python",
   "name": "python3"
  },
  "language_info": {
   "codemirror_mode": {
    "name": "ipython",
    "version": 3
   },
   "file_extension": ".py",
   "mimetype": "text/x-python",
   "name": "python",
   "nbconvert_exporter": "python",
   "pygments_lexer": "ipython3",
   "version": "3.12.2"
  }
 },
 "nbformat": 4,
 "nbformat_minor": 5
}
