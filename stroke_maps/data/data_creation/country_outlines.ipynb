{
 "cells": [
  {
   "cell_type": "markdown",
   "id": "93d61505-1280-4127-a1f8-f055f375a11e",
   "metadata": {},
   "source": [
    "# Make country outlines"
   ]
  },
  {
   "cell_type": "code",
   "execution_count": 3,
   "id": "712cd324-d5ae-4936-b2ef-9656a7877b22",
   "metadata": {},
   "outputs": [],
   "source": [
    "import geopandas as gpd"
   ]
  },
  {
   "cell_type": "code",
   "execution_count": 6,
   "id": "38f91383-809f-48ed-a048-45267dcfa8df",
   "metadata": {},
   "outputs": [],
   "source": [
    "gdf = gpd.read_file('ons_data/Countries_December_2011_GCB_EW.geojson')"
   ]
  },
  {
   "cell_type": "code",
   "execution_count": 7,
   "id": "5b2a1d80-bbac-4118-9102-2b331f103490",
   "metadata": {},
   "outputs": [
    {
     "data": {
      "text/html": [
       "<div>\n",
       "<style scoped>\n",
       "    .dataframe tbody tr th:only-of-type {\n",
       "        vertical-align: middle;\n",
       "    }\n",
       "\n",
       "    .dataframe tbody tr th {\n",
       "        vertical-align: top;\n",
       "    }\n",
       "\n",
       "    .dataframe thead th {\n",
       "        text-align: right;\n",
       "    }\n",
       "</style>\n",
       "<table border=\"1\" class=\"dataframe\">\n",
       "  <thead>\n",
       "    <tr style=\"text-align: right;\">\n",
       "      <th></th>\n",
       "      <th>OBJECTID</th>\n",
       "      <th>ctry11cd</th>\n",
       "      <th>ctry11cdo</th>\n",
       "      <th>ctry11nm</th>\n",
       "      <th>ctry11nmw</th>\n",
       "      <th>GlobalID</th>\n",
       "      <th>geometry</th>\n",
       "    </tr>\n",
       "  </thead>\n",
       "  <tbody>\n",
       "    <tr>\n",
       "      <th>0</th>\n",
       "      <td>1</td>\n",
       "      <td>E92000001</td>\n",
       "      <td>921</td>\n",
       "      <td>England</td>\n",
       "      <td>Lloegr</td>\n",
       "      <td>27bbf7ca-99bd-4fe8-87a1-d498d48e3084</td>\n",
       "      <td>MULTIPOLYGON (((398253.902 652833.900, 398317....</td>\n",
       "    </tr>\n",
       "    <tr>\n",
       "      <th>1</th>\n",
       "      <td>2</td>\n",
       "      <td>W92000004</td>\n",
       "      <td>924</td>\n",
       "      <td>Wales</td>\n",
       "      <td>Cymru</td>\n",
       "      <td>1e6d22dd-1add-4b71-bbfa-f9663f486aa4</td>\n",
       "      <td>MULTIPOLYGON (((312098.400 385255.900, 312325....</td>\n",
       "    </tr>\n",
       "  </tbody>\n",
       "</table>\n",
       "</div>"
      ],
      "text/plain": [
       "   OBJECTID   ctry11cd ctry11cdo ctry11nm ctry11nmw  \\\n",
       "0         1  E92000001       921  England    Lloegr   \n",
       "1         2  W92000004       924    Wales     Cymru   \n",
       "\n",
       "                               GlobalID  \\\n",
       "0  27bbf7ca-99bd-4fe8-87a1-d498d48e3084   \n",
       "1  1e6d22dd-1add-4b71-bbfa-f9663f486aa4   \n",
       "\n",
       "                                            geometry  \n",
       "0  MULTIPOLYGON (((398253.902 652833.900, 398317....  \n",
       "1  MULTIPOLYGON (((312098.400 385255.900, 312325....  "
      ]
     },
     "execution_count": 7,
     "metadata": {},
     "output_type": "execute_result"
    }
   ],
   "source": [
    "gdf.head(3)"
   ]
  },
  {
   "cell_type": "markdown",
   "id": "5491981b-17fd-4c30-a4a9-ae3dc2367329",
   "metadata": {},
   "source": [
    "Save a copy of just England and just Wales:"
   ]
  },
  {
   "cell_type": "code",
   "execution_count": 8,
   "id": "2a12af9d-d189-4e23-980f-45ad3e5f3252",
   "metadata": {},
   "outputs": [],
   "source": [
    "for country in ['England', 'Wales']:\n",
    "    gdf_here = gdf[gdf['ctry11nm'] == country]\n",
    "    # Save to file:\n",
    "    gdf_here.to_file(f'outline_{country}.geojson')"
   ]
  },
  {
   "cell_type": "markdown",
   "id": "763093a6-e136-4537-a329-0f899a9e6ed4",
   "metadata": {},
   "source": [
    "Save a copy of England and Wales combined:"
   ]
  },
  {
   "cell_type": "code",
   "execution_count": 10,
   "id": "7288066e-85ac-4525-abcd-106058b3d870",
   "metadata": {},
   "outputs": [],
   "source": [
    "gdf_here = gdf.copy()\n",
    "# Set all LSOA to have one shared value:\n",
    "gdf_here['country'] = 0  # doesn't matter what this value is\n",
    "# Combine the geometry into one shape:\n",
    "gdf_here = gdf_here.dissolve(by='country')\n",
    "# Save to file:\n",
    "gdf_here.to_file(f'outline_EnglandWales.geojson')"
   ]
  }
 ],
 "metadata": {
  "kernelspec": {
   "display_name": "Python 3 (ipykernel)",
   "language": "python",
   "name": "python3"
  },
  "language_info": {
   "codemirror_mode": {
    "name": "ipython",
    "version": 3
   },
   "file_extension": ".py",
   "mimetype": "text/x-python",
   "name": "python",
   "nbconvert_exporter": "python",
   "pygments_lexer": "ipython3",
   "version": "3.12.2"
  }
 },
 "nbformat": 4,
 "nbformat_minor": 5
}
